{
 "cells": [
  {
   "cell_type": "markdown",
   "metadata": {},
   "source": [
    "# EDA for Instacart part 1 - Feature Engineering"
   ]
  },
  {
   "cell_type": "markdown",
   "metadata": {},
   "source": [
    "### Part 1: engineered features analysis"
   ]
  },
  {
   "cell_type": "code",
   "execution_count": 2,
   "metadata": {},
   "outputs": [
    {
     "data": {
      "text/html": [
       "\n",
       "    <div class=\"bk-root\">\n",
       "        <a href=\"https://bokeh.pydata.org\" target=\"_blank\" class=\"bk-logo bk-logo-small bk-logo-notebook\"></a>\n",
       "        <span id=\"b17c0dc4-bddc-4486-8c97-19116da9f5db\">Loading BokehJS ...</span>\n",
       "    </div>"
      ]
     },
     "metadata": {},
     "output_type": "display_data"
    },
    {
     "data": {
      "application/javascript": [
       "\n",
       "(function(root) {\n",
       "  function now() {\n",
       "    return new Date();\n",
       "  }\n",
       "\n",
       "  var force = true;\n",
       "\n",
       "  if (typeof (root._bokeh_onload_callbacks) === \"undefined\" || force === true) {\n",
       "    root._bokeh_onload_callbacks = [];\n",
       "    root._bokeh_is_loading = undefined;\n",
       "  }\n",
       "\n",
       "  var JS_MIME_TYPE = 'application/javascript';\n",
       "  var HTML_MIME_TYPE = 'text/html';\n",
       "  var EXEC_MIME_TYPE = 'application/vnd.bokehjs_exec.v0+json';\n",
       "  var CLASS_NAME = 'output_bokeh rendered_html';\n",
       "\n",
       "  /**\n",
       "   * Render data to the DOM node\n",
       "   */\n",
       "  function render(props, node) {\n",
       "    var script = document.createElement(\"script\");\n",
       "    node.appendChild(script);\n",
       "  }\n",
       "\n",
       "  /**\n",
       "   * Handle when an output is cleared or removed\n",
       "   */\n",
       "  function handleClearOutput(event, handle) {\n",
       "    var cell = handle.cell;\n",
       "\n",
       "    var id = cell.output_area._bokeh_element_id;\n",
       "    var server_id = cell.output_area._bokeh_server_id;\n",
       "    // Clean up Bokeh references\n",
       "    if (id !== undefined) {\n",
       "      Bokeh.index[id].model.document.clear();\n",
       "      delete Bokeh.index[id];\n",
       "    }\n",
       "\n",
       "    if (server_id !== undefined) {\n",
       "      // Clean up Bokeh references\n",
       "      var cmd = \"from bokeh.io.state import curstate; print(curstate().uuid_to_server['\" + server_id + \"'].get_sessions()[0].document.roots[0]._id)\";\n",
       "      cell.notebook.kernel.execute(cmd, {\n",
       "        iopub: {\n",
       "          output: function(msg) {\n",
       "            var element_id = msg.content.text.trim();\n",
       "            Bokeh.index[element_id].model.document.clear();\n",
       "            delete Bokeh.index[element_id];\n",
       "          }\n",
       "        }\n",
       "      });\n",
       "      // Destroy server and session\n",
       "      var cmd = \"import bokeh.io.notebook as ion; ion.destroy_server('\" + server_id + \"')\";\n",
       "      cell.notebook.kernel.execute(cmd);\n",
       "    }\n",
       "  }\n",
       "\n",
       "  /**\n",
       "   * Handle when a new output is added\n",
       "   */\n",
       "  function handleAddOutput(event, handle) {\n",
       "    var output_area = handle.output_area;\n",
       "    var output = handle.output;\n",
       "\n",
       "    // limit handleAddOutput to display_data with EXEC_MIME_TYPE content only\n",
       "    if ((output.output_type != \"display_data\") || (!output.data.hasOwnProperty(EXEC_MIME_TYPE))) {\n",
       "      return\n",
       "    }\n",
       "\n",
       "    var toinsert = output_area.element.find(\".\" + CLASS_NAME.split(' ')[0]);\n",
       "\n",
       "    if (output.metadata[EXEC_MIME_TYPE][\"id\"] !== undefined) {\n",
       "      toinsert[0].firstChild.textContent = output.data[JS_MIME_TYPE];\n",
       "      // store reference to embed id on output_area\n",
       "      output_area._bokeh_element_id = output.metadata[EXEC_MIME_TYPE][\"id\"];\n",
       "    }\n",
       "    if (output.metadata[EXEC_MIME_TYPE][\"server_id\"] !== undefined) {\n",
       "      var bk_div = document.createElement(\"div\");\n",
       "      bk_div.innerHTML = output.data[HTML_MIME_TYPE];\n",
       "      var script_attrs = bk_div.children[0].attributes;\n",
       "      for (var i = 0; i < script_attrs.length; i++) {\n",
       "        toinsert[0].firstChild.setAttribute(script_attrs[i].name, script_attrs[i].value);\n",
       "      }\n",
       "      // store reference to server id on output_area\n",
       "      output_area._bokeh_server_id = output.metadata[EXEC_MIME_TYPE][\"server_id\"];\n",
       "    }\n",
       "  }\n",
       "\n",
       "  function register_renderer(events, OutputArea) {\n",
       "\n",
       "    function append_mime(data, metadata, element) {\n",
       "      // create a DOM node to render to\n",
       "      var toinsert = this.create_output_subarea(\n",
       "        metadata,\n",
       "        CLASS_NAME,\n",
       "        EXEC_MIME_TYPE\n",
       "      );\n",
       "      this.keyboard_manager.register_events(toinsert);\n",
       "      // Render to node\n",
       "      var props = {data: data, metadata: metadata[EXEC_MIME_TYPE]};\n",
       "      render(props, toinsert[0]);\n",
       "      element.append(toinsert);\n",
       "      return toinsert\n",
       "    }\n",
       "\n",
       "    /* Handle when an output is cleared or removed */\n",
       "    events.on('clear_output.CodeCell', handleClearOutput);\n",
       "    events.on('delete.Cell', handleClearOutput);\n",
       "\n",
       "    /* Handle when a new output is added */\n",
       "    events.on('output_added.OutputArea', handleAddOutput);\n",
       "\n",
       "    /**\n",
       "     * Register the mime type and append_mime function with output_area\n",
       "     */\n",
       "    OutputArea.prototype.register_mime_type(EXEC_MIME_TYPE, append_mime, {\n",
       "      /* Is output safe? */\n",
       "      safe: true,\n",
       "      /* Index of renderer in `output_area.display_order` */\n",
       "      index: 0\n",
       "    });\n",
       "  }\n",
       "\n",
       "  // register the mime type if in Jupyter Notebook environment and previously unregistered\n",
       "  if (root.Jupyter !== undefined) {\n",
       "    var events = require('base/js/events');\n",
       "    var OutputArea = require('notebook/js/outputarea').OutputArea;\n",
       "\n",
       "    if (OutputArea.prototype.mime_types().indexOf(EXEC_MIME_TYPE) == -1) {\n",
       "      register_renderer(events, OutputArea);\n",
       "    }\n",
       "  }\n",
       "\n",
       "  \n",
       "  if (typeof (root._bokeh_timeout) === \"undefined\" || force === true) {\n",
       "    root._bokeh_timeout = Date.now() + 5000;\n",
       "    root._bokeh_failed_load = false;\n",
       "  }\n",
       "\n",
       "  var NB_LOAD_WARNING = {'data': {'text/html':\n",
       "     \"<div style='background-color: #fdd'>\\n\"+\n",
       "     \"<p>\\n\"+\n",
       "     \"BokehJS does not appear to have successfully loaded. If loading BokehJS from CDN, this \\n\"+\n",
       "     \"may be due to a slow or bad network connection. Possible fixes:\\n\"+\n",
       "     \"</p>\\n\"+\n",
       "     \"<ul>\\n\"+\n",
       "     \"<li>re-rerun `output_notebook()` to attempt to load from CDN again, or</li>\\n\"+\n",
       "     \"<li>use INLINE resources instead, as so:</li>\\n\"+\n",
       "     \"</ul>\\n\"+\n",
       "     \"<code>\\n\"+\n",
       "     \"from bokeh.resources import INLINE\\n\"+\n",
       "     \"output_notebook(resources=INLINE)\\n\"+\n",
       "     \"</code>\\n\"+\n",
       "     \"</div>\"}};\n",
       "\n",
       "  function display_loaded() {\n",
       "    var el = document.getElementById(\"b17c0dc4-bddc-4486-8c97-19116da9f5db\");\n",
       "    if (el != null) {\n",
       "      el.textContent = \"BokehJS is loading...\";\n",
       "    }\n",
       "    if (root.Bokeh !== undefined) {\n",
       "      if (el != null) {\n",
       "        el.textContent = \"BokehJS \" + root.Bokeh.version + \" successfully loaded.\";\n",
       "      }\n",
       "    } else if (Date.now() < root._bokeh_timeout) {\n",
       "      setTimeout(display_loaded, 100)\n",
       "    }\n",
       "  }\n",
       "\n",
       "\n",
       "  function run_callbacks() {\n",
       "    try {\n",
       "      root._bokeh_onload_callbacks.forEach(function(callback) { callback() });\n",
       "    }\n",
       "    finally {\n",
       "      delete root._bokeh_onload_callbacks\n",
       "    }\n",
       "    console.info(\"Bokeh: all callbacks have finished\");\n",
       "  }\n",
       "\n",
       "  function load_libs(js_urls, callback) {\n",
       "    root._bokeh_onload_callbacks.push(callback);\n",
       "    if (root._bokeh_is_loading > 0) {\n",
       "      console.log(\"Bokeh: BokehJS is being loaded, scheduling callback at\", now());\n",
       "      return null;\n",
       "    }\n",
       "    if (js_urls == null || js_urls.length === 0) {\n",
       "      run_callbacks();\n",
       "      return null;\n",
       "    }\n",
       "    console.log(\"Bokeh: BokehJS not loaded, scheduling load and callback at\", now());\n",
       "    root._bokeh_is_loading = js_urls.length;\n",
       "    for (var i = 0; i < js_urls.length; i++) {\n",
       "      var url = js_urls[i];\n",
       "      var s = document.createElement('script');\n",
       "      s.src = url;\n",
       "      s.async = false;\n",
       "      s.onreadystatechange = s.onload = function() {\n",
       "        root._bokeh_is_loading--;\n",
       "        if (root._bokeh_is_loading === 0) {\n",
       "          console.log(\"Bokeh: all BokehJS libraries loaded\");\n",
       "          run_callbacks()\n",
       "        }\n",
       "      };\n",
       "      s.onerror = function() {\n",
       "        console.warn(\"failed to load library \" + url);\n",
       "      };\n",
       "      console.log(\"Bokeh: injecting script tag for BokehJS library: \", url);\n",
       "      document.getElementsByTagName(\"head\")[0].appendChild(s);\n",
       "    }\n",
       "  };var element = document.getElementById(\"b17c0dc4-bddc-4486-8c97-19116da9f5db\");\n",
       "  if (element == null) {\n",
       "    console.log(\"Bokeh: ERROR: autoload.js configured with elementid 'b17c0dc4-bddc-4486-8c97-19116da9f5db' but no matching script tag was found. \")\n",
       "    return false;\n",
       "  }\n",
       "\n",
       "  var js_urls = [\"https://cdn.pydata.org/bokeh/release/bokeh-0.12.13.min.js\", \"https://cdn.pydata.org/bokeh/release/bokeh-widgets-0.12.13.min.js\", \"https://cdn.pydata.org/bokeh/release/bokeh-tables-0.12.13.min.js\", \"https://cdn.pydata.org/bokeh/release/bokeh-gl-0.12.13.min.js\"];\n",
       "\n",
       "  var inline_js = [\n",
       "    function(Bokeh) {\n",
       "      Bokeh.set_log_level(\"info\");\n",
       "    },\n",
       "    \n",
       "    function(Bokeh) {\n",
       "      \n",
       "    },\n",
       "    function(Bokeh) {\n",
       "      console.log(\"Bokeh: injecting CSS: https://cdn.pydata.org/bokeh/release/bokeh-0.12.13.min.css\");\n",
       "      Bokeh.embed.inject_css(\"https://cdn.pydata.org/bokeh/release/bokeh-0.12.13.min.css\");\n",
       "      console.log(\"Bokeh: injecting CSS: https://cdn.pydata.org/bokeh/release/bokeh-widgets-0.12.13.min.css\");\n",
       "      Bokeh.embed.inject_css(\"https://cdn.pydata.org/bokeh/release/bokeh-widgets-0.12.13.min.css\");\n",
       "      console.log(\"Bokeh: injecting CSS: https://cdn.pydata.org/bokeh/release/bokeh-tables-0.12.13.min.css\");\n",
       "      Bokeh.embed.inject_css(\"https://cdn.pydata.org/bokeh/release/bokeh-tables-0.12.13.min.css\");\n",
       "    }\n",
       "  ];\n",
       "\n",
       "  function run_inline_js() {\n",
       "    \n",
       "    if ((root.Bokeh !== undefined) || (force === true)) {\n",
       "      for (var i = 0; i < inline_js.length; i++) {\n",
       "        inline_js[i].call(root, root.Bokeh);\n",
       "      }if (force === true) {\n",
       "        display_loaded();\n",
       "      }} else if (Date.now() < root._bokeh_timeout) {\n",
       "      setTimeout(run_inline_js, 100);\n",
       "    } else if (!root._bokeh_failed_load) {\n",
       "      console.log(\"Bokeh: BokehJS failed to load within specified timeout.\");\n",
       "      root._bokeh_failed_load = true;\n",
       "    } else if (force !== true) {\n",
       "      var cell = $(document.getElementById(\"b17c0dc4-bddc-4486-8c97-19116da9f5db\")).parents('.cell').data().cell;\n",
       "      cell.output_area.append_execute_result(NB_LOAD_WARNING)\n",
       "    }\n",
       "\n",
       "  }\n",
       "\n",
       "  if (root._bokeh_is_loading === 0) {\n",
       "    console.log(\"Bokeh: BokehJS loaded, going straight to plotting\");\n",
       "    run_inline_js();\n",
       "  } else {\n",
       "    load_libs(js_urls, function() {\n",
       "      console.log(\"Bokeh: BokehJS plotting callback run at\", now());\n",
       "      run_inline_js();\n",
       "    });\n",
       "  }\n",
       "}(window));"
      ],
      "application/vnd.bokehjs_load.v0+json": "\n(function(root) {\n  function now() {\n    return new Date();\n  }\n\n  var force = true;\n\n  if (typeof (root._bokeh_onload_callbacks) === \"undefined\" || force === true) {\n    root._bokeh_onload_callbacks = [];\n    root._bokeh_is_loading = undefined;\n  }\n\n  \n\n  \n  if (typeof (root._bokeh_timeout) === \"undefined\" || force === true) {\n    root._bokeh_timeout = Date.now() + 5000;\n    root._bokeh_failed_load = false;\n  }\n\n  var NB_LOAD_WARNING = {'data': {'text/html':\n     \"<div style='background-color: #fdd'>\\n\"+\n     \"<p>\\n\"+\n     \"BokehJS does not appear to have successfully loaded. If loading BokehJS from CDN, this \\n\"+\n     \"may be due to a slow or bad network connection. Possible fixes:\\n\"+\n     \"</p>\\n\"+\n     \"<ul>\\n\"+\n     \"<li>re-rerun `output_notebook()` to attempt to load from CDN again, or</li>\\n\"+\n     \"<li>use INLINE resources instead, as so:</li>\\n\"+\n     \"</ul>\\n\"+\n     \"<code>\\n\"+\n     \"from bokeh.resources import INLINE\\n\"+\n     \"output_notebook(resources=INLINE)\\n\"+\n     \"</code>\\n\"+\n     \"</div>\"}};\n\n  function display_loaded() {\n    var el = document.getElementById(\"b17c0dc4-bddc-4486-8c97-19116da9f5db\");\n    if (el != null) {\n      el.textContent = \"BokehJS is loading...\";\n    }\n    if (root.Bokeh !== undefined) {\n      if (el != null) {\n        el.textContent = \"BokehJS \" + root.Bokeh.version + \" successfully loaded.\";\n      }\n    } else if (Date.now() < root._bokeh_timeout) {\n      setTimeout(display_loaded, 100)\n    }\n  }\n\n\n  function run_callbacks() {\n    try {\n      root._bokeh_onload_callbacks.forEach(function(callback) { callback() });\n    }\n    finally {\n      delete root._bokeh_onload_callbacks\n    }\n    console.info(\"Bokeh: all callbacks have finished\");\n  }\n\n  function load_libs(js_urls, callback) {\n    root._bokeh_onload_callbacks.push(callback);\n    if (root._bokeh_is_loading > 0) {\n      console.log(\"Bokeh: BokehJS is being loaded, scheduling callback at\", now());\n      return null;\n    }\n    if (js_urls == null || js_urls.length === 0) {\n      run_callbacks();\n      return null;\n    }\n    console.log(\"Bokeh: BokehJS not loaded, scheduling load and callback at\", now());\n    root._bokeh_is_loading = js_urls.length;\n    for (var i = 0; i < js_urls.length; i++) {\n      var url = js_urls[i];\n      var s = document.createElement('script');\n      s.src = url;\n      s.async = false;\n      s.onreadystatechange = s.onload = function() {\n        root._bokeh_is_loading--;\n        if (root._bokeh_is_loading === 0) {\n          console.log(\"Bokeh: all BokehJS libraries loaded\");\n          run_callbacks()\n        }\n      };\n      s.onerror = function() {\n        console.warn(\"failed to load library \" + url);\n      };\n      console.log(\"Bokeh: injecting script tag for BokehJS library: \", url);\n      document.getElementsByTagName(\"head\")[0].appendChild(s);\n    }\n  };var element = document.getElementById(\"b17c0dc4-bddc-4486-8c97-19116da9f5db\");\n  if (element == null) {\n    console.log(\"Bokeh: ERROR: autoload.js configured with elementid 'b17c0dc4-bddc-4486-8c97-19116da9f5db' but no matching script tag was found. \")\n    return false;\n  }\n\n  var js_urls = [\"https://cdn.pydata.org/bokeh/release/bokeh-0.12.13.min.js\", \"https://cdn.pydata.org/bokeh/release/bokeh-widgets-0.12.13.min.js\", \"https://cdn.pydata.org/bokeh/release/bokeh-tables-0.12.13.min.js\", \"https://cdn.pydata.org/bokeh/release/bokeh-gl-0.12.13.min.js\"];\n\n  var inline_js = [\n    function(Bokeh) {\n      Bokeh.set_log_level(\"info\");\n    },\n    \n    function(Bokeh) {\n      \n    },\n    function(Bokeh) {\n      console.log(\"Bokeh: injecting CSS: https://cdn.pydata.org/bokeh/release/bokeh-0.12.13.min.css\");\n      Bokeh.embed.inject_css(\"https://cdn.pydata.org/bokeh/release/bokeh-0.12.13.min.css\");\n      console.log(\"Bokeh: injecting CSS: https://cdn.pydata.org/bokeh/release/bokeh-widgets-0.12.13.min.css\");\n      Bokeh.embed.inject_css(\"https://cdn.pydata.org/bokeh/release/bokeh-widgets-0.12.13.min.css\");\n      console.log(\"Bokeh: injecting CSS: https://cdn.pydata.org/bokeh/release/bokeh-tables-0.12.13.min.css\");\n      Bokeh.embed.inject_css(\"https://cdn.pydata.org/bokeh/release/bokeh-tables-0.12.13.min.css\");\n    }\n  ];\n\n  function run_inline_js() {\n    \n    if ((root.Bokeh !== undefined) || (force === true)) {\n      for (var i = 0; i < inline_js.length; i++) {\n        inline_js[i].call(root, root.Bokeh);\n      }if (force === true) {\n        display_loaded();\n      }} else if (Date.now() < root._bokeh_timeout) {\n      setTimeout(run_inline_js, 100);\n    } else if (!root._bokeh_failed_load) {\n      console.log(\"Bokeh: BokehJS failed to load within specified timeout.\");\n      root._bokeh_failed_load = true;\n    } else if (force !== true) {\n      var cell = $(document.getElementById(\"b17c0dc4-bddc-4486-8c97-19116da9f5db\")).parents('.cell').data().cell;\n      cell.output_area.append_execute_result(NB_LOAD_WARNING)\n    }\n\n  }\n\n  if (root._bokeh_is_loading === 0) {\n    console.log(\"Bokeh: BokehJS loaded, going straight to plotting\");\n    run_inline_js();\n  } else {\n    load_libs(js_urls, function() {\n      console.log(\"Bokeh: BokehJS plotting callback run at\", now());\n      run_inline_js();\n    });\n  }\n}(window));"
     },
     "metadata": {},
     "output_type": "display_data"
    }
   ],
   "source": [
    "from bokeh.plotting import figure, show, output_notebook\n",
    "from bokeh.layouts import column, row\n",
    "from bokeh.models import HoverTool, ColumnDataSource, Label\n",
    "from bokeh.embed import components\n",
    "from bokeh.transform import factor_cmap\n",
    "from bokeh.models.widgets import Panel, Tabs\n",
    "\n",
    "import numpy as np\n",
    "import pandas as pd\n",
    "\n",
    "import matplotlib\n",
    "from matplotlib.cm import get_cmap\n",
    "import matplotlib.pyplot as plt\n",
    "output_notebook()"
   ]
  },
  {
   "cell_type": "code",
   "execution_count": null,
   "metadata": {},
   "outputs": [],
   "source": [
    "train = pd.read_csv('x_train.csv', index_col=0)\n",
    "train.head()"
   ]
  },
  {
   "cell_type": "code",
   "execution_count": null,
   "metadata": {
    "scrolled": false
   },
   "outputs": [],
   "source": [
    "hover = HoverTool(tooltips=[\n",
    "    (\"Number of products\", \"@hist\"),\n",
    "    (\"Average percentage\", \"@center\")\n",
    "    ])\n",
    "\n",
    "p_1 = figure(plot_height=300, plot_width=800, title=\"Distribution of prod_due_user_perc, separated by purchase status\",tools=[hover, \"pan,reset,ywheel_zoom\"])\n",
    "\n",
    "hist, edges = np.histogram(train[train['target']==1]['prod_due_user_perc'].values, bins=75)\n",
    "center = (edges[:-1]+edges[1:])/2\n",
    "source = ColumnDataSource(data=dict(hist=hist, left=edges[:-1], right=edges[1:], center=center))\n",
    "\n",
    "p_1.quad(source=source, top='hist', bottom=0, left='left', right='right', fill_color='#66c2a5', legend='Bought')\n",
    "\n",
    "p_2 = figure(plot_height=300, plot_width=800, tools=[hover, \"pan,reset,ywheel_zoom\"])\n",
    "\n",
    "hist, edges = np.histogram(train[train['target']==0]['perc_prod_support'].values, bins=75)\n",
    "source = ColumnDataSource(data=dict(hist=hist, left=edges[:-1], right=edges[1:], center=center))\n",
    "p_2.quad(source=source, top='hist', bottom=0, left='left', right='right', fill_color='#ed7953', legend='Not bought')\n",
    "\n",
    "p_2.xaxis.axis_label = 'prod_due_user_perc'\n",
    "p_1.title.align = \"center\"\n",
    "p_1.title.text_font_size = \"20px\"\n",
    "\n",
    "p_perc = column(p_1, p_2)\n",
    "\n",
    "hover = HoverTool(tooltips=[\n",
    "    (\"Number of products\", \"@hist\"),\n",
    "    (\"Average percentage\", \"@center\")\n",
    "    ])\n",
    "\n",
    "p_1 = figure(plot_height=300, plot_width=800, title=\"Distribution of perc_prod_support, separated by purchase status\",tools=[hover, \"pan,reset,ywheel_zoom\"])\n",
    "\n",
    "hist, edges = np.histogram(train[train['target']==1]['perc_prod_support'].values, bins=75)\n",
    "center = (edges[:-1]+edges[1:])/2\n",
    "source = ColumnDataSource(data=dict(hist=hist, left=edges[:-1], right=edges[1:], center=center))\n",
    "\n",
    "p_1.quad(source=source, top='hist', bottom=0, left='left', right='right', fill_color='#66c2a5', legend='Bought')\n",
    "\n",
    "p_2 = figure(plot_height=300, plot_width=800, tools=[hover, \"pan,reset,ywheel_zoom\"])\n",
    "\n",
    "hist, edges = np.histogram(train[train['target']==0]['perc_prod_support'].values, bins=75)\n",
    "source = ColumnDataSource(data=dict(hist=hist, left=edges[:-1], right=edges[1:], center=center))\n",
    "\n",
    "p_2.quad(source=source, top='hist', bottom=0, left='left', right='right', fill_color='#ed7953', legend='Not bought')\n",
    "\n",
    "p_2.xaxis.axis_label = 'perc_prod_support'\n",
    "p_1.title.align = \"center\"\n",
    "p_1.title.text_font_size = \"20px\"\n",
    "\n",
    "p_support = column(p_1, p_2)\n",
    "\n",
    "hover = HoverTool(tooltips=[\n",
    "    (\"Number of products\", \"@hist\"),\n",
    "    (\"Average\", \"@center\")\n",
    "    ])\n",
    "\n",
    "p_1 = figure(plot_height=300, plot_width=800, title=\"Distribution of days_since_prod, separated by purchase status\",tools=[hover, \"pan,reset,ywheel_zoom\"])\n",
    "\n",
    "hist, edges = np.histogram(train[train['target']==1]['days_since_prod'].values, bins=75)\n",
    "center = (edges[:-1]+edges[1:])/2\n",
    "source = ColumnDataSource(data=dict(hist=hist, left=edges[:-1], right=edges[1:], center=center))\n",
    "\n",
    "p_1.quad(source=source, top='hist', bottom=0, left='left', right='right', fill_color='#66c2a5', legend='Bought')\n",
    "\n",
    "p_2 = figure(plot_height=300, plot_width=800, tools=[hover, \"pan,reset,ywheel_zoom\"])\n",
    "\n",
    "hist, edges = np.histogram(train[train['target']==0]['days_since_prod'].values, bins=75)\n",
    "source = ColumnDataSource(data=dict(hist=hist, left=edges[:-1], right=edges[1:], center=center))\n",
    "\n",
    "p_2.quad(source=source, top='hist', bottom=0, left='left', right='right', fill_color='#ed7953', legend='Not bought')\n",
    "\n",
    "p_2.xaxis.axis_label = 'avg_ord_pos'\n",
    "p_1.title.align = \"center\"\n",
    "p_1.title.text_font_size = \"20px\"\n",
    "\n",
    "p_sep = column(p_1, p_2)\n",
    "\n",
    "hover = HoverTool(tooltips=[\n",
    "    (\"Number of products\", \"@hist\"),\n",
    "    (\"Average ratio\", \"@center\")\n",
    "    ])\n",
    "\n",
    "p_1 = figure(plot_height=300, plot_width=800, title=\"Distribution of prod_dept_ratio, separated by purchase status\",tools=[hover, \"pan,reset,ywheel_zoom\"])\n",
    "\n",
    "hist, edges = np.histogram(train[train['target']==1]['prod_dept_ratio'].values, bins=75)\n",
    "center = (edges[:-1]+edges[1:])/2\n",
    "source = ColumnDataSource(data=dict(hist=hist, left=edges[:-1], right=edges[1:], center=center))\n",
    "\n",
    "p_1.quad(source=source, top='hist', bottom=0, left='left', right='right', fill_color='#66c2a5', legend='Bought')\n",
    "\n",
    "p_2 = figure(plot_height=300, plot_width=800, tools=[hover, \"pan,reset,ywheel_zoom\"])\n",
    "\n",
    "hist, edges = np.histogram(train[train['target']==0]['prod_dept_ratio'].values, bins=75)\n",
    "source = ColumnDataSource(data=dict(hist=hist, left=edges[:-1], right=edges[1:], center=center))\n",
    "\n",
    "p_2.quad(source=source, top='hist', bottom=0, left='left', right='right', fill_color='#ed7953', legend='Not bought')\n",
    "\n",
    "p_2.xaxis.axis_label = 'prod_dept_ratio'\n",
    "p_1.title.align = \"center\"\n",
    "p_1.title.text_font_size = \"20px\"\n",
    "\n",
    "p_ratio = column(p_1, p_2)\n",
    "\n",
    "#tabs = Tabs(tabs=[ Panel(child=p_perc, title='prod_due_user_perc'), Panel(child=p_support, title='perc_prod_support'), Panel(child=p_sep, title='days_since_prod'), Panel(child=p_ratio, title='prod_dept_ratio') ])\n",
    "\n",
    "show(column(p_perc,p_support,p_sep,p_ratio))"
   ]
  },
  {
   "cell_type": "code",
   "execution_count": null,
   "metadata": {},
   "outputs": [],
   "source": [
    "script, div = components([p_perc,p_support,p_sep,p_ratio])\n",
    "print script, div[0], div[1], div[2], div[3]"
   ]
  },
  {
   "cell_type": "markdown",
   "metadata": {},
   "source": [
    "### Step 2: competition-provided analysis"
   ]
  },
  {
   "cell_type": "code",
   "execution_count": 4,
   "metadata": {},
   "outputs": [
    {
     "data": {
      "text/html": [
       "<div>\n",
       "<style>\n",
       "    .dataframe thead tr:only-child th {\n",
       "        text-align: right;\n",
       "    }\n",
       "\n",
       "    .dataframe thead th {\n",
       "        text-align: left;\n",
       "    }\n",
       "\n",
       "    .dataframe tbody tr th {\n",
       "        vertical-align: top;\n",
       "    }\n",
       "</style>\n",
       "<table border=\"1\" class=\"dataframe\">\n",
       "  <thead>\n",
       "    <tr style=\"text-align: right;\">\n",
       "      <th></th>\n",
       "      <th>order_id</th>\n",
       "      <th>product_id</th>\n",
       "      <th>add_to_cart_order</th>\n",
       "      <th>reordered</th>\n",
       "      <th>user_id</th>\n",
       "      <th>eval_set</th>\n",
       "      <th>order_number</th>\n",
       "      <th>order_dow</th>\n",
       "      <th>order_hour_of_day</th>\n",
       "      <th>days_since_prior_order</th>\n",
       "    </tr>\n",
       "  </thead>\n",
       "  <tbody>\n",
       "    <tr>\n",
       "      <th>0</th>\n",
       "      <td>2</td>\n",
       "      <td>33120</td>\n",
       "      <td>1</td>\n",
       "      <td>1</td>\n",
       "      <td>202279</td>\n",
       "      <td>prior</td>\n",
       "      <td>3</td>\n",
       "      <td>5</td>\n",
       "      <td>9</td>\n",
       "      <td>8.0</td>\n",
       "    </tr>\n",
       "    <tr>\n",
       "      <th>1</th>\n",
       "      <td>2</td>\n",
       "      <td>28985</td>\n",
       "      <td>2</td>\n",
       "      <td>1</td>\n",
       "      <td>202279</td>\n",
       "      <td>prior</td>\n",
       "      <td>3</td>\n",
       "      <td>5</td>\n",
       "      <td>9</td>\n",
       "      <td>8.0</td>\n",
       "    </tr>\n",
       "    <tr>\n",
       "      <th>2</th>\n",
       "      <td>2</td>\n",
       "      <td>9327</td>\n",
       "      <td>3</td>\n",
       "      <td>0</td>\n",
       "      <td>202279</td>\n",
       "      <td>prior</td>\n",
       "      <td>3</td>\n",
       "      <td>5</td>\n",
       "      <td>9</td>\n",
       "      <td>8.0</td>\n",
       "    </tr>\n",
       "    <tr>\n",
       "      <th>3</th>\n",
       "      <td>2</td>\n",
       "      <td>45918</td>\n",
       "      <td>4</td>\n",
       "      <td>1</td>\n",
       "      <td>202279</td>\n",
       "      <td>prior</td>\n",
       "      <td>3</td>\n",
       "      <td>5</td>\n",
       "      <td>9</td>\n",
       "      <td>8.0</td>\n",
       "    </tr>\n",
       "    <tr>\n",
       "      <th>4</th>\n",
       "      <td>2</td>\n",
       "      <td>30035</td>\n",
       "      <td>5</td>\n",
       "      <td>0</td>\n",
       "      <td>202279</td>\n",
       "      <td>prior</td>\n",
       "      <td>3</td>\n",
       "      <td>5</td>\n",
       "      <td>9</td>\n",
       "      <td>8.0</td>\n",
       "    </tr>\n",
       "  </tbody>\n",
       "</table>\n",
       "</div>"
      ],
      "text/plain": [
       "   order_id  product_id  add_to_cart_order  reordered  user_id eval_set  \\\n",
       "0         2       33120                  1          1   202279    prior   \n",
       "1         2       28985                  2          1   202279    prior   \n",
       "2         2        9327                  3          0   202279    prior   \n",
       "3         2       45918                  4          1   202279    prior   \n",
       "4         2       30035                  5          0   202279    prior   \n",
       "\n",
       "   order_number  order_dow  order_hour_of_day  days_since_prior_order  \n",
       "0             3          5                  9                     8.0  \n",
       "1             3          5                  9                     8.0  \n",
       "2             3          5                  9                     8.0  \n",
       "3             3          5                  9                     8.0  \n",
       "4             3          5                  9                     8.0  "
      ]
     },
     "execution_count": 4,
     "metadata": {},
     "output_type": "execute_result"
    }
   ],
   "source": [
    "orders = pd.read_csv('orders.csv')\n",
    "all_orders = pd.read_csv('order_products__prior.csv').append(pd.read_csv('order_products__train.csv'), ignore_index=True).merge(orders, how='left', on='order_id')\n",
    "del orders\n",
    "all_orders.head()"
   ]
  },
  {
   "cell_type": "markdown",
   "metadata": {},
   "source": [
    "## Average order size by user"
   ]
  },
  {
   "cell_type": "code",
   "execution_count": 5,
   "metadata": {},
   "outputs": [
    {
     "data": {
      "text/html": [
       "\n",
       "<div class=\"bk-root\">\n",
       "    <div class=\"bk-plotdiv\" id=\"01c917bd-7fff-4e25-811c-e5f03887f364\"></div>\n",
       "</div>"
      ]
     },
     "metadata": {},
     "output_type": "display_data"
    },
    {
     "data": {
      "application/javascript": [
       "(function(root) {\n",
       "  function embed_document(root) {\n",
       "    \n",
       "  var docs_json = {\"912835fd-104c-4a19-90e0-d968374e4f19\":{\"roots\":{\"references\":[{\"attributes\":{\"axis_label\":\"Number of Users\",\"formatter\":{\"id\":\"e8f0b8c8-cf5a-4f32-ad59-98dd01b72679\",\"type\":\"BasicTickFormatter\"},\"plot\":{\"id\":\"0e287fec-f179-47f3-8342-eae1cbb945d6\",\"subtype\":\"Figure\",\"type\":\"Plot\"},\"ticker\":{\"id\":\"9cffd841-84a2-425f-8f04-2df428adb611\",\"type\":\"BasicTicker\"}},\"id\":\"5acf0c2b-f8ce-4bd7-a06f-2ee493771b9d\",\"type\":\"LinearAxis\"},{\"attributes\":{\"axis_label\":\"Average Order Size\",\"formatter\":{\"id\":\"41305384-4fce-4832-bf48-fbd983b78c28\",\"type\":\"BasicTickFormatter\"},\"plot\":{\"id\":\"0e287fec-f179-47f3-8342-eae1cbb945d6\",\"subtype\":\"Figure\",\"type\":\"Plot\"},\"ticker\":{\"id\":\"342ffb3b-5803-48a3-8f55-a8622d11d04b\",\"type\":\"BasicTicker\"}},\"id\":\"4aca3236-ce25-4e72-a8f3-1cb9f8bf7079\",\"type\":\"LinearAxis\"},{\"attributes\":{\"data_source\":{\"id\":\"1813044d-dcb7-43d8-a27d-db60ee54e5a0\",\"type\":\"ColumnDataSource\"},\"glyph\":{\"id\":\"910dc288-c577-49ba-9817-eeaa8faf6d57\",\"type\":\"Quad\"},\"hover_glyph\":null,\"muted_glyph\":null,\"nonselection_glyph\":{\"id\":\"c06a3d53-8a94-451f-b5d2-913afca57bd6\",\"type\":\"Quad\"},\"selection_glyph\":null,\"view\":{\"id\":\"ff51fe5c-732b-4fff-8ff1-1084c7f0391f\",\"type\":\"CDSView\"}},\"id\":\"852a8bb0-cd11-4cbd-8112-120582cd9ce1\",\"type\":\"GlyphRenderer\"},{\"attributes\":{\"plot\":{\"id\":\"0e287fec-f179-47f3-8342-eae1cbb945d6\",\"subtype\":\"Figure\",\"type\":\"Plot\"},\"ticker\":{\"id\":\"342ffb3b-5803-48a3-8f55-a8622d11d04b\",\"type\":\"BasicTicker\"}},\"id\":\"aa52a20c-9b4b-4a8a-b6d1-38fe165c45ad\",\"type\":\"Grid\"},{\"attributes\":{},\"id\":\"e8f0b8c8-cf5a-4f32-ad59-98dd01b72679\",\"type\":\"BasicTickFormatter\"},{\"attributes\":{\"dimension\":1,\"plot\":{\"id\":\"0e287fec-f179-47f3-8342-eae1cbb945d6\",\"subtype\":\"Figure\",\"type\":\"Plot\"},\"ticker\":{\"id\":\"9cffd841-84a2-425f-8f04-2df428adb611\",\"type\":\"BasicTicker\"}},\"id\":\"82c4c1d7-5050-48df-b4d9-8358b41d1856\",\"type\":\"Grid\"},{\"attributes\":{\"callback\":null},\"id\":\"fd5b1e37-1bf6-4378-88e3-a92823f6cd7a\",\"type\":\"DataRange1d\"},{\"attributes\":{},\"id\":\"08021b22-dc08-4ca5-9d81-1af0dd6d08f7\",\"type\":\"LinearScale\"},{\"attributes\":{\"bottom\":{\"value\":0},\"fill_alpha\":{\"value\":0.1},\"fill_color\":{\"value\":\"#1f77b4\"},\"left\":{\"field\":\"left\"},\"line_alpha\":{\"value\":0.1},\"line_color\":{\"value\":\"#1f77b4\"},\"right\":{\"field\":\"right\"},\"top\":{\"field\":\"hist\"}},\"id\":\"c06a3d53-8a94-451f-b5d2-913afca57bd6\",\"type\":\"Quad\"},{\"attributes\":{\"below\":[{\"id\":\"4aca3236-ce25-4e72-a8f3-1cb9f8bf7079\",\"type\":\"LinearAxis\"}],\"left\":[{\"id\":\"5acf0c2b-f8ce-4bd7-a06f-2ee493771b9d\",\"type\":\"LinearAxis\"}],\"plot_height\":250,\"plot_width\":800,\"renderers\":[{\"id\":\"4aca3236-ce25-4e72-a8f3-1cb9f8bf7079\",\"type\":\"LinearAxis\"},{\"id\":\"aa52a20c-9b4b-4a8a-b6d1-38fe165c45ad\",\"type\":\"Grid\"},{\"id\":\"5acf0c2b-f8ce-4bd7-a06f-2ee493771b9d\",\"type\":\"LinearAxis\"},{\"id\":\"82c4c1d7-5050-48df-b4d9-8358b41d1856\",\"type\":\"Grid\"},{\"id\":\"852a8bb0-cd11-4cbd-8112-120582cd9ce1\",\"type\":\"GlyphRenderer\"}],\"title\":{\"id\":\"ec13721c-7ae1-450c-9c1a-b9b08e7d0afb\",\"type\":\"Title\"},\"toolbar\":{\"id\":\"cc737a3e-462e-4899-bb89-333835ae3017\",\"type\":\"Toolbar\"},\"x_range\":{\"id\":\"c200dd7e-bd74-460e-ba60-d37236047a52\",\"type\":\"DataRange1d\"},\"x_scale\":{\"id\":\"858e6562-b3d0-41f4-bb2f-c2e391ede620\",\"type\":\"LinearScale\"},\"y_range\":{\"id\":\"fd5b1e37-1bf6-4378-88e3-a92823f6cd7a\",\"type\":\"DataRange1d\"},\"y_scale\":{\"id\":\"08021b22-dc08-4ca5-9d81-1af0dd6d08f7\",\"type\":\"LinearScale\"}},\"id\":\"0e287fec-f179-47f3-8342-eae1cbb945d6\",\"subtype\":\"Figure\",\"type\":\"Plot\"},{\"attributes\":{},\"id\":\"9cffd841-84a2-425f-8f04-2df428adb611\",\"type\":\"BasicTicker\"},{\"attributes\":{\"bottom\":{\"value\":0},\"fill_color\":{\"field\":\"colors\"},\"left\":{\"field\":\"left\"},\"line_color\":{\"value\":\"#1f77b4\"},\"right\":{\"field\":\"right\"},\"top\":{\"field\":\"hist\"}},\"id\":\"910dc288-c577-49ba-9817-eeaa8faf6d57\",\"type\":\"Quad\"},{\"attributes\":{\"callback\":null,\"tooltips\":[[\"Number of Users\",\"@hist\"],[\"Avg Order Size\",\"@center\"]]},\"id\":\"680744f4-ab34-4712-9ab4-b3c4237048e2\",\"type\":\"HoverTool\"},{\"attributes\":{\"callback\":null},\"id\":\"c200dd7e-bd74-460e-ba60-d37236047a52\",\"type\":\"DataRange1d\"},{\"attributes\":{},\"id\":\"342ffb3b-5803-48a3-8f55-a8622d11d04b\",\"type\":\"BasicTicker\"},{\"attributes\":{\"active_drag\":\"auto\",\"active_inspect\":\"auto\",\"active_scroll\":\"auto\",\"active_tap\":\"auto\",\"tools\":[{\"id\":\"680744f4-ab34-4712-9ab4-b3c4237048e2\",\"type\":\"HoverTool\"},{\"id\":\"edfdcbbc-4fbc-48bc-9e2c-547cd46aa322\",\"type\":\"WheelZoomTool\"},{\"id\":\"eafc7afd-83bf-41fe-beb9-68a32ac143b7\",\"type\":\"PanTool\"},{\"id\":\"e50e454c-4423-47ce-9008-f9484265de5e\",\"type\":\"ResetTool\"}]},\"id\":\"cc737a3e-462e-4899-bb89-333835ae3017\",\"type\":\"Toolbar\"},{\"attributes\":{},\"id\":\"858e6562-b3d0-41f4-bb2f-c2e391ede620\",\"type\":\"LinearScale\"},{\"attributes\":{\"callback\":null,\"column_names\":[\"hist\",\"colors\",\"right\",\"center\",\"left\"],\"data\":{\"center\":{\"__ndarray__\":\"AAAAAAAA8D8AAAAAAAAAQAAAAAAAAAhAAAAAAAAAEEAAAAAAAAAUQAAAAAAAABRAAAAAAAAAGEAAAAAAAAAcQAAAAAAAACBAAAAAAAAAIkAAAAAAAAAiQAAAAAAAACRAAAAAAAAAJkAAAAAAAAAoQAAAAAAAACpAAAAAAAAAKkAAAAAAAAAsQAAAAAAAAC5AAAAAAAAAMEAAAAAAAAAwQAAAAAAAADFAAAAAAAAAMkAAAAAAAAAzQAAAAAAAADRAAAAAAAAANEAAAAAAAAA1QAAAAAAAADZAAAAAAAAAN0AAAAAAAAA4QAAAAAAAADhAAAAAAAAAOUAAAAAAAAA6QAAAAAAAADtAAAAAAAAAPEAAAAAAAAA8QAAAAAAAAD1AAAAAAAAAPkAAAAAAAAA/QAAAAAAAAEBAAAAAAAAAQEAAAAAAAIBAQAAAAAAAAEFAAAAAAACAQUAAAAAAAABCQAAAAAAAAEJAAAAAAACAQkAAAAAAAABDQAAAAAAAgENAAAAAAACAQ0AAAAAAAABEQAAAAAAAgERAAAAAAAAARUAAAAAAAIBFQAAAAAAAgEVAAAAAAAAARkAAAAAAAIBGQAAAAAAAAEdAAAAAAACAR0AAAAAAAIBHQAAAAAAAAEhAAAAAAACASEAAAAAAAABJQAAAAAAAgElAAAAAAACASUAAAAAAAABKQAAAAAAAgEpAAAAAAAAAS0AAAAAAAIBLQAAAAAAAgEtAAAAAAAAATEAAAAAAAIBMQAAAAAAAAE1AAAAAAACATUAAAAAAAIBNQAAAAAAAAE5A\",\"dtype\":\"float64\",\"shape\":[75]},\"colors\":[\"#9e0142\",\"#a60a44\",\"#af1446\",\"#ba2048\",\"#c2294a\",\"#c2294a\",\"#cb334c\",\"#d53e4e\",\"#da464c\",\"#df4d4b\",\"#df4d4b\",\"#e55648\",\"#ea5e46\",\"#ef6544\",\"#f46f44\",\"#f46f44\",\"#f57948\",\"#f7834d\",\"#f89053\",\"#f89053\",\"#fa9a58\",\"#fba55c\",\"#fdb063\",\"#fdb86a\",\"#fdb86a\",\"#fdc070\",\"#fdca78\",\"#fdd27f\",\"#fdda86\",\"#fdda86\",\"#fee28f\",\"#fee797\",\"#feec9f\",\"#fef2a9\",\"#fef2a9\",\"#fef7b1\",\"#fefbb9\",\"#fcfebb\",\"#f8fcb5\",\"#f8fcb5\",\"#f4faae\",\"#eff8a7\",\"#ebf7a1\",\"#e7f59b\",\"#e7f59b\",\"#dff299\",\"#d5ee9b\",\"#ccea9d\",\"#ccea9d\",\"#c0e59f\",\"#b7e2a1\",\"#aedea3\",\"#a1d9a4\",\"#a1d9a4\",\"#96d5a4\",\"#8bd0a4\",\"#7ecba4\",\"#73c7a4\",\"#73c7a4\",\"#68c3a4\",\"#5db8a8\",\"#55afac\",\"#4da6b0\",\"#4da6b0\",\"#439bb5\",\"#3b92b8\",\"#3389bc\",\"#397db8\",\"#397db8\",\"#4075b4\",\"#476caf\",\"#5060aa\",\"#5757a6\",\"#5757a6\",\"#5e4fa2\"],\"hist\":[4275,7072,8519,9280,9974,12216,12168,13334,12825,12825,12124,11449,10094,9415,8152,7233,6281,5729,4846,4138,3465,3169,2567,2467,1908,1699,1379,1224,1057,745,738,596,496,439,391,315,270,218,186,133,121,106,88,70,66,52,42,46,30,21,22,19,16,21,9,6,11,6,4,6,8,6,6,0,2,4,1,0,1,1,2,0,2,1,2],\"left\":{\"__ndarray__\":\"AAAAAAAA8D+y5BdLfrH8P7LkF0t+sQRACtejcD0KC0Cy5BdLfrEQQN7d3d3d3RNACtejcD0KF0A30GkDnTYaQGPJL5b8Yh1ASOF6FK5HIEDe3d3d3d0hQHTaQKcNdCNACtejcD0KJUCg0wY6baAmQDfQaQOdNihAzczMzMzMKUBjyS+W/GIrQPnFkl8s+SxAj8L1KFyPLkCTXyz5xRIwQN7d3d3d3TBAKVyPwvWoMUB02kCnDXQyQL9Y8oslPzNACtejcD0KNEBVVVVVVdU0QKDTBjptoDVA7FG4HoVrNkA30GkDnTY3QIJOG+i0AThAzczMzMzMOEAYS36x5Jc5QGPJL5b8YjpArkfhehQuO0D5xZJfLPk7QERERERExDxAj8L1KFyPPUDaQKcNdFo+QCa/WPKLJT9AcT0K16PwP0De3d3d3V1AQAOdNtBpw0BAKVyPwvUoQUBPG+i0gY5BQHTaQKcN9EFAmpmZmZlZQkC/WPKLJb9CQOUXS36xJENACtejcD2KQ0Awlvxiye9DQFVVVVVVVURAexSuR+G6RECg0wY6bSBFQMaSXyz5hUVA7FG4HoXrRUAREREREVFGQDfQaQOdtkZAXI/C9SgcR0CCThvotIFHQKcNdNpA50dAzczMzMxMSEDyiyW/WLJIQBhLfrHkF0lAPQrXo3B9SUBjyS+W/OJJQImIiIiISEpArkfhehSuSkDUBjptoBNLQPnFkl8seUtAH4XrUbjeS0BERERERERMQGoDnTbQqUxAj8L1KFwPTUC1gU4b6HRNQNpApw102k1A\",\"dtype\":\"float64\",\"shape\":[75]},\"right\":{\"__ndarray__\":\"suQXS36x/D+y5BdLfrEEQArXo3A9CgtAsuQXS36xEEDe3d3d3d0TQArXo3A9ChdAN9BpA502GkBjyS+W/GIdQEjhehSuRyBA3t3d3d3dIUB02kCnDXQjQArXo3A9CiVAoNMGOm2gJkA30GkDnTYoQM3MzMzMzClAY8kvlvxiK0D5xZJfLPksQI/C9Shcjy5Ak18s+cUSMEDe3d3d3d0wQClcj8L1qDFAdNpApw10MkC/WPKLJT8zQArXo3A9CjRAVVVVVVXVNECg0wY6baA1QOxRuB6FazZAN9BpA502N0CCThvotAE4QM3MzMzMzDhAGEt+seSXOUBjyS+W/GI6QK5H4XoULjtA+cWSXyz5O0BERERERMQ8QI/C9Shcjz1A2kCnDXRaPkAmv1jyiyU/QHE9Ctej8D9A3t3d3d1dQEADnTbQacNAQClcj8L1KEFATxvotIGOQUB02kCnDfRBQJqZmZmZWUJAv1jyiyW/QkDlF0t+sSRDQArXo3A9ikNAMJb8YsnvQ0BVVVVVVVVEQHsUrkfhukRAoNMGOm0gRUDGkl8s+YVFQOxRuB6F60VAERERERFRRkA30GkDnbZGQFyPwvUoHEdAgk4b6LSBR0CnDXTaQOdHQM3MzMzMTEhA8oslv1iySEAYS36x5BdJQD0K16NwfUlAY8kvlvziSUCJiIiIiEhKQK5H4XoUrkpA1AY6baATS0D5xZJfLHlLQB+F61G43ktARERERERETEBqA5020KlMQI/C9ShcD01AtYFOG+h0TUDaQKcNdNpNQAAAAAAAQE5A\",\"dtype\":\"float64\",\"shape\":[75]}}},\"id\":\"1813044d-dcb7-43d8-a27d-db60ee54e5a0\",\"type\":\"ColumnDataSource\"},{\"attributes\":{},\"id\":\"41305384-4fce-4832-bf48-fbd983b78c28\",\"type\":\"BasicTickFormatter\"},{\"attributes\":{\"dimensions\":\"height\"},\"id\":\"edfdcbbc-4fbc-48bc-9e2c-547cd46aa322\",\"type\":\"WheelZoomTool\"},{\"attributes\":{},\"id\":\"e50e454c-4423-47ce-9008-f9484265de5e\",\"type\":\"ResetTool\"},{\"attributes\":{\"plot\":null,\"text\":\"Distribution of Average Order Size\"},\"id\":\"ec13721c-7ae1-450c-9c1a-b9b08e7d0afb\",\"type\":\"Title\"},{\"attributes\":{\"source\":{\"id\":\"1813044d-dcb7-43d8-a27d-db60ee54e5a0\",\"type\":\"ColumnDataSource\"}},\"id\":\"ff51fe5c-732b-4fff-8ff1-1084c7f0391f\",\"type\":\"CDSView\"},{\"attributes\":{},\"id\":\"eafc7afd-83bf-41fe-beb9-68a32ac143b7\",\"type\":\"PanTool\"}],\"root_ids\":[\"0e287fec-f179-47f3-8342-eae1cbb945d6\"]},\"title\":\"Bokeh Application\",\"version\":\"0.12.13\"}};\n",
       "  var render_items = [{\"docid\":\"912835fd-104c-4a19-90e0-d968374e4f19\",\"elementid\":\"01c917bd-7fff-4e25-811c-e5f03887f364\",\"modelid\":\"0e287fec-f179-47f3-8342-eae1cbb945d6\"}];\n",
       "  root.Bokeh.embed.embed_items_notebook(docs_json, render_items);\n",
       "\n",
       "  }\n",
       "  if (root.Bokeh !== undefined) {\n",
       "    embed_document(root);\n",
       "  } else {\n",
       "    var attempts = 0;\n",
       "    var timer = setInterval(function(root) {\n",
       "      if (root.Bokeh !== undefined) {\n",
       "        embed_document(root);\n",
       "        clearInterval(timer);\n",
       "      }\n",
       "      attempts++;\n",
       "      if (attempts > 100) {\n",
       "        console.log(\"Bokeh: ERROR: Unable to run BokehJS code because BokehJS library is missing\")\n",
       "        clearInterval(timer);\n",
       "      }\n",
       "    }, 10, root)\n",
       "  }\n",
       "})(window);"
      ],
      "application/vnd.bokehjs_exec.v0+json": ""
     },
     "metadata": {
      "application/vnd.bokehjs_exec.v0+json": {
       "id": "0e287fec-f179-47f3-8342-eae1cbb945d6"
      }
     },
     "output_type": "display_data"
    }
   ],
   "source": [
    "hover = HoverTool(tooltips=[\n",
    "    (\"Number of Users\", \"@hist\"),\n",
    "    (\"Avg Order Size\", \"@center\")\n",
    "    ])\n",
    "\n",
    "p_size1 = figure(plot_height=250, plot_width=800, title=\"Distribution of Average Order Size\",tools=[hover, \"ywheel_zoom,pan,reset\"])\n",
    "\n",
    "hist, edges = np.histogram(all_orders.groupby(['user_id', 'order_id'])['product_id'].nunique().reset_index().rename(columns={'product_id':'count'})[['user_id', 'count']].groupby('user_id')['count'].mean().values, bins=75)\n",
    "center = np.round((edges[:-1]+edges[1:])/2)\n",
    "colors = [\"#%02x%02x%02x\" % (int(r), int(g), int(b)) for r, g, b, _ in 255*matplotlib.cm.Spectral(matplotlib.colors.Normalize()(center))]\n",
    "source = ColumnDataSource(data=dict(hist=hist, left=edges[:-1], right=edges[1:], \n",
    "                                    center=center,\n",
    "                         colors=colors))\n",
    "\n",
    "p_size1.quad(source=source, top='hist', bottom=0, left='left', right='right', fill_color='colors')\n",
    "\n",
    "p_size1.xaxis.axis_label = 'Average Order Size'\n",
    "p_size1.yaxis.axis_label = 'Number of Users'\n",
    "\n",
    "show(p_size1)"
   ]
  },
  {
   "cell_type": "markdown",
   "metadata": {},
   "source": [
    "## Previous Order Size by User"
   ]
  },
  {
   "cell_type": "code",
   "execution_count": 6,
   "metadata": {},
   "outputs": [
    {
     "data": {
      "text/html": [
       "\n",
       "<div class=\"bk-root\">\n",
       "    <div class=\"bk-plotdiv\" id=\"82e0b629-b5b4-4ae0-aa1c-45a6e385b9e2\"></div>\n",
       "</div>"
      ]
     },
     "metadata": {},
     "output_type": "display_data"
    },
    {
     "data": {
      "application/javascript": [
       "(function(root) {\n",
       "  function embed_document(root) {\n",
       "    \n",
       "  var docs_json = {\"ed1fdfb3-1e9a-4296-b2a2-f842e5d0aa6e\":{\"roots\":{\"references\":[{\"attributes\":{\"below\":[{\"id\":\"9d7a8db9-5f26-44ca-933f-60debba24edc\",\"type\":\"LinearAxis\"}],\"left\":[{\"id\":\"a08d9c4d-ed24-4f61-b85f-702a681247c6\",\"type\":\"LinearAxis\"}],\"plot_height\":250,\"plot_width\":800,\"renderers\":[{\"id\":\"9d7a8db9-5f26-44ca-933f-60debba24edc\",\"type\":\"LinearAxis\"},{\"id\":\"fd49143d-bab8-483d-878e-9e8e484363c3\",\"type\":\"Grid\"},{\"id\":\"a08d9c4d-ed24-4f61-b85f-702a681247c6\",\"type\":\"LinearAxis\"},{\"id\":\"ba20570d-38ce-41a2-97ba-a1d08e78b441\",\"type\":\"Grid\"},{\"id\":\"40dd2d3c-0955-499d-87cf-c693aca40d3f\",\"type\":\"GlyphRenderer\"}],\"title\":{\"id\":\"ad52a3e8-52ac-4468-bfa3-7bee2314d7b2\",\"type\":\"Title\"},\"toolbar\":{\"id\":\"a2e56e2e-be2a-4bfc-8b73-5f8295519eea\",\"type\":\"Toolbar\"},\"x_range\":{\"id\":\"d61518c5-5903-4ef2-ad1f-cfea8bb68fc5\",\"type\":\"DataRange1d\"},\"x_scale\":{\"id\":\"949abf9c-4ed8-41ed-a88f-bbb98bf975ed\",\"type\":\"LinearScale\"},\"y_range\":{\"id\":\"9ae8e7fb-a610-4f2b-9218-a74c66f19b2e\",\"type\":\"DataRange1d\"},\"y_scale\":{\"id\":\"a5d73951-33b2-456e-9b4b-1b4aa9dde1aa\",\"type\":\"LinearScale\"}},\"id\":\"de9b13c6-00d8-4f4d-a7e5-fdf3953a1239\",\"subtype\":\"Figure\",\"type\":\"Plot\"},{\"attributes\":{\"axis_label\":\"Previous Order Size\",\"formatter\":{\"id\":\"e945aa23-a81e-4a57-8aa4-114640535de9\",\"type\":\"BasicTickFormatter\"},\"plot\":{\"id\":\"de9b13c6-00d8-4f4d-a7e5-fdf3953a1239\",\"subtype\":\"Figure\",\"type\":\"Plot\"},\"ticker\":{\"id\":\"f187ee9d-4276-4fb9-814e-377058404547\",\"type\":\"BasicTicker\"}},\"id\":\"9d7a8db9-5f26-44ca-933f-60debba24edc\",\"type\":\"LinearAxis\"},{\"attributes\":{},\"id\":\"8a2d112b-b280-4c0a-a0bb-c02d94ebbcef\",\"type\":\"BasicTicker\"},{\"attributes\":{},\"id\":\"1e1cd196-c596-4ccc-9d4b-8ac18927d863\",\"type\":\"ResetTool\"},{\"attributes\":{\"dimensions\":\"height\"},\"id\":\"ce0f4e2a-ea56-4cf5-9d43-c177789c3d8b\",\"type\":\"WheelZoomTool\"},{\"attributes\":{\"bottom\":{\"value\":0},\"fill_color\":{\"field\":\"colors\"},\"left\":{\"field\":\"left\"},\"line_color\":{\"value\":\"#1f77b4\"},\"right\":{\"field\":\"right\"},\"top\":{\"field\":\"hist\"}},\"id\":\"c1bb2401-a90f-4a39-80e4-c999effc07cb\",\"type\":\"Quad\"},{\"attributes\":{\"source\":{\"id\":\"cfba1732-1010-4455-9362-94aa23bc4725\",\"type\":\"ColumnDataSource\"}},\"id\":\"c841f1e2-1ac8-4a51-ad58-ca56bb54606c\",\"type\":\"CDSView\"},{\"attributes\":{\"active_drag\":\"auto\",\"active_inspect\":\"auto\",\"active_scroll\":\"auto\",\"active_tap\":\"auto\",\"tools\":[{\"id\":\"d3cda3f6-e179-4e37-af13-37d6b6e2b781\",\"type\":\"HoverTool\"},{\"id\":\"ce0f4e2a-ea56-4cf5-9d43-c177789c3d8b\",\"type\":\"WheelZoomTool\"},{\"id\":\"f65d9a08-51ed-49e9-833c-ab7328edf625\",\"type\":\"PanTool\"},{\"id\":\"1e1cd196-c596-4ccc-9d4b-8ac18927d863\",\"type\":\"ResetTool\"}]},\"id\":\"a2e56e2e-be2a-4bfc-8b73-5f8295519eea\",\"type\":\"Toolbar\"},{\"attributes\":{},\"id\":\"f187ee9d-4276-4fb9-814e-377058404547\",\"type\":\"BasicTicker\"},{\"attributes\":{\"plot\":{\"id\":\"de9b13c6-00d8-4f4d-a7e5-fdf3953a1239\",\"subtype\":\"Figure\",\"type\":\"Plot\"},\"ticker\":{\"id\":\"f187ee9d-4276-4fb9-814e-377058404547\",\"type\":\"BasicTicker\"}},\"id\":\"fd49143d-bab8-483d-878e-9e8e484363c3\",\"type\":\"Grid\"},{\"attributes\":{\"bottom\":{\"value\":0},\"fill_alpha\":{\"value\":0.1},\"fill_color\":{\"value\":\"#1f77b4\"},\"left\":{\"field\":\"left\"},\"line_alpha\":{\"value\":0.1},\"line_color\":{\"value\":\"#1f77b4\"},\"right\":{\"field\":\"right\"},\"top\":{\"field\":\"hist\"}},\"id\":\"f788689a-7c0f-4307-81f1-d73fe4df43a2\",\"type\":\"Quad\"},{\"attributes\":{\"callback\":null},\"id\":\"9ae8e7fb-a610-4f2b-9218-a74c66f19b2e\",\"type\":\"DataRange1d\"},{\"attributes\":{\"dimension\":1,\"plot\":{\"id\":\"de9b13c6-00d8-4f4d-a7e5-fdf3953a1239\",\"subtype\":\"Figure\",\"type\":\"Plot\"},\"ticker\":{\"id\":\"8a2d112b-b280-4c0a-a0bb-c02d94ebbcef\",\"type\":\"BasicTicker\"}},\"id\":\"ba20570d-38ce-41a2-97ba-a1d08e78b441\",\"type\":\"Grid\"},{\"attributes\":{\"callback\":null,\"tooltips\":[[\"Number of Users\",\"@hist\"],[\"Prev Order Size\",\"@center\"]]},\"id\":\"d3cda3f6-e179-4e37-af13-37d6b6e2b781\",\"type\":\"HoverTool\"},{\"attributes\":{\"callback\":null},\"id\":\"d61518c5-5903-4ef2-ad1f-cfea8bb68fc5\",\"type\":\"DataRange1d\"},{\"attributes\":{\"callback\":null,\"column_names\":[\"hist\",\"colors\",\"right\",\"center\",\"left\"],\"data\":{\"center\":{\"__ndarray__\":\"AAAAAAAAAEAAAAAAAAAIQAAAAAAAABRAAAAAAAAAHEAAAAAAAAAgQAAAAAAAACRAAAAAAAAAJkAAAAAAAAAqQAAAAAAAAC5AAAAAAAAAMEAAAAAAAAAyQAAAAAAAADNAAAAAAAAANUAAAAAAAAA3QAAAAAAAADhAAAAAAAAAOkAAAAAAAAA7QAAAAAAAAD1AAAAAAAAAP0AAAAAAAABAQAAAAAAAAEFAAAAAAACAQUAAAAAAAIBCQAAAAAAAgENAAAAAAAAAREAAAAAAAABFQAAAAAAAgEVAAAAAAACARkAAAAAAAIBHQAAAAAAAAEhAAAAAAAAASUAAAAAAAIBJQAAAAAAAgEpAAAAAAACAS0AAAAAAAABMQAAAAAAAAE1AAAAAAACATUAAAAAAAIBOQAAAAAAAgE9AAAAAAAAAUEAAAAAAAIBQQAAAAAAAwFBAAAAAAABAUUAAAAAAAMBRQAAAAAAAAFJAAAAAAACAUkAAAAAAAMBSQAAAAAAAQFNAAAAAAADAU0AAAAAAAABUQAAAAAAAgFRAAAAAAADAVEAAAAAAAEBVQAAAAAAAwFVAAAAAAAAAVkAAAAAAAIBWQAAAAAAAwFZAAAAAAABAV0AAAAAAAMBXQAAAAAAAAFhAAAAAAACAWEAAAAAAAMBYQAAAAAAAQFlAAAAAAADAWUAAAAAAAABaQAAAAAAAgFpAAAAAAADAWkAAAAAAAEBbQAAAAAAAwFtAAAAAAAAAXEAAAAAAAIBcQAAAAAAAwFxAAAAAAABAXUAAAAAAAMBdQAAAAAAAAF5A\",\"dtype\":\"float64\",\"shape\":[75]},\"colors\":[\"#9e0142\",\"#a20543\",\"#aa0f45\",\"#b31847\",\"#ba2048\",\"#c2294a\",\"#c62e4b\",\"#cf384d\",\"#d8424d\",\"#da464c\",\"#df4d4b\",\"#e1514a\",\"#e75a47\",\"#ec6145\",\"#ef6544\",\"#f46f44\",\"#f57446\",\"#f67e4b\",\"#f7894f\",\"#f89053\",\"#fa9a58\",\"#fb9f5a\",\"#fcaa5f\",\"#fdb466\",\"#fdb86a\",\"#fdc070\",\"#fdc473\",\"#fdce7c\",\"#fdd682\",\"#fdda86\",\"#fee28f\",\"#fee493\",\"#fee99b\",\"#feeea3\",\"#fef2a9\",\"#fef7b1\",\"#fef9b5\",\"#fefebe\",\"#fafdb8\",\"#f8fcb5\",\"#f4faae\",\"#f1f9aa\",\"#edf8a4\",\"#e9f69e\",\"#e7f59b\",\"#dff299\",\"#daf09a\",\"#d1ec9c\",\"#c5e79e\",\"#c0e59f\",\"#b7e2a1\",\"#b3e0a2\",\"#a6dba4\",\"#9cd7a4\",\"#96d5a4\",\"#8bd0a4\",\"#83cda4\",\"#78c9a4\",\"#6ec5a4\",\"#68c3a4\",\"#5db8a8\",\"#59b4aa\",\"#51abae\",\"#479fb3\",\"#439bb5\",\"#3b92b8\",\"#378dba\",\"#3682ba\",\"#3d79b6\",\"#4075b4\",\"#476caf\",\"#4c65ac\",\"#535ca8\",\"#5a53a4\",\"#5e4fa2\"],\"hist\":[14706,16590,8714,17356,8163,14109,11416,4905,8162,3356,5701,4397,1891,2996,1223,1952,1366,630,984,353,606,409,179,253,114,188,127,62,77,31,50,35,13,28,5,11,9,3,12,2,3,6,2,6,0,2,0,0,0,1,1,1,0,0,0,0,0,0,0,0,0,0,0,1,0,0,0,0,0,0,1,0,0,0,1],\"left\":{\"__ndarray__\":\"AAAAAAAA8D/NzMzMzMwEQM3MzMzMzBBANDMzMzMzF0CamZmZmZkdQAAAAAAAACJANDMzMzMzJUBnZmZmZmYoQJqZmZmZmStAzczMzMzMLkAAAAAAAAAxQJqZmZmZmTJANDMzMzMzNEDNzMzMzMw1QGdmZmZmZjdAAAAAAAAAOUCamZmZmZk6QDQzMzMzMzxAzczMzMzMPUBnZmZmZmY/QAAAAAAAgEBAzczMzMxMQUCamZmZmRlCQGdmZmZm5kJANDMzMzOzQ0AAAAAAAIBEQM3MzMzMTEVAmpmZmZkZRkBnZmZmZuZGQDQzMzMzs0dAAAAAAACASEDNzMzMzExJQJqZmZmZGUpAZ2ZmZmbmSkA0MzMzM7NLQAAAAAAAgExAzczMzMxMTUCamZmZmRlOQGdmZmZm5k5ANDMzMzOzT0AAAAAAAEBQQGdmZmZmplBAzczMzMwMUUAzMzMzM3NRQJqZmZmZ2VFAAAAAAABAUkBnZmZmZqZSQM3MzMzMDFNANDMzMzNzU0CamZmZmdlTQAAAAAAAQFRAZ2ZmZmamVEDNzMzMzAxVQDQzMzMzc1VAmpmZmZnZVUAAAAAAAEBWQGdmZmZmplZAzczMzMwMV0A0MzMzM3NXQJqZmZmZ2VdAAAAAAABAWEBnZmZmZqZYQM3MzMzMDFlANDMzMzNzWUCamZmZmdlZQAAAAAAAQFpAZ2ZmZmamWkDNzMzMzAxbQDQzMzMzc1tAmpmZmZnZW0AAAAAAAEBcQGdmZmZmplxAzczMzMwMXUA0MzMzM3NdQJqZmZmZ2V1A\",\"dtype\":\"float64\",\"shape\":[75]},\"right\":{\"__ndarray__\":\"zczMzMzMBEDNzMzMzMwQQDQzMzMzMxdAmpmZmZmZHUAAAAAAAAAiQDQzMzMzMyVAZ2ZmZmZmKECamZmZmZkrQM3MzMzMzC5AAAAAAAAAMUCamZmZmZkyQDQzMzMzMzRAzczMzMzMNUBnZmZmZmY3QAAAAAAAADlAmpmZmZmZOkA0MzMzMzM8QM3MzMzMzD1AZ2ZmZmZmP0AAAAAAAIBAQM3MzMzMTEFAmpmZmZkZQkBnZmZmZuZCQDQzMzMzs0NAAAAAAACAREDNzMzMzExFQJqZmZmZGUZAZ2ZmZmbmRkA0MzMzM7NHQAAAAAAAgEhAzczMzMxMSUCamZmZmRlKQGdmZmZm5kpANDMzMzOzS0AAAAAAAIBMQM3MzMzMTE1AmpmZmZkZTkBnZmZmZuZOQDQzMzMzs09AAAAAAABAUEBnZmZmZqZQQM3MzMzMDFFAMzMzMzNzUUCamZmZmdlRQAAAAAAAQFJAZ2ZmZmamUkDNzMzMzAxTQDQzMzMzc1NAmpmZmZnZU0AAAAAAAEBUQGdmZmZmplRAzczMzMwMVUA0MzMzM3NVQJqZmZmZ2VVAAAAAAABAVkBnZmZmZqZWQM3MzMzMDFdANDMzMzNzV0CamZmZmdlXQAAAAAAAQFhAZ2ZmZmamWEDNzMzMzAxZQDQzMzMzc1lAmpmZmZnZWUAAAAAAAEBaQGdmZmZmplpAzczMzMwMW0A0MzMzM3NbQJqZmZmZ2VtAAAAAAABAXEBnZmZmZqZcQM3MzMzMDF1ANDMzMzNzXUCamZmZmdldQAAAAAAAQF5A\",\"dtype\":\"float64\",\"shape\":[75]}}},\"id\":\"cfba1732-1010-4455-9362-94aa23bc4725\",\"type\":\"ColumnDataSource\"},{\"attributes\":{},\"id\":\"e945aa23-a81e-4a57-8aa4-114640535de9\",\"type\":\"BasicTickFormatter\"},{\"attributes\":{},\"id\":\"a5d73951-33b2-456e-9b4b-1b4aa9dde1aa\",\"type\":\"LinearScale\"},{\"attributes\":{},\"id\":\"f65d9a08-51ed-49e9-833c-ab7328edf625\",\"type\":\"PanTool\"},{\"attributes\":{},\"id\":\"91dc6367-40bf-4d51-a91a-32e1f9d72834\",\"type\":\"BasicTickFormatter\"},{\"attributes\":{},\"id\":\"949abf9c-4ed8-41ed-a88f-bbb98bf975ed\",\"type\":\"LinearScale\"},{\"attributes\":{\"axis_label\":\"Number of Users\",\"formatter\":{\"id\":\"91dc6367-40bf-4d51-a91a-32e1f9d72834\",\"type\":\"BasicTickFormatter\"},\"plot\":{\"id\":\"de9b13c6-00d8-4f4d-a7e5-fdf3953a1239\",\"subtype\":\"Figure\",\"type\":\"Plot\"},\"ticker\":{\"id\":\"8a2d112b-b280-4c0a-a0bb-c02d94ebbcef\",\"type\":\"BasicTicker\"}},\"id\":\"a08d9c4d-ed24-4f61-b85f-702a681247c6\",\"type\":\"LinearAxis\"},{\"attributes\":{\"data_source\":{\"id\":\"cfba1732-1010-4455-9362-94aa23bc4725\",\"type\":\"ColumnDataSource\"},\"glyph\":{\"id\":\"c1bb2401-a90f-4a39-80e4-c999effc07cb\",\"type\":\"Quad\"},\"hover_glyph\":null,\"muted_glyph\":null,\"nonselection_glyph\":{\"id\":\"f788689a-7c0f-4307-81f1-d73fe4df43a2\",\"type\":\"Quad\"},\"selection_glyph\":null,\"view\":{\"id\":\"c841f1e2-1ac8-4a51-ad58-ca56bb54606c\",\"type\":\"CDSView\"}},\"id\":\"40dd2d3c-0955-499d-87cf-c693aca40d3f\",\"type\":\"GlyphRenderer\"},{\"attributes\":{\"plot\":null,\"text\":\"Distribution of Previous Order Size\"},\"id\":\"ad52a3e8-52ac-4468-bfa3-7bee2314d7b2\",\"type\":\"Title\"}],\"root_ids\":[\"de9b13c6-00d8-4f4d-a7e5-fdf3953a1239\"]},\"title\":\"Bokeh Application\",\"version\":\"0.12.13\"}};\n",
       "  var render_items = [{\"docid\":\"ed1fdfb3-1e9a-4296-b2a2-f842e5d0aa6e\",\"elementid\":\"82e0b629-b5b4-4ae0-aa1c-45a6e385b9e2\",\"modelid\":\"de9b13c6-00d8-4f4d-a7e5-fdf3953a1239\"}];\n",
       "  root.Bokeh.embed.embed_items_notebook(docs_json, render_items);\n",
       "\n",
       "  }\n",
       "  if (root.Bokeh !== undefined) {\n",
       "    embed_document(root);\n",
       "  } else {\n",
       "    var attempts = 0;\n",
       "    var timer = setInterval(function(root) {\n",
       "      if (root.Bokeh !== undefined) {\n",
       "        embed_document(root);\n",
       "        clearInterval(timer);\n",
       "      }\n",
       "      attempts++;\n",
       "      if (attempts > 100) {\n",
       "        console.log(\"Bokeh: ERROR: Unable to run BokehJS code because BokehJS library is missing\")\n",
       "        clearInterval(timer);\n",
       "      }\n",
       "    }, 10, root)\n",
       "  }\n",
       "})(window);"
      ],
      "application/vnd.bokehjs_exec.v0+json": ""
     },
     "metadata": {
      "application/vnd.bokehjs_exec.v0+json": {
       "id": "de9b13c6-00d8-4f4d-a7e5-fdf3953a1239"
      }
     },
     "output_type": "display_data"
    }
   ],
   "source": [
    "hover = HoverTool(tooltips=[\n",
    "    (\"Number of Users\", \"@hist\"),\n",
    "    (\"Prev Order Size\", \"@center\")\n",
    "    ])\n",
    "\n",
    "p_size2 = figure(plot_height=250, plot_width=800, title=\"Distribution of Previous Order Size\",tools=[hover, \"ywheel_zoom,pan,reset\"])\n",
    "\n",
    "hist, edges = np.histogram(pd.read_csv('x_train.csv').drop_duplicates('user_id')['prev_ord_size'].values, bins=75)\n",
    "center = np.round((edges[:-1]+edges[1:])/2)\n",
    "colors = [\"#%02x%02x%02x\" % (int(r), int(g), int(b)) for r, g, b, _ in 255*matplotlib.cm.Spectral(matplotlib.colors.Normalize()(center))]\n",
    "source = ColumnDataSource(data=dict(hist=hist, left=edges[:-1], right=edges[1:], \n",
    "                                    center=center,\n",
    "                         colors=colors))\n",
    "\n",
    "p_size2.quad(source=source, top='hist', bottom=0, left='left', right='right', fill_color='colors')\n",
    "\n",
    "p_size2.xaxis.axis_label = 'Previous Order Size'\n",
    "p_size2.yaxis.axis_label = 'Number of Users'\n",
    "\n",
    "show(p_size2)"
   ]
  },
  {
   "cell_type": "markdown",
   "metadata": {},
   "source": [
    "# Cross-validation results"
   ]
  },
  {
   "cell_type": "markdown",
   "metadata": {},
   "source": [
    "## MLP"
   ]
  },
  {
   "cell_type": "code",
   "execution_count": 7,
   "metadata": {
    "collapsed": true
   },
   "outputs": [],
   "source": [
    "test_scores = [0.273223238,0.268352593,0.268273315,0.268010023,0.26852826,0.273200709,0.267458391,0.273462352,0.268104988,0.268226137,0.267937949,0.268119689,0.267529202,0.269416292,0.267846049,0.267441873,0.2728082582,0.268245887248,0.268024671953,0.267624619082]\n",
    "units = [10,20,30,40,30,10,40,10,20,40,40,30,50,10,60,60,10,30,40,50]\n",
    "layers = [10,20,30,40,10,30,10,40,40,20,30,40,10,50,10,20,5,5,5,5]\n",
    "\n",
    "disp2 = ['{:.4f}'.format(i) for i in test_scores]\n",
    "scale = [min((i-min(test_scores))/(max(test_scores)-min(test_scores))*120+1,18) for i in test_scores]\n",
    "\n",
    "source_mlp = ColumnDataSource(data=dict(units=units, layers=layers, test_scores=test_scores, scale=scale, disp2=disp2))"
   ]
  },
  {
   "cell_type": "code",
   "execution_count": 8,
   "metadata": {},
   "outputs": [
    {
     "data": {
      "text/html": [
       "\n",
       "<div class=\"bk-root\">\n",
       "    <div class=\"bk-plotdiv\" id=\"e37e82b8-0c37-40a7-aae4-9297dbf70788\"></div>\n",
       "</div>"
      ]
     },
     "metadata": {},
     "output_type": "display_data"
    },
    {
     "data": {
      "application/javascript": [
       "(function(root) {\n",
       "  function embed_document(root) {\n",
       "    \n",
       "  var docs_json = {\"6c3e249f-11f5-4bf3-8d4c-77930b2e9a17\":{\"roots\":{\"references\":[{\"attributes\":{\"callback\":null,\"column_names\":[\"color\",\"layers\",\"disp2\",\"units\"],\"data\":{\"color\":[\"green\"],\"disp2\":[\"0.2674\"],\"layers\":[10],\"units\":[40]}},\"id\":\"642ac923-1a27-4652-b8ae-b404f47fdede\",\"type\":\"ColumnDataSource\"},{\"attributes\":{},\"id\":\"48f4a33d-f8a2-4dbe-a3c8-103a1ec10a3e\",\"type\":\"BasicTicker\"},{\"attributes\":{\"plot\":{\"id\":\"b4a8c323-808e-4aab-a4dd-1e7d63566aa7\",\"subtype\":\"Figure\",\"type\":\"Plot\"},\"render_mode\":\"css\",\"text\":\"* points sized by AUC\",\"x\":10,\"x_units\":\"screen\",\"y\":495,\"y_units\":\"screen\"},\"id\":\"0e92e44b-612d-406a-bd6d-9d394684a829\",\"type\":\"Label\"},{\"attributes\":{\"callback\":null,\"column_names\":[\"layers\",\"test_scores\",\"disp2\",\"scale\",\"units\"],\"data\":{\"disp2\":[\"0.2732\",\"0.2684\",\"0.2683\",\"0.2680\",\"0.2685\",\"0.2732\",\"0.2675\",\"0.2735\",\"0.2681\",\"0.2682\",\"0.2679\",\"0.2681\",\"0.2675\",\"0.2694\",\"0.2678\",\"0.2674\",\"0.2728\",\"0.2682\",\"0.2680\",\"0.2676\"],\"layers\":[10,20,30,40,10,30,10,40,40,20,30,40,10,50,10,20,5,5,5,5],\"scale\":[18,18,17.57227605976227,12.32434811250043,18,18,1.3292362617662983,18,14.217187536074576,16.631925632494877,10.88777138829007,14.510207410406949,2.7406389092965764,18,9.05602344929651,1.0,18,17.025586960772245,12.616330587649365,4.642489217220662],\"test_scores\":[0.273223238,0.268352593,0.268273315,0.268010023,0.26852826,0.273200709,0.267458391,0.273462352,0.268104988,0.268226137,0.267937949,0.268119689,0.267529202,0.269416292,0.267846049,0.267441873,0.2728082582,0.268245887248,0.268024671953,0.267624619082],\"units\":[10,20,30,40,30,10,40,10,20,40,40,30,50,10,60,60,10,30,40,50]}},\"id\":\"748324d4-ca36-484d-b32f-eabee34c9784\",\"type\":\"ColumnDataSource\"},{\"attributes\":{},\"id\":\"9bc4de07-6266-49e0-8ac0-3dee0e7f4413\",\"type\":\"PanTool\"},{\"attributes\":{\"dimension\":1,\"plot\":{\"id\":\"b4a8c323-808e-4aab-a4dd-1e7d63566aa7\",\"subtype\":\"Figure\",\"type\":\"Plot\"},\"ticker\":{\"id\":\"5a4d800a-9e64-419a-8a20-e716f3c0c36b\",\"type\":\"BasicTicker\"}},\"id\":\"a611673f-a65b-464b-918b-2a6c135a488a\",\"type\":\"Grid\"},{\"attributes\":{\"axis_label\":\"Nodes\",\"formatter\":{\"id\":\"5cabcf12-612f-4108-bbdb-f5e61d991b81\",\"type\":\"BasicTickFormatter\"},\"plot\":{\"id\":\"b4a8c323-808e-4aab-a4dd-1e7d63566aa7\",\"subtype\":\"Figure\",\"type\":\"Plot\"},\"ticker\":{\"id\":\"48f4a33d-f8a2-4dbe-a3c8-103a1ec10a3e\",\"type\":\"BasicTicker\"}},\"id\":\"4f6437ca-9197-4e6e-ae62-7f73214cb915\",\"type\":\"LinearAxis\"},{\"attributes\":{\"fill_alpha\":{\"value\":0.4},\"fill_color\":{\"field\":\"color\"},\"line_alpha\":{\"value\":0.4},\"line_color\":{\"field\":\"color\"},\"size\":{\"units\":\"screen\",\"value\":30},\"x\":{\"field\":\"units\"},\"y\":{\"field\":\"layers\"}},\"id\":\"f080f43e-eb1e-49ca-8449-cd836625adc7\",\"type\":\"Square\"},{\"attributes\":{\"fill_color\":{\"value\":\"#ab0f45\"},\"line_color\":{\"value\":\"#ab0f45\"},\"size\":{\"field\":\"scale\",\"units\":\"screen\"},\"x\":{\"field\":\"units\"},\"y\":{\"field\":\"layers\"}},\"id\":\"6e4f1805-a69d-4145-9bcb-acede42c816e\",\"type\":\"Circle\"},{\"attributes\":{\"below\":[{\"id\":\"4f6437ca-9197-4e6e-ae62-7f73214cb915\",\"type\":\"LinearAxis\"}],\"left\":[{\"id\":\"3d5f75c2-7a6c-4946-9987-7a69cc49d8fc\",\"type\":\"LinearAxis\"}],\"renderers\":[{\"id\":\"4f6437ca-9197-4e6e-ae62-7f73214cb915\",\"type\":\"LinearAxis\"},{\"id\":\"8fd91e6c-8d45-47ef-94f1-41af8777bda9\",\"type\":\"Grid\"},{\"id\":\"3d5f75c2-7a6c-4946-9987-7a69cc49d8fc\",\"type\":\"LinearAxis\"},{\"id\":\"a611673f-a65b-464b-918b-2a6c135a488a\",\"type\":\"Grid\"},{\"id\":\"0a3e9cbe-8027-40a9-bbb4-3324235ac73f\",\"type\":\"GlyphRenderer\"},{\"id\":\"b210c15b-b5b5-4e69-a5b5-fe7b6f65d6a8\",\"type\":\"GlyphRenderer\"},{\"id\":\"0e92e44b-612d-406a-bd6d-9d394684a829\",\"type\":\"Label\"}],\"title\":{\"id\":\"964bbd60-5c56-4524-afe5-915b9bcb858a\",\"type\":\"Title\"},\"toolbar\":{\"id\":\"65930804-ab75-4d54-8da2-905626624370\",\"type\":\"Toolbar\"},\"x_range\":{\"id\":\"7e5974e9-e934-4cc3-bf76-53fe4485baf9\",\"type\":\"Range1d\"},\"x_scale\":{\"id\":\"81279da2-ace6-40c2-a5f1-c475d6dc034e\",\"type\":\"LinearScale\"},\"y_range\":{\"id\":\"5ed74cb1-f26c-46b4-8479-069f3faab1d5\",\"type\":\"Range1d\"},\"y_scale\":{\"id\":\"87b69316-7dec-41c3-8aa8-f51d6e975ba8\",\"type\":\"LinearScale\"}},\"id\":\"b4a8c323-808e-4aab-a4dd-1e7d63566aa7\",\"subtype\":\"Figure\",\"type\":\"Plot\"},{\"attributes\":{\"callback\":null,\"end\":60},\"id\":\"5ed74cb1-f26c-46b4-8479-069f3faab1d5\",\"type\":\"Range1d\"},{\"attributes\":{},\"id\":\"81279da2-ace6-40c2-a5f1-c475d6dc034e\",\"type\":\"LinearScale\"},{\"attributes\":{},\"id\":\"5a4d800a-9e64-419a-8a20-e716f3c0c36b\",\"type\":\"BasicTicker\"},{\"attributes\":{},\"id\":\"3e17b9fa-a7fb-469c-9980-33d256982bef\",\"type\":\"BasicTickFormatter\"},{\"attributes\":{},\"id\":\"43634eb6-9046-4050-82c2-855dd6aedd95\",\"type\":\"ResetTool\"},{\"attributes\":{\"data_source\":{\"id\":\"748324d4-ca36-484d-b32f-eabee34c9784\",\"type\":\"ColumnDataSource\"},\"glyph\":{\"id\":\"6e4f1805-a69d-4145-9bcb-acede42c816e\",\"type\":\"Circle\"},\"hover_glyph\":null,\"muted_glyph\":null,\"nonselection_glyph\":{\"id\":\"29c86b86-e987-455e-955e-ff853d937d1d\",\"type\":\"Circle\"},\"selection_glyph\":null,\"view\":{\"id\":\"7d1f7c30-1d3d-435a-aeee-a1b579e874fb\",\"type\":\"CDSView\"}},\"id\":\"0a3e9cbe-8027-40a9-bbb4-3324235ac73f\",\"type\":\"GlyphRenderer\"},{\"attributes\":{\"source\":{\"id\":\"642ac923-1a27-4652-b8ae-b404f47fdede\",\"type\":\"ColumnDataSource\"}},\"id\":\"a02a1ad8-ffc2-4ca6-8c47-0865d395ea45\",\"type\":\"CDSView\"},{\"attributes\":{\"align\":\"center\",\"plot\":null,\"text\":\"MLP Parameter Tuning\",\"text_font_size\":{\"value\":\"20px\"}},\"id\":\"964bbd60-5c56-4524-afe5-915b9bcb858a\",\"type\":\"Title\"},{\"attributes\":{\"callback\":null,\"tooltips\":[[\"RMSE\",\"@disp2\"],[\"Nodes\",\"@units\"],[\"Layers\",\"@layers\"]]},\"id\":\"f2814985-2088-4dc6-92c4-ce164810b0bb\",\"type\":\"HoverTool\"},{\"attributes\":{\"data_source\":{\"id\":\"642ac923-1a27-4652-b8ae-b404f47fdede\",\"type\":\"ColumnDataSource\"},\"glyph\":{\"id\":\"f080f43e-eb1e-49ca-8449-cd836625adc7\",\"type\":\"Square\"},\"hover_glyph\":null,\"muted_glyph\":null,\"nonselection_glyph\":{\"id\":\"811c791c-411c-4d3f-9a59-3ea05cc74743\",\"type\":\"Square\"},\"selection_glyph\":null,\"view\":{\"id\":\"a02a1ad8-ffc2-4ca6-8c47-0865d395ea45\",\"type\":\"CDSView\"}},\"id\":\"b210c15b-b5b5-4e69-a5b5-fe7b6f65d6a8\",\"type\":\"GlyphRenderer\"},{\"attributes\":{},\"id\":\"5cabcf12-612f-4108-bbdb-f5e61d991b81\",\"type\":\"BasicTickFormatter\"},{\"attributes\":{\"fill_alpha\":{\"value\":0.1},\"fill_color\":{\"value\":\"#1f77b4\"},\"line_alpha\":{\"value\":0.1},\"line_color\":{\"value\":\"#1f77b4\"},\"size\":{\"field\":\"scale\",\"units\":\"screen\"},\"x\":{\"field\":\"units\"},\"y\":{\"field\":\"layers\"}},\"id\":\"29c86b86-e987-455e-955e-ff853d937d1d\",\"type\":\"Circle\"},{\"attributes\":{},\"id\":\"7c893bdb-dd47-445d-aadc-3cbf86d16b93\",\"type\":\"WheelZoomTool\"},{\"attributes\":{\"active_drag\":\"auto\",\"active_inspect\":\"auto\",\"active_scroll\":\"auto\",\"active_tap\":\"auto\",\"tools\":[{\"id\":\"f2814985-2088-4dc6-92c4-ce164810b0bb\",\"type\":\"HoverTool\"},{\"id\":\"7c893bdb-dd47-445d-aadc-3cbf86d16b93\",\"type\":\"WheelZoomTool\"},{\"id\":\"9bc4de07-6266-49e0-8ac0-3dee0e7f4413\",\"type\":\"PanTool\"},{\"id\":\"43634eb6-9046-4050-82c2-855dd6aedd95\",\"type\":\"ResetTool\"}]},\"id\":\"65930804-ab75-4d54-8da2-905626624370\",\"type\":\"Toolbar\"},{\"attributes\":{\"axis_label\":\"Layers\",\"formatter\":{\"id\":\"3e17b9fa-a7fb-469c-9980-33d256982bef\",\"type\":\"BasicTickFormatter\"},\"plot\":{\"id\":\"b4a8c323-808e-4aab-a4dd-1e7d63566aa7\",\"subtype\":\"Figure\",\"type\":\"Plot\"},\"ticker\":{\"id\":\"5a4d800a-9e64-419a-8a20-e716f3c0c36b\",\"type\":\"BasicTicker\"}},\"id\":\"3d5f75c2-7a6c-4946-9987-7a69cc49d8fc\",\"type\":\"LinearAxis\"},{\"attributes\":{\"callback\":null,\"end\":70},\"id\":\"7e5974e9-e934-4cc3-bf76-53fe4485baf9\",\"type\":\"Range1d\"},{\"attributes\":{\"source\":{\"id\":\"748324d4-ca36-484d-b32f-eabee34c9784\",\"type\":\"ColumnDataSource\"}},\"id\":\"7d1f7c30-1d3d-435a-aeee-a1b579e874fb\",\"type\":\"CDSView\"},{\"attributes\":{\"plot\":{\"id\":\"b4a8c323-808e-4aab-a4dd-1e7d63566aa7\",\"subtype\":\"Figure\",\"type\":\"Plot\"},\"ticker\":{\"id\":\"48f4a33d-f8a2-4dbe-a3c8-103a1ec10a3e\",\"type\":\"BasicTicker\"}},\"id\":\"8fd91e6c-8d45-47ef-94f1-41af8777bda9\",\"type\":\"Grid\"},{\"attributes\":{\"fill_alpha\":{\"value\":0.1},\"fill_color\":{\"value\":\"#1f77b4\"},\"line_alpha\":{\"value\":0.1},\"line_color\":{\"value\":\"#1f77b4\"},\"size\":{\"units\":\"screen\",\"value\":30},\"x\":{\"field\":\"units\"},\"y\":{\"field\":\"layers\"}},\"id\":\"811c791c-411c-4d3f-9a59-3ea05cc74743\",\"type\":\"Square\"},{\"attributes\":{},\"id\":\"87b69316-7dec-41c3-8aa8-f51d6e975ba8\",\"type\":\"LinearScale\"}],\"root_ids\":[\"b4a8c323-808e-4aab-a4dd-1e7d63566aa7\"]},\"title\":\"Bokeh Application\",\"version\":\"0.12.13\"}};\n",
       "  var render_items = [{\"docid\":\"6c3e249f-11f5-4bf3-8d4c-77930b2e9a17\",\"elementid\":\"e37e82b8-0c37-40a7-aae4-9297dbf70788\",\"modelid\":\"b4a8c323-808e-4aab-a4dd-1e7d63566aa7\"}];\n",
       "  root.Bokeh.embed.embed_items_notebook(docs_json, render_items);\n",
       "\n",
       "  }\n",
       "  if (root.Bokeh !== undefined) {\n",
       "    embed_document(root);\n",
       "  } else {\n",
       "    var attempts = 0;\n",
       "    var timer = setInterval(function(root) {\n",
       "      if (root.Bokeh !== undefined) {\n",
       "        embed_document(root);\n",
       "        clearInterval(timer);\n",
       "      }\n",
       "      attempts++;\n",
       "      if (attempts > 100) {\n",
       "        console.log(\"Bokeh: ERROR: Unable to run BokehJS code because BokehJS library is missing\")\n",
       "        clearInterval(timer);\n",
       "      }\n",
       "    }, 10, root)\n",
       "  }\n",
       "})(window);"
      ],
      "application/vnd.bokehjs_exec.v0+json": ""
     },
     "metadata": {
      "application/vnd.bokehjs_exec.v0+json": {
       "id": "b4a8c323-808e-4aab-a4dd-1e7d63566aa7"
      }
     },
     "output_type": "display_data"
    }
   ],
   "source": [
    "from bokeh.models import Label\n",
    "\n",
    "hover = HoverTool(tooltips=[\n",
    "    (\"RMSE\", \"@disp2\"),\n",
    "    (\"Nodes\", \"@units\"),\n",
    "    (\"Layers\", \"@layers\")\n",
    "    ])\n",
    "\n",
    "p_mlp = figure(plot_height=600, plot_width=600, x_range=[0,70], y_range=[0,60], \n",
    "           tools=[hover, 'wheel_zoom,pan,reset'], title=\"MLP Parameter Tuning\")\n",
    "\n",
    "p_mlp.circle(source=source_mlp, x='units', y='layers', size='scale', color='#ab0f45')\n",
    "\n",
    "babysource_mlp = ColumnDataSource(data=dict(units=[40], layers=[10], disp2=['0.2674'], color=['green']))\n",
    "p_mlp.square('units', 'layers', size=30, color='color', alpha=0.4, source=babysource_mlp)\n",
    "\n",
    "p_mlp.xaxis.axis_label = 'Nodes'\n",
    "p_mlp.yaxis.axis_label = 'Layers'\n",
    "p_mlp.title.align = \"center\"\n",
    "p_mlp.title.text_font_size = \"20px\"\n",
    "\n",
    "citation = Label(x=10, y=495, x_units='screen', y_units='screen',\n",
    "                 text='* points sized by AUC', render_mode='css')\n",
    "\n",
    "p_mlp.add_layout(citation)\n",
    "\n",
    "show(p_mlp)"
   ]
  },
  {
   "cell_type": "markdown",
   "metadata": {},
   "source": [
    "## XGBoost"
   ]
  },
  {
   "cell_type": "code",
   "execution_count": 9,
   "metadata": {
    "collapsed": true
   },
   "outputs": [],
   "source": [
    "learning_rate = [[0.05,0.05,0.05,0.05,0.05,0.05,0.05,0.05,0.05,0.05,0.05,0.05],[0.1,0.1,0.1,0.1,0.1,0.1,0.1,0.1,0.1,0.1,0.1,0.1],[0.2,0.2,0.2,0.2,0.2,0.2,0.2,0.2,0.2,0.2,0.2,0.2,]]\n",
    "n_tree = [40,40,40,140,140,140,240,240,240,340,340,340]\n",
    "depth = [5,10,15,5,10,15,5,10,15,5,10,15]\n",
    "\n",
    "test_scores =[0.272747516,0.270945475,0.271032318,0.265477977,0.264535903,0.265742237,0.265084157,0.264508324,0.265742237,0.264891058,0.264508324,0.265742237,0.266136178,0.264920637,0.266208122,0.265052263,0.264704484,0.266417481,0.264751236,0.264704484,0.266417481,0.264689308,0.264704484,0.266417481,0.265478048,0.26494173,0.267652538,0.264842843,0.26515672,0.267652538,0.264685497,0.26515672,0.267652538,0.264685497,0.26515672,0.267652538]\n",
    "\n",
    "disp2 = ['{:.4f}'.format(i) for i in test_scores]\n",
    "\n",
    "scale = [min((i-min(test_scores))/(max(test_scores)-min(test_scores))*120+1,18) for i in test_scores]\n",
    "\n",
    "source_xgb1 = ColumnDataSource(data=dict(\n",
    "    learning_rate=learning_rate[1], n_tree=n_tree, depth=depth, test_scores=test_scores[12:24], \n",
    "    disp2=disp2[12:24], scale=scale[12:24], disp=[str(i) for i in learning_rate[1]]))\n",
    "\n",
    "source_xgb2 = ColumnDataSource(data=dict(\n",
    "    learning_rate=learning_rate[2], n_tree=n_tree, depth=depth, test_scores=test_scores[24:], \n",
    "    disp2=disp2[24:], scale=scale[24:], disp=[str(i) for i in learning_rate[2]]))\n",
    "\n",
    "source_xgb05 = ColumnDataSource(data=dict(\n",
    "    learning_rate=learning_rate[0], n_tree=n_tree, depth=depth, test_scores=test_scores[:12], \n",
    "    disp2=disp2[:12], scale=scale[:12], disp=[str(i) for i in learning_rate[0]]))"
   ]
  },
  {
   "cell_type": "code",
   "execution_count": 10,
   "metadata": {
    "scrolled": false
   },
   "outputs": [
    {
     "data": {
      "text/html": [
       "\n",
       "<div class=\"bk-root\">\n",
       "    <div class=\"bk-plotdiv\" id=\"50b36a74-23ce-441a-8c08-45681d5d9115\"></div>\n",
       "</div>"
      ]
     },
     "metadata": {},
     "output_type": "display_data"
    },
    {
     "data": {
      "application/javascript": [
       "(function(root) {\n",
       "  function embed_document(root) {\n",
       "    \n",
       "  var docs_json = {\"a2a69017-a7da-43d1-b1bc-d4adb7d8182a\":{\"roots\":{\"references\":[{\"attributes\":{\"child\":{\"id\":\"a0c41e1d-2049-46c3-aa82-84d1f15e62ff\",\"subtype\":\"Figure\",\"type\":\"Plot\"},\"title\":\"Learning rate=0.2\"},\"id\":\"9af09389-4411-43d9-b8dc-fb76143bd568\",\"type\":\"Panel\"},{\"attributes\":{\"below\":[{\"id\":\"32832b1f-6809-4160-b53f-03aaacf99912\",\"type\":\"LinearAxis\"}],\"left\":[{\"id\":\"4655fbf8-7b2b-4fc8-bf96-bd5d961fcbea\",\"type\":\"LinearAxis\"}],\"renderers\":[{\"id\":\"32832b1f-6809-4160-b53f-03aaacf99912\",\"type\":\"LinearAxis\"},{\"id\":\"0e29cde1-5e58-4c20-b3b4-4fc1c9e53c4e\",\"type\":\"Grid\"},{\"id\":\"4655fbf8-7b2b-4fc8-bf96-bd5d961fcbea\",\"type\":\"LinearAxis\"},{\"id\":\"c2b854e0-a5fa-40ce-bbcb-ec01a52b4f2d\",\"type\":\"Grid\"},{\"id\":\"1d542307-2ab7-4305-be61-82665bc0900a\",\"type\":\"GlyphRenderer\"},{\"id\":\"afd88d31-9c8b-41d7-9f12-31182401c81d\",\"type\":\"Label\"},{\"id\":\"48a5735c-7c0d-4acf-b33e-b67b6ada10ff\",\"type\":\"Label\"}],\"title\":{\"id\":\"772612fb-1016-4d51-9de2-206efffd4641\",\"type\":\"Title\"},\"toolbar\":{\"id\":\"fd51ceaa-47b1-484d-8bf3-a1ed605a9556\",\"type\":\"Toolbar\"},\"x_range\":{\"id\":\"1520781f-b528-42d1-abd2-f45705d433c3\",\"type\":\"Range1d\"},\"x_scale\":{\"id\":\"d8ebe987-fab5-42aa-9401-070b15c99c6f\",\"type\":\"LinearScale\"},\"y_range\":{\"id\":\"34223728-e50f-4d37-bf34-652331559217\",\"type\":\"Range1d\"},\"y_scale\":{\"id\":\"e7c5f6b2-e6da-467f-8578-7f962061c7f3\",\"type\":\"LinearScale\"}},\"id\":\"a0c41e1d-2049-46c3-aa82-84d1f15e62ff\",\"subtype\":\"Figure\",\"type\":\"Plot\"},{\"attributes\":{\"callback\":null,\"column_names\":[\"disp\",\"depth\",\"n_tree\",\"color\",\"learning_rate\",\"disp2\"],\"data\":{\"color\":[\"green\"],\"depth\":[10],\"disp\":[\".05\"],\"disp2\":[\"0.2645\"],\"learning_rate\":[0.05],\"n_tree\":[240]}},\"id\":\"8c01cc57-9cc7-4641-91f2-54443def3932\",\"type\":\"ColumnDataSource\"},{\"attributes\":{\"plot\":{\"id\":\"7523f60c-f514-46f3-b7ef-7b97a51bc1e1\",\"subtype\":\"Figure\",\"type\":\"Plot\"},\"render_mode\":\"css\",\"text\":\"Learning rate=0.05\",\"x\":10,\"x_units\":\"screen\",\"y\":5,\"y_units\":\"screen\"},\"id\":\"4e60890e-7262-4a9a-9265-3a8e492d3bbc\",\"type\":\"Label\"},{\"attributes\":{\"source\":{\"id\":\"ec2892da-76b5-4b2f-82de-973068d846ac\",\"type\":\"ColumnDataSource\"}},\"id\":\"0cb81d1b-9af9-4125-9321-4d66b77dcef7\",\"type\":\"CDSView\"},{\"attributes\":{},\"id\":\"857240d4-6785-4f4c-82b3-9c20a4fa3683\",\"type\":\"BasicTickFormatter\"},{\"attributes\":{\"callback\":null,\"end\":380},\"id\":\"34223728-e50f-4d37-bf34-652331559217\",\"type\":\"Range1d\"},{\"attributes\":{\"source\":{\"id\":\"b7917536-f791-4371-b49f-fcf8393771cb\",\"type\":\"ColumnDataSource\"}},\"id\":\"b2ee4601-8e4e-41f3-8022-0e127ef4fbf3\",\"type\":\"CDSView\"},{\"attributes\":{\"fill_alpha\":{\"value\":0.1},\"fill_color\":{\"value\":\"#1f77b4\"},\"line_alpha\":{\"value\":0.1},\"line_color\":{\"value\":\"#1f77b4\"},\"size\":{\"field\":\"scale\",\"units\":\"screen\"},\"x\":{\"field\":\"depth\"},\"y\":{\"field\":\"n_tree\"}},\"id\":\"673d5857-c979-4569-90c2-264aaabe33ea\",\"type\":\"Circle\"},{\"attributes\":{},\"id\":\"f8aae852-9439-4307-a79e-60d7a2ece341\",\"type\":\"ResetTool\"},{\"attributes\":{\"callback\":null,\"column_names\":[\"disp\",\"test_scores\",\"depth\",\"scale\",\"n_tree\",\"learning_rate\",\"disp2\"],\"data\":{\"depth\":[5,10,15,5,10,15,5,10,15,5,10,15],\"disp\":[\"0.05\",\"0.05\",\"0.05\",\"0.05\",\"0.05\",\"0.05\",\"0.05\",\"0.05\",\"0.05\",\"0.05\",\"0.05\",\"0.05\"],\"disp2\":[\"0.2727\",\"0.2709\",\"0.2710\",\"0.2655\",\"0.2645\",\"0.2657\",\"0.2651\",\"0.2645\",\"0.2657\",\"0.2649\",\"0.2645\",\"0.2657\"],\"learning_rate\":[0.05,0.05,0.05,0.05,0.05,0.05,0.05,0.05,0.05,0.05,0.05,0.05],\"n_tree\":[40,40,40,140,140,140,240,240,240,340,340,340],\"scale\":[18,18,18,15.122545026259253,1.4016753099090267,18,9.386739864782415,1.0,18,6.574342726811008,1.0,18],\"test_scores\":[0.272747516,0.270945475,0.271032318,0.265477977,0.264535903,0.265742237,0.265084157,0.264508324,0.265742237,0.264891058,0.264508324,0.265742237]}},\"id\":\"460075af-9c8c-4504-bf9b-0034fbd5d5c9\",\"type\":\"ColumnDataSource\"},{\"attributes\":{\"fill_alpha\":{\"value\":0.4},\"fill_color\":{\"field\":\"color\"},\"line_alpha\":{\"value\":0.4},\"line_color\":{\"field\":\"color\"},\"size\":{\"units\":\"screen\",\"value\":30},\"x\":{\"field\":\"depth\"},\"y\":{\"field\":\"n_tree\"}},\"id\":\"fcedab00-986b-4f31-aeeb-ae798afafc10\",\"type\":\"Square\"},{\"attributes\":{\"child\":{\"id\":\"e28045a7-d40f-4bef-bacf-6e6c5b294f8e\",\"subtype\":\"Figure\",\"type\":\"Plot\"},\"title\":\"Learning rate=0.1\"},\"id\":\"fc243c67-4b6e-431e-84fb-fb43605cf7cc\",\"type\":\"Panel\"},{\"attributes\":{\"fill_alpha\":{\"value\":0.1},\"fill_color\":{\"value\":\"#1f77b4\"},\"line_alpha\":{\"value\":0.1},\"line_color\":{\"value\":\"#1f77b4\"},\"size\":{\"field\":\"scale\",\"units\":\"screen\"},\"x\":{\"field\":\"depth\"},\"y\":{\"field\":\"n_tree\"}},\"id\":\"f58da448-dcdd-4822-a34e-b5d9b0b9a0a0\",\"type\":\"Circle\"},{\"attributes\":{\"callback\":null,\"end\":380},\"id\":\"5543bdd7-e3f7-402a-8c0a-5751fad15ab9\",\"type\":\"Range1d\"},{\"attributes\":{},\"id\":\"3889ae5e-2d0b-470a-83c4-6e2cdce641aa\",\"type\":\"BasicTicker\"},{\"attributes\":{\"source\":{\"id\":\"8c01cc57-9cc7-4641-91f2-54443def3932\",\"type\":\"ColumnDataSource\"}},\"id\":\"ee73dae4-7170-4f35-9615-f5143e9854ea\",\"type\":\"CDSView\"},{\"attributes\":{},\"id\":\"8596ce0d-b28d-4a91-af88-f226d3983eb2\",\"type\":\"BasicTickFormatter\"},{\"attributes\":{},\"id\":\"ca02d4cd-bab2-4261-87f3-1c641f6a44d7\",\"type\":\"BasicTickFormatter\"},{\"attributes\":{\"plot\":{\"id\":\"7523f60c-f514-46f3-b7ef-7b97a51bc1e1\",\"subtype\":\"Figure\",\"type\":\"Plot\"},\"render_mode\":\"css\",\"text\":\"* points sized by AUC\",\"x\":10,\"x_units\":\"screen\",\"y\":495,\"y_units\":\"screen\"},\"id\":\"0e78ee3f-2640-4bcb-91fb-7a7818fbce71\",\"type\":\"Label\"},{\"attributes\":{\"data_source\":{\"id\":\"460075af-9c8c-4504-bf9b-0034fbd5d5c9\",\"type\":\"ColumnDataSource\"},\"glyph\":{\"id\":\"86e71b40-0877-4cb3-9253-574ec012e5bc\",\"type\":\"Circle\"},\"hover_glyph\":null,\"muted_glyph\":null,\"nonselection_glyph\":{\"id\":\"f58da448-dcdd-4822-a34e-b5d9b0b9a0a0\",\"type\":\"Circle\"},\"selection_glyph\":null,\"view\":{\"id\":\"c75824e8-7b9e-475f-b405-cacb1a154ee3\",\"type\":\"CDSView\"}},\"id\":\"df28f58f-c458-4b1d-8730-7a24b7379090\",\"type\":\"GlyphRenderer\"},{\"attributes\":{\"active_drag\":\"auto\",\"active_inspect\":\"auto\",\"active_scroll\":\"auto\",\"active_tap\":\"auto\",\"tools\":[{\"id\":\"990af05e-152a-4598-997e-721f9a475a32\",\"type\":\"HoverTool\"},{\"id\":\"20678852-7bb3-47a4-ab32-09a4dde34ea9\",\"type\":\"WheelZoomTool\"},{\"id\":\"4fe315fc-1371-4b95-a488-f5daa52fd9a4\",\"type\":\"PanTool\"},{\"id\":\"f8aae852-9439-4307-a79e-60d7a2ece341\",\"type\":\"ResetTool\"}]},\"id\":\"14e580ac-2481-4bab-b1ac-3452f77e0e34\",\"type\":\"Toolbar\"},{\"attributes\":{\"callback\":null,\"end\":380},\"id\":\"b6dd4763-28fe-43b9-86d1-90cf87a86139\",\"type\":\"Range1d\"},{\"attributes\":{},\"id\":\"a2a3f9ed-bbde-4d6d-bcc8-dda3a0164b7c\",\"type\":\"BasicTickFormatter\"},{\"attributes\":{},\"id\":\"6ab4f740-395e-4f0c-84c2-7207340af531\",\"type\":\"BasicTicker\"},{\"attributes\":{\"axis_label\":\"# of trees\",\"formatter\":{\"id\":\"857240d4-6785-4f4c-82b3-9c20a4fa3683\",\"type\":\"BasicTickFormatter\"},\"plot\":{\"id\":\"e28045a7-d40f-4bef-bacf-6e6c5b294f8e\",\"subtype\":\"Figure\",\"type\":\"Plot\"},\"ticker\":{\"id\":\"eaea15a3-36c8-4c0f-9be4-377bbb9e71ab\",\"type\":\"BasicTicker\"}},\"id\":\"4d547e3b-f2b2-4af6-bd3e-e731723d94db\",\"type\":\"LinearAxis\"},{\"attributes\":{\"axis_label\":\"Tree depth\",\"formatter\":{\"id\":\"8596ce0d-b28d-4a91-af88-f226d3983eb2\",\"type\":\"BasicTickFormatter\"},\"plot\":{\"id\":\"7523f60c-f514-46f3-b7ef-7b97a51bc1e1\",\"subtype\":\"Figure\",\"type\":\"Plot\"},\"ticker\":{\"id\":\"6ab4f740-395e-4f0c-84c2-7207340af531\",\"type\":\"BasicTicker\"}},\"id\":\"2db4afae-e3ef-4ec6-ab22-848645e18455\",\"type\":\"LinearAxis\"},{\"attributes\":{\"align\":\"center\",\"plot\":null,\"text\":\"XGBoost Parameter Tuning\",\"text_font_size\":{\"value\":\"20px\"}},\"id\":\"4d7ad9ba-c51d-4938-8f24-e7a97cc53027\",\"type\":\"Title\"},{\"attributes\":{},\"id\":\"e7c5f6b2-e6da-467f-8578-7f962061c7f3\",\"type\":\"LinearScale\"},{\"attributes\":{\"align\":\"center\",\"plot\":null,\"text\":\"XGBoost Parameter Tuning\",\"text_font_size\":{\"value\":\"20px\"}},\"id\":\"a28ba936-c38d-468d-8c64-0a241d7bb788\",\"type\":\"Title\"},{\"attributes\":{},\"id\":\"870aac9a-d31c-40bd-b443-e46f6a00e466\",\"type\":\"PanTool\"},{\"attributes\":{\"callback\":null,\"end\":20},\"id\":\"ecafbb9f-cd73-4566-959f-cc515731b353\",\"type\":\"Range1d\"},{\"attributes\":{\"fill_alpha\":{\"value\":0.1},\"fill_color\":{\"value\":\"#1f77b4\"},\"line_alpha\":{\"value\":0.1},\"line_color\":{\"value\":\"#1f77b4\"},\"size\":{\"field\":\"scale\",\"units\":\"screen\"},\"x\":{\"field\":\"depth\"},\"y\":{\"field\":\"n_tree\"}},\"id\":\"9cdf9b25-df69-46c4-bf11-a65b8182acdd\",\"type\":\"Circle\"},{\"attributes\":{},\"id\":\"5a40c277-620a-4cb8-9926-bf098527ca0d\",\"type\":\"BasicTickFormatter\"},{\"attributes\":{\"fill_color\":{\"value\":\"#f46d43\"},\"line_color\":{\"value\":\"#f46d43\"},\"size\":{\"field\":\"scale\",\"units\":\"screen\"},\"x\":{\"field\":\"depth\"},\"y\":{\"field\":\"n_tree\"}},\"id\":\"ac1dc5f7-2d14-4c5f-8d66-b0a82247f9cc\",\"type\":\"Circle\"},{\"attributes\":{\"fill_color\":{\"value\":\"#f46d43\"},\"line_color\":{\"value\":\"#f46d43\"},\"size\":{\"field\":\"scale\",\"units\":\"screen\"},\"x\":{\"field\":\"depth\"},\"y\":{\"field\":\"n_tree\"}},\"id\":\"86e71b40-0877-4cb3-9253-574ec012e5bc\",\"type\":\"Circle\"},{\"attributes\":{\"callback\":null,\"end\":20},\"id\":\"361f8162-3161-412f-96b0-06e0869b6e80\",\"type\":\"Range1d\"},{\"attributes\":{\"callback\":null,\"column_names\":[\"disp\",\"test_scores\",\"depth\",\"scale\",\"n_tree\",\"learning_rate\",\"disp2\"],\"data\":{\"depth\":[5,10,15,5,10,15,5,10,15,5,10,15],\"disp\":[\"0.1\",\"0.1\",\"0.1\",\"0.1\",\"0.1\",\"0.1\",\"0.1\",\"0.1\",\"0.1\",\"0.1\",\"0.1\",\"0.1\"],\"disp2\":[\"0.2661\",\"0.2649\",\"0.2662\",\"0.2651\",\"0.2647\",\"0.2664\",\"0.2648\",\"0.2647\",\"0.2664\",\"0.2647\",\"0.2647\",\"0.2664\"],\"learning_rate\":[0.1,0.1,0.1,0.1,0.1,0.1,0.1,0.1,0.1,0.1,0.1,0.1],\"n_tree\":[40,40,40,140,140,140,240,240,240,340,340,340],\"scale\":[18,7.005147106657991,18,8.922218586482648,3.8569791795117867,18,4.537900318380499,3.8569791795117867,18,3.6359477968227227,3.8569791795117867,18],\"test_scores\":[0.266136178,0.264920637,0.266208122,0.265052263,0.264704484,0.266417481,0.264751236,0.264704484,0.266417481,0.264689308,0.264704484,0.266417481]}},\"id\":\"ec2892da-76b5-4b2f-82de-973068d846ac\",\"type\":\"ColumnDataSource\"},{\"attributes\":{},\"id\":\"eaea15a3-36c8-4c0f-9be4-377bbb9e71ab\",\"type\":\"BasicTicker\"},{\"attributes\":{\"callback\":null,\"column_names\":[\"disp\",\"test_scores\",\"depth\",\"scale\",\"n_tree\",\"learning_rate\",\"disp2\"],\"data\":{\"depth\":[5,10,15,5,10,15,5,10,15,5,10,15],\"disp\":[\"0.2\",\"0.2\",\"0.2\",\"0.2\",\"0.2\",\"0.2\",\"0.2\",\"0.2\",\"0.2\",\"0.2\",\"0.2\",\"0.2\"],\"disp2\":[\"0.2655\",\"0.2649\",\"0.2677\",\"0.2648\",\"0.2652\",\"0.2677\",\"0.2647\",\"0.2652\",\"0.2677\",\"0.2647\",\"0.2652\",\"0.2677\"],\"learning_rate\":[0.2,0.2,0.2,0.2,0.2,0.2,0.2,0.2,0.2,0.2,0.2,0.2],\"n_tree\":[40,40,40,140,140,140,240,240,240,340,340,340],\"scale\":[15.123579108242716,7.31235684275792,18,5.872113673282196,10.443586215735644,18,3.5804423540557107,10.443586215735644,18,3.5804423540557107,10.443586215735644,18],\"test_scores\":[0.265478048,0.26494173,0.267652538,0.264842843,0.26515672,0.267652538,0.264685497,0.26515672,0.267652538,0.264685497,0.26515672,0.267652538]}},\"id\":\"b7917536-f791-4371-b49f-fcf8393771cb\",\"type\":\"ColumnDataSource\"},{\"attributes\":{},\"id\":\"d8ebe987-fab5-42aa-9401-070b15c99c6f\",\"type\":\"LinearScale\"},{\"attributes\":{\"source\":{\"id\":\"460075af-9c8c-4504-bf9b-0034fbd5d5c9\",\"type\":\"ColumnDataSource\"}},\"id\":\"c75824e8-7b9e-475f-b405-cacb1a154ee3\",\"type\":\"CDSView\"},{\"attributes\":{\"child\":{\"id\":\"7523f60c-f514-46f3-b7ef-7b97a51bc1e1\",\"subtype\":\"Figure\",\"type\":\"Plot\"},\"title\":\"Learning rate=0.05\"},\"id\":\"57aaf042-b0c5-4fac-8547-73c13048f141\",\"type\":\"Panel\"},{\"attributes\":{\"plot\":{\"id\":\"e28045a7-d40f-4bef-bacf-6e6c5b294f8e\",\"subtype\":\"Figure\",\"type\":\"Plot\"},\"ticker\":{\"id\":\"f37c8aaf-7dbb-4b19-b018-facdcece363f\",\"type\":\"BasicTicker\"}},\"id\":\"1c3547cc-2104-4611-9d3e-552308db362b\",\"type\":\"Grid\"},{\"attributes\":{\"axis_label\":\"Tree depth\",\"formatter\":{\"id\":\"263c5d44-638e-4c24-9cb6-95e8c543e6df\",\"type\":\"BasicTickFormatter\"},\"plot\":{\"id\":\"e28045a7-d40f-4bef-bacf-6e6c5b294f8e\",\"subtype\":\"Figure\",\"type\":\"Plot\"},\"ticker\":{\"id\":\"f37c8aaf-7dbb-4b19-b018-facdcece363f\",\"type\":\"BasicTicker\"}},\"id\":\"25280dfc-6497-4da0-a24f-8ba98815a0ca\",\"type\":\"LinearAxis\"},{\"attributes\":{\"plot\":{\"id\":\"7523f60c-f514-46f3-b7ef-7b97a51bc1e1\",\"subtype\":\"Figure\",\"type\":\"Plot\"},\"ticker\":{\"id\":\"6ab4f740-395e-4f0c-84c2-7207340af531\",\"type\":\"BasicTicker\"}},\"id\":\"332c1df0-feaf-48e7-9566-455e25b5ba3d\",\"type\":\"Grid\"},{\"attributes\":{\"dimension\":1,\"plot\":{\"id\":\"a0c41e1d-2049-46c3-aa82-84d1f15e62ff\",\"subtype\":\"Figure\",\"type\":\"Plot\"},\"ticker\":{\"id\":\"833a5139-ea6f-4ef6-a737-a9fdf594c6f5\",\"type\":\"BasicTicker\"}},\"id\":\"c2b854e0-a5fa-40ce-bbcb-ec01a52b4f2d\",\"type\":\"Grid\"},{\"attributes\":{},\"id\":\"f4ad8451-b8e0-42aa-b17e-22769f507e63\",\"type\":\"LinearScale\"},{\"attributes\":{},\"id\":\"c4e4d31e-b430-4327-aaed-885a70d69c1b\",\"type\":\"LinearScale\"},{\"attributes\":{},\"id\":\"833a5139-ea6f-4ef6-a737-a9fdf594c6f5\",\"type\":\"BasicTicker\"},{\"attributes\":{\"fill_color\":{\"value\":\"#f46d43\"},\"line_color\":{\"value\":\"#f46d43\"},\"size\":{\"field\":\"scale\",\"units\":\"screen\"},\"x\":{\"field\":\"depth\"},\"y\":{\"field\":\"n_tree\"}},\"id\":\"a857411b-e082-4f5e-a89c-ad7ed096ce4b\",\"type\":\"Circle\"},{\"attributes\":{\"callback\":null,\"end\":20},\"id\":\"1520781f-b528-42d1-abd2-f45705d433c3\",\"type\":\"Range1d\"},{\"attributes\":{\"dimension\":1,\"plot\":{\"id\":\"e28045a7-d40f-4bef-bacf-6e6c5b294f8e\",\"subtype\":\"Figure\",\"type\":\"Plot\"},\"ticker\":{\"id\":\"eaea15a3-36c8-4c0f-9be4-377bbb9e71ab\",\"type\":\"BasicTicker\"}},\"id\":\"aad8e686-a9ed-4163-95d6-8ef2b8f165cc\",\"type\":\"Grid\"},{\"attributes\":{\"plot\":{\"id\":\"a0c41e1d-2049-46c3-aa82-84d1f15e62ff\",\"subtype\":\"Figure\",\"type\":\"Plot\"},\"ticker\":{\"id\":\"1b247c71-bfb8-4b9a-a593-783bbdf719b3\",\"type\":\"BasicTicker\"}},\"id\":\"0e29cde1-5e58-4c20-b3b4-4fc1c9e53c4e\",\"type\":\"Grid\"},{\"attributes\":{},\"id\":\"263c5d44-638e-4c24-9cb6-95e8c543e6df\",\"type\":\"BasicTickFormatter\"},{\"attributes\":{\"plot\":{\"id\":\"e28045a7-d40f-4bef-bacf-6e6c5b294f8e\",\"subtype\":\"Figure\",\"type\":\"Plot\"},\"render_mode\":\"css\",\"text\":\"Learning rate=0.1\",\"x\":10,\"x_units\":\"screen\",\"y\":5,\"y_units\":\"screen\"},\"id\":\"da5da137-bd64-4808-9c40-1c017d5c8f73\",\"type\":\"Label\"},{\"attributes\":{\"plot\":{\"id\":\"a0c41e1d-2049-46c3-aa82-84d1f15e62ff\",\"subtype\":\"Figure\",\"type\":\"Plot\"},\"render_mode\":\"css\",\"text\":\"* points sized by AUC\",\"x\":10,\"x_units\":\"screen\",\"y\":495,\"y_units\":\"screen\"},\"id\":\"afd88d31-9c8b-41d7-9f12-31182401c81d\",\"type\":\"Label\"},{\"attributes\":{\"data_source\":{\"id\":\"ec2892da-76b5-4b2f-82de-973068d846ac\",\"type\":\"ColumnDataSource\"},\"glyph\":{\"id\":\"ac1dc5f7-2d14-4c5f-8d66-b0a82247f9cc\",\"type\":\"Circle\"},\"hover_glyph\":null,\"muted_glyph\":null,\"nonselection_glyph\":{\"id\":\"9cdf9b25-df69-46c4-bf11-a65b8182acdd\",\"type\":\"Circle\"},\"selection_glyph\":null,\"view\":{\"id\":\"0cb81d1b-9af9-4125-9321-4d66b77dcef7\",\"type\":\"CDSView\"}},\"id\":\"729b5b05-668f-40ce-84c9-da0ede18a358\",\"type\":\"GlyphRenderer\"},{\"attributes\":{\"axis_label\":\"# of trees\",\"formatter\":{\"id\":\"ca02d4cd-bab2-4261-87f3-1c641f6a44d7\",\"type\":\"BasicTickFormatter\"},\"plot\":{\"id\":\"a0c41e1d-2049-46c3-aa82-84d1f15e62ff\",\"subtype\":\"Figure\",\"type\":\"Plot\"},\"ticker\":{\"id\":\"833a5139-ea6f-4ef6-a737-a9fdf594c6f5\",\"type\":\"BasicTicker\"}},\"id\":\"4655fbf8-7b2b-4fc8-bf96-bd5d961fcbea\",\"type\":\"LinearAxis\"},{\"attributes\":{},\"id\":\"fb99a987-ffc1-495c-aeb8-c4be8d7fc162\",\"type\":\"PanTool\"},{\"attributes\":{\"callback\":null,\"tabs\":[{\"id\":\"57aaf042-b0c5-4fac-8547-73c13048f141\",\"type\":\"Panel\"},{\"id\":\"fc243c67-4b6e-431e-84fb-fb43605cf7cc\",\"type\":\"Panel\"},{\"id\":\"9af09389-4411-43d9-b8dc-fb76143bd568\",\"type\":\"Panel\"}]},\"id\":\"fb8ef2ba-094c-45ae-af3a-16ad74ff05fd\",\"type\":\"Tabs\"},{\"attributes\":{\"plot\":{\"id\":\"a0c41e1d-2049-46c3-aa82-84d1f15e62ff\",\"subtype\":\"Figure\",\"type\":\"Plot\"},\"render_mode\":\"css\",\"text\":\"Learning rate=0.2\",\"x\":10,\"x_units\":\"screen\",\"y\":5,\"y_units\":\"screen\"},\"id\":\"48a5735c-7c0d-4acf-b33e-b67b6ada10ff\",\"type\":\"Label\"},{\"attributes\":{\"axis_label\":\"# of trees\",\"formatter\":{\"id\":\"5a40c277-620a-4cb8-9926-bf098527ca0d\",\"type\":\"BasicTickFormatter\"},\"plot\":{\"id\":\"7523f60c-f514-46f3-b7ef-7b97a51bc1e1\",\"subtype\":\"Figure\",\"type\":\"Plot\"},\"ticker\":{\"id\":\"3889ae5e-2d0b-470a-83c4-6e2cdce641aa\",\"type\":\"BasicTicker\"}},\"id\":\"614027b4-bcc5-4262-9be4-c7b00f43f7c5\",\"type\":\"LinearAxis\"},{\"attributes\":{},\"id\":\"360b5ea7-7a19-4abb-b0a3-9d09ba90a54f\",\"type\":\"ResetTool\"},{\"attributes\":{\"below\":[{\"id\":\"2db4afae-e3ef-4ec6-ab22-848645e18455\",\"type\":\"LinearAxis\"}],\"left\":[{\"id\":\"614027b4-bcc5-4262-9be4-c7b00f43f7c5\",\"type\":\"LinearAxis\"}],\"renderers\":[{\"id\":\"2db4afae-e3ef-4ec6-ab22-848645e18455\",\"type\":\"LinearAxis\"},{\"id\":\"332c1df0-feaf-48e7-9566-455e25b5ba3d\",\"type\":\"Grid\"},{\"id\":\"614027b4-bcc5-4262-9be4-c7b00f43f7c5\",\"type\":\"LinearAxis\"},{\"id\":\"66cdcc55-c0ad-4b71-813d-26824193a70d\",\"type\":\"Grid\"},{\"id\":\"df28f58f-c458-4b1d-8730-7a24b7379090\",\"type\":\"GlyphRenderer\"},{\"id\":\"bffe3ad4-562d-4e1c-9e6b-914ff16dc57e\",\"type\":\"GlyphRenderer\"},{\"id\":\"0e78ee3f-2640-4bcb-91fb-7a7818fbce71\",\"type\":\"Label\"},{\"id\":\"4e60890e-7262-4a9a-9265-3a8e492d3bbc\",\"type\":\"Label\"}],\"title\":{\"id\":\"4d7ad9ba-c51d-4938-8f24-e7a97cc53027\",\"type\":\"Title\"},\"toolbar\":{\"id\":\"14e580ac-2481-4bab-b1ac-3452f77e0e34\",\"type\":\"Toolbar\"},\"x_range\":{\"id\":\"ecafbb9f-cd73-4566-959f-cc515731b353\",\"type\":\"Range1d\"},\"x_scale\":{\"id\":\"f4ad8451-b8e0-42aa-b17e-22769f507e63\",\"type\":\"LinearScale\"},\"y_range\":{\"id\":\"5543bdd7-e3f7-402a-8c0a-5751fad15ab9\",\"type\":\"Range1d\"},\"y_scale\":{\"id\":\"c4e4d31e-b430-4327-aaed-885a70d69c1b\",\"type\":\"LinearScale\"}},\"id\":\"7523f60c-f514-46f3-b7ef-7b97a51bc1e1\",\"subtype\":\"Figure\",\"type\":\"Plot\"},{\"attributes\":{\"data_source\":{\"id\":\"8c01cc57-9cc7-4641-91f2-54443def3932\",\"type\":\"ColumnDataSource\"},\"glyph\":{\"id\":\"fcedab00-986b-4f31-aeeb-ae798afafc10\",\"type\":\"Square\"},\"hover_glyph\":null,\"muted_glyph\":null,\"nonselection_glyph\":{\"id\":\"80fb2f61-98f8-42ac-8fd2-d1f97f31bba2\",\"type\":\"Square\"},\"selection_glyph\":null,\"view\":{\"id\":\"ee73dae4-7170-4f35-9615-f5143e9854ea\",\"type\":\"CDSView\"}},\"id\":\"bffe3ad4-562d-4e1c-9e6b-914ff16dc57e\",\"type\":\"GlyphRenderer\"},{\"attributes\":{\"below\":[{\"id\":\"25280dfc-6497-4da0-a24f-8ba98815a0ca\",\"type\":\"LinearAxis\"}],\"left\":[{\"id\":\"4d547e3b-f2b2-4af6-bd3e-e731723d94db\",\"type\":\"LinearAxis\"}],\"renderers\":[{\"id\":\"25280dfc-6497-4da0-a24f-8ba98815a0ca\",\"type\":\"LinearAxis\"},{\"id\":\"1c3547cc-2104-4611-9d3e-552308db362b\",\"type\":\"Grid\"},{\"id\":\"4d547e3b-f2b2-4af6-bd3e-e731723d94db\",\"type\":\"LinearAxis\"},{\"id\":\"aad8e686-a9ed-4163-95d6-8ef2b8f165cc\",\"type\":\"Grid\"},{\"id\":\"729b5b05-668f-40ce-84c9-da0ede18a358\",\"type\":\"GlyphRenderer\"},{\"id\":\"838f27a0-35a5-43ce-bbc7-bbb323eab40c\",\"type\":\"Label\"},{\"id\":\"da5da137-bd64-4808-9c40-1c017d5c8f73\",\"type\":\"Label\"}],\"title\":{\"id\":\"a28ba936-c38d-468d-8c64-0a241d7bb788\",\"type\":\"Title\"},\"toolbar\":{\"id\":\"6b210795-69cf-4081-a78f-fe68cd02a394\",\"type\":\"Toolbar\"},\"x_range\":{\"id\":\"361f8162-3161-412f-96b0-06e0869b6e80\",\"type\":\"Range1d\"},\"x_scale\":{\"id\":\"c964438e-581e-4f2c-ac55-a37dff7e12d8\",\"type\":\"LinearScale\"},\"y_range\":{\"id\":\"b6dd4763-28fe-43b9-86d1-90cf87a86139\",\"type\":\"Range1d\"},\"y_scale\":{\"id\":\"7ec6fd36-fec3-4fb8-8dbb-d6aa48857c82\",\"type\":\"LinearScale\"}},\"id\":\"e28045a7-d40f-4bef-bacf-6e6c5b294f8e\",\"subtype\":\"Figure\",\"type\":\"Plot\"},{\"attributes\":{},\"id\":\"af508ef5-b839-4f8d-bd92-dc92fb3310d4\",\"type\":\"WheelZoomTool\"},{\"attributes\":{},\"id\":\"20678852-7bb3-47a4-ab32-09a4dde34ea9\",\"type\":\"WheelZoomTool\"},{\"attributes\":{},\"id\":\"7ec6fd36-fec3-4fb8-8dbb-d6aa48857c82\",\"type\":\"LinearScale\"},{\"attributes\":{\"callback\":null,\"tooltips\":[[\"RMSE\",\"@disp2\"],[\"# of trees\",\"@n_tree\"],[\"Tree depth\",\"@depth\"]]},\"id\":\"990af05e-152a-4598-997e-721f9a475a32\",\"type\":\"HoverTool\"},{\"attributes\":{},\"id\":\"4fe315fc-1371-4b95-a488-f5daa52fd9a4\",\"type\":\"PanTool\"},{\"attributes\":{},\"id\":\"f37c8aaf-7dbb-4b19-b018-facdcece363f\",\"type\":\"BasicTicker\"},{\"attributes\":{\"active_drag\":\"auto\",\"active_inspect\":\"auto\",\"active_scroll\":\"auto\",\"active_tap\":\"auto\",\"tools\":[{\"id\":\"990af05e-152a-4598-997e-721f9a475a32\",\"type\":\"HoverTool\"},{\"id\":\"af508ef5-b839-4f8d-bd92-dc92fb3310d4\",\"type\":\"WheelZoomTool\"},{\"id\":\"870aac9a-d31c-40bd-b443-e46f6a00e466\",\"type\":\"PanTool\"},{\"id\":\"e502b085-56a3-4f00-a5d0-770f3355936a\",\"type\":\"ResetTool\"}]},\"id\":\"6b210795-69cf-4081-a78f-fe68cd02a394\",\"type\":\"Toolbar\"},{\"attributes\":{\"dimension\":1,\"plot\":{\"id\":\"7523f60c-f514-46f3-b7ef-7b97a51bc1e1\",\"subtype\":\"Figure\",\"type\":\"Plot\"},\"ticker\":{\"id\":\"3889ae5e-2d0b-470a-83c4-6e2cdce641aa\",\"type\":\"BasicTicker\"}},\"id\":\"66cdcc55-c0ad-4b71-813d-26824193a70d\",\"type\":\"Grid\"},{\"attributes\":{\"plot\":{\"id\":\"e28045a7-d40f-4bef-bacf-6e6c5b294f8e\",\"subtype\":\"Figure\",\"type\":\"Plot\"},\"render_mode\":\"css\",\"text\":\"* points sized by AUC\",\"x\":10,\"x_units\":\"screen\",\"y\":495,\"y_units\":\"screen\"},\"id\":\"838f27a0-35a5-43ce-bbc7-bbb323eab40c\",\"type\":\"Label\"},{\"attributes\":{\"active_drag\":\"auto\",\"active_inspect\":\"auto\",\"active_scroll\":\"auto\",\"active_tap\":\"auto\",\"tools\":[{\"id\":\"990af05e-152a-4598-997e-721f9a475a32\",\"type\":\"HoverTool\"},{\"id\":\"78c9684b-941f-4694-ab52-a3d8b102eeab\",\"type\":\"WheelZoomTool\"},{\"id\":\"fb99a987-ffc1-495c-aeb8-c4be8d7fc162\",\"type\":\"PanTool\"},{\"id\":\"360b5ea7-7a19-4abb-b0a3-9d09ba90a54f\",\"type\":\"ResetTool\"}]},\"id\":\"fd51ceaa-47b1-484d-8bf3-a1ed605a9556\",\"type\":\"Toolbar\"},{\"attributes\":{},\"id\":\"78c9684b-941f-4694-ab52-a3d8b102eeab\",\"type\":\"WheelZoomTool\"},{\"attributes\":{},\"id\":\"c964438e-581e-4f2c-ac55-a37dff7e12d8\",\"type\":\"LinearScale\"},{\"attributes\":{\"data_source\":{\"id\":\"b7917536-f791-4371-b49f-fcf8393771cb\",\"type\":\"ColumnDataSource\"},\"glyph\":{\"id\":\"a857411b-e082-4f5e-a89c-ad7ed096ce4b\",\"type\":\"Circle\"},\"hover_glyph\":null,\"muted_glyph\":null,\"nonselection_glyph\":{\"id\":\"673d5857-c979-4569-90c2-264aaabe33ea\",\"type\":\"Circle\"},\"selection_glyph\":null,\"view\":{\"id\":\"b2ee4601-8e4e-41f3-8022-0e127ef4fbf3\",\"type\":\"CDSView\"}},\"id\":\"1d542307-2ab7-4305-be61-82665bc0900a\",\"type\":\"GlyphRenderer\"},{\"attributes\":{\"axis_label\":\"Tree depth\",\"formatter\":{\"id\":\"a2a3f9ed-bbde-4d6d-bcc8-dda3a0164b7c\",\"type\":\"BasicTickFormatter\"},\"plot\":{\"id\":\"a0c41e1d-2049-46c3-aa82-84d1f15e62ff\",\"subtype\":\"Figure\",\"type\":\"Plot\"},\"ticker\":{\"id\":\"1b247c71-bfb8-4b9a-a593-783bbdf719b3\",\"type\":\"BasicTicker\"}},\"id\":\"32832b1f-6809-4160-b53f-03aaacf99912\",\"type\":\"LinearAxis\"},{\"attributes\":{},\"id\":\"e502b085-56a3-4f00-a5d0-770f3355936a\",\"type\":\"ResetTool\"},{\"attributes\":{},\"id\":\"1b247c71-bfb8-4b9a-a593-783bbdf719b3\",\"type\":\"BasicTicker\"},{\"attributes\":{\"fill_alpha\":{\"value\":0.1},\"fill_color\":{\"value\":\"#1f77b4\"},\"line_alpha\":{\"value\":0.1},\"line_color\":{\"value\":\"#1f77b4\"},\"size\":{\"units\":\"screen\",\"value\":30},\"x\":{\"field\":\"depth\"},\"y\":{\"field\":\"n_tree\"}},\"id\":\"80fb2f61-98f8-42ac-8fd2-d1f97f31bba2\",\"type\":\"Square\"},{\"attributes\":{\"align\":\"center\",\"plot\":null,\"text\":\"XGBoost Parameter Tuning\",\"text_font_size\":{\"value\":\"20px\"}},\"id\":\"772612fb-1016-4d51-9de2-206efffd4641\",\"type\":\"Title\"}],\"root_ids\":[\"fb8ef2ba-094c-45ae-af3a-16ad74ff05fd\"]},\"title\":\"Bokeh Application\",\"version\":\"0.12.13\"}};\n",
       "  var render_items = [{\"docid\":\"a2a69017-a7da-43d1-b1bc-d4adb7d8182a\",\"elementid\":\"50b36a74-23ce-441a-8c08-45681d5d9115\",\"modelid\":\"fb8ef2ba-094c-45ae-af3a-16ad74ff05fd\"}];\n",
       "  root.Bokeh.embed.embed_items_notebook(docs_json, render_items);\n",
       "\n",
       "  }\n",
       "  if (root.Bokeh !== undefined) {\n",
       "    embed_document(root);\n",
       "  } else {\n",
       "    var attempts = 0;\n",
       "    var timer = setInterval(function(root) {\n",
       "      if (root.Bokeh !== undefined) {\n",
       "        embed_document(root);\n",
       "        clearInterval(timer);\n",
       "      }\n",
       "      attempts++;\n",
       "      if (attempts > 100) {\n",
       "        console.log(\"Bokeh: ERROR: Unable to run BokehJS code because BokehJS library is missing\")\n",
       "        clearInterval(timer);\n",
       "      }\n",
       "    }, 10, root)\n",
       "  }\n",
       "})(window);"
      ],
      "application/vnd.bokehjs_exec.v0+json": ""
     },
     "metadata": {
      "application/vnd.bokehjs_exec.v0+json": {
       "id": "fb8ef2ba-094c-45ae-af3a-16ad74ff05fd"
      }
     },
     "output_type": "display_data"
    }
   ],
   "source": [
    "hover = HoverTool(tooltips=[\n",
    "    (\"RMSE\", \"@disp2\"),\n",
    "    (\"# of trees\", \"@n_tree\"),\n",
    "    (\"Tree depth\", \"@depth\")\n",
    "    ])\n",
    "\n",
    "p_xgb1 = figure(plot_height=600, plot_width=600, y_range=[0, 380], x_range=[0,20],\n",
    "           tools=[hover, 'wheel_zoom,pan,reset'], title=\"XGBoost Parameter Tuning\")\n",
    "\n",
    "p_xgb1.circle(source=source_xgb1, x='depth', y='n_tree', size='scale', color='#f46d43')\n",
    "\n",
    "p_xgb2 = figure(plot_height=600, plot_width=600, y_range=[0, 380], x_range=[0,20],\n",
    "           tools=[hover, 'wheel_zoom,pan,reset'], title=\"XGBoost Parameter Tuning\")\n",
    "\n",
    "p_xgb2.circle(source=source_xgb2, x='depth', y='n_tree', size='scale', color='#f46d43')\n",
    "\n",
    "p_xgb05 = figure(plot_height=600, plot_width=600, y_range=[0, 380], x_range=[0,20],\n",
    "           tools=[hover, 'wheel_zoom,pan,reset'], title=\"XGBoost Parameter Tuning\")\n",
    "\n",
    "p_xgb05.circle(source=source_xgb05, x='depth', y='n_tree', size='scale', color='#f46d43')\n",
    "\n",
    "babysource_xgb = ColumnDataSource(data=dict(depth=[10], n_tree=[240], disp2=['0.2645'], disp=['.05'], learning_rate=[.05], color=['green']))\n",
    "p_xgb05.square('depth', 'n_tree', size=30, color='color', alpha=0.4, source=babysource_xgb)\n",
    "\n",
    "p_xgb1.yaxis.axis_label = '# of trees'\n",
    "p_xgb1.xaxis.axis_label = 'Tree depth'\n",
    "p_xgb1.title.align = \"center\"\n",
    "p_xgb1.title.text_font_size = \"20px\"\n",
    "\n",
    "p_xgb2.yaxis.axis_label = '# of trees'\n",
    "p_xgb2.xaxis.axis_label = 'Tree depth'\n",
    "p_xgb2.title.align = \"center\"\n",
    "p_xgb2.title.text_font_size = \"20px\"\n",
    "\n",
    "p_xgb05.yaxis.axis_label = '# of trees'\n",
    "p_xgb05.xaxis.axis_label = 'Tree depth'\n",
    "p_xgb05.title.align = \"center\"\n",
    "p_xgb05.title.text_font_size = \"20px\"\n",
    "\n",
    "citation = Label(x=10, y=495, x_units='screen', y_units='screen',\n",
    "             text='* points sized by AUC', render_mode='css')\n",
    "\n",
    "p_xgb1.add_layout(citation)\n",
    "\n",
    "citation = Label(x=10, y=495, x_units='screen', y_units='screen',\n",
    "             text='* points sized by AUC', render_mode='css')\n",
    "p_xgb2.add_layout(citation)\n",
    "\n",
    "citation = Label(x=10, y=495, x_units='screen', y_units='screen',\n",
    "             text='* points sized by AUC', render_mode='css')\n",
    "p_xgb05.add_layout(citation)\n",
    "\n",
    "citation = Label(x=10, y=5, x_units='screen', y_units='screen',\n",
    "             text='Learning rate=0.1', render_mode='css')\n",
    "p_xgb1.add_layout(citation)\n",
    "\n",
    "citation = Label(x=10, y=5, x_units='screen', y_units='screen',\n",
    "             text='Learning rate=0.2', render_mode='css')\n",
    "p_xgb2.add_layout(citation)\n",
    "\n",
    "citation = Label(x=10, y=5, x_units='screen', y_units='screen',\n",
    "             text='Learning rate=0.05', render_mode='css')\n",
    "p_xgb05.add_layout(citation)\n",
    "\n",
    "tabs_xgb = Tabs(tabs=[ Panel(child=p_xgb05, title='Learning rate=0.05'), Panel(child=p_xgb1, title='Learning rate=0.1'), Panel(child=p_xgb2, title=\"Learning rate=0.2\") ])\n",
    "\n",
    "show(tabs_xgb)"
   ]
  },
  {
   "cell_type": "markdown",
   "metadata": {},
   "source": [
    "### LightGBM"
   ]
  },
  {
   "cell_type": "code",
   "execution_count": 11,
   "metadata": {
    "collapsed": true
   },
   "outputs": [],
   "source": [
    "learning_rate = [0.1,0.1,0.1,0.1,0.1,0.1,0.1,0.1,0.1,0.1,0.1,0.1,0.2,0.2,0.2,0.2,0.2,0.2,0.2,0.2,0.2,0.2,0.2,0.2]\n",
    "n_tree = [40,40,40,140,140,140,240,240,240,340,340,340,40,40,40,140,140,140,240,240,240,340,340,340]\n",
    "num_leaves = [20,40,80,20,40,80,20,40,80,20,40,80,20,40,80,20,40,80,20,40,80,20,40,80]\n",
    "\n",
    "test_scores =[0.266010643,0.2654812,0.265193886,0.264974643,0.264730081,0.264635793,0.264766324,0.264612124,0.264605123,0.264647122,0.264598483,0.264606057,0.265384372,0.265092002,0.264933189,0.264837342,0.26482876,0.264864249,0.264732721,0.26482876,0.264864249,0.264732721,0.26482876,0.264864249]\n",
    "\n",
    "disp2 = ['{:.4f}'.format(i) for i in test_scores]\n",
    "\n",
    "scale = [min((i-min(test_scores))/(max(test_scores)-min(test_scores))*120+1,18) for i in test_scores]\n",
    "\n",
    "source_lgb1 = ColumnDataSource(data=dict(\n",
    "    learning_rate=learning_rate[:12], n_tree=n_tree[:12], num_leaves=num_leaves[:12], test_scores=test_scores[:12], \n",
    "    disp2=disp2[:12], scale=scale[:12], disp=[str(i) for i in learning_rate[:12]]))\n",
    "\n",
    "source_lgb2 = ColumnDataSource(data=dict(\n",
    "    learning_rate=learning_rate[12:], n_tree=n_tree[12:], num_leaves=num_leaves[12:], test_scores=test_scores[12:], \n",
    "    disp2=disp2[12:], scale=scale[12:], disp=[str(i) for i in learning_rate[12:]]))"
   ]
  },
  {
   "cell_type": "code",
   "execution_count": 12,
   "metadata": {},
   "outputs": [
    {
     "data": {
      "text/html": [
       "\n",
       "<div class=\"bk-root\">\n",
       "    <div class=\"bk-plotdiv\" id=\"5ca3173e-840e-4506-a049-812880c0989d\"></div>\n",
       "</div>"
      ]
     },
     "metadata": {},
     "output_type": "display_data"
    },
    {
     "data": {
      "application/javascript": [
       "(function(root) {\n",
       "  function embed_document(root) {\n",
       "    \n",
       "  var docs_json = {\"68c81826-a59b-4deb-addc-51b9ab77e27b\":{\"roots\":{\"references\":[{\"attributes\":{\"below\":[{\"id\":\"fd9e8cf3-df8f-4e00-941e-fd96b174d014\",\"type\":\"LinearAxis\"}],\"left\":[{\"id\":\"036f8aa5-8ed6-4b61-89a6-55734b3b36b5\",\"type\":\"LinearAxis\"}],\"renderers\":[{\"id\":\"fd9e8cf3-df8f-4e00-941e-fd96b174d014\",\"type\":\"LinearAxis\"},{\"id\":\"92c5d232-2378-440e-b860-2fdb93fb1679\",\"type\":\"Grid\"},{\"id\":\"036f8aa5-8ed6-4b61-89a6-55734b3b36b5\",\"type\":\"LinearAxis\"},{\"id\":\"16335907-e751-4b57-bf01-db56d435cb0e\",\"type\":\"Grid\"},{\"id\":\"745dda15-77fd-4652-adeb-9978b1eff40e\",\"type\":\"GlyphRenderer\"},{\"id\":\"06bf5e8f-cc56-4abc-973a-b5213ab5cfbb\",\"type\":\"GlyphRenderer\"},{\"id\":\"8b942629-d73d-4dbf-ba31-1fa567194898\",\"type\":\"Label\"},{\"id\":\"6b4532df-a13a-4b49-9465-07e95584f0d4\",\"type\":\"Label\"}],\"title\":{\"id\":\"e236368d-8487-4b8f-b595-760944d9d893\",\"type\":\"Title\"},\"toolbar\":{\"id\":\"e3d4925c-036d-4f09-9247-e336094c8924\",\"type\":\"Toolbar\"},\"x_range\":{\"id\":\"9629afcc-d90c-447f-8fb3-4141114fe13f\",\"type\":\"Range1d\"},\"x_scale\":{\"id\":\"d55a5405-3207-42aa-8e6b-117c20ef53c7\",\"type\":\"LinearScale\"},\"y_range\":{\"id\":\"47822739-3d24-44bd-856f-9ba8e3a9f045\",\"type\":\"Range1d\"},\"y_scale\":{\"id\":\"2f33bffb-9f5b-478c-abb9-a1a0f2e70c69\",\"type\":\"LinearScale\"}},\"id\":\"ed392615-ef85-4a4d-8e46-e3be344b404c\",\"subtype\":\"Figure\",\"type\":\"Plot\"},{\"attributes\":{},\"id\":\"82e16926-b15b-4ba1-9b8a-ef63762822c1\",\"type\":\"ResetTool\"},{\"attributes\":{\"below\":[{\"id\":\"53353a07-1123-458c-af40-29d5dce1cbf2\",\"type\":\"LinearAxis\"}],\"left\":[{\"id\":\"fef1ed26-28c3-4332-af74-4d1265ea11b4\",\"type\":\"LinearAxis\"}],\"renderers\":[{\"id\":\"53353a07-1123-458c-af40-29d5dce1cbf2\",\"type\":\"LinearAxis\"},{\"id\":\"4ed0d63c-7379-4326-9276-b8bb045fa0d9\",\"type\":\"Grid\"},{\"id\":\"fef1ed26-28c3-4332-af74-4d1265ea11b4\",\"type\":\"LinearAxis\"},{\"id\":\"81ceebba-562d-40aa-a332-959901e49d9e\",\"type\":\"Grid\"},{\"id\":\"729ff92e-9445-4b8d-bf88-510f6d50f6e5\",\"type\":\"GlyphRenderer\"},{\"id\":\"5bf23179-3cbd-4659-a3d8-8b81abd7d176\",\"type\":\"Label\"},{\"id\":\"3f404c8a-406f-4c62-ace4-2ecd9463e63e\",\"type\":\"Label\"}],\"title\":{\"id\":\"bd70ed99-70f3-4aa3-a562-88ada4e8d630\",\"type\":\"Title\"},\"toolbar\":{\"id\":\"c38235f6-d862-475e-9b70-fc3a30d9dc85\",\"type\":\"Toolbar\"},\"x_range\":{\"id\":\"8fa346b0-8b14-4f69-aaf1-ec684e489a5c\",\"type\":\"Range1d\"},\"x_scale\":{\"id\":\"f6825aec-1548-4c74-8f3e-e986082bcbf3\",\"type\":\"LinearScale\"},\"y_range\":{\"id\":\"ef7f22bb-fe13-4e54-8fdf-38408a102fd5\",\"type\":\"Range1d\"},\"y_scale\":{\"id\":\"4a76ea87-9bc7-439e-92b3-c7f960aba84a\",\"type\":\"LinearScale\"}},\"id\":\"bf333bea-24d8-414b-8321-2e80f4d34bc0\",\"subtype\":\"Figure\",\"type\":\"Plot\"},{\"attributes\":{},\"id\":\"f150d621-f78d-4109-a82c-98b07dfce051\",\"type\":\"BasicTickFormatter\"},{\"attributes\":{\"callback\":null,\"end\":90,\"start\":10},\"id\":\"47822739-3d24-44bd-856f-9ba8e3a9f045\",\"type\":\"Range1d\"},{\"attributes\":{\"plot\":{\"id\":\"ed392615-ef85-4a4d-8e46-e3be344b404c\",\"subtype\":\"Figure\",\"type\":\"Plot\"},\"render_mode\":\"css\",\"text\":\"* points sized by AUC\",\"x\":10,\"x_units\":\"screen\",\"y\":495,\"y_units\":\"screen\"},\"id\":\"8b942629-d73d-4dbf-ba31-1fa567194898\",\"type\":\"Label\"},{\"attributes\":{\"callback\":null,\"column_names\":[\"disp\",\"color\",\"disp2\",\"num_leaves\",\"n_tree\"],\"data\":{\"color\":[\"green\"],\"disp\":[\"0.1\"],\"disp2\":[\"0.2645\"],\"n_tree\":[340],\"num_leaves\":[40]}},\"id\":\"51527490-3c0a-40b8-ac78-9f786a2c1541\",\"type\":\"ColumnDataSource\"},{\"attributes\":{\"fill_alpha\":{\"value\":0.1},\"fill_color\":{\"value\":\"#1f77b4\"},\"line_alpha\":{\"value\":0.1},\"line_color\":{\"value\":\"#1f77b4\"},\"size\":{\"field\":\"scale\",\"units\":\"screen\"},\"x\":{\"field\":\"n_tree\"},\"y\":{\"field\":\"num_leaves\"}},\"id\":\"716a0a39-c7df-48ae-b101-51df4a76bc7f\",\"type\":\"Circle\"},{\"attributes\":{\"plot\":{\"id\":\"bf333bea-24d8-414b-8321-2e80f4d34bc0\",\"subtype\":\"Figure\",\"type\":\"Plot\"},\"ticker\":{\"id\":\"f5c57551-8832-46a6-ac50-e92dc6176453\",\"type\":\"BasicTicker\"}},\"id\":\"4ed0d63c-7379-4326-9276-b8bb045fa0d9\",\"type\":\"Grid\"},{\"attributes\":{\"callback\":null,\"column_names\":[\"disp\",\"num_leaves\",\"scale\",\"test_scores\",\"disp2\",\"learning_rate\",\"n_tree\"],\"data\":{\"disp\":[\"0.2\",\"0.2\",\"0.2\",\"0.2\",\"0.2\",\"0.2\",\"0.2\",\"0.2\",\"0.2\",\"0.2\",\"0.2\",\"0.2\"],\"disp2\":[\"0.2654\",\"0.2651\",\"0.2649\",\"0.2648\",\"0.2648\",\"0.2649\",\"0.2647\",\"0.2648\",\"0.2649\",\"0.2647\",\"0.2648\",\"0.2649\"],\"learning_rate\":[0.2,0.2,0.2,0.2,0.2,0.2,0.2,0.2,0.2,0.2,0.2,0.2],\"n_tree\":[40,40,40,140,140,140,240,240,240,340,340,340],\"num_leaves\":[20,40,80,20,40,80,20,40,80,20,40,80],\"scale\":[18,18,18,18,18,18,12.407036029912403,18,18,12.407036029912403,18,18],\"test_scores\":[0.265384372,0.265092002,0.264933189,0.264837342,0.26482876,0.264864249,0.264732721,0.26482876,0.264864249,0.264732721,0.26482876,0.264864249]}},\"id\":\"762c0027-78aa-4b5d-8621-dde7b054d211\",\"type\":\"ColumnDataSource\"},{\"attributes\":{},\"id\":\"52d7b477-0373-4843-a903-260211ce171d\",\"type\":\"BasicTickFormatter\"},{\"attributes\":{},\"id\":\"798b75d1-18ec-4558-b629-c2f7f218f62e\",\"type\":\"ResetTool\"},{\"attributes\":{\"data_source\":{\"id\":\"762c0027-78aa-4b5d-8621-dde7b054d211\",\"type\":\"ColumnDataSource\"},\"glyph\":{\"id\":\"893cf097-f990-45b6-b24b-c85acdac4d51\",\"type\":\"Circle\"},\"hover_glyph\":null,\"muted_glyph\":null,\"nonselection_glyph\":{\"id\":\"716a0a39-c7df-48ae-b101-51df4a76bc7f\",\"type\":\"Circle\"},\"selection_glyph\":null,\"view\":{\"id\":\"a83ad47a-f400-4921-b93b-850d351bf405\",\"type\":\"CDSView\"}},\"id\":\"729ff92e-9445-4b8d-bf88-510f6d50f6e5\",\"type\":\"GlyphRenderer\"},{\"attributes\":{},\"id\":\"d5031c11-d292-4d33-9dc5-34a9b78cad84\",\"type\":\"BasicTicker\"},{\"attributes\":{\"fill_alpha\":{\"value\":0.1},\"fill_color\":{\"value\":\"#1f77b4\"},\"line_alpha\":{\"value\":0.1},\"line_color\":{\"value\":\"#1f77b4\"},\"size\":{\"field\":\"scale\",\"units\":\"screen\"},\"x\":{\"field\":\"n_tree\"},\"y\":{\"field\":\"num_leaves\"}},\"id\":\"d6d3d53f-702d-4bb9-b88a-52c1c8640cfe\",\"type\":\"Circle\"},{\"attributes\":{},\"id\":\"89db18e9-2b46-4edd-9cce-fa1d97613fe4\",\"type\":\"BasicTickFormatter\"},{\"attributes\":{},\"id\":\"4a76ea87-9bc7-439e-92b3-c7f960aba84a\",\"type\":\"LinearScale\"},{\"attributes\":{\"source\":{\"id\":\"e250d8d6-f2e7-4b03-99a8-1b913a3a5754\",\"type\":\"ColumnDataSource\"}},\"id\":\"876cdd69-65ed-4168-a32a-0739926c90cd\",\"type\":\"CDSView\"},{\"attributes\":{},\"id\":\"13d2ab26-8cf1-4140-b9d0-7b476e63732f\",\"type\":\"WheelZoomTool\"},{\"attributes\":{\"callback\":null,\"column_names\":[\"disp\",\"num_leaves\",\"scale\",\"test_scores\",\"disp2\",\"learning_rate\",\"n_tree\"],\"data\":{\"disp\":[\"0.1\",\"0.1\",\"0.1\",\"0.1\",\"0.1\",\"0.1\",\"0.1\",\"0.1\",\"0.1\",\"0.1\",\"0.1\",\"0.1\"],\"disp2\":[\"0.2660\",\"0.2655\",\"0.2652\",\"0.2650\",\"0.2647\",\"0.2646\",\"0.2648\",\"0.2646\",\"0.2646\",\"0.2646\",\"0.2646\",\"0.2646\"],\"learning_rate\":[0.1,0.1,0.1,0.1,0.1,0.1,0.1,0.1,0.1,0.1,0.1,0.1],\"n_tree\":[40,40,40,140,140,140,240,240,240,340,340,340],\"num_leaves\":[20,40,80,20,40,80,20,40,80,20,40,80],\"scale\":[18,18,18,18,12.18269884432452,4.170462270565324,15.26249150237954,2.1591604350789186,1.5642420122367624,5.13315771584102,1.0,1.6436097892598749],\"test_scores\":[0.266010643,0.2654812,0.265193886,0.264974643,0.264730081,0.264635793,0.264766324,0.264612124,0.264605123,0.264647122,0.264598483,0.264606057]}},\"id\":\"e250d8d6-f2e7-4b03-99a8-1b913a3a5754\",\"type\":\"ColumnDataSource\"},{\"attributes\":{\"fill_alpha\":{\"value\":0.1},\"fill_color\":{\"value\":\"#1f77b4\"},\"line_alpha\":{\"value\":0.1},\"line_color\":{\"value\":\"#1f77b4\"},\"size\":{\"units\":\"screen\",\"value\":30},\"x\":{\"field\":\"n_tree\"},\"y\":{\"field\":\"num_leaves\"}},\"id\":\"2939d2e7-d5bb-40fd-a6ea-0f9cc458abba\",\"type\":\"Square\"},{\"attributes\":{\"child\":{\"id\":\"bf333bea-24d8-414b-8321-2e80f4d34bc0\",\"subtype\":\"Figure\",\"type\":\"Plot\"},\"title\":\"Learning rate=0.2\"},\"id\":\"3cb6a3d8-980d-46c4-9fac-0695b32eabd9\",\"type\":\"Panel\"},{\"attributes\":{\"callback\":null,\"end\":90,\"start\":10},\"id\":\"ef7f22bb-fe13-4e54-8fdf-38408a102fd5\",\"type\":\"Range1d\"},{\"attributes\":{},\"id\":\"f6825aec-1548-4c74-8f3e-e986082bcbf3\",\"type\":\"LinearScale\"},{\"attributes\":{},\"id\":\"fbc3fbdd-58c8-4350-b6ca-38f0e1106fb9\",\"type\":\"PanTool\"},{\"attributes\":{\"axis_label\":\"num_leaves\",\"formatter\":{\"id\":\"89db18e9-2b46-4edd-9cce-fa1d97613fe4\",\"type\":\"BasicTickFormatter\"},\"plot\":{\"id\":\"bf333bea-24d8-414b-8321-2e80f4d34bc0\",\"subtype\":\"Figure\",\"type\":\"Plot\"},\"ticker\":{\"id\":\"ab141062-b5ad-470d-b8e2-db383edd836a\",\"type\":\"BasicTicker\"}},\"id\":\"fef1ed26-28c3-4332-af74-4d1265ea11b4\",\"type\":\"LinearAxis\"},{\"attributes\":{},\"id\":\"2095917c-f686-4aec-bdd7-82e98396aa6c\",\"type\":\"BasicTicker\"},{\"attributes\":{\"source\":{\"id\":\"51527490-3c0a-40b8-ac78-9f786a2c1541\",\"type\":\"ColumnDataSource\"}},\"id\":\"0ee14c7a-2d0d-44d1-93b2-68c49b9ee521\",\"type\":\"CDSView\"},{\"attributes\":{\"align\":\"center\",\"plot\":null,\"text\":\"LightGBM Parameter Tuning\",\"text_font_size\":{\"value\":\"20px\"}},\"id\":\"e236368d-8487-4b8f-b595-760944d9d893\",\"type\":\"Title\"},{\"attributes\":{\"axis_label\":\"num_leaves\",\"formatter\":{\"id\":\"52d7b477-0373-4843-a903-260211ce171d\",\"type\":\"BasicTickFormatter\"},\"plot\":{\"id\":\"ed392615-ef85-4a4d-8e46-e3be344b404c\",\"subtype\":\"Figure\",\"type\":\"Plot\"},\"ticker\":{\"id\":\"d5031c11-d292-4d33-9dc5-34a9b78cad84\",\"type\":\"BasicTicker\"}},\"id\":\"036f8aa5-8ed6-4b61-89a6-55734b3b36b5\",\"type\":\"LinearAxis\"},{\"attributes\":{\"callback\":null,\"tooltips\":[[\"RMSE\",\"@disp2\"],[\"# of trees\",\"@n_tree\"],[\"# of leaves\",\"@num_leaves\"]]},\"id\":\"1c727726-feae-4570-8fa2-bafa66e266b2\",\"type\":\"HoverTool\"},{\"attributes\":{\"axis_label\":\"# of trees\",\"formatter\":{\"id\":\"f150d621-f78d-4109-a82c-98b07dfce051\",\"type\":\"BasicTickFormatter\"},\"plot\":{\"id\":\"bf333bea-24d8-414b-8321-2e80f4d34bc0\",\"subtype\":\"Figure\",\"type\":\"Plot\"},\"ticker\":{\"id\":\"f5c57551-8832-46a6-ac50-e92dc6176453\",\"type\":\"BasicTicker\"}},\"id\":\"53353a07-1123-458c-af40-29d5dce1cbf2\",\"type\":\"LinearAxis\"},{\"attributes\":{},\"id\":\"3d01746c-d03a-4bff-92dd-74794594730d\",\"type\":\"WheelZoomTool\"},{\"attributes\":{\"fill_color\":{\"value\":\"#0d0887\"},\"line_color\":{\"value\":\"#0d0887\"},\"size\":{\"field\":\"scale\",\"units\":\"screen\"},\"x\":{\"field\":\"n_tree\"},\"y\":{\"field\":\"num_leaves\"}},\"id\":\"893cf097-f990-45b6-b24b-c85acdac4d51\",\"type\":\"Circle\"},{\"attributes\":{\"callback\":null,\"end\":360,\"start\":20},\"id\":\"9629afcc-d90c-447f-8fb3-4141114fe13f\",\"type\":\"Range1d\"},{\"attributes\":{\"plot\":{\"id\":\"ed392615-ef85-4a4d-8e46-e3be344b404c\",\"subtype\":\"Figure\",\"type\":\"Plot\"},\"ticker\":{\"id\":\"2095917c-f686-4aec-bdd7-82e98396aa6c\",\"type\":\"BasicTicker\"}},\"id\":\"92c5d232-2378-440e-b860-2fdb93fb1679\",\"type\":\"Grid\"},{\"attributes\":{},\"id\":\"ab141062-b5ad-470d-b8e2-db383edd836a\",\"type\":\"BasicTicker\"},{\"attributes\":{\"data_source\":{\"id\":\"e250d8d6-f2e7-4b03-99a8-1b913a3a5754\",\"type\":\"ColumnDataSource\"},\"glyph\":{\"id\":\"a0f2ea0d-a266-4a1b-aca4-5583b581470b\",\"type\":\"Circle\"},\"hover_glyph\":null,\"muted_glyph\":null,\"nonselection_glyph\":{\"id\":\"d6d3d53f-702d-4bb9-b88a-52c1c8640cfe\",\"type\":\"Circle\"},\"selection_glyph\":null,\"view\":{\"id\":\"876cdd69-65ed-4168-a32a-0739926c90cd\",\"type\":\"CDSView\"}},\"id\":\"745dda15-77fd-4652-adeb-9978b1eff40e\",\"type\":\"GlyphRenderer\"},{\"attributes\":{},\"id\":\"e84fb023-93d7-48c4-b6b7-2885e22fcc6c\",\"type\":\"BasicTickFormatter\"},{\"attributes\":{\"fill_alpha\":{\"value\":0.4},\"fill_color\":{\"field\":\"color\"},\"line_alpha\":{\"value\":0.4},\"line_color\":{\"field\":\"color\"},\"size\":{\"units\":\"screen\",\"value\":30},\"x\":{\"field\":\"n_tree\"},\"y\":{\"field\":\"num_leaves\"}},\"id\":\"0a77b4df-3727-4fe3-9a35-3b37503ded29\",\"type\":\"Square\"},{\"attributes\":{\"plot\":{\"id\":\"ed392615-ef85-4a4d-8e46-e3be344b404c\",\"subtype\":\"Figure\",\"type\":\"Plot\"},\"render_mode\":\"css\",\"text\":\"Learning rate=0.1\",\"x\":10,\"x_units\":\"screen\",\"y\":5,\"y_units\":\"screen\"},\"id\":\"6b4532df-a13a-4b49-9465-07e95584f0d4\",\"type\":\"Label\"},{\"attributes\":{},\"id\":\"f5c57551-8832-46a6-ac50-e92dc6176453\",\"type\":\"BasicTicker\"},{\"attributes\":{\"dimension\":1,\"plot\":{\"id\":\"ed392615-ef85-4a4d-8e46-e3be344b404c\",\"subtype\":\"Figure\",\"type\":\"Plot\"},\"ticker\":{\"id\":\"d5031c11-d292-4d33-9dc5-34a9b78cad84\",\"type\":\"BasicTicker\"}},\"id\":\"16335907-e751-4b57-bf01-db56d435cb0e\",\"type\":\"Grid\"},{\"attributes\":{\"active_drag\":\"auto\",\"active_inspect\":\"auto\",\"active_scroll\":\"auto\",\"active_tap\":\"auto\",\"tools\":[{\"id\":\"1c727726-feae-4570-8fa2-bafa66e266b2\",\"type\":\"HoverTool\"},{\"id\":\"13d2ab26-8cf1-4140-b9d0-7b476e63732f\",\"type\":\"WheelZoomTool\"},{\"id\":\"2975c010-2377-4bd3-8cfd-ca6cc0860cbf\",\"type\":\"PanTool\"},{\"id\":\"798b75d1-18ec-4558-b629-c2f7f218f62e\",\"type\":\"ResetTool\"}]},\"id\":\"c38235f6-d862-475e-9b70-fc3a30d9dc85\",\"type\":\"Toolbar\"},{\"attributes\":{},\"id\":\"2975c010-2377-4bd3-8cfd-ca6cc0860cbf\",\"type\":\"PanTool\"},{\"attributes\":{\"child\":{\"id\":\"ed392615-ef85-4a4d-8e46-e3be344b404c\",\"subtype\":\"Figure\",\"type\":\"Plot\"},\"title\":\"Learning rate=0.1\"},\"id\":\"38d272af-b1aa-4392-9130-8c103d293e03\",\"type\":\"Panel\"},{\"attributes\":{\"plot\":{\"id\":\"bf333bea-24d8-414b-8321-2e80f4d34bc0\",\"subtype\":\"Figure\",\"type\":\"Plot\"},\"render_mode\":\"css\",\"text\":\"Learning rate=0.2\",\"x\":10,\"x_units\":\"screen\",\"y\":5,\"y_units\":\"screen\"},\"id\":\"3f404c8a-406f-4c62-ace4-2ecd9463e63e\",\"type\":\"Label\"},{\"attributes\":{},\"id\":\"d55a5405-3207-42aa-8e6b-117c20ef53c7\",\"type\":\"LinearScale\"},{\"attributes\":{\"active_drag\":\"auto\",\"active_inspect\":\"auto\",\"active_scroll\":\"auto\",\"active_tap\":\"auto\",\"tools\":[{\"id\":\"1c727726-feae-4570-8fa2-bafa66e266b2\",\"type\":\"HoverTool\"},{\"id\":\"3d01746c-d03a-4bff-92dd-74794594730d\",\"type\":\"WheelZoomTool\"},{\"id\":\"fbc3fbdd-58c8-4350-b6ca-38f0e1106fb9\",\"type\":\"PanTool\"},{\"id\":\"82e16926-b15b-4ba1-9b8a-ef63762822c1\",\"type\":\"ResetTool\"}]},\"id\":\"e3d4925c-036d-4f09-9247-e336094c8924\",\"type\":\"Toolbar\"},{\"attributes\":{\"callback\":null,\"tabs\":[{\"id\":\"38d272af-b1aa-4392-9130-8c103d293e03\",\"type\":\"Panel\"},{\"id\":\"3cb6a3d8-980d-46c4-9fac-0695b32eabd9\",\"type\":\"Panel\"}]},\"id\":\"d84ee6ab-b39a-42ca-b7c7-9640dcacc33d\",\"type\":\"Tabs\"},{\"attributes\":{\"source\":{\"id\":\"762c0027-78aa-4b5d-8621-dde7b054d211\",\"type\":\"ColumnDataSource\"}},\"id\":\"a83ad47a-f400-4921-b93b-850d351bf405\",\"type\":\"CDSView\"},{\"attributes\":{\"align\":\"center\",\"plot\":null,\"text\":\"LightGBM Parameter Tuning\",\"text_font_size\":{\"value\":\"20px\"}},\"id\":\"bd70ed99-70f3-4aa3-a562-88ada4e8d630\",\"type\":\"Title\"},{\"attributes\":{\"data_source\":{\"id\":\"51527490-3c0a-40b8-ac78-9f786a2c1541\",\"type\":\"ColumnDataSource\"},\"glyph\":{\"id\":\"0a77b4df-3727-4fe3-9a35-3b37503ded29\",\"type\":\"Square\"},\"hover_glyph\":null,\"muted_glyph\":null,\"nonselection_glyph\":{\"id\":\"2939d2e7-d5bb-40fd-a6ea-0f9cc458abba\",\"type\":\"Square\"},\"selection_glyph\":null,\"view\":{\"id\":\"0ee14c7a-2d0d-44d1-93b2-68c49b9ee521\",\"type\":\"CDSView\"}},\"id\":\"06bf5e8f-cc56-4abc-973a-b5213ab5cfbb\",\"type\":\"GlyphRenderer\"},{\"attributes\":{\"axis_label\":\"# of trees\",\"formatter\":{\"id\":\"e84fb023-93d7-48c4-b6b7-2885e22fcc6c\",\"type\":\"BasicTickFormatter\"},\"plot\":{\"id\":\"ed392615-ef85-4a4d-8e46-e3be344b404c\",\"subtype\":\"Figure\",\"type\":\"Plot\"},\"ticker\":{\"id\":\"2095917c-f686-4aec-bdd7-82e98396aa6c\",\"type\":\"BasicTicker\"}},\"id\":\"fd9e8cf3-df8f-4e00-941e-fd96b174d014\",\"type\":\"LinearAxis\"},{\"attributes\":{\"plot\":{\"id\":\"bf333bea-24d8-414b-8321-2e80f4d34bc0\",\"subtype\":\"Figure\",\"type\":\"Plot\"},\"render_mode\":\"css\",\"text\":\"* points sized by AUC\",\"x\":10,\"x_units\":\"screen\",\"y\":495,\"y_units\":\"screen\"},\"id\":\"5bf23179-3cbd-4659-a3d8-8b81abd7d176\",\"type\":\"Label\"},{\"attributes\":{},\"id\":\"2f33bffb-9f5b-478c-abb9-a1a0f2e70c69\",\"type\":\"LinearScale\"},{\"attributes\":{\"dimension\":1,\"plot\":{\"id\":\"bf333bea-24d8-414b-8321-2e80f4d34bc0\",\"subtype\":\"Figure\",\"type\":\"Plot\"},\"ticker\":{\"id\":\"ab141062-b5ad-470d-b8e2-db383edd836a\",\"type\":\"BasicTicker\"}},\"id\":\"81ceebba-562d-40aa-a332-959901e49d9e\",\"type\":\"Grid\"},{\"attributes\":{\"callback\":null,\"end\":360,\"start\":20},\"id\":\"8fa346b0-8b14-4f69-aaf1-ec684e489a5c\",\"type\":\"Range1d\"},{\"attributes\":{\"fill_color\":{\"value\":\"#0d0887\"},\"line_color\":{\"value\":\"#0d0887\"},\"size\":{\"field\":\"scale\",\"units\":\"screen\"},\"x\":{\"field\":\"n_tree\"},\"y\":{\"field\":\"num_leaves\"}},\"id\":\"a0f2ea0d-a266-4a1b-aca4-5583b581470b\",\"type\":\"Circle\"}],\"root_ids\":[\"d84ee6ab-b39a-42ca-b7c7-9640dcacc33d\"]},\"title\":\"Bokeh Application\",\"version\":\"0.12.13\"}};\n",
       "  var render_items = [{\"docid\":\"68c81826-a59b-4deb-addc-51b9ab77e27b\",\"elementid\":\"5ca3173e-840e-4506-a049-812880c0989d\",\"modelid\":\"d84ee6ab-b39a-42ca-b7c7-9640dcacc33d\"}];\n",
       "  root.Bokeh.embed.embed_items_notebook(docs_json, render_items);\n",
       "\n",
       "  }\n",
       "  if (root.Bokeh !== undefined) {\n",
       "    embed_document(root);\n",
       "  } else {\n",
       "    var attempts = 0;\n",
       "    var timer = setInterval(function(root) {\n",
       "      if (root.Bokeh !== undefined) {\n",
       "        embed_document(root);\n",
       "        clearInterval(timer);\n",
       "      }\n",
       "      attempts++;\n",
       "      if (attempts > 100) {\n",
       "        console.log(\"Bokeh: ERROR: Unable to run BokehJS code because BokehJS library is missing\")\n",
       "        clearInterval(timer);\n",
       "      }\n",
       "    }, 10, root)\n",
       "  }\n",
       "})(window);"
      ],
      "application/vnd.bokehjs_exec.v0+json": ""
     },
     "metadata": {
      "application/vnd.bokehjs_exec.v0+json": {
       "id": "d84ee6ab-b39a-42ca-b7c7-9640dcacc33d"
      }
     },
     "output_type": "display_data"
    }
   ],
   "source": [
    "from bokeh.models import LogColorMapper, Ticker, ColorBar\n",
    "from bokeh.models import LabelSet\n",
    "from matplotlib.pyplot import get_cmap\n",
    "\n",
    "hover = HoverTool(tooltips=[\n",
    "    (\"RMSE\", \"@disp2\"),\n",
    "    (\"# of trees\", \"@n_tree\"),\n",
    "    (\"# of leaves\", \"@num_leaves\")\n",
    "    ])\n",
    "\n",
    "p_lgb1 = figure(plot_height=600, plot_width=600, x_range=[20,360], y_range=[10, 90],\n",
    "           tools=[hover, 'wheel_zoom,pan,reset'], title=\"LightGBM Parameter Tuning\")\n",
    "\n",
    "p_lgb1.circle(source=source_lgb1, x='n_tree', y='num_leaves', size='scale', color='#0d0887')\n",
    "\n",
    "babysource_lgb = ColumnDataSource(data=dict(n_tree=[340], num_leaves=[40], disp2=['0.2645'], color=['green'], disp=['0.1']))\n",
    "p_lgb1.square('n_tree', 'num_leaves', size=30, color='color', alpha=0.4, source=babysource_lgb)\n",
    "\n",
    "p_lgb1.xaxis.axis_label = '# of trees'\n",
    "p_lgb1.yaxis.axis_label = 'num_leaves'\n",
    "p_lgb1.title.align = \"center\"\n",
    "p_lgb1.title.text_font_size = \"20px\"\n",
    "\n",
    "citation = Label(x=10, y=495, x_units='screen', y_units='screen',\n",
    "                 text='* points sized by AUC', render_mode='css')\n",
    "\n",
    "p_lgb1.add_layout(citation)\n",
    "\n",
    "p_lgb2 = figure(plot_height=600, plot_width=600, x_range=[20,360], y_range=[10, 90],\n",
    "           tools=[hover, 'wheel_zoom,pan,reset'], title=\"LightGBM Parameter Tuning\")\n",
    "\n",
    "p_lgb2.circle(source=source_lgb2, x='n_tree', y='num_leaves', size='scale', color='#0d0887')\n",
    "\n",
    "p_lgb2.xaxis.axis_label = '# of trees'\n",
    "p_lgb2.yaxis.axis_label = 'num_leaves'\n",
    "p_lgb2.title.align = \"center\"\n",
    "p_lgb2.title.text_font_size = \"20px\"\n",
    "\n",
    "citation = Label(x=10, y=495, x_units='screen', y_units='screen',\n",
    "                 text='* points sized by AUC', render_mode='css')\n",
    "\n",
    "p_lgb2.add_layout(citation)\n",
    "\n",
    "citation = Label(x=10, y=5, x_units='screen', y_units='screen',\n",
    "             text='Learning rate=0.2', render_mode='css')\n",
    "p_lgb2.add_layout(citation)\n",
    "\n",
    "citation = Label(x=10, y=5, x_units='screen', y_units='screen',\n",
    "             text='Learning rate=0.1', render_mode='css')\n",
    "p_lgb1.add_layout(citation)\n",
    "\n",
    "tabs_lgb = Tabs(tabs=[ Panel(child=p_lgb1, title='Learning rate=0.1'), Panel(child=p_lgb2, title='Learning rate=0.2') ])\n",
    "\n",
    "show(tabs_lgb)"
   ]
  },
  {
   "cell_type": "markdown",
   "metadata": {},
   "source": [
    "# AUC comparison - initial"
   ]
  },
  {
   "cell_type": "code",
   "execution_count": 13,
   "metadata": {},
   "outputs": [
    {
     "data": {
      "text/html": [
       "\n",
       "<div class=\"bk-root\">\n",
       "    <div class=\"bk-plotdiv\" id=\"4cf090a0-cde5-45e9-8da8-e7157c4af384\"></div>\n",
       "</div>"
      ]
     },
     "metadata": {},
     "output_type": "display_data"
    },
    {
     "data": {
      "application/javascript": [
       "(function(root) {\n",
       "  function embed_document(root) {\n",
       "    \n",
       "  var docs_json = {\"8a3dc20d-7f36-451e-9723-9643ad489ab4\":{\"roots\":{\"references\":[{\"attributes\":{},\"id\":\"8dd37640-cb7b-4721-9001-1acd23fea870\",\"type\":\"LinearScale\"},{\"attributes\":{},\"id\":\"0d5cafd1-edb3-43a9-8d55-5b9ad6eb3be9\",\"type\":\"BasicTickFormatter\"},{\"attributes\":{\"formatter\":{\"id\":\"0d5cafd1-edb3-43a9-8d55-5b9ad6eb3be9\",\"type\":\"BasicTickFormatter\"},\"plot\":{\"id\":\"3622534d-ca31-4f34-9ffe-5a564c8d5e84\",\"subtype\":\"Figure\",\"type\":\"Plot\"},\"ticker\":{\"id\":\"e981e127-37d0-434d-86d8-b0e618f1a7a9\",\"type\":\"BasicTicker\"}},\"id\":\"f6403170-9542-474e-89f0-55c677625976\",\"type\":\"LinearAxis\"},{\"attributes\":{\"label\":{\"field\":\"legend\"},\"renderers\":[{\"id\":\"449082d8-aa0e-4d00-b6ee-c8865b46257f\",\"type\":\"GlyphRenderer\"}]},\"id\":\"d70bb31b-c9e2-419a-bb0c-e65f8656df12\",\"type\":\"LegendItem\"},{\"attributes\":{\"line_color\":{\"field\":\"color\"},\"line_width\":{\"value\":2},\"xs\":{\"field\":\"x\"},\"ys\":{\"field\":\"y\"}},\"id\":\"d17d51fc-bac5-49f7-beeb-b97bda15df90\",\"type\":\"MultiLine\"},{\"attributes\":{\"below\":[{\"id\":\"f6403170-9542-474e-89f0-55c677625976\",\"type\":\"LinearAxis\"}],\"left\":[{\"id\":\"7f21f8df-4f75-40b2-9771-f840a7ae52f5\",\"type\":\"LinearAxis\"}],\"plot_height\":400,\"renderers\":[{\"id\":\"f6403170-9542-474e-89f0-55c677625976\",\"type\":\"LinearAxis\"},{\"id\":\"051654d5-60fc-48fb-ba1b-1a7926d26bfa\",\"type\":\"Grid\"},{\"id\":\"7f21f8df-4f75-40b2-9771-f840a7ae52f5\",\"type\":\"LinearAxis\"},{\"id\":\"126bc97c-3a67-4eba-bb78-0087c50c4c56\",\"type\":\"Grid\"},{\"id\":\"9b5a786c-fa81-45a0-93d0-a7a0efb4dd1e\",\"type\":\"Legend\"},{\"id\":\"449082d8-aa0e-4d00-b6ee-c8865b46257f\",\"type\":\"GlyphRenderer\"}],\"title\":{\"id\":\"da5e7858-e23e-4457-8eca-b9c696db6ae4\",\"type\":\"Title\"},\"toolbar\":{\"id\":\"3b264ff8-ec27-499f-8196-8f57148526a7\",\"type\":\"Toolbar\"},\"x_range\":{\"id\":\"203e1113-9a0f-48fb-8fbe-179c60362d81\",\"type\":\"DataRange1d\"},\"x_scale\":{\"id\":\"8dd37640-cb7b-4721-9001-1acd23fea870\",\"type\":\"LinearScale\"},\"y_range\":{\"id\":\"fc3c6300-be14-452f-b899-b4e97ff8e49a\",\"type\":\"DataRange1d\"},\"y_scale\":{\"id\":\"9cba0813-f0f8-4e2c-b0bf-2ac6c14e1723\",\"type\":\"LinearScale\"}},\"id\":\"3622534d-ca31-4f34-9ffe-5a564c8d5e84\",\"subtype\":\"Figure\",\"type\":\"Plot\"},{\"attributes\":{},\"id\":\"9cba0813-f0f8-4e2c-b0bf-2ac6c14e1723\",\"type\":\"LinearScale\"},{\"attributes\":{\"align\":\"center\",\"plot\":null,\"text\":\"ROC Curves for Classifiers\",\"text_font_size\":{\"value\":\"20px\"}},\"id\":\"da5e7858-e23e-4457-8eca-b9c696db6ae4\",\"type\":\"Title\"},{\"attributes\":{\"callback\":null},\"id\":\"203e1113-9a0f-48fb-8fbe-179c60362d81\",\"type\":\"DataRange1d\"},{\"attributes\":{\"formatter\":{\"id\":\"89f27159-862a-473b-bbf5-7bbaa3d51029\",\"type\":\"BasicTickFormatter\"},\"plot\":{\"id\":\"3622534d-ca31-4f34-9ffe-5a564c8d5e84\",\"subtype\":\"Figure\",\"type\":\"Plot\"},\"ticker\":{\"id\":\"989f2c32-bdd6-45b0-9af5-ee170812992a\",\"type\":\"BasicTicker\"}},\"id\":\"7f21f8df-4f75-40b2-9771-f840a7ae52f5\",\"type\":\"LinearAxis\"},{\"attributes\":{},\"id\":\"989f2c32-bdd6-45b0-9af5-ee170812992a\",\"type\":\"BasicTicker\"},{\"attributes\":{},\"id\":\"1b4d750d-a922-4b18-9b5d-f8d759626ff0\",\"type\":\"ResetTool\"},{\"attributes\":{\"active_drag\":\"auto\",\"active_inspect\":\"auto\",\"active_scroll\":\"auto\",\"active_tap\":\"auto\",\"tools\":[{\"id\":\"76eaa87b-21ae-43fc-9499-d8d76fb0248f\",\"type\":\"WheelZoomTool\"},{\"id\":\"2b98782f-0573-47e2-b6ae-0709b3b1c4b5\",\"type\":\"PanTool\"},{\"id\":\"1b4d750d-a922-4b18-9b5d-f8d759626ff0\",\"type\":\"ResetTool\"}]},\"id\":\"3b264ff8-ec27-499f-8196-8f57148526a7\",\"type\":\"Toolbar\"},{\"attributes\":{},\"id\":\"76eaa87b-21ae-43fc-9499-d8d76fb0248f\",\"type\":\"WheelZoomTool\"},{\"attributes\":{\"plot\":{\"id\":\"3622534d-ca31-4f34-9ffe-5a564c8d5e84\",\"subtype\":\"Figure\",\"type\":\"Plot\"},\"ticker\":{\"id\":\"e981e127-37d0-434d-86d8-b0e618f1a7a9\",\"type\":\"BasicTicker\"}},\"id\":\"051654d5-60fc-48fb-ba1b-1a7926d26bfa\",\"type\":\"Grid\"},{\"attributes\":{},\"id\":\"e981e127-37d0-434d-86d8-b0e618f1a7a9\",\"type\":\"BasicTicker\"},{\"attributes\":{\"dimension\":1,\"plot\":{\"id\":\"3622534d-ca31-4f34-9ffe-5a564c8d5e84\",\"subtype\":\"Figure\",\"type\":\"Plot\"},\"ticker\":{\"id\":\"989f2c32-bdd6-45b0-9af5-ee170812992a\",\"type\":\"BasicTicker\"}},\"id\":\"126bc97c-3a67-4eba-bb78-0087c50c4c56\",\"type\":\"Grid\"},{\"attributes\":{\"line_alpha\":{\"value\":0.1},\"line_color\":{\"value\":\"#1f77b4\"},\"line_width\":{\"value\":2},\"xs\":{\"field\":\"x\"},\"ys\":{\"field\":\"y\"}},\"id\":\"895b3a75-743b-4af1-bfb3-03f314f4626a\",\"type\":\"MultiLine\"},{\"attributes\":{\"data_source\":{\"id\":\"0fe189d4-55ac-4e68-8065-76bd422104b5\",\"type\":\"ColumnDataSource\"},\"glyph\":{\"id\":\"d17d51fc-bac5-49f7-beeb-b97bda15df90\",\"type\":\"MultiLine\"},\"hover_glyph\":null,\"muted_glyph\":null,\"nonselection_glyph\":{\"id\":\"895b3a75-743b-4af1-bfb3-03f314f4626a\",\"type\":\"MultiLine\"},\"selection_glyph\":null,\"view\":{\"id\":\"5cccb2ba-e5c8-4123-8717-4ed1ddc33a45\",\"type\":\"CDSView\"}},\"id\":\"449082d8-aa0e-4d00-b6ee-c8865b46257f\",\"type\":\"GlyphRenderer\"},{\"attributes\":{\"callback\":null},\"id\":\"fc3c6300-be14-452f-b899-b4e97ff8e49a\",\"type\":\"DataRange1d\"},{\"attributes\":{},\"id\":\"89f27159-862a-473b-bbf5-7bbaa3d51029\",\"type\":\"BasicTickFormatter\"},{\"attributes\":{\"source\":{\"id\":\"0fe189d4-55ac-4e68-8065-76bd422104b5\",\"type\":\"ColumnDataSource\"}},\"id\":\"5cccb2ba-e5c8-4123-8717-4ed1ddc33a45\",\"type\":\"CDSView\"},{\"attributes\":{\"callback\":null,\"column_names\":[\"y\",\"auc\",\"color\",\"x\",\"legend\",\"label\"],\"data\":{\"auc\":[0.589743339731,0.588788293785,0.579734696004,0.575449448601],\"color\":[\"#0d0887\",\"#9c179e\",\"#ed7953\",\"#f0f921\"],\"label\":[\"LightGBM\",\"XGBoost\",\"MLP\",\"Logistic\"],\"legend\":[\"LightGBM: AUC 0.5897\",\"XGBoost: AUC 0.5888\",\"MLP: AUC 0.5797\",\"Logistic: AUC 0.5754\"],\"x\":[[0.0,0.011795112567152736,1.0],[0.0,0.011478408276887052,1.0],[0.0,0.011759197647638072,1.0],[0.0,0.010549844357798795,1.0]],\"y\":[[0.0,0.19128179202927334,1.0],[0.0,0.18905499584732605,1.0],[0.0,0.17122858965562898,1.0],[0.0,0.1614487415592388,1.0]]}},\"id\":\"0fe189d4-55ac-4e68-8065-76bd422104b5\",\"type\":\"ColumnDataSource\"},{\"attributes\":{},\"id\":\"2b98782f-0573-47e2-b6ae-0709b3b1c4b5\",\"type\":\"PanTool\"},{\"attributes\":{\"items\":[{\"id\":\"d70bb31b-c9e2-419a-bb0c-e65f8656df12\",\"type\":\"LegendItem\"}],\"location\":\"bottom_right\",\"plot\":{\"id\":\"3622534d-ca31-4f34-9ffe-5a564c8d5e84\",\"subtype\":\"Figure\",\"type\":\"Plot\"}},\"id\":\"9b5a786c-fa81-45a0-93d0-a7a0efb4dd1e\",\"type\":\"Legend\"}],\"root_ids\":[\"3622534d-ca31-4f34-9ffe-5a564c8d5e84\"]},\"title\":\"Bokeh Application\",\"version\":\"0.12.13\"}};\n",
       "  var render_items = [{\"docid\":\"8a3dc20d-7f36-451e-9723-9643ad489ab4\",\"elementid\":\"4cf090a0-cde5-45e9-8da8-e7157c4af384\",\"modelid\":\"3622534d-ca31-4f34-9ffe-5a564c8d5e84\"}];\n",
       "  root.Bokeh.embed.embed_items_notebook(docs_json, render_items);\n",
       "\n",
       "  }\n",
       "  if (root.Bokeh !== undefined) {\n",
       "    embed_document(root);\n",
       "  } else {\n",
       "    var attempts = 0;\n",
       "    var timer = setInterval(function(root) {\n",
       "      if (root.Bokeh !== undefined) {\n",
       "        embed_document(root);\n",
       "        clearInterval(timer);\n",
       "      }\n",
       "      attempts++;\n",
       "      if (attempts > 100) {\n",
       "        console.log(\"Bokeh: ERROR: Unable to run BokehJS code because BokehJS library is missing\")\n",
       "        clearInterval(timer);\n",
       "      }\n",
       "    }, 10, root)\n",
       "  }\n",
       "})(window);"
      ],
      "application/vnd.bokehjs_exec.v0+json": ""
     },
     "metadata": {
      "application/vnd.bokehjs_exec.v0+json": {
       "id": "3622534d-ca31-4f34-9ffe-5a564c8d5e84"
      }
     },
     "output_type": "display_data"
    }
   ],
   "source": [
    "auc_initial = figure(plot_width=600, plot_height=400, tools=['wheel_zoom,pan,reset,'], title='ROC Curves for Classifiers')\n",
    "\n",
    "x = [[0.0, 0.010549844357798795, 1.0], [0.0, 0.011759197647638072, 1.0], [0.0, 0.011478408276887052, 1.0], [0.0, 0.011795112567152736, 1.0]]\n",
    "y = [[0.0, 0.1614487415592388, 1.0], [0.0, 0.17122858965562898, 1.0], [0.0, 0.18905499584732605, 1.0], [0.0, 0.19128179202927334, 1.0]]\n",
    "auc = [0.575449448601, 0.579734696004, 0.588788293785, 0.589743339731]\n",
    "label = ['Logistic', 'MLP', 'XGBoost', 'LightGBM']\n",
    "color = ['#0d0887', '#9c179e', '#ed7953', '#f0f921']\n",
    "col_inv = [color[i] for i in range(3,-1,-1)]\n",
    "legend = ['{}: AUC {}'.format(label[i],str(round(auc[i],4))) for i in range(4)]\n",
    "source1 = ColumnDataSource(data=dict(x=x[::-1], y=y[::-1], auc=auc[::-1], label=label[::-1], color=color, legend=legend[::-1]))\n",
    "\n",
    "auc_initial.multi_line('x', 'y', source=source1, line_width=2, color='color', legend='legend')\n",
    "\n",
    "auc_initial.legend.location = \"bottom_right\"\n",
    "auc_initial.title.align = \"center\"\n",
    "auc_initial.title.text_font_size = \"20px\"\n",
    "show(auc_initial)"
   ]
  },
  {
   "cell_type": "markdown",
   "metadata": {},
   "source": [
    "# AUC Comparison - final"
   ]
  },
  {
   "cell_type": "code",
   "execution_count": 14,
   "metadata": {},
   "outputs": [
    {
     "data": {
      "text/html": [
       "\n",
       "<div class=\"bk-root\">\n",
       "    <div class=\"bk-plotdiv\" id=\"db4dcf0b-073f-47fb-b7b2-8efd5f7d2f79\"></div>\n",
       "</div>"
      ]
     },
     "metadata": {},
     "output_type": "display_data"
    },
    {
     "data": {
      "application/javascript": [
       "(function(root) {\n",
       "  function embed_document(root) {\n",
       "    \n",
       "  var docs_json = {\"ec4d7d0f-4eba-4355-a2ab-107ace5a9098\":{\"roots\":{\"references\":[{\"attributes\":{},\"id\":\"674b5486-ec43-460a-a1bd-43dd010f1597\",\"type\":\"LinearScale\"},{\"attributes\":{},\"id\":\"6dd19cad-2234-4fbc-9011-4f445d748db4\",\"type\":\"BasicTickFormatter\"},{\"attributes\":{},\"id\":\"7f9038d3-07da-4c3e-88f0-7b4ac3963d2a\",\"type\":\"ResetTool\"},{\"attributes\":{},\"id\":\"732926bd-c2ee-49e3-a9a3-a4409e8f9bd7\",\"type\":\"BasicTicker\"},{\"attributes\":{\"source\":{\"id\":\"09b8f255-d9b4-4f04-a974-7ad1ea0d2212\",\"type\":\"ColumnDataSource\"}},\"id\":\"7056ab00-de56-4722-8b25-259484a37311\",\"type\":\"CDSView\"},{\"attributes\":{\"items\":[{\"id\":\"eca07594-4646-4b6e-8e88-5fbc375e79d1\",\"type\":\"LegendItem\"}],\"location\":\"bottom_right\",\"plot\":{\"id\":\"0aeeac43-c4bb-4a76-b760-45b4b00e8ee5\",\"subtype\":\"Figure\",\"type\":\"Plot\"}},\"id\":\"21190465-f124-4349-9389-f6cfd67d48a8\",\"type\":\"Legend\"},{\"attributes\":{\"align\":\"center\",\"plot\":null,\"text\":\"ROC Curves for Regressors\",\"text_font_size\":{\"value\":\"20px\"}},\"id\":\"37c289e7-6b27-458b-b225-8f3e22949ec2\",\"type\":\"Title\"},{\"attributes\":{\"callback\":null},\"id\":\"af30acf6-85de-4e53-b8c1-01280252cef0\",\"type\":\"DataRange1d\"},{\"attributes\":{},\"id\":\"83024010-760a-4fc7-9983-1d5614f200d5\",\"type\":\"BasicTicker\"},{\"attributes\":{\"plot\":{\"id\":\"0aeeac43-c4bb-4a76-b760-45b4b00e8ee5\",\"subtype\":\"Figure\",\"type\":\"Plot\"},\"render_mode\":\"css\",\"text\":\"* Previous order size assumption\",\"x\":10,\"x_units\":\"screen\",\"y\":325,\"y_units\":\"screen\"},\"id\":\"76d0e124-f707-43d3-9787-7ac5a78ae4c9\",\"type\":\"Label\"},{\"attributes\":{\"line_color\":{\"field\":\"color\"},\"line_width\":{\"value\":2},\"xs\":{\"field\":\"x\"},\"ys\":{\"field\":\"y\"}},\"id\":\"5c833032-6efa-447a-b4d9-5eb9908ebac8\",\"type\":\"MultiLine\"},{\"attributes\":{\"formatter\":{\"id\":\"2b6944c4-d69e-4a4b-8c47-d7627656a2bd\",\"type\":\"BasicTickFormatter\"},\"plot\":{\"id\":\"0aeeac43-c4bb-4a76-b760-45b4b00e8ee5\",\"subtype\":\"Figure\",\"type\":\"Plot\"},\"ticker\":{\"id\":\"732926bd-c2ee-49e3-a9a3-a4409e8f9bd7\",\"type\":\"BasicTicker\"}},\"id\":\"a449e193-32c9-4347-a325-046953359f1f\",\"type\":\"LinearAxis\"},{\"attributes\":{},\"id\":\"3e86b460-2c21-4a90-94b4-d542c82d595a\",\"type\":\"WheelZoomTool\"},{\"attributes\":{\"data_source\":{\"id\":\"09b8f255-d9b4-4f04-a974-7ad1ea0d2212\",\"type\":\"ColumnDataSource\"},\"glyph\":{\"id\":\"5c833032-6efa-447a-b4d9-5eb9908ebac8\",\"type\":\"MultiLine\"},\"hover_glyph\":null,\"muted_glyph\":null,\"nonselection_glyph\":{\"id\":\"f6f6572d-bc37-4922-a332-a5dbc989e6e5\",\"type\":\"MultiLine\"},\"selection_glyph\":null,\"view\":{\"id\":\"7056ab00-de56-4722-8b25-259484a37311\",\"type\":\"CDSView\"}},\"id\":\"2a4a4393-a783-4e94-bd22-6f3a2a5e3907\",\"type\":\"GlyphRenderer\"},{\"attributes\":{\"active_drag\":\"auto\",\"active_inspect\":\"auto\",\"active_scroll\":\"auto\",\"active_tap\":\"auto\",\"tools\":[{\"id\":\"3e86b460-2c21-4a90-94b4-d542c82d595a\",\"type\":\"WheelZoomTool\"},{\"id\":\"e21ec661-12e0-4f0c-8d72-9255ad5ad567\",\"type\":\"PanTool\"},{\"id\":\"7f9038d3-07da-4c3e-88f0-7b4ac3963d2a\",\"type\":\"ResetTool\"}]},\"id\":\"e0f31b11-c6f2-4213-a905-7b345fed21f2\",\"type\":\"Toolbar\"},{\"attributes\":{\"callback\":null,\"column_names\":[\"y\",\"auc\",\"color\",\"x\",\"legend\",\"label\"],\"data\":{\"auc\":[0.7096958361581512,0.709311906079616,0.7014539450367802,0.6966805822373798],\"color\":[\"#0d0887\",\"#9c179e\",\"#ed7953\",\"#f0f921\"],\"label\":[\"LightGBM\",\"XGBoost\",\"MLP\",\"Linear\"],\"legend\":[\"LightGBM: AUC 0.7097\",\"XGBoost: AUC 0.7093\",\"MLP: AUC 0.7015\",\"Linear: AUC 0.6967\"],\"x\":[[0.0,0.11926430572869086,1.0],[0.0,0.11934005355893998,1.0],[0.0,0.12087068212880135,1.0],[0.0,0.12180512303471928,1.0]],\"y\":[[0.0,0.5386559780449933,1.0],[0.0,0.5379638657181719,1.0],[0.0,0.5237785722023616,1.0],[0.0,0.5151662875094789,1.0]]}},\"id\":\"09b8f255-d9b4-4f04-a974-7ad1ea0d2212\",\"type\":\"ColumnDataSource\"},{\"attributes\":{\"line_alpha\":{\"value\":0.1},\"line_color\":{\"value\":\"#1f77b4\"},\"line_width\":{\"value\":2},\"xs\":{\"field\":\"x\"},\"ys\":{\"field\":\"y\"}},\"id\":\"f6f6572d-bc37-4922-a332-a5dbc989e6e5\",\"type\":\"MultiLine\"},{\"attributes\":{},\"id\":\"e21ec661-12e0-4f0c-8d72-9255ad5ad567\",\"type\":\"PanTool\"},{\"attributes\":{\"plot\":{\"id\":\"0aeeac43-c4bb-4a76-b760-45b4b00e8ee5\",\"subtype\":\"Figure\",\"type\":\"Plot\"},\"ticker\":{\"id\":\"732926bd-c2ee-49e3-a9a3-a4409e8f9bd7\",\"type\":\"BasicTicker\"}},\"id\":\"018fa663-f051-44d4-b6df-c3d424179e01\",\"type\":\"Grid\"},{\"attributes\":{\"dimension\":1,\"plot\":{\"id\":\"0aeeac43-c4bb-4a76-b760-45b4b00e8ee5\",\"subtype\":\"Figure\",\"type\":\"Plot\"},\"ticker\":{\"id\":\"83024010-760a-4fc7-9983-1d5614f200d5\",\"type\":\"BasicTicker\"}},\"id\":\"b4662ebb-a541-4072-b2a3-b99413b8bf8b\",\"type\":\"Grid\"},{\"attributes\":{\"label\":{\"field\":\"legend\"},\"renderers\":[{\"id\":\"2a4a4393-a783-4e94-bd22-6f3a2a5e3907\",\"type\":\"GlyphRenderer\"}]},\"id\":\"eca07594-4646-4b6e-8e88-5fbc375e79d1\",\"type\":\"LegendItem\"},{\"attributes\":{},\"id\":\"e03c4abd-50dc-4835-93a4-12f69c437b12\",\"type\":\"LinearScale\"},{\"attributes\":{},\"id\":\"2b6944c4-d69e-4a4b-8c47-d7627656a2bd\",\"type\":\"BasicTickFormatter\"},{\"attributes\":{\"formatter\":{\"id\":\"6dd19cad-2234-4fbc-9011-4f445d748db4\",\"type\":\"BasicTickFormatter\"},\"plot\":{\"id\":\"0aeeac43-c4bb-4a76-b760-45b4b00e8ee5\",\"subtype\":\"Figure\",\"type\":\"Plot\"},\"ticker\":{\"id\":\"83024010-760a-4fc7-9983-1d5614f200d5\",\"type\":\"BasicTicker\"}},\"id\":\"1ba133fa-e7da-45ec-acde-13a1e7817be6\",\"type\":\"LinearAxis\"},{\"attributes\":{\"below\":[{\"id\":\"a449e193-32c9-4347-a325-046953359f1f\",\"type\":\"LinearAxis\"}],\"left\":[{\"id\":\"1ba133fa-e7da-45ec-acde-13a1e7817be6\",\"type\":\"LinearAxis\"}],\"plot_height\":410,\"renderers\":[{\"id\":\"a449e193-32c9-4347-a325-046953359f1f\",\"type\":\"LinearAxis\"},{\"id\":\"018fa663-f051-44d4-b6df-c3d424179e01\",\"type\":\"Grid\"},{\"id\":\"1ba133fa-e7da-45ec-acde-13a1e7817be6\",\"type\":\"LinearAxis\"},{\"id\":\"b4662ebb-a541-4072-b2a3-b99413b8bf8b\",\"type\":\"Grid\"},{\"id\":\"21190465-f124-4349-9389-f6cfd67d48a8\",\"type\":\"Legend\"},{\"id\":\"2a4a4393-a783-4e94-bd22-6f3a2a5e3907\",\"type\":\"GlyphRenderer\"},{\"id\":\"76d0e124-f707-43d3-9787-7ac5a78ae4c9\",\"type\":\"Label\"}],\"title\":{\"id\":\"37c289e7-6b27-458b-b225-8f3e22949ec2\",\"type\":\"Title\"},\"toolbar\":{\"id\":\"e0f31b11-c6f2-4213-a905-7b345fed21f2\",\"type\":\"Toolbar\"},\"x_range\":{\"id\":\"af30acf6-85de-4e53-b8c1-01280252cef0\",\"type\":\"DataRange1d\"},\"x_scale\":{\"id\":\"674b5486-ec43-460a-a1bd-43dd010f1597\",\"type\":\"LinearScale\"},\"y_range\":{\"id\":\"9300f85a-0270-4f76-bf15-4afcb7cec61c\",\"type\":\"DataRange1d\"},\"y_scale\":{\"id\":\"e03c4abd-50dc-4835-93a4-12f69c437b12\",\"type\":\"LinearScale\"}},\"id\":\"0aeeac43-c4bb-4a76-b760-45b4b00e8ee5\",\"subtype\":\"Figure\",\"type\":\"Plot\"},{\"attributes\":{\"callback\":null},\"id\":\"9300f85a-0270-4f76-bf15-4afcb7cec61c\",\"type\":\"DataRange1d\"}],\"root_ids\":[\"0aeeac43-c4bb-4a76-b760-45b4b00e8ee5\"]},\"title\":\"Bokeh Application\",\"version\":\"0.12.13\"}};\n",
       "  var render_items = [{\"docid\":\"ec4d7d0f-4eba-4355-a2ab-107ace5a9098\",\"elementid\":\"db4dcf0b-073f-47fb-b7b2-8efd5f7d2f79\",\"modelid\":\"0aeeac43-c4bb-4a76-b760-45b4b00e8ee5\"}];\n",
       "  root.Bokeh.embed.embed_items_notebook(docs_json, render_items);\n",
       "\n",
       "  }\n",
       "  if (root.Bokeh !== undefined) {\n",
       "    embed_document(root);\n",
       "  } else {\n",
       "    var attempts = 0;\n",
       "    var timer = setInterval(function(root) {\n",
       "      if (root.Bokeh !== undefined) {\n",
       "        embed_document(root);\n",
       "        clearInterval(timer);\n",
       "      }\n",
       "      attempts++;\n",
       "      if (attempts > 100) {\n",
       "        console.log(\"Bokeh: ERROR: Unable to run BokehJS code because BokehJS library is missing\")\n",
       "        clearInterval(timer);\n",
       "      }\n",
       "    }, 10, root)\n",
       "  }\n",
       "})(window);"
      ],
      "application/vnd.bokehjs_exec.v0+json": ""
     },
     "metadata": {
      "application/vnd.bokehjs_exec.v0+json": {
       "id": "0aeeac43-c4bb-4a76-b760-45b4b00e8ee5"
      }
     },
     "output_type": "display_data"
    }
   ],
   "source": [
    "auc_final = figure(plot_width=600, plot_height=410, tools=['wheel_zoom,pan,reset,'], title='ROC Curves for Regressors')\n",
    "\n",
    "x = [[0.0, 0.12180512303471928, 1.0], [0.0, 0.12087068212880135, 1.0], [0.0, 0.11934005355893998, 1.0], [0.0, 0.11926430572869086, 1.0]]\n",
    "y = [[0.0, 0.5151662875094789, 1.0], [0.0, 0.52377857220236157, 1.0], [0.0, 0.5379638657181719, 1.0], [0.0, 0.53865597804499332, 1.0]]\n",
    "auc = [0.69668058223737983, 0.70145394503678016, 0.70931190607961603, 0.70969583615815124]\n",
    "label = ['Linear', 'MLP', 'XGBoost', 'LightGBM']\n",
    "color = ['#0d0887', '#9c179e', '#ed7953', '#f0f921']\n",
    "col_inv = [color[i] for i in range(3,-1,-1)]\n",
    "legend = ['{}: AUC {}'.format(label[i],str(round(auc[i],4))) for i in range(4)]\n",
    "source1 = ColumnDataSource(data=dict(x=x[::-1], y=y[::-1], auc=auc[::-1], label=label[::-1], color=color, legend=legend[::-1]))\n",
    "\n",
    "auc_final.multi_line('x', 'y', source=source1, line_width=2, color='color', legend='legend')\n",
    "\n",
    "auc_final.legend.location = \"bottom_right\"\n",
    "auc_final.title.align = \"center\"\n",
    "auc_final.title.text_font_size = \"20px\"\n",
    "\n",
    "citation = Label(x=10, y=325, x_units='screen', y_units='screen',\n",
    "             text='* Previous order size assumption', render_mode='css')\n",
    "auc_final.add_layout(citation)\n",
    "\n",
    "show(auc_final)"
   ]
  },
  {
   "cell_type": "markdown",
   "metadata": {},
   "source": [
    "# Feature importance comparison"
   ]
  },
  {
   "cell_type": "code",
   "execution_count": 15,
   "metadata": {},
   "outputs": [
    {
     "data": {
      "text/html": [
       "\n",
       "<div class=\"bk-root\">\n",
       "    <div class=\"bk-plotdiv\" id=\"3d355eb0-d33b-4bf0-95bf-85f6fe1e295a\"></div>\n",
       "</div>"
      ]
     },
     "metadata": {},
     "output_type": "display_data"
    },
    {
     "data": {
      "application/javascript": [
       "(function(root) {\n",
       "  function embed_document(root) {\n",
       "    \n",
       "  var docs_json = {\"eb5357b1-a83c-490e-a389-d49ea0aab24e\":{\"roots\":{\"references\":[{\"attributes\":{\"formatter\":{\"id\":\"3b5b892e-1f22-4305-90a8-65a5f43adc32\",\"type\":\"CategoricalTickFormatter\"},\"major_label_orientation\":1,\"plot\":{\"id\":\"7b0aeb7f-6cbc-4a81-9686-64a4dc1f51f7\",\"subtype\":\"Figure\",\"type\":\"Plot\"},\"ticker\":{\"id\":\"2d42ae62-bd21-4aaa-8dbd-59707beeae8c\",\"type\":\"CategoricalTicker\"}},\"id\":\"b0824ac1-65d2-4b02-96f5-7004031b35fe\",\"type\":\"CategoricalAxis\"},{\"attributes\":{\"plot\":{\"id\":\"32d4f24b-ffcd-4035-8e1e-c1f149d49806\",\"subtype\":\"Figure\",\"type\":\"Plot\"},\"ticker\":{\"id\":\"4b6e7a0c-2c90-43c5-a930-13982f6ad301\",\"type\":\"CategoricalTicker\"}},\"id\":\"6ac97ce5-ca7a-4cc7-9f84-5b201da296cf\",\"type\":\"Grid\"},{\"attributes\":{\"dimension\":1,\"plot\":{\"id\":\"32d4f24b-ffcd-4035-8e1e-c1f149d49806\",\"subtype\":\"Figure\",\"type\":\"Plot\"},\"ticker\":{\"id\":\"bc3393b3-925b-4e0f-9f81-bb576ff3aaf5\",\"type\":\"BasicTicker\"}},\"id\":\"0d4086cc-e0d4-4601-b45a-eea7467a6b57\",\"type\":\"Grid\"},{\"attributes\":{\"fill_alpha\":{\"value\":0.1},\"fill_color\":{\"value\":\"#1f77b4\"},\"line_alpha\":{\"value\":0.1},\"line_color\":{\"value\":\"#1f77b4\"},\"top\":{\"field\":\"top\"},\"width\":{\"value\":0.9},\"x\":{\"field\":\"x\"}},\"id\":\"873a34ce-d7d7-4d36-9cdb-2119fb72eefb\",\"type\":\"VBar\"},{\"attributes\":{\"child\":{\"id\":\"7b0aeb7f-6cbc-4a81-9686-64a4dc1f51f7\",\"subtype\":\"Figure\",\"type\":\"Plot\"},\"title\":\"XGBoost\"},\"id\":\"6d89fe08-bd6c-4568-a690-3518d00df6c6\",\"type\":\"Panel\"},{\"attributes\":{\"data_source\":{\"id\":\"e3e5022b-2086-49cd-bcdc-9fef52209c8c\",\"type\":\"ColumnDataSource\"},\"glyph\":{\"id\":\"ebd90390-534a-48d8-b9a7-a0033d6c8ad1\",\"type\":\"VBar\"},\"hover_glyph\":null,\"muted_glyph\":null,\"nonselection_glyph\":{\"id\":\"873a34ce-d7d7-4d36-9cdb-2119fb72eefb\",\"type\":\"VBar\"},\"selection_glyph\":null,\"view\":{\"id\":\"e968578e-45a8-4284-9a1d-320c4d591ba0\",\"type\":\"CDSView\"}},\"id\":\"6487d0d3-263d-4c1e-a4ec-bcb3d2882703\",\"type\":\"GlyphRenderer\"},{\"attributes\":{\"callback\":null,\"tabs\":[{\"id\":\"6d89fe08-bd6c-4568-a690-3518d00df6c6\",\"type\":\"Panel\"},{\"id\":\"80c005bd-a536-4ffb-8473-7e40f8ba5239\",\"type\":\"Panel\"}]},\"id\":\"8d2d3563-4a86-40e6-b284-93d5d3f03f28\",\"type\":\"Tabs\"},{\"attributes\":{\"below\":[{\"id\":\"6b2500f6-f2e4-446e-8500-e68be2413e03\",\"type\":\"CategoricalAxis\"}],\"left\":[{\"id\":\"e7bd5439-4c49-4f7d-a1f7-3cabd369b971\",\"type\":\"LinearAxis\"}],\"plot_height\":410,\"plot_width\":800,\"renderers\":[{\"id\":\"6b2500f6-f2e4-446e-8500-e68be2413e03\",\"type\":\"CategoricalAxis\"},{\"id\":\"6ac97ce5-ca7a-4cc7-9f84-5b201da296cf\",\"type\":\"Grid\"},{\"id\":\"e7bd5439-4c49-4f7d-a1f7-3cabd369b971\",\"type\":\"LinearAxis\"},{\"id\":\"0d4086cc-e0d4-4601-b45a-eea7467a6b57\",\"type\":\"Grid\"},{\"id\":\"6487d0d3-263d-4c1e-a4ec-bcb3d2882703\",\"type\":\"GlyphRenderer\"}],\"title\":{\"id\":\"30add88a-15f6-4af1-947e-df7fb1488629\",\"type\":\"Title\"},\"toolbar\":{\"id\":\"beab54b0-be42-4bfe-a0c9-848d50700d0b\",\"type\":\"Toolbar\"},\"x_range\":{\"id\":\"bb65f245-9f86-43d4-8e6e-0722b99a55ee\",\"type\":\"FactorRange\"},\"x_scale\":{\"id\":\"b3e3c1b6-925f-420b-bffe-a126deaea846\",\"type\":\"CategoricalScale\"},\"y_range\":{\"id\":\"23f9a1b5-9f88-4c23-a12a-f51830092cde\",\"type\":\"DataRange1d\"},\"y_scale\":{\"id\":\"b77cb2d4-167f-490e-a6b3-e12358e3d869\",\"type\":\"LinearScale\"}},\"id\":\"32d4f24b-ffcd-4035-8e1e-c1f149d49806\",\"subtype\":\"Figure\",\"type\":\"Plot\"},{\"attributes\":{\"plot\":{\"id\":\"7b0aeb7f-6cbc-4a81-9686-64a4dc1f51f7\",\"subtype\":\"Figure\",\"type\":\"Plot\"},\"ticker\":{\"id\":\"2d42ae62-bd21-4aaa-8dbd-59707beeae8c\",\"type\":\"CategoricalTicker\"}},\"id\":\"6e641105-9019-48f5-b0af-a053576c7eb0\",\"type\":\"Grid\"},{\"attributes\":{\"below\":[{\"id\":\"b0824ac1-65d2-4b02-96f5-7004031b35fe\",\"type\":\"CategoricalAxis\"}],\"left\":[{\"id\":\"10bb5108-d4c9-4ebe-9b5a-1be96477bbe7\",\"type\":\"LinearAxis\"}],\"plot_height\":410,\"plot_width\":800,\"renderers\":[{\"id\":\"b0824ac1-65d2-4b02-96f5-7004031b35fe\",\"type\":\"CategoricalAxis\"},{\"id\":\"6e641105-9019-48f5-b0af-a053576c7eb0\",\"type\":\"Grid\"},{\"id\":\"10bb5108-d4c9-4ebe-9b5a-1be96477bbe7\",\"type\":\"LinearAxis\"},{\"id\":\"7a97ab9c-ecaf-4f2b-8c4c-3907be81f3f7\",\"type\":\"Grid\"},{\"id\":\"1b040b27-59b6-40a6-b3d0-36a834f1b7b0\",\"type\":\"GlyphRenderer\"}],\"title\":{\"id\":\"184e9db7-d31b-44a1-be6e-9f0c15cdc3f7\",\"type\":\"Title\"},\"toolbar\":{\"id\":\"f94a68f7-d4d9-42c7-bc41-1da43b1506f2\",\"type\":\"Toolbar\"},\"x_range\":{\"id\":\"684703e5-6423-4c1c-b224-87ddddb71b21\",\"type\":\"FactorRange\"},\"x_scale\":{\"id\":\"ba608162-3ea7-4427-bdfb-61bd2b2abf44\",\"type\":\"CategoricalScale\"},\"y_range\":{\"id\":\"53d96dde-2c7e-4995-9786-14dcf270a30f\",\"type\":\"DataRange1d\"},\"y_scale\":{\"id\":\"fd6ed839-fe1b-457b-880d-4bee05c1d341\",\"type\":\"LinearScale\"}},\"id\":\"7b0aeb7f-6cbc-4a81-9686-64a4dc1f51f7\",\"subtype\":\"Figure\",\"type\":\"Plot\"},{\"attributes\":{\"active_drag\":\"auto\",\"active_inspect\":\"auto\",\"active_scroll\":\"auto\",\"active_tap\":\"auto\",\"tools\":[{\"id\":\"47930e36-a47f-47e2-bd3b-850b81b1ac93\",\"type\":\"WheelZoomTool\"},{\"id\":\"a1e70ef5-1268-40a2-8176-90a7967cafc5\",\"type\":\"PanTool\"},{\"id\":\"0fce236f-f7c8-42ea-a6fc-f5742e06408b\",\"type\":\"ResetTool\"}]},\"id\":\"beab54b0-be42-4bfe-a0c9-848d50700d0b\",\"type\":\"Toolbar\"},{\"attributes\":{\"callback\":null,\"column_names\":[\"x\",\"top\"],\"data\":{\"top\":[801,581,644,459,942,644,425,281,296,262,349,453,408,551,574,341,619,139,228,272,234,296,119,45,46,120,1,14,30,5],\"x\":[\"avg_order_size\",\"prev_ord_size\",\"avg_days_between_orders\",\"num_orders_placed\",\"reordered_usr_avg\",\"overall_avg_prod_disp\",\"overall_avg_aisle_disp\",\"perc_aisle_support\",\"overall_avg_dept_disp\",\"perc_dept_support\",\"avg_ord_pos\",\"days_since_aisle\",\"days_since_department\",\"days_since_prod\",\"order_aisle_displacement\",\"orders_since_prod\",\"perc_prod_support\",\"prod_aisle_ratio\",\"prod_dept_ratio\",\"streak_length\",\"usr_avg_aisle_disp\",\"usr_avg_dept_disp\",\"usr_avg_prod_disp\",\"prod_due_overall_perc\",\"prod_due_user_perc\",\"aisle_due_overall_perc\",\"aisle_due_user_perc\",\"dept_due_overall_perc\",\"dept_due_user_perc\",\"reorder_custom\"]}},\"id\":\"e3e5022b-2086-49cd-bcdc-9fef52209c8c\",\"type\":\"ColumnDataSource\"},{\"attributes\":{},\"id\":\"5738849e-77e2-4a33-9980-da072f3f48ae\",\"type\":\"BasicTickFormatter\"},{\"attributes\":{\"plot\":null,\"text\":\"XGBoost Feature Importance\"},\"id\":\"184e9db7-d31b-44a1-be6e-9f0c15cdc3f7\",\"type\":\"Title\"},{\"attributes\":{\"formatter\":{\"id\":\"5d1a4d5b-dc21-4cd3-8873-dde6173e35fb\",\"type\":\"BasicTickFormatter\"},\"plot\":{\"id\":\"7b0aeb7f-6cbc-4a81-9686-64a4dc1f51f7\",\"subtype\":\"Figure\",\"type\":\"Plot\"},\"ticker\":{\"id\":\"d5d6dce3-d7aa-43c4-8278-369a763a954f\",\"type\":\"BasicTicker\"},\"visible\":false},\"id\":\"10bb5108-d4c9-4ebe-9b5a-1be96477bbe7\",\"type\":\"LinearAxis\"},{\"attributes\":{},\"id\":\"3b5b892e-1f22-4305-90a8-65a5f43adc32\",\"type\":\"CategoricalTickFormatter\"},{\"attributes\":{\"formatter\":{\"id\":\"5738849e-77e2-4a33-9980-da072f3f48ae\",\"type\":\"BasicTickFormatter\"},\"plot\":{\"id\":\"32d4f24b-ffcd-4035-8e1e-c1f149d49806\",\"subtype\":\"Figure\",\"type\":\"Plot\"},\"ticker\":{\"id\":\"bc3393b3-925b-4e0f-9f81-bb576ff3aaf5\",\"type\":\"BasicTicker\"},\"visible\":false},\"id\":\"e7bd5439-4c49-4f7d-a1f7-3cabd369b971\",\"type\":\"LinearAxis\"},{\"attributes\":{},\"id\":\"5d1a4d5b-dc21-4cd3-8873-dde6173e35fb\",\"type\":\"BasicTickFormatter\"},{\"attributes\":{\"source\":{\"id\":\"957e4b17-13b1-4ead-9ac5-99238e393098\",\"type\":\"ColumnDataSource\"}},\"id\":\"99ddd8e5-1ecb-41b4-9cd0-a445445cd1ec\",\"type\":\"CDSView\"},{\"attributes\":{},\"id\":\"9ab9b67f-58a6-4c25-949c-497d5281260a\",\"type\":\"ResetTool\"},{\"attributes\":{},\"id\":\"0fce236f-f7c8-42ea-a6fc-f5742e06408b\",\"type\":\"ResetTool\"},{\"attributes\":{},\"id\":\"4b6e7a0c-2c90-43c5-a930-13982f6ad301\",\"type\":\"CategoricalTicker\"},{\"attributes\":{},\"id\":\"fd6ed839-fe1b-457b-880d-4bee05c1d341\",\"type\":\"LinearScale\"},{\"attributes\":{\"callback\":null},\"id\":\"53d96dde-2c7e-4995-9786-14dcf270a30f\",\"type\":\"DataRange1d\"},{\"attributes\":{},\"id\":\"bc3393b3-925b-4e0f-9f81-bb576ff3aaf5\",\"type\":\"BasicTicker\"},{\"attributes\":{},\"id\":\"a1e70ef5-1268-40a2-8176-90a7967cafc5\",\"type\":\"PanTool\"},{\"attributes\":{},\"id\":\"b3e3c1b6-925f-420b-bffe-a126deaea846\",\"type\":\"CategoricalScale\"},{\"attributes\":{},\"id\":\"f23de53c-9f1e-4fe0-9f8c-02426f42f312\",\"type\":\"CategoricalTickFormatter\"},{\"attributes\":{},\"id\":\"d5d6dce3-d7aa-43c4-8278-369a763a954f\",\"type\":\"BasicTicker\"},{\"attributes\":{\"source\":{\"id\":\"e3e5022b-2086-49cd-bcdc-9fef52209c8c\",\"type\":\"ColumnDataSource\"}},\"id\":\"e968578e-45a8-4284-9a1d-320c4d591ba0\",\"type\":\"CDSView\"},{\"attributes\":{},\"id\":\"47930e36-a47f-47e2-bd3b-850b81b1ac93\",\"type\":\"WheelZoomTool\"},{\"attributes\":{},\"id\":\"ba608162-3ea7-4427-bdfb-61bd2b2abf44\",\"type\":\"CategoricalScale\"},{\"attributes\":{\"fill_color\":{\"value\":\"#0d0887\"},\"line_color\":{\"value\":\"#0d0887\"},\"top\":{\"field\":\"top\"},\"width\":{\"value\":0.9},\"x\":{\"field\":\"x\"}},\"id\":\"ebd90390-534a-48d8-b9a7-a0033d6c8ad1\",\"type\":\"VBar\"},{\"attributes\":{},\"id\":\"7a68cd64-9d31-40ed-93c1-4b7747386651\",\"type\":\"WheelZoomTool\"},{\"attributes\":{\"active_drag\":\"auto\",\"active_inspect\":\"auto\",\"active_scroll\":\"auto\",\"active_tap\":\"auto\",\"tools\":[{\"id\":\"7a68cd64-9d31-40ed-93c1-4b7747386651\",\"type\":\"WheelZoomTool\"},{\"id\":\"ba14a346-8da9-422a-b3a6-ac342397f3c0\",\"type\":\"PanTool\"},{\"id\":\"9ab9b67f-58a6-4c25-949c-497d5281260a\",\"type\":\"ResetTool\"}]},\"id\":\"f94a68f7-d4d9-42c7-bc41-1da43b1506f2\",\"type\":\"Toolbar\"},{\"attributes\":{\"callback\":null,\"factors\":[\"avg_order_size\",\"prev_ord_size\",\"avg_days_between_orders\",\"num_orders_placed\",\"reordered_usr_avg\",\"overall_avg_prod_disp\",\"overall_avg_aisle_disp\",\"perc_aisle_support\",\"overall_avg_dept_disp\",\"perc_dept_support\",\"avg_ord_pos\",\"days_since_aisle\",\"days_since_department\",\"days_since_prod\",\"order_aisle_displacement\",\"orders_since_prod\",\"perc_prod_support\",\"prod_aisle_ratio\",\"prod_dept_ratio\",\"streak_length\",\"usr_avg_aisle_disp\",\"usr_avg_dept_disp\",\"usr_avg_prod_disp\",\"prod_due_overall_perc\",\"prod_due_user_perc\",\"aisle_due_overall_perc\",\"aisle_due_user_perc\",\"dept_due_overall_perc\",\"dept_due_user_perc\",\"reorder_custom\"],\"range_padding\":0.1},\"id\":\"bb65f245-9f86-43d4-8e6e-0722b99a55ee\",\"type\":\"FactorRange\"},{\"attributes\":{\"callback\":null,\"column_names\":[\"x\",\"top\"],\"data\":{\"top\":[13753,11916,11483,9056,14336,12422,9280,8025,5562,6987,10107,7595,7325,7281,9243,4867,7680,2124,3632,3294,6580,7206,1412,1150,1739,2442,381,236,611,119],\"x\":[\"avg_order_size\",\"prev_ord_size\",\"avg_days_between_orders\",\"num_orders_placed\",\"reordered_usr_avg\",\"overall_avg_prod_disp\",\"overall_avg_aisle_disp\",\"perc_aisle_support\",\"overall_avg_dept_disp\",\"perc_dept_support\",\"avg_ord_pos\",\"days_since_aisle\",\"days_since_department\",\"days_since_prod\",\"order_aisle_displacement\",\"orders_since_prod\",\"perc_prod_support\",\"prod_aisle_ratio\",\"prod_dept_ratio\",\"streak_length\",\"usr_avg_aisle_disp\",\"usr_avg_dept_disp\",\"usr_avg_prod_disp\",\"prod_due_overall_perc\",\"prod_due_user_perc\",\"aisle_due_overall_perc\",\"aisle_due_user_perc\",\"dept_due_overall_perc\",\"dept_due_user_perc\",\"reorder_custom\"]}},\"id\":\"957e4b17-13b1-4ead-9ac5-99238e393098\",\"type\":\"ColumnDataSource\"},{\"attributes\":{\"child\":{\"id\":\"32d4f24b-ffcd-4035-8e1e-c1f149d49806\",\"subtype\":\"Figure\",\"type\":\"Plot\"},\"title\":\"LightGBM\"},\"id\":\"80c005bd-a536-4ffb-8473-7e40f8ba5239\",\"type\":\"Panel\"},{\"attributes\":{\"callback\":null},\"id\":\"23f9a1b5-9f88-4c23-a12a-f51830092cde\",\"type\":\"DataRange1d\"},{\"attributes\":{},\"id\":\"ba14a346-8da9-422a-b3a6-ac342397f3c0\",\"type\":\"PanTool\"},{\"attributes\":{},\"id\":\"b77cb2d4-167f-490e-a6b3-e12358e3d869\",\"type\":\"LinearScale\"},{\"attributes\":{\"data_source\":{\"id\":\"957e4b17-13b1-4ead-9ac5-99238e393098\",\"type\":\"ColumnDataSource\"},\"glyph\":{\"id\":\"1979cfed-c735-4f99-aebb-0853ffeb0a42\",\"type\":\"VBar\"},\"hover_glyph\":null,\"muted_glyph\":null,\"nonselection_glyph\":{\"id\":\"157b66c2-9042-4d54-9000-d6e63a909fce\",\"type\":\"VBar\"},\"selection_glyph\":null,\"view\":{\"id\":\"99ddd8e5-1ecb-41b4-9cd0-a445445cd1ec\",\"type\":\"CDSView\"}},\"id\":\"1b040b27-59b6-40a6-b3d0-36a834f1b7b0\",\"type\":\"GlyphRenderer\"},{\"attributes\":{\"fill_color\":{\"value\":\"#9c179e\"},\"line_color\":{\"value\":\"#9c179e\"},\"top\":{\"field\":\"top\"},\"width\":{\"value\":0.9},\"x\":{\"field\":\"x\"}},\"id\":\"1979cfed-c735-4f99-aebb-0853ffeb0a42\",\"type\":\"VBar\"},{\"attributes\":{\"dimension\":1,\"plot\":{\"id\":\"7b0aeb7f-6cbc-4a81-9686-64a4dc1f51f7\",\"subtype\":\"Figure\",\"type\":\"Plot\"},\"ticker\":{\"id\":\"d5d6dce3-d7aa-43c4-8278-369a763a954f\",\"type\":\"BasicTicker\"}},\"id\":\"7a97ab9c-ecaf-4f2b-8c4c-3907be81f3f7\",\"type\":\"Grid\"},{\"attributes\":{\"fill_alpha\":{\"value\":0.1},\"fill_color\":{\"value\":\"#1f77b4\"},\"line_alpha\":{\"value\":0.1},\"line_color\":{\"value\":\"#1f77b4\"},\"top\":{\"field\":\"top\"},\"width\":{\"value\":0.9},\"x\":{\"field\":\"x\"}},\"id\":\"157b66c2-9042-4d54-9000-d6e63a909fce\",\"type\":\"VBar\"},{\"attributes\":{\"callback\":null,\"factors\":[\"avg_order_size\",\"prev_ord_size\",\"avg_days_between_orders\",\"num_orders_placed\",\"reordered_usr_avg\",\"overall_avg_prod_disp\",\"overall_avg_aisle_disp\",\"perc_aisle_support\",\"overall_avg_dept_disp\",\"perc_dept_support\",\"avg_ord_pos\",\"days_since_aisle\",\"days_since_department\",\"days_since_prod\",\"order_aisle_displacement\",\"orders_since_prod\",\"perc_prod_support\",\"prod_aisle_ratio\",\"prod_dept_ratio\",\"streak_length\",\"usr_avg_aisle_disp\",\"usr_avg_dept_disp\",\"usr_avg_prod_disp\",\"prod_due_overall_perc\",\"prod_due_user_perc\",\"aisle_due_overall_perc\",\"aisle_due_user_perc\",\"dept_due_overall_perc\",\"dept_due_user_perc\",\"reorder_custom\"],\"range_padding\":0.1},\"id\":\"684703e5-6423-4c1c-b224-87ddddb71b21\",\"type\":\"FactorRange\"},{\"attributes\":{\"formatter\":{\"id\":\"f23de53c-9f1e-4fe0-9f8c-02426f42f312\",\"type\":\"CategoricalTickFormatter\"},\"major_label_orientation\":1,\"plot\":{\"id\":\"32d4f24b-ffcd-4035-8e1e-c1f149d49806\",\"subtype\":\"Figure\",\"type\":\"Plot\"},\"ticker\":{\"id\":\"4b6e7a0c-2c90-43c5-a930-13982f6ad301\",\"type\":\"CategoricalTicker\"}},\"id\":\"6b2500f6-f2e4-446e-8500-e68be2413e03\",\"type\":\"CategoricalAxis\"},{\"attributes\":{},\"id\":\"2d42ae62-bd21-4aaa-8dbd-59707beeae8c\",\"type\":\"CategoricalTicker\"},{\"attributes\":{\"plot\":null,\"text\":\"LightGBM Feature Importance\"},\"id\":\"30add88a-15f6-4af1-947e-df7fb1488629\",\"type\":\"Title\"}],\"root_ids\":[\"8d2d3563-4a86-40e6-b284-93d5d3f03f28\"]},\"title\":\"Bokeh Application\",\"version\":\"0.12.13\"}};\n",
       "  var render_items = [{\"docid\":\"eb5357b1-a83c-490e-a389-d49ea0aab24e\",\"elementid\":\"3d355eb0-d33b-4bf0-95bf-85f6fe1e295a\",\"modelid\":\"8d2d3563-4a86-40e6-b284-93d5d3f03f28\"}];\n",
       "  root.Bokeh.embed.embed_items_notebook(docs_json, render_items);\n",
       "\n",
       "  }\n",
       "  if (root.Bokeh !== undefined) {\n",
       "    embed_document(root);\n",
       "  } else {\n",
       "    var attempts = 0;\n",
       "    var timer = setInterval(function(root) {\n",
       "      if (root.Bokeh !== undefined) {\n",
       "        embed_document(root);\n",
       "        clearInterval(timer);\n",
       "      }\n",
       "      attempts++;\n",
       "      if (attempts > 100) {\n",
       "        console.log(\"Bokeh: ERROR: Unable to run BokehJS code because BokehJS library is missing\")\n",
       "        clearInterval(timer);\n",
       "      }\n",
       "    }, 10, root)\n",
       "  }\n",
       "})(window);"
      ],
      "application/vnd.bokehjs_exec.v0+json": ""
     },
     "metadata": {
      "application/vnd.bokehjs_exec.v0+json": {
       "id": "8d2d3563-4a86-40e6-b284-93d5d3f03f28"
      }
     },
     "output_type": "display_data"
    }
   ],
   "source": [
    "labels = ['avg_order_size', 'prev_ord_size', 'avg_days_between_orders', 'num_orders_placed', 'reordered_usr_avg', 'overall_avg_prod_disp', 'overall_avg_aisle_disp', 'perc_aisle_support', 'overall_avg_dept_disp', 'perc_dept_support', 'avg_ord_pos', 'days_since_aisle', 'days_since_department', 'days_since_prod', 'order_aisle_displacement', 'orders_since_prod', 'perc_prod_support', 'prod_aisle_ratio', 'prod_dept_ratio', 'streak_length', 'usr_avg_aisle_disp', 'usr_avg_dept_disp', 'usr_avg_prod_disp', 'prod_due_overall_perc', 'prod_due_user_perc', 'aisle_due_overall_perc', 'aisle_due_user_perc', 'dept_due_overall_perc', 'dept_due_user_perc', 'reorder_custom']\n",
    "\n",
    "xgboost = [13753, 11916, 11483, 9056, 14336, 12422, 9280, 8025, 5562, 6987, 10107, 7595, 7325, 7281, 9243, 4867, 7680, 2124, 3632, 3294, 6580, 7206, 1412, 1150, 1739, 2442, 381, 236, 611, 119]\n",
    "lightgbm = [801, 581, 644, 459, 942, 644, 425, 281, 296, 262, 349, 453, 408, 551, 574, 341, 619, 139, 228, 272, 234, 296, 119, 45, 46, 120, 1, 14, 30, 5]\n",
    "\n",
    "feat_xgb = figure(plot_width=800, plot_height=410, x_range=labels,\n",
    "                  tools=['wheel_zoom,pan,reset,'], title='XGBoost Feature Importance')\n",
    "\n",
    "feat_xgb.vbar(x=labels, top=xgboost, width=0.9, color='#9c179e')\n",
    "feat_xgb.xaxis.major_label_orientation = 1\n",
    "\n",
    "\n",
    "feat_lgb = figure(plot_width=800, plot_height=410, x_range=labels,\n",
    "                  tools=['wheel_zoom,pan,reset,'], title='LightGBM Feature Importance')\n",
    "\n",
    "feat_lgb.vbar(x=labels, top=lightgbm, width=0.9, color='#0d0887')\n",
    "feat_lgb.xaxis.major_label_orientation = 1\n",
    "feat_xgb.yaxis.visible = False\n",
    "feat_lgb.yaxis.visible = False\n",
    "feat_lgb.x_range.range_padding = 0.1\n",
    "feat_xgb.x_range.range_padding = 0.1\n",
    "\n",
    "tabs = Tabs(tabs=[ Panel(child=feat_xgb, title='XGBoost'), Panel(child=feat_lgb, title='LightGBM') ])\n",
    "\n",
    "show(tabs)"
   ]
  },
  {
   "cell_type": "markdown",
   "metadata": {},
   "source": [
    "# Kaggle submissions"
   ]
  },
  {
   "cell_type": "code",
   "execution_count": 16,
   "metadata": {},
   "outputs": [
    {
     "data": {
      "text/html": [
       "\n",
       "<div class=\"bk-root\">\n",
       "    <div class=\"bk-plotdiv\" id=\"99c15c5c-e444-4568-a6fc-5e6fa7ea1665\"></div>\n",
       "</div>"
      ]
     },
     "metadata": {},
     "output_type": "display_data"
    },
    {
     "data": {
      "application/javascript": [
       "(function(root) {\n",
       "  function embed_document(root) {\n",
       "    \n",
       "  var docs_json = {\"bc7b002d-e7c4-48e4-9130-265e5c6bd99b\":{\"roots\":{\"references\":[{\"attributes\":{\"below\":[{\"id\":\"0866a41d-9c3a-4340-835c-49e16cb5dd5d\",\"type\":\"CategoricalAxis\"}],\"left\":[{\"id\":\"c29cf239-8475-4d90-b789-f92b0a6cac9c\",\"type\":\"LinearAxis\"}],\"plot_height\":250,\"renderers\":[{\"id\":\"0866a41d-9c3a-4340-835c-49e16cb5dd5d\",\"type\":\"CategoricalAxis\"},{\"id\":\"62e8cca1-8add-48af-913a-385bcaa35ceb\",\"type\":\"Grid\"},{\"id\":\"c29cf239-8475-4d90-b789-f92b0a6cac9c\",\"type\":\"LinearAxis\"},{\"id\":\"b6f00016-df4e-4403-9462-07064cdb303a\",\"type\":\"Grid\"},{\"id\":\"99913536-a235-4837-8f99-6e3c28f42523\",\"type\":\"GlyphRenderer\"},{\"id\":\"6a09487a-7c72-4208-8558-58f5ff20f0ff\",\"type\":\"Span\"}],\"title\":{\"id\":\"a4014494-2faf-4d1a-8288-861e75b56adf\",\"type\":\"Title\"},\"toolbar\":{\"id\":\"58108d2f-99a0-4895-bee0-242a4baaea58\",\"type\":\"Toolbar\"},\"toolbar_location\":null,\"x_range\":{\"id\":\"fd3a9a54-4b08-4101-891f-f98ae5efa22a\",\"type\":\"FactorRange\"},\"x_scale\":{\"id\":\"a18de7c0-590e-4349-a3e0-a1fc482dc7ec\",\"type\":\"CategoricalScale\"},\"y_range\":{\"id\":\"858d4dae-8560-4dd6-928d-1e1550ff15c8\",\"type\":\"Range1d\"},\"y_scale\":{\"id\":\"31348088-2058-45ee-aba7-58736ea471aa\",\"type\":\"LinearScale\"}},\"id\":\"ba6a0931-5b19-4948-bd80-60f3dc8439da\",\"subtype\":\"Figure\",\"type\":\"Plot\"},{\"attributes\":{},\"id\":\"7b109566-bcba-4b2e-8d39-4d5ca94d5e4a\",\"type\":\"PanTool\"},{\"attributes\":{\"fill_color\":{\"field\":\"color\"},\"line_color\":{\"value\":\"white\"},\"top\":{\"field\":\"counts\"},\"width\":{\"value\":0.9},\"x\":{\"field\":\"x\"}},\"id\":\"2c87efe7-fc98-46ed-bd1c-560b9eb0cd11\",\"type\":\"VBar\"},{\"attributes\":{},\"id\":\"3379942e-ceab-467f-8b8b-67393881c588\",\"type\":\"CategoricalTickFormatter\"},{\"attributes\":{\"data_source\":{\"id\":\"9053efe8-5a04-4c78-b828-12e1957b4f45\",\"type\":\"ColumnDataSource\"},\"glyph\":{\"id\":\"2c87efe7-fc98-46ed-bd1c-560b9eb0cd11\",\"type\":\"VBar\"},\"hover_glyph\":null,\"muted_glyph\":null,\"nonselection_glyph\":{\"id\":\"1caaed8c-cf9f-4425-b628-ee594e9d407c\",\"type\":\"VBar\"},\"selection_glyph\":null,\"view\":{\"id\":\"e6e71b94-8e0b-4829-9838-6c26386ebd9d\",\"type\":\"CDSView\"}},\"id\":\"99913536-a235-4837-8f99-6e3c28f42523\",\"type\":\"GlyphRenderer\"},{\"attributes\":{\"formatter\":{\"id\":\"3711c2f9-c32a-4430-8d75-91140a91cfc6\",\"type\":\"BasicTickFormatter\"},\"plot\":{\"id\":\"ba6a0931-5b19-4948-bd80-60f3dc8439da\",\"subtype\":\"Figure\",\"type\":\"Plot\"},\"ticker\":{\"id\":\"1948d185-dcc4-4a85-8311-4c3503cc1f03\",\"type\":\"BasicTicker\"}},\"id\":\"c29cf239-8475-4d90-b789-f92b0a6cac9c\",\"type\":\"LinearAxis\"},{\"attributes\":{\"active_drag\":\"auto\",\"active_inspect\":\"auto\",\"active_scroll\":\"auto\",\"active_tap\":\"auto\",\"tools\":[{\"id\":\"91caa248-8eb1-46fb-a453-cf0616e7c118\",\"type\":\"WheelZoomTool\"},{\"id\":\"7b109566-bcba-4b2e-8d39-4d5ca94d5e4a\",\"type\":\"PanTool\"},{\"id\":\"96faa7a2-1f9a-4fb6-a412-d092e4bd4616\",\"type\":\"ResetTool\"}]},\"id\":\"58108d2f-99a0-4895-bee0-242a4baaea58\",\"type\":\"Toolbar\"},{\"attributes\":{\"dimension\":1,\"plot\":{\"id\":\"ba6a0931-5b19-4948-bd80-60f3dc8439da\",\"subtype\":\"Figure\",\"type\":\"Plot\"},\"ticker\":{\"id\":\"1948d185-dcc4-4a85-8311-4c3503cc1f03\",\"type\":\"BasicTicker\"}},\"id\":\"b6f00016-df4e-4403-9462-07064cdb303a\",\"type\":\"Grid\"},{\"attributes\":{},\"id\":\"cd3d840a-1a42-46f5-a7a6-cb48d424ba0b\",\"type\":\"CategoricalTicker\"},{\"attributes\":{},\"id\":\"3711c2f9-c32a-4430-8d75-91140a91cfc6\",\"type\":\"BasicTickFormatter\"},{\"attributes\":{},\"id\":\"a18de7c0-590e-4349-a3e0-a1fc482dc7ec\",\"type\":\"CategoricalScale\"},{\"attributes\":{\"grid_line_color\":{\"value\":null},\"plot\":{\"id\":\"ba6a0931-5b19-4948-bd80-60f3dc8439da\",\"subtype\":\"Figure\",\"type\":\"Plot\"},\"ticker\":{\"id\":\"cd3d840a-1a42-46f5-a7a6-cb48d424ba0b\",\"type\":\"CategoricalTicker\"}},\"id\":\"62e8cca1-8add-48af-913a-385bcaa35ceb\",\"type\":\"Grid\"},{\"attributes\":{\"fill_alpha\":{\"value\":0.1},\"fill_color\":{\"value\":\"#1f77b4\"},\"line_alpha\":{\"value\":0.1},\"line_color\":{\"value\":\"#1f77b4\"},\"top\":{\"field\":\"counts\"},\"width\":{\"value\":0.9},\"x\":{\"field\":\"x\"}},\"id\":\"1caaed8c-cf9f-4425-b628-ee594e9d407c\",\"type\":\"VBar\"},{\"attributes\":{\"callback\":null,\"end\":0.377,\"start\":0.3},\"id\":\"858d4dae-8560-4dd6-928d-1e1550ff15c8\",\"type\":\"Range1d\"},{\"attributes\":{\"formatter\":{\"id\":\"3379942e-ceab-467f-8b8b-67393881c588\",\"type\":\"CategoricalTickFormatter\"},\"major_label_orientation\":1,\"plot\":{\"id\":\"ba6a0931-5b19-4948-bd80-60f3dc8439da\",\"subtype\":\"Figure\",\"type\":\"Plot\"},\"ticker\":{\"id\":\"cd3d840a-1a42-46f5-a7a6-cb48d424ba0b\",\"type\":\"CategoricalTicker\"}},\"id\":\"0866a41d-9c3a-4340-835c-49e16cb5dd5d\",\"type\":\"CategoricalAxis\"},{\"attributes\":{\"source\":{\"id\":\"9053efe8-5a04-4c78-b828-12e1957b4f45\",\"type\":\"ColumnDataSource\"}},\"id\":\"e6e71b94-8e0b-4829-9838-6c26386ebd9d\",\"type\":\"CDSView\"},{\"attributes\":{},\"id\":\"31348088-2058-45ee-aba7-58736ea471aa\",\"type\":\"LinearScale\"},{\"attributes\":{},\"id\":\"91caa248-8eb1-46fb-a453-cf0616e7c118\",\"type\":\"WheelZoomTool\"},{\"attributes\":{},\"id\":\"1948d185-dcc4-4a85-8311-4c3503cc1f03\",\"type\":\"BasicTicker\"},{\"attributes\":{\"callback\":null,\"factors\":[[\"Linear\",\"Previous\"],[\"Linear\",\"Average\"],[\"MLP\",\"Previous\"],[\"MLP\",\"Average\"],[\"XGB\",\"Previous\"],[\"XGB\",\"Average\"],[\"LGB\",\"Previous\"],[\"LGB\",\"Average\"]],\"range_padding\":0.2},\"id\":\"fd3a9a54-4b08-4101-891f-f98ae5efa22a\",\"type\":\"FactorRange\"},{\"attributes\":{\"align\":\"center\",\"plot\":null,\"text\":\"Submission Scores by Model and Assumption\",\"text_font_size\":{\"value\":\"15px\"}},\"id\":\"a4014494-2faf-4d1a-8288-861e75b56adf\",\"type\":\"Title\"},{\"attributes\":{},\"id\":\"96faa7a2-1f9a-4fb6-a412-d092e4bd4616\",\"type\":\"ResetTool\"},{\"attributes\":{\"line_dash\":[6],\"line_width\":{\"value\":2},\"location\":0.3118025,\"plot\":{\"id\":\"ba6a0931-5b19-4948-bd80-60f3dc8439da\",\"subtype\":\"Figure\",\"type\":\"Plot\"}},\"id\":\"6a09487a-7c72-4208-8558-58f5ff20f0ff\",\"type\":\"Span\"},{\"attributes\":{\"callback\":null,\"column_names\":[\"color\",\"x\",\"counts\"],\"data\":{\"color\":[\"#ed7953\",\"#f0f921\",\"#ed7953\",\"#f0f921\",\"#ed7953\",\"#f0f921\",\"#ed7953\",\"#f0f921\"],\"counts\":[0.3528851,0.3602763,0.3590081,0.3655024,0.3680951,0.3752033,0.3671077,0.3746257],\"x\":[[\"Linear\",\"Previous\"],[\"Linear\",\"Average\"],[\"MLP\",\"Previous\"],[\"MLP\",\"Average\"],[\"XGB\",\"Previous\"],[\"XGB\",\"Average\"],[\"LGB\",\"Previous\"],[\"LGB\",\"Average\"]]}},\"id\":\"9053efe8-5a04-4c78-b828-12e1957b4f45\",\"type\":\"ColumnDataSource\"}],\"root_ids\":[\"ba6a0931-5b19-4948-bd80-60f3dc8439da\"]},\"title\":\"Bokeh Application\",\"version\":\"0.12.13\"}};\n",
       "  var render_items = [{\"docid\":\"bc7b002d-e7c4-48e4-9130-265e5c6bd99b\",\"elementid\":\"99c15c5c-e444-4568-a6fc-5e6fa7ea1665\",\"modelid\":\"ba6a0931-5b19-4948-bd80-60f3dc8439da\"}];\n",
       "  root.Bokeh.embed.embed_items_notebook(docs_json, render_items);\n",
       "\n",
       "  }\n",
       "  if (root.Bokeh !== undefined) {\n",
       "    embed_document(root);\n",
       "  } else {\n",
       "    var attempts = 0;\n",
       "    var timer = setInterval(function(root) {\n",
       "      if (root.Bokeh !== undefined) {\n",
       "        embed_document(root);\n",
       "        clearInterval(timer);\n",
       "      }\n",
       "      attempts++;\n",
       "      if (attempts > 100) {\n",
       "        console.log(\"Bokeh: ERROR: Unable to run BokehJS code because BokehJS library is missing\")\n",
       "        clearInterval(timer);\n",
       "      }\n",
       "    }, 10, root)\n",
       "  }\n",
       "})(window);"
      ],
      "application/vnd.bokehjs_exec.v0+json": ""
     },
     "metadata": {
      "application/vnd.bokehjs_exec.v0+json": {
       "id": "ba6a0931-5b19-4948-bd80-60f3dc8439da"
      }
     },
     "output_type": "display_data"
    }
   ],
   "source": [
    "from bokeh.models import Span\n",
    "from bokeh.models import ColumnDataSource, FactorRange\n",
    "fruits = ['Linear', 'MLP', 'XGB', 'LGB']\n",
    "years = ['Previous', 'Average']\n",
    "\n",
    "data = {'models' : fruits,\n",
    "        'Previous'   : [0.3528851, 0.3590081, 0.3680951, 0.3671077],\n",
    "        'Average'   : [0.3602763, 0.3655024, 0.3752033, 0.3746257]}\n",
    "\n",
    "# this creates [ (\"Apples\", \"2015\"), (\"Apples\", \"2016\"), (\"Apples\", \"2017\"), (\"Pears\", \"2015), ... ]\n",
    "x = [ (fruit, year) for fruit in fruits for year in years ]\n",
    "counts = sum(zip(data['Previous'], data['Average']), ()) # like an hstack\n",
    "\n",
    "color = ['#ed7953', '#f0f921','#ed7953', '#f0f921','#ed7953', '#f0f921','#ed7953', '#f0f921']\n",
    "source = ColumnDataSource(data=dict(x=x, counts=counts, color=color))\n",
    "\n",
    "p = figure(x_range=FactorRange(*x), y_range=[.3,.377],\n",
    "           plot_height=250, title=\"Submission Scores by Model and Assumption\",\n",
    "           toolbar_location=None, tools=['wheel_zoom,pan,reset,'])\n",
    "\n",
    "p.vbar(x='x', top='counts', width=0.9, source=source, line_color=\"white\",\n",
    "       fill_color='color')\n",
    "\n",
    "p.x_range.range_padding = 0.2\n",
    "p.xaxis.major_label_orientation = 1\n",
    "p.xgrid.grid_line_color = None\n",
    "p.title.align = \"center\"\n",
    "p.title.text_font_size = \"15px\"\n",
    "\n",
    "benchmark = Span(location=0.3118025,\n",
    "                            dimension='width', line_color='black',\n",
    "                            line_dash='dashed', line_width=2)\n",
    "\n",
    "p.add_layout(benchmark)\n",
    "\n",
    "show(p)"
   ]
  },
  {
   "cell_type": "code",
   "execution_count": 17,
   "metadata": {
    "scrolled": true
   },
   "outputs": [
    {
     "name": "stdout",
     "output_type": "stream",
     "text": [
      "\n",
      "<script type=\"text/javascript\">\n",
      "  (function() {\n",
      "    var fn = function() {\n",
      "      Bokeh.safely(function() {\n",
      "        (function(root) {\n",
      "          function embed_document(root) {\n",
      "            \n",
      "          var docs_json = '{\"20b3342a-3198-4673-8a84-b60af543f799\":{\"roots\":{\"references\":[{\"attributes\":{\"data_source\":{\"id\":\"e3e5022b-2086-49cd-bcdc-9fef52209c8c\",\"type\":\"ColumnDataSource\"},\"glyph\":{\"id\":\"ebd90390-534a-48d8-b9a7-a0033d6c8ad1\",\"type\":\"VBar\"},\"hover_glyph\":null,\"muted_glyph\":null,\"nonselection_glyph\":{\"id\":\"873a34ce-d7d7-4d36-9cdb-2119fb72eefb\",\"type\":\"VBar\"},\"selection_glyph\":null,\"view\":{\"id\":\"e968578e-45a8-4284-9a1d-320c4d591ba0\",\"type\":\"CDSView\"}},\"id\":\"6487d0d3-263d-4c1e-a4ec-bcb3d2882703\",\"type\":\"GlyphRenderer\"},{\"attributes\":{\"child\":{\"id\":\"e28045a7-d40f-4bef-bacf-6e6c5b294f8e\",\"subtype\":\"Figure\",\"type\":\"Plot\"},\"title\":\"Learning rate=0.1\"},\"id\":\"fc243c67-4b6e-431e-84fb-fb43605cf7cc\",\"type\":\"Panel\"},{\"attributes\":{\"axis_label\":\"Previous Order Size\",\"formatter\":{\"id\":\"e945aa23-a81e-4a57-8aa4-114640535de9\",\"type\":\"BasicTickFormatter\"},\"plot\":{\"id\":\"de9b13c6-00d8-4f4d-a7e5-fdf3953a1239\",\"subtype\":\"Figure\",\"type\":\"Plot\"},\"ticker\":{\"id\":\"f187ee9d-4276-4fb9-814e-377058404547\",\"type\":\"BasicTicker\"}},\"id\":\"9d7a8db9-5f26-44ca-933f-60debba24edc\",\"type\":\"LinearAxis\"},{\"attributes\":{\"formatter\":{\"id\":\"5d1a4d5b-dc21-4cd3-8873-dde6173e35fb\",\"type\":\"BasicTickFormatter\"},\"plot\":{\"id\":\"7b0aeb7f-6cbc-4a81-9686-64a4dc1f51f7\",\"subtype\":\"Figure\",\"type\":\"Plot\"},\"ticker\":{\"id\":\"d5d6dce3-d7aa-43c4-8278-369a763a954f\",\"type\":\"BasicTicker\"},\"visible\":false},\"id\":\"10bb5108-d4c9-4ebe-9b5a-1be96477bbe7\",\"type\":\"LinearAxis\"},{\"attributes\":{\"active_drag\":\"auto\",\"active_inspect\":\"auto\",\"active_scroll\":\"auto\",\"active_tap\":\"auto\",\"tools\":[{\"id\":\"d3cda3f6-e179-4e37-af13-37d6b6e2b781\",\"type\":\"HoverTool\"},{\"id\":\"ce0f4e2a-ea56-4cf5-9d43-c177789c3d8b\",\"type\":\"WheelZoomTool\"},{\"id\":\"f65d9a08-51ed-49e9-833c-ab7328edf625\",\"type\":\"PanTool\"},{\"id\":\"1e1cd196-c596-4ccc-9d4b-8ac18927d863\",\"type\":\"ResetTool\"}]},\"id\":\"a2e56e2e-be2a-4bfc-8b73-5f8295519eea\",\"type\":\"Toolbar\"},{\"attributes\":{},\"id\":\"13d2ab26-8cf1-4140-b9d0-7b476e63732f\",\"type\":\"WheelZoomTool\"},{\"attributes\":{\"callback\":null,\"end\":20},\"id\":\"ecafbb9f-cd73-4566-959f-cc515731b353\",\"type\":\"Range1d\"},{\"attributes\":{},\"id\":\"3711c2f9-c32a-4430-8d75-91140a91cfc6\",\"type\":\"BasicTickFormatter\"},{\"attributes\":{},\"id\":\"d8ebe987-fab5-42aa-9401-070b15c99c6f\",\"type\":\"LinearScale\"},{\"attributes\":{\"plot\":{\"id\":\"7523f60c-f514-46f3-b7ef-7b97a51bc1e1\",\"subtype\":\"Figure\",\"type\":\"Plot\"},\"ticker\":{\"id\":\"6ab4f740-395e-4f0c-84c2-7207340af531\",\"type\":\"BasicTicker\"}},\"id\":\"332c1df0-feaf-48e7-9566-455e25b5ba3d\",\"type\":\"Grid\"},{\"attributes\":{},\"id\":\"3d01746c-d03a-4bff-92dd-74794594730d\",\"type\":\"WheelZoomTool\"},{\"attributes\":{\"data_source\":{\"id\":\"e250d8d6-f2e7-4b03-99a8-1b913a3a5754\",\"type\":\"ColumnDataSource\"},\"glyph\":{\"id\":\"a0f2ea0d-a266-4a1b-aca4-5583b581470b\",\"type\":\"Circle\"},\"hover_glyph\":null,\"muted_glyph\":null,\"nonselection_glyph\":{\"id\":\"d6d3d53f-702d-4bb9-b88a-52c1c8640cfe\",\"type\":\"Circle\"},\"selection_glyph\":null,\"view\":{\"id\":\"876cdd69-65ed-4168-a32a-0739926c90cd\",\"type\":\"CDSView\"}},\"id\":\"745dda15-77fd-4652-adeb-9978b1eff40e\",\"type\":\"GlyphRenderer\"},{\"attributes\":{\"callback\":null},\"id\":\"fc3c6300-be14-452f-b899-b4e97ff8e49a\",\"type\":\"DataRange1d\"},{\"attributes\":{\"callback\":null,\"column_names\":[\"hist\",\"colors\",\"right\",\"center\",\"left\"],\"data\":{\"center\":{\"__ndarray__\":\"AAAAAAAA8D8AAAAAAAAAQAAAAAAAAAhAAAAAAAAAEEAAAAAAAAAUQAAAAAAAABRAAAAAAAAAGEAAAAAAAAAcQAAAAAAAACBAAAAAAAAAIkAAAAAAAAAiQAAAAAAAACRAAAAAAAAAJkAAAAAAAAAoQAAAAAAAACpAAAAAAAAAKkAAAAAAAAAsQAAAAAAAAC5AAAAAAAAAMEAAAAAAAAAwQAAAAAAAADFAAAAAAAAAMkAAAAAAAAAzQAAAAAAAADRAAAAAAAAANEAAAAAAAAA1QAAAAAAAADZAAAAAAAAAN0AAAAAAAAA4QAAAAAAAADhAAAAAAAAAOUAAAAAAAAA6QAAAAAAAADtAAAAAAAAAPEAAAAAAAAA8QAAAAAAAAD1AAAAAAAAAPkAAAAAAAAA/QAAAAAAAAEBAAAAAAAAAQEAAAAAAAIBAQAAAAAAAAEFAAAAAAACAQUAAAAAAAABCQAAAAAAAAEJAAAAAAACAQkAAAAAAAABDQAAAAAAAgENAAAAAAACAQ0AAAAAAAABEQAAAAAAAgERAAAAAAAAARUAAAAAAAIBFQAAAAAAAgEVAAAAAAAAARkAAAAAAAIBGQAAAAAAAAEdAAAAAAACAR0AAAAAAAIBHQAAAAAAAAEhAAAAAAACASEAAAAAAAABJQAAAAAAAgElAAAAAAACASUAAAAAAAABKQAAAAAAAgEpAAAAAAAAAS0AAAAAAAIBLQAAAAAAAgEtAAAAAAAAATEAAAAAAAIBMQAAAAAAAAE1AAAAAAACATUAAAAAAAIBNQAAAAAAAAE5A\",\"dtype\":\"float64\",\"shape\":[75]},\"colors\":[\"#9e0142\",\"#a60a44\",\"#af1446\",\"#ba2048\",\"#c2294a\",\"#c2294a\",\"#cb334c\",\"#d53e4e\",\"#da464c\",\"#df4d4b\",\"#df4d4b\",\"#e55648\",\"#ea5e46\",\"#ef6544\",\"#f46f44\",\"#f46f44\",\"#f57948\",\"#f7834d\",\"#f89053\",\"#f89053\",\"#fa9a58\",\"#fba55c\",\"#fdb063\",\"#fdb86a\",\"#fdb86a\",\"#fdc070\",\"#fdca78\",\"#fdd27f\",\"#fdda86\",\"#fdda86\",\"#fee28f\",\"#fee797\",\"#feec9f\",\"#fef2a9\",\"#fef2a9\",\"#fef7b1\",\"#fefbb9\",\"#fcfebb\",\"#f8fcb5\",\"#f8fcb5\",\"#f4faae\",\"#eff8a7\",\"#ebf7a1\",\"#e7f59b\",\"#e7f59b\",\"#dff299\",\"#d5ee9b\",\"#ccea9d\",\"#ccea9d\",\"#c0e59f\",\"#b7e2a1\",\"#aedea3\",\"#a1d9a4\",\"#a1d9a4\",\"#96d5a4\",\"#8bd0a4\",\"#7ecba4\",\"#73c7a4\",\"#73c7a4\",\"#68c3a4\",\"#5db8a8\",\"#55afac\",\"#4da6b0\",\"#4da6b0\",\"#439bb5\",\"#3b92b8\",\"#3389bc\",\"#397db8\",\"#397db8\",\"#4075b4\",\"#476caf\",\"#5060aa\",\"#5757a6\",\"#5757a6\",\"#5e4fa2\"],\"hist\":[4275,7072,8519,9280,9974,12216,12168,13334,12825,12825,12124,11449,10094,9415,8152,7233,6281,5729,4846,4138,3465,3169,2567,2467,1908,1699,1379,1224,1057,745,738,596,496,439,391,315,270,218,186,133,121,106,88,70,66,52,42,46,30,21,22,19,16,21,9,6,11,6,4,6,8,6,6,0,2,4,1,0,1,1,2,0,2,1,2],\"left\":{\"__ndarray__\":\"AAAAAAAA8D+y5BdLfrH8P7LkF0t+sQRACtejcD0KC0Cy5BdLfrEQQN7d3d3d3RNACtejcD0KF0A30GkDnTYaQGPJL5b8Yh1ASOF6FK5HIEDe3d3d3d0hQHTaQKcNdCNACtejcD0KJUCg0wY6baAmQDfQaQOdNihAzczMzMzMKUBjyS+W/GIrQPnFkl8s+SxAj8L1KFyPLkCTXyz5xRIwQN7d3d3d3TBAKVyPwvWoMUB02kCnDXQyQL9Y8oslPzNACtejcD0KNEBVVVVVVdU0QKDTBjptoDVA7FG4HoVrNkA30GkDnTY3QIJOG+i0AThAzczMzMzMOEAYS36x5Jc5QGPJL5b8YjpArkfhehQuO0D5xZJfLPk7QERERERExDxAj8L1KFyPPUDaQKcNdFo+QCa/WPKLJT9AcT0K16PwP0De3d3d3V1AQAOdNtBpw0BAKVyPwvUoQUBPG+i0gY5BQHTaQKcN9EFAmpmZmZlZQkC/WPKLJb9CQOUXS36xJENACtejcD2KQ0Awlvxiye9DQFVVVVVVVURAexSuR+G6RECg0wY6bSBFQMaSXyz5hUVA7FG4HoXrRUAREREREVFGQDfQaQOdtkZAXI/C9SgcR0CCThvotIFHQKcNdNpA50dAzczMzMxMSEDyiyW/WLJIQBhLfrHkF0lAPQrXo3B9SUBjyS+W/OJJQImIiIiISEpArkfhehSuSkDUBjptoBNLQPnFkl8seUtAH4XrUbjeS0BERERERERMQGoDnTbQqUxAj8L1KFwPTUC1gU4b6HRNQNpApw102k1A\",\"dtype\":\"float64\",\"shape\":[75]},\"right\":{\"__ndarray__\":\"suQXS36x/D+y5BdLfrEEQArXo3A9CgtAsuQXS36xEEDe3d3d3d0TQArXo3A9ChdAN9BpA502GkBjyS+W/GIdQEjhehSuRyBA3t3d3d3dIUB02kCnDXQjQArXo3A9CiVAoNMGOm2gJkA30GkDnTYoQM3MzMzMzClAY8kvlvxiK0D5xZJfLPksQI/C9Shcjy5Ak18s+cUSMEDe3d3d3d0wQClcj8L1qDFAdNpApw10MkC/WPKLJT8zQArXo3A9CjRAVVVVVVXVNECg0wY6baA1QOxRuB6FazZAN9BpA502N0CCThvotAE4QM3MzMzMzDhAGEt+seSXOUBjyS+W/GI6QK5H4XoULjtA+cWSXyz5O0BERERERMQ8QI/C9Shcjz1A2kCnDXRaPkAmv1jyiyU/QHE9Ctej8D9A3t3d3d1dQEADnTbQacNAQClcj8L1KEFATxvotIGOQUB02kCnDfRBQJqZmZmZWUJAv1jyiyW/QkDlF0t+sSRDQArXo3A9ikNAMJb8YsnvQ0BVVVVVVVVEQHsUrkfhukRAoNMGOm0gRUDGkl8s+YVFQOxRuB6F60VAERERERFRRkA30GkDnbZGQFyPwvUoHEdAgk4b6LSBR0CnDXTaQOdHQM3MzMzMTEhA8oslv1iySEAYS36x5BdJQD0K16NwfUlAY8kvlvziSUCJiIiIiEhKQK5H4XoUrkpA1AY6baATS0D5xZJfLHlLQB+F61G43ktARERERERETEBqA5020KlMQI/C9ShcD01AtYFOG+h0TUDaQKcNdNpNQAAAAAAAQE5A\",\"dtype\":\"float64\",\"shape\":[75]}}},\"id\":\"1813044d-dcb7-43d8-a27d-db60ee54e5a0\",\"type\":\"ColumnDataSource\"},{\"attributes\":{\"dimensions\":\"height\"},\"id\":\"edfdcbbc-4fbc-48bc-9e2c-547cd46aa322\",\"type\":\"WheelZoomTool\"},{\"attributes\":{},\"id\":\"2b98782f-0573-47e2-b6ae-0709b3b1c4b5\",\"type\":\"PanTool\"},{\"attributes\":{\"below\":[{\"id\":\"25280dfc-6497-4da0-a24f-8ba98815a0ca\",\"type\":\"LinearAxis\"}],\"left\":[{\"id\":\"4d547e3b-f2b2-4af6-bd3e-e731723d94db\",\"type\":\"LinearAxis\"}],\"renderers\":[{\"id\":\"25280dfc-6497-4da0-a24f-8ba98815a0ca\",\"type\":\"LinearAxis\"},{\"id\":\"1c3547cc-2104-4611-9d3e-552308db362b\",\"type\":\"Grid\"},{\"id\":\"4d547e3b-f2b2-4af6-bd3e-e731723d94db\",\"type\":\"LinearAxis\"},{\"id\":\"aad8e686-a9ed-4163-95d6-8ef2b8f165cc\",\"type\":\"Grid\"},{\"id\":\"729b5b05-668f-40ce-84c9-da0ede18a358\",\"type\":\"GlyphRenderer\"},{\"id\":\"838f27a0-35a5-43ce-bbc7-bbb323eab40c\",\"type\":\"Label\"},{\"id\":\"da5da137-bd64-4808-9c40-1c017d5c8f73\",\"type\":\"Label\"}],\"title\":{\"id\":\"a28ba936-c38d-468d-8c64-0a241d7bb788\",\"type\":\"Title\"},\"toolbar\":{\"id\":\"6b210795-69cf-4081-a78f-fe68cd02a394\",\"type\":\"Toolbar\"},\"x_range\":{\"id\":\"361f8162-3161-412f-96b0-06e0869b6e80\",\"type\":\"Range1d\"},\"x_scale\":{\"id\":\"c964438e-581e-4f2c-ac55-a37dff7e12d8\",\"type\":\"LinearScale\"},\"y_range\":{\"id\":\"b6dd4763-28fe-43b9-86d1-90cf87a86139\",\"type\":\"Range1d\"},\"y_scale\":{\"id\":\"7ec6fd36-fec3-4fb8-8dbb-d6aa48857c82\",\"type\":\"LinearScale\"}},\"id\":\"e28045a7-d40f-4bef-bacf-6e6c5b294f8e\",\"subtype\":\"Figure\",\"type\":\"Plot\"},{\"attributes\":{\"plot\":{\"id\":\"bf333bea-24d8-414b-8321-2e80f4d34bc0\",\"subtype\":\"Figure\",\"type\":\"Plot\"},\"render_mode\":\"css\",\"text\":\"* points sized by AUC\",\"x\":10,\"x_units\":\"screen\",\"y\":495,\"y_units\":\"screen\"},\"id\":\"5bf23179-3cbd-4659-a3d8-8b81abd7d176\",\"type\":\"Label\"},{\"attributes\":{\"callback\":null,\"end\":380},\"id\":\"b6dd4763-28fe-43b9-86d1-90cf87a86139\",\"type\":\"Range1d\"},{\"attributes\":{},\"id\":\"48f4a33d-f8a2-4dbe-a3c8-103a1ec10a3e\",\"type\":\"BasicTicker\"},{\"attributes\":{\"plot\":{\"id\":\"7523f60c-f514-46f3-b7ef-7b97a51bc1e1\",\"subtype\":\"Figure\",\"type\":\"Plot\"},\"render_mode\":\"css\",\"text\":\"Learning rate=0.05\",\"x\":10,\"x_units\":\"screen\",\"y\":5,\"y_units\":\"screen\"},\"id\":\"4e60890e-7262-4a9a-9265-3a8e492d3bbc\",\"type\":\"Label\"},{\"attributes\":{},\"id\":\"9ab9b67f-58a6-4c25-949c-497d5281260a\",\"type\":\"ResetTool\"},{\"attributes\":{},\"id\":\"78c9684b-941f-4694-ab52-a3d8b102eeab\",\"type\":\"WheelZoomTool\"},{\"attributes\":{\"below\":[{\"id\":\"6b2500f6-f2e4-446e-8500-e68be2413e03\",\"type\":\"CategoricalAxis\"}],\"left\":[{\"id\":\"e7bd5439-4c49-4f7d-a1f7-3cabd369b971\",\"type\":\"LinearAxis\"}],\"plot_height\":410,\"plot_width\":800,\"renderers\":[{\"id\":\"6b2500f6-f2e4-446e-8500-e68be2413e03\",\"type\":\"CategoricalAxis\"},{\"id\":\"6ac97ce5-ca7a-4cc7-9f84-5b201da296cf\",\"type\":\"Grid\"},{\"id\":\"e7bd5439-4c49-4f7d-a1f7-3cabd369b971\",\"type\":\"LinearAxis\"},{\"id\":\"0d4086cc-e0d4-4601-b45a-eea7467a6b57\",\"type\":\"Grid\"},{\"id\":\"6487d0d3-263d-4c1e-a4ec-bcb3d2882703\",\"type\":\"GlyphRenderer\"}],\"title\":{\"id\":\"30add88a-15f6-4af1-947e-df7fb1488629\",\"type\":\"Title\"},\"toolbar\":{\"id\":\"beab54b0-be42-4bfe-a0c9-848d50700d0b\",\"type\":\"Toolbar\"},\"x_range\":{\"id\":\"bb65f245-9f86-43d4-8e6e-0722b99a55ee\",\"type\":\"FactorRange\"},\"x_scale\":{\"id\":\"b3e3c1b6-925f-420b-bffe-a126deaea846\",\"type\":\"CategoricalScale\"},\"y_range\":{\"id\":\"23f9a1b5-9f88-4c23-a12a-f51830092cde\",\"type\":\"DataRange1d\"},\"y_scale\":{\"id\":\"b77cb2d4-167f-490e-a6b3-e12358e3d869\",\"type\":\"LinearScale\"}},\"id\":\"32d4f24b-ffcd-4035-8e1e-c1f149d49806\",\"subtype\":\"Figure\",\"type\":\"Plot\"},{\"attributes\":{\"source\":{\"id\":\"09b8f255-d9b4-4f04-a974-7ad1ea0d2212\",\"type\":\"ColumnDataSource\"}},\"id\":\"7056ab00-de56-4722-8b25-259484a37311\",\"type\":\"CDSView\"},{\"attributes\":{\"plot\":{\"id\":\"0e287fec-f179-47f3-8342-eae1cbb945d6\",\"subtype\":\"Figure\",\"type\":\"Plot\"},\"ticker\":{\"id\":\"342ffb3b-5803-48a3-8f55-a8622d11d04b\",\"type\":\"BasicTicker\"}},\"id\":\"aa52a20c-9b4b-4a8a-b6d1-38fe165c45ad\",\"type\":\"Grid\"},{\"attributes\":{\"data_source\":{\"id\":\"460075af-9c8c-4504-bf9b-0034fbd5d5c9\",\"type\":\"ColumnDataSource\"},\"glyph\":{\"id\":\"86e71b40-0877-4cb3-9253-574ec012e5bc\",\"type\":\"Circle\"},\"hover_glyph\":null,\"muted_glyph\":null,\"nonselection_glyph\":{\"id\":\"f58da448-dcdd-4822-a34e-b5d9b0b9a0a0\",\"type\":\"Circle\"},\"selection_glyph\":null,\"view\":{\"id\":\"c75824e8-7b9e-475f-b405-cacb1a154ee3\",\"type\":\"CDSView\"}},\"id\":\"df28f58f-c458-4b1d-8730-7a24b7379090\",\"type\":\"GlyphRenderer\"},{\"attributes\":{\"data_source\":{\"id\":\"762c0027-78aa-4b5d-8621-dde7b054d211\",\"type\":\"ColumnDataSource\"},\"glyph\":{\"id\":\"893cf097-f990-45b6-b24b-c85acdac4d51\",\"type\":\"Circle\"},\"hover_glyph\":null,\"muted_glyph\":null,\"nonselection_glyph\":{\"id\":\"716a0a39-c7df-48ae-b101-51df4a76bc7f\",\"type\":\"Circle\"},\"selection_glyph\":null,\"view\":{\"id\":\"a83ad47a-f400-4921-b93b-850d351bf405\",\"type\":\"CDSView\"}},\"id\":\"729ff92e-9445-4b8d-bf88-510f6d50f6e5\",\"type\":\"GlyphRenderer\"},{\"attributes\":{\"callback\":null},\"id\":\"af30acf6-85de-4e53-b8c1-01280252cef0\",\"type\":\"DataRange1d\"},{\"attributes\":{\"callback\":null,\"column_names\":[\"disp\",\"num_leaves\",\"scale\",\"test_scores\",\"disp2\",\"learning_rate\",\"n_tree\"],\"data\":{\"disp\":[\"0.1\",\"0.1\",\"0.1\",\"0.1\",\"0.1\",\"0.1\",\"0.1\",\"0.1\",\"0.1\",\"0.1\",\"0.1\",\"0.1\"],\"disp2\":[\"0.2660\",\"0.2655\",\"0.2652\",\"0.2650\",\"0.2647\",\"0.2646\",\"0.2648\",\"0.2646\",\"0.2646\",\"0.2646\",\"0.2646\",\"0.2646\"],\"learning_rate\":[0.1,0.1,0.1,0.1,0.1,0.1,0.1,0.1,0.1,0.1,0.1,0.1],\"n_tree\":[40,40,40,140,140,140,240,240,240,340,340,340],\"num_leaves\":[20,40,80,20,40,80,20,40,80,20,40,80],\"scale\":[18,18,18,18,12.18269884432452,4.170462270565324,15.26249150237954,2.1591604350789186,1.5642420122367624,5.13315771584102,1.0,1.6436097892598749],\"test_scores\":[0.266010643,0.2654812,0.265193886,0.264974643,0.264730081,0.264635793,0.264766324,0.264612124,0.264605123,0.264647122,0.264598483,0.264606057]}},\"id\":\"e250d8d6-f2e7-4b03-99a8-1b913a3a5754\",\"type\":\"ColumnDataSource\"},{\"attributes\":{\"fill_color\":{\"value\":\"#f46d43\"},\"line_color\":{\"value\":\"#f46d43\"},\"size\":{\"field\":\"scale\",\"units\":\"screen\"},\"x\":{\"field\":\"depth\"},\"y\":{\"field\":\"n_tree\"}},\"id\":\"ac1dc5f7-2d14-4c5f-8d66-b0a82247f9cc\",\"type\":\"Circle\"},{\"attributes\":{\"bottom\":{\"value\":0},\"fill_alpha\":{\"value\":0.1},\"fill_color\":{\"value\":\"#1f77b4\"},\"left\":{\"field\":\"left\"},\"line_alpha\":{\"value\":0.1},\"line_color\":{\"value\":\"#1f77b4\"},\"right\":{\"field\":\"right\"},\"top\":{\"field\":\"hist\"}},\"id\":\"c06a3d53-8a94-451f-b5d2-913afca57bd6\",\"type\":\"Quad\"},{\"attributes\":{\"axis_label\":\"Tree depth\",\"formatter\":{\"id\":\"263c5d44-638e-4c24-9cb6-95e8c543e6df\",\"type\":\"BasicTickFormatter\"},\"plot\":{\"id\":\"e28045a7-d40f-4bef-bacf-6e6c5b294f8e\",\"subtype\":\"Figure\",\"type\":\"Plot\"},\"ticker\":{\"id\":\"f37c8aaf-7dbb-4b19-b018-facdcece363f\",\"type\":\"BasicTicker\"}},\"id\":\"25280dfc-6497-4da0-a24f-8ba98815a0ca\",\"type\":\"LinearAxis\"},{\"attributes\":{\"callback\":null,\"tooltips\":[[\"RMSE\",\"@disp2\"],[\"# of trees\",\"@n_tree\"],[\"Tree depth\",\"@depth\"]]},\"id\":\"990af05e-152a-4598-997e-721f9a475a32\",\"type\":\"HoverTool\"},{\"attributes\":{\"formatter\":{\"id\":\"5738849e-77e2-4a33-9980-da072f3f48ae\",\"type\":\"BasicTickFormatter\"},\"plot\":{\"id\":\"32d4f24b-ffcd-4035-8e1e-c1f149d49806\",\"subtype\":\"Figure\",\"type\":\"Plot\"},\"ticker\":{\"id\":\"bc3393b3-925b-4e0f-9f81-bb576ff3aaf5\",\"type\":\"BasicTicker\"},\"visible\":false},\"id\":\"e7bd5439-4c49-4f7d-a1f7-3cabd369b971\",\"type\":\"LinearAxis\"},{\"attributes\":{\"dimension\":1,\"plot\":{\"id\":\"a0c41e1d-2049-46c3-aa82-84d1f15e62ff\",\"subtype\":\"Figure\",\"type\":\"Plot\"},\"ticker\":{\"id\":\"833a5139-ea6f-4ef6-a737-a9fdf594c6f5\",\"type\":\"BasicTicker\"}},\"id\":\"c2b854e0-a5fa-40ce-bbcb-ec01a52b4f2d\",\"type\":\"Grid\"},{\"attributes\":{},\"id\":\"31348088-2058-45ee-aba7-58736ea471aa\",\"type\":\"LinearScale\"},{\"attributes\":{\"source\":{\"id\":\"1813044d-dcb7-43d8-a27d-db60ee54e5a0\",\"type\":\"ColumnDataSource\"}},\"id\":\"ff51fe5c-732b-4fff-8ff1-1084c7f0391f\",\"type\":\"CDSView\"},{\"attributes\":{\"callback\":null},\"id\":\"fd5b1e37-1bf6-4378-88e3-a92823f6cd7a\",\"type\":\"DataRange1d\"},{\"attributes\":{\"callback\":null},\"id\":\"9300f85a-0270-4f76-bf15-4afcb7cec61c\",\"type\":\"DataRange1d\"},{\"attributes\":{\"below\":[{\"id\":\"a449e193-32c9-4347-a325-046953359f1f\",\"type\":\"LinearAxis\"}],\"left\":[{\"id\":\"1ba133fa-e7da-45ec-acde-13a1e7817be6\",\"type\":\"LinearAxis\"}],\"plot_height\":410,\"renderers\":[{\"id\":\"a449e193-32c9-4347-a325-046953359f1f\",\"type\":\"LinearAxis\"},{\"id\":\"018fa663-f051-44d4-b6df-c3d424179e01\",\"type\":\"Grid\"},{\"id\":\"1ba133fa-e7da-45ec-acde-13a1e7817be6\",\"type\":\"LinearAxis\"},{\"id\":\"b4662ebb-a541-4072-b2a3-b99413b8bf8b\",\"type\":\"Grid\"},{\"id\":\"21190465-f124-4349-9389-f6cfd67d48a8\",\"type\":\"Legend\"},{\"id\":\"2a4a4393-a783-4e94-bd22-6f3a2a5e3907\",\"type\":\"GlyphRenderer\"},{\"id\":\"76d0e124-f707-43d3-9787-7ac5a78ae4c9\",\"type\":\"Label\"}],\"title\":{\"id\":\"37c289e7-6b27-458b-b225-8f3e22949ec2\",\"type\":\"Title\"},\"toolbar\":{\"id\":\"e0f31b11-c6f2-4213-a905-7b345fed21f2\",\"type\":\"Toolbar\"},\"x_range\":{\"id\":\"af30acf6-85de-4e53-b8c1-01280252cef0\",\"type\":\"DataRange1d\"},\"x_scale\":{\"id\":\"674b5486-ec43-460a-a1bd-43dd010f1597\",\"type\":\"LinearScale\"},\"y_range\":{\"id\":\"9300f85a-0270-4f76-bf15-4afcb7cec61c\",\"type\":\"DataRange1d\"},\"y_scale\":{\"id\":\"e03c4abd-50dc-4835-93a4-12f69c437b12\",\"type\":\"LinearScale\"}},\"id\":\"0aeeac43-c4bb-4a76-b760-45b4b00e8ee5\",\"subtype\":\"Figure\",\"type\":\"Plot\"},{\"attributes\":{\"axis_label\":\"# of trees\",\"formatter\":{\"id\":\"e84fb023-93d7-48c4-b6b7-2885e22fcc6c\",\"type\":\"BasicTickFormatter\"},\"plot\":{\"id\":\"ed392615-ef85-4a4d-8e46-e3be344b404c\",\"subtype\":\"Figure\",\"type\":\"Plot\"},\"ticker\":{\"id\":\"2095917c-f686-4aec-bdd7-82e98396aa6c\",\"type\":\"BasicTicker\"}},\"id\":\"fd9e8cf3-df8f-4e00-941e-fd96b174d014\",\"type\":\"LinearAxis\"},{\"attributes\":{\"callback\":null,\"end\":360,\"start\":20},\"id\":\"8fa346b0-8b14-4f69-aaf1-ec684e489a5c\",\"type\":\"Range1d\"},{\"attributes\":{\"data_source\":{\"id\":\"ec2892da-76b5-4b2f-82de-973068d846ac\",\"type\":\"ColumnDataSource\"},\"glyph\":{\"id\":\"ac1dc5f7-2d14-4c5f-8d66-b0a82247f9cc\",\"type\":\"Circle\"},\"hover_glyph\":null,\"muted_glyph\":null,\"nonselection_glyph\":{\"id\":\"9cdf9b25-df69-46c4-bf11-a65b8182acdd\",\"type\":\"Circle\"},\"selection_glyph\":null,\"view\":{\"id\":\"0cb81d1b-9af9-4125-9321-4d66b77dcef7\",\"type\":\"CDSView\"}},\"id\":\"729b5b05-668f-40ce-84c9-da0ede18a358\",\"type\":\"GlyphRenderer\"},{\"attributes\":{},\"id\":\"6dd19cad-2234-4fbc-9011-4f445d748db4\",\"type\":\"BasicTickFormatter\"},{\"attributes\":{},\"id\":\"82e16926-b15b-4ba1-9b8a-ef63762822c1\",\"type\":\"ResetTool\"},{\"attributes\":{\"below\":[{\"id\":\"53353a07-1123-458c-af40-29d5dce1cbf2\",\"type\":\"LinearAxis\"}],\"left\":[{\"id\":\"fef1ed26-28c3-4332-af74-4d1265ea11b4\",\"type\":\"LinearAxis\"}],\"renderers\":[{\"id\":\"53353a07-1123-458c-af40-29d5dce1cbf2\",\"type\":\"LinearAxis\"},{\"id\":\"4ed0d63c-7379-4326-9276-b8bb045fa0d9\",\"type\":\"Grid\"},{\"id\":\"fef1ed26-28c3-4332-af74-4d1265ea11b4\",\"type\":\"LinearAxis\"},{\"id\":\"81ceebba-562d-40aa-a332-959901e49d9e\",\"type\":\"Grid\"},{\"id\":\"729ff92e-9445-4b8d-bf88-510f6d50f6e5\",\"type\":\"GlyphRenderer\"},{\"id\":\"5bf23179-3cbd-4659-a3d8-8b81abd7d176\",\"type\":\"Label\"},{\"id\":\"3f404c8a-406f-4c62-ace4-2ecd9463e63e\",\"type\":\"Label\"}],\"title\":{\"id\":\"bd70ed99-70f3-4aa3-a562-88ada4e8d630\",\"type\":\"Title\"},\"toolbar\":{\"id\":\"c38235f6-d862-475e-9b70-fc3a30d9dc85\",\"type\":\"Toolbar\"},\"x_range\":{\"id\":\"8fa346b0-8b14-4f69-aaf1-ec684e489a5c\",\"type\":\"Range1d\"},\"x_scale\":{\"id\":\"f6825aec-1548-4c74-8f3e-e986082bcbf3\",\"type\":\"LinearScale\"},\"y_range\":{\"id\":\"ef7f22bb-fe13-4e54-8fdf-38408a102fd5\",\"type\":\"Range1d\"},\"y_scale\":{\"id\":\"4a76ea87-9bc7-439e-92b3-c7f960aba84a\",\"type\":\"LinearScale\"}},\"id\":\"bf333bea-24d8-414b-8321-2e80f4d34bc0\",\"subtype\":\"Figure\",\"type\":\"Plot\"},{\"attributes\":{},\"id\":\"5a40c277-620a-4cb8-9926-bf098527ca0d\",\"type\":\"BasicTickFormatter\"},{\"attributes\":{\"data_source\":{\"id\":\"1813044d-dcb7-43d8-a27d-db60ee54e5a0\",\"type\":\"ColumnDataSource\"},\"glyph\":{\"id\":\"910dc288-c577-49ba-9817-eeaa8faf6d57\",\"type\":\"Quad\"},\"hover_glyph\":null,\"muted_glyph\":null,\"nonselection_glyph\":{\"id\":\"c06a3d53-8a94-451f-b5d2-913afca57bd6\",\"type\":\"Quad\"},\"selection_glyph\":null,\"view\":{\"id\":\"ff51fe5c-732b-4fff-8ff1-1084c7f0391f\",\"type\":\"CDSView\"}},\"id\":\"852a8bb0-cd11-4cbd-8112-120582cd9ce1\",\"type\":\"GlyphRenderer\"},{\"attributes\":{},\"id\":\"8a2d112b-b280-4c0a-a0bb-c02d94ebbcef\",\"type\":\"BasicTicker\"},{\"attributes\":{\"active_drag\":\"auto\",\"active_inspect\":\"auto\",\"active_scroll\":\"auto\",\"active_tap\":\"auto\",\"tools\":[{\"id\":\"47930e36-a47f-47e2-bd3b-850b81b1ac93\",\"type\":\"WheelZoomTool\"},{\"id\":\"a1e70ef5-1268-40a2-8176-90a7967cafc5\",\"type\":\"PanTool\"},{\"id\":\"0fce236f-f7c8-42ea-a6fc-f5742e06408b\",\"type\":\"ResetTool\"}]},\"id\":\"beab54b0-be42-4bfe-a0c9-848d50700d0b\",\"type\":\"Toolbar\"},{\"attributes\":{},\"id\":\"870aac9a-d31c-40bd-b443-e46f6a00e466\",\"type\":\"PanTool\"},{\"attributes\":{},\"id\":\"798b75d1-18ec-4558-b629-c2f7f218f62e\",\"type\":\"ResetTool\"},{\"attributes\":{},\"id\":\"c964438e-581e-4f2c-ac55-a37dff7e12d8\",\"type\":\"LinearScale\"},{\"attributes\":{},\"id\":\"5a4d800a-9e64-419a-8a20-e716f3c0c36b\",\"type\":\"BasicTicker\"},{\"attributes\":{\"axis_label\":\"num_leaves\",\"formatter\":{\"id\":\"89db18e9-2b46-4edd-9cce-fa1d97613fe4\",\"type\":\"BasicTickFormatter\"},\"plot\":{\"id\":\"bf333bea-24d8-414b-8321-2e80f4d34bc0\",\"subtype\":\"Figure\",\"type\":\"Plot\"},\"ticker\":{\"id\":\"ab141062-b5ad-470d-b8e2-db383edd836a\",\"type\":\"BasicTicker\"}},\"id\":\"fef1ed26-28c3-4332-af74-4d1265ea11b4\",\"type\":\"LinearAxis\"},{\"attributes\":{},\"id\":\"360b5ea7-7a19-4abb-b0a3-9d09ba90a54f\",\"type\":\"ResetTool\"},{\"attributes\":{\"fill_color\":{\"value\":\"#0d0887\"},\"line_color\":{\"value\":\"#0d0887\"},\"size\":{\"field\":\"scale\",\"units\":\"screen\"},\"x\":{\"field\":\"n_tree\"},\"y\":{\"field\":\"num_leaves\"}},\"id\":\"893cf097-f990-45b6-b24b-c85acdac4d51\",\"type\":\"Circle\"},{\"attributes\":{\"callback\":null,\"end\":360,\"start\":20},\"id\":\"9629afcc-d90c-447f-8fb3-4141114fe13f\",\"type\":\"Range1d\"},{\"attributes\":{\"plot\":{\"id\":\"a0c41e1d-2049-46c3-aa82-84d1f15e62ff\",\"subtype\":\"Figure\",\"type\":\"Plot\"},\"render_mode\":\"css\",\"text\":\"* points sized by AUC\",\"x\":10,\"x_units\":\"screen\",\"y\":495,\"y_units\":\"screen\"},\"id\":\"afd88d31-9c8b-41d7-9f12-31182401c81d\",\"type\":\"Label\"},{\"attributes\":{\"callback\":null,\"column_names\":[\"hist\",\"colors\",\"right\",\"center\",\"left\"],\"data\":{\"center\":{\"__ndarray__\":\"AAAAAAAAAEAAAAAAAAAIQAAAAAAAABRAAAAAAAAAHEAAAAAAAAAgQAAAAAAAACRAAAAAAAAAJkAAAAAAAAAqQAAAAAAAAC5AAAAAAAAAMEAAAAAAAAAyQAAAAAAAADNAAAAAAAAANUAAAAAAAAA3QAAAAAAAADhAAAAAAAAAOkAAAAAAAAA7QAAAAAAAAD1AAAAAAAAAP0AAAAAAAABAQAAAAAAAAEFAAAAAAACAQUAAAAAAAIBCQAAAAAAAgENAAAAAAAAAREAAAAAAAABFQAAAAAAAgEVAAAAAAACARkAAAAAAAIBHQAAAAAAAAEhAAAAAAAAASUAAAAAAAIBJQAAAAAAAgEpAAAAAAACAS0AAAAAAAABMQAAAAAAAAE1AAAAAAACATUAAAAAAAIBOQAAAAAAAgE9AAAAAAAAAUEAAAAAAAIBQQAAAAAAAwFBAAAAAAABAUUAAAAAAAMBRQAAAAAAAAFJAAAAAAACAUkAAAAAAAMBSQAAAAAAAQFNAAAAAAADAU0AAAAAAAABUQAAAAAAAgFRAAAAAAADAVEAAAAAAAEBVQAAAAAAAwFVAAAAAAAAAVkAAAAAAAIBWQAAAAAAAwFZAAAAAAABAV0AAAAAAAMBXQAAAAAAAAFhAAAAAAACAWEAAAAAAAMBYQAAAAAAAQFlAAAAAAADAWUAAAAAAAABaQAAAAAAAgFpAAAAAAADAWkAAAAAAAEBbQAAAAAAAwFtAAAAAAAAAXEAAAAAAAIBcQAAAAAAAwFxAAAAAAABAXUAAAAAAAMBdQAAAAAAAAF5A\",\"dtype\":\"float64\",\"shape\":[75]},\"colors\":[\"#9e0142\",\"#a20543\",\"#aa0f45\",\"#b31847\",\"#ba2048\",\"#c2294a\",\"#c62e4b\",\"#cf384d\",\"#d8424d\",\"#da464c\",\"#df4d4b\",\"#e1514a\",\"#e75a47\",\"#ec6145\",\"#ef6544\",\"#f46f44\",\"#f57446\",\"#f67e4b\",\"#f7894f\",\"#f89053\",\"#fa9a58\",\"#fb9f5a\",\"#fcaa5f\",\"#fdb466\",\"#fdb86a\",\"#fdc070\",\"#fdc473\",\"#fdce7c\",\"#fdd682\",\"#fdda86\",\"#fee28f\",\"#fee493\",\"#fee99b\",\"#feeea3\",\"#fef2a9\",\"#fef7b1\",\"#fef9b5\",\"#fefebe\",\"#fafdb8\",\"#f8fcb5\",\"#f4faae\",\"#f1f9aa\",\"#edf8a4\",\"#e9f69e\",\"#e7f59b\",\"#dff299\",\"#daf09a\",\"#d1ec9c\",\"#c5e79e\",\"#c0e59f\",\"#b7e2a1\",\"#b3e0a2\",\"#a6dba4\",\"#9cd7a4\",\"#96d5a4\",\"#8bd0a4\",\"#83cda4\",\"#78c9a4\",\"#6ec5a4\",\"#68c3a4\",\"#5db8a8\",\"#59b4aa\",\"#51abae\",\"#479fb3\",\"#439bb5\",\"#3b92b8\",\"#378dba\",\"#3682ba\",\"#3d79b6\",\"#4075b4\",\"#476caf\",\"#4c65ac\",\"#535ca8\",\"#5a53a4\",\"#5e4fa2\"],\"hist\":[14706,16590,8714,17356,8163,14109,11416,4905,8162,3356,5701,4397,1891,2996,1223,1952,1366,630,984,353,606,409,179,253,114,188,127,62,77,31,50,35,13,28,5,11,9,3,12,2,3,6,2,6,0,2,0,0,0,1,1,1,0,0,0,0,0,0,0,0,0,0,0,1,0,0,0,0,0,0,1,0,0,0,1],\"left\":{\"__ndarray__\":\"AAAAAAAA8D/NzMzMzMwEQM3MzMzMzBBANDMzMzMzF0CamZmZmZkdQAAAAAAAACJANDMzMzMzJUBnZmZmZmYoQJqZmZmZmStAzczMzMzMLkAAAAAAAAAxQJqZmZmZmTJANDMzMzMzNEDNzMzMzMw1QGdmZmZmZjdAAAAAAAAAOUCamZmZmZk6QDQzMzMzMzxAzczMzMzMPUBnZmZmZmY/QAAAAAAAgEBAzczMzMxMQUCamZmZmRlCQGdmZmZm5kJANDMzMzOzQ0AAAAAAAIBEQM3MzMzMTEVAmpmZmZkZRkBnZmZmZuZGQDQzMzMzs0dAAAAAAACASEDNzMzMzExJQJqZmZmZGUpAZ2ZmZmbmSkA0MzMzM7NLQAAAAAAAgExAzczMzMxMTUCamZmZmRlOQGdmZmZm5k5ANDMzMzOzT0AAAAAAAEBQQGdmZmZmplBAzczMzMwMUUAzMzMzM3NRQJqZmZmZ2VFAAAAAAABAUkBnZmZmZqZSQM3MzMzMDFNANDMzMzNzU0CamZmZmdlTQAAAAAAAQFRAZ2ZmZmamVEDNzMzMzAxVQDQzMzMzc1VAmpmZmZnZVUAAAAAAAEBWQGdmZmZmplZAzczMzMwMV0A0MzMzM3NXQJqZmZmZ2VdAAAAAAABAWEBnZmZmZqZYQM3MzMzMDFlANDMzMzNzWUCamZmZmdlZQAAAAAAAQFpAZ2ZmZmamWkDNzMzMzAxbQDQzMzMzc1tAmpmZmZnZW0AAAAAAAEBcQGdmZmZmplxAzczMzMwMXUA0MzMzM3NdQJqZmZmZ2V1A\",\"dtype\":\"float64\",\"shape\":[75]},\"right\":{\"__ndarray__\":\"zczMzMzMBEDNzMzMzMwQQDQzMzMzMxdAmpmZmZmZHUAAAAAAAAAiQDQzMzMzMyVAZ2ZmZmZmKECamZmZmZkrQM3MzMzMzC5AAAAAAAAAMUCamZmZmZkyQDQzMzMzMzRAzczMzMzMNUBnZmZmZmY3QAAAAAAAADlAmpmZmZmZOkA0MzMzMzM8QM3MzMzMzD1AZ2ZmZmZmP0AAAAAAAIBAQM3MzMzMTEFAmpmZmZkZQkBnZmZmZuZCQDQzMzMzs0NAAAAAAACAREDNzMzMzExFQJqZmZmZGUZAZ2ZmZmbmRkA0MzMzM7NHQAAAAAAAgEhAzczMzMxMSUCamZmZmRlKQGdmZmZm5kpANDMzMzOzS0AAAAAAAIBMQM3MzMzMTE1AmpmZmZkZTkBnZmZmZuZOQDQzMzMzs09AAAAAAABAUEBnZmZmZqZQQM3MzMzMDFFAMzMzMzNzUUCamZmZmdlRQAAAAAAAQFJAZ2ZmZmamUkDNzMzMzAxTQDQzMzMzc1NAmpmZmZnZU0AAAAAAAEBUQGdmZmZmplRAzczMzMwMVUA0MzMzM3NVQJqZmZmZ2VVAAAAAAABAVkBnZmZmZqZWQM3MzMzMDFdANDMzMzNzV0CamZmZmdlXQAAAAAAAQFhAZ2ZmZmamWEDNzMzMzAxZQDQzMzMzc1lAmpmZmZnZWUAAAAAAAEBaQGdmZmZmplpAzczMzMwMW0A0MzMzM3NbQJqZmZmZ2VtAAAAAAABAXEBnZmZmZqZcQM3MzMzMDF1ANDMzMzNzXUCamZmZmdldQAAAAAAAQF5A\",\"dtype\":\"float64\",\"shape\":[75]}}},\"id\":\"cfba1732-1010-4455-9362-94aa23bc4725\",\"type\":\"ColumnDataSource\"},{\"attributes\":{},\"id\":\"43634eb6-9046-4050-82c2-855dd6aedd95\",\"type\":\"ResetTool\"},{\"attributes\":{},\"id\":\"f65d9a08-51ed-49e9-833c-ab7328edf625\",\"type\":\"PanTool\"},{\"attributes\":{},\"id\":\"7ec6fd36-fec3-4fb8-8dbb-d6aa48857c82\",\"type\":\"LinearScale\"},{\"attributes\":{\"formatter\":{\"id\":\"6dd19cad-2234-4fbc-9011-4f445d748db4\",\"type\":\"BasicTickFormatter\"},\"plot\":{\"id\":\"0aeeac43-c4bb-4a76-b760-45b4b00e8ee5\",\"subtype\":\"Figure\",\"type\":\"Plot\"},\"ticker\":{\"id\":\"83024010-760a-4fc7-9983-1d5614f200d5\",\"type\":\"BasicTicker\"}},\"id\":\"1ba133fa-e7da-45ec-acde-13a1e7817be6\",\"type\":\"LinearAxis\"},{\"attributes\":{},\"id\":\"6ab4f740-395e-4f0c-84c2-7207340af531\",\"type\":\"BasicTicker\"},{\"attributes\":{\"formatter\":{\"id\":\"3b5b892e-1f22-4305-90a8-65a5f43adc32\",\"type\":\"CategoricalTickFormatter\"},\"major_label_orientation\":1,\"plot\":{\"id\":\"7b0aeb7f-6cbc-4a81-9686-64a4dc1f51f7\",\"subtype\":\"Figure\",\"type\":\"Plot\"},\"ticker\":{\"id\":\"2d42ae62-bd21-4aaa-8dbd-59707beeae8c\",\"type\":\"CategoricalTicker\"}},\"id\":\"b0824ac1-65d2-4b02-96f5-7004031b35fe\",\"type\":\"CategoricalAxis\"},{\"attributes\":{\"plot\":{\"id\":\"ed392615-ef85-4a4d-8e46-e3be344b404c\",\"subtype\":\"Figure\",\"type\":\"Plot\"},\"render_mode\":\"css\",\"text\":\"* points sized by AUC\",\"x\":10,\"x_units\":\"screen\",\"y\":495,\"y_units\":\"screen\"},\"id\":\"8b942629-d73d-4dbf-ba31-1fa567194898\",\"type\":\"Label\"},{\"attributes\":{},\"id\":\"7f9038d3-07da-4c3e-88f0-7b4ac3963d2a\",\"type\":\"ResetTool\"},{\"attributes\":{\"plot\":{\"id\":\"e28045a7-d40f-4bef-bacf-6e6c5b294f8e\",\"subtype\":\"Figure\",\"type\":\"Plot\"},\"ticker\":{\"id\":\"f37c8aaf-7dbb-4b19-b018-facdcece363f\",\"type\":\"BasicTicker\"}},\"id\":\"1c3547cc-2104-4611-9d3e-552308db362b\",\"type\":\"Grid\"},{\"attributes\":{},\"id\":\"8dd37640-cb7b-4721-9001-1acd23fea870\",\"type\":\"LinearScale\"},{\"attributes\":{\"callback\":null,\"column_names\":[\"color\",\"layers\",\"disp2\",\"units\"],\"data\":{\"color\":[\"green\"],\"disp2\":[\"0.2674\"],\"layers\":[10],\"units\":[40]}},\"id\":\"642ac923-1a27-4652-b8ae-b404f47fdede\",\"type\":\"ColumnDataSource\"},{\"attributes\":{\"below\":[{\"id\":\"b0824ac1-65d2-4b02-96f5-7004031b35fe\",\"type\":\"CategoricalAxis\"}],\"left\":[{\"id\":\"10bb5108-d4c9-4ebe-9b5a-1be96477bbe7\",\"type\":\"LinearAxis\"}],\"plot_height\":410,\"plot_width\":800,\"renderers\":[{\"id\":\"b0824ac1-65d2-4b02-96f5-7004031b35fe\",\"type\":\"CategoricalAxis\"},{\"id\":\"6e641105-9019-48f5-b0af-a053576c7eb0\",\"type\":\"Grid\"},{\"id\":\"10bb5108-d4c9-4ebe-9b5a-1be96477bbe7\",\"type\":\"LinearAxis\"},{\"id\":\"7a97ab9c-ecaf-4f2b-8c4c-3907be81f3f7\",\"type\":\"Grid\"},{\"id\":\"1b040b27-59b6-40a6-b3d0-36a834f1b7b0\",\"type\":\"GlyphRenderer\"}],\"title\":{\"id\":\"184e9db7-d31b-44a1-be6e-9f0c15cdc3f7\",\"type\":\"Title\"},\"toolbar\":{\"id\":\"f94a68f7-d4d9-42c7-bc41-1da43b1506f2\",\"type\":\"Toolbar\"},\"x_range\":{\"id\":\"684703e5-6423-4c1c-b224-87ddddb71b21\",\"type\":\"FactorRange\"},\"x_scale\":{\"id\":\"ba608162-3ea7-4427-bdfb-61bd2b2abf44\",\"type\":\"CategoricalScale\"},\"y_range\":{\"id\":\"53d96dde-2c7e-4995-9786-14dcf270a30f\",\"type\":\"DataRange1d\"},\"y_scale\":{\"id\":\"fd6ed839-fe1b-457b-880d-4bee05c1d341\",\"type\":\"LinearScale\"}},\"id\":\"7b0aeb7f-6cbc-4a81-9686-64a4dc1f51f7\",\"subtype\":\"Figure\",\"type\":\"Plot\"},{\"attributes\":{\"fill_color\":{\"value\":\"#f46d43\"},\"line_color\":{\"value\":\"#f46d43\"},\"size\":{\"field\":\"scale\",\"units\":\"screen\"},\"x\":{\"field\":\"depth\"},\"y\":{\"field\":\"n_tree\"}},\"id\":\"86e71b40-0877-4cb3-9253-574ec012e5bc\",\"type\":\"Circle\"},{\"attributes\":{\"below\":[{\"id\":\"f6403170-9542-474e-89f0-55c677625976\",\"type\":\"LinearAxis\"}],\"left\":[{\"id\":\"7f21f8df-4f75-40b2-9771-f840a7ae52f5\",\"type\":\"LinearAxis\"}],\"plot_height\":400,\"renderers\":[{\"id\":\"f6403170-9542-474e-89f0-55c677625976\",\"type\":\"LinearAxis\"},{\"id\":\"051654d5-60fc-48fb-ba1b-1a7926d26bfa\",\"type\":\"Grid\"},{\"id\":\"7f21f8df-4f75-40b2-9771-f840a7ae52f5\",\"type\":\"LinearAxis\"},{\"id\":\"126bc97c-3a67-4eba-bb78-0087c50c4c56\",\"type\":\"Grid\"},{\"id\":\"9b5a786c-fa81-45a0-93d0-a7a0efb4dd1e\",\"type\":\"Legend\"},{\"id\":\"449082d8-aa0e-4d00-b6ee-c8865b46257f\",\"type\":\"GlyphRenderer\"}],\"title\":{\"id\":\"da5e7858-e23e-4457-8eca-b9c696db6ae4\",\"type\":\"Title\"},\"toolbar\":{\"id\":\"3b264ff8-ec27-499f-8196-8f57148526a7\",\"type\":\"Toolbar\"},\"x_range\":{\"id\":\"203e1113-9a0f-48fb-8fbe-179c60362d81\",\"type\":\"DataRange1d\"},\"x_scale\":{\"id\":\"8dd37640-cb7b-4721-9001-1acd23fea870\",\"type\":\"LinearScale\"},\"y_range\":{\"id\":\"fc3c6300-be14-452f-b899-b4e97ff8e49a\",\"type\":\"DataRange1d\"},\"y_scale\":{\"id\":\"9cba0813-f0f8-4e2c-b0bf-2ac6c14e1723\",\"type\":\"LinearScale\"}},\"id\":\"3622534d-ca31-4f34-9ffe-5a564c8d5e84\",\"subtype\":\"Figure\",\"type\":\"Plot\"},{\"attributes\":{\"source\":{\"id\":\"cfba1732-1010-4455-9362-94aa23bc4725\",\"type\":\"ColumnDataSource\"}},\"id\":\"c841f1e2-1ac8-4a51-ad58-ca56bb54606c\",\"type\":\"CDSView\"},{\"attributes\":{\"align\":\"center\",\"plot\":null,\"text\":\"ROC Curves for Classifiers\",\"text_font_size\":{\"value\":\"20px\"}},\"id\":\"da5e7858-e23e-4457-8eca-b9c696db6ae4\",\"type\":\"Title\"},{\"attributes\":{},\"id\":\"e7c5f6b2-e6da-467f-8578-7f962061c7f3\",\"type\":\"LinearScale\"},{\"attributes\":{},\"id\":\"83024010-760a-4fc7-9983-1d5614f200d5\",\"type\":\"BasicTicker\"},{\"attributes\":{\"fill_color\":{\"value\":\"#ab0f45\"},\"line_color\":{\"value\":\"#ab0f45\"},\"size\":{\"field\":\"scale\",\"units\":\"screen\"},\"x\":{\"field\":\"units\"},\"y\":{\"field\":\"layers\"}},\"id\":\"6e4f1805-a69d-4145-9bcb-acede42c816e\",\"type\":\"Circle\"},{\"attributes\":{\"callback\":null,\"column_names\":[\"disp\",\"test_scores\",\"depth\",\"scale\",\"n_tree\",\"learning_rate\",\"disp2\"],\"data\":{\"depth\":[5,10,15,5,10,15,5,10,15,5,10,15],\"disp\":[\"0.05\",\"0.05\",\"0.05\",\"0.05\",\"0.05\",\"0.05\",\"0.05\",\"0.05\",\"0.05\",\"0.05\",\"0.05\",\"0.05\"],\"disp2\":[\"0.2727\",\"0.2709\",\"0.2710\",\"0.2655\",\"0.2645\",\"0.2657\",\"0.2651\",\"0.2645\",\"0.2657\",\"0.2649\",\"0.2645\",\"0.2657\"],\"learning_rate\":[0.05,0.05,0.05,0.05,0.05,0.05,0.05,0.05,0.05,0.05,0.05,0.05],\"n_tree\":[40,40,40,140,140,140,240,240,240,340,340,340],\"scale\":[18,18,18,15.122545026259253,1.4016753099090267,18,9.386739864782415,1.0,18,6.574342726811008,1.0,18],\"test_scores\":[0.272747516,0.270945475,0.271032318,0.265477977,0.264535903,0.265742237,0.265084157,0.264508324,0.265742237,0.264891058,0.264508324,0.265742237]}},\"id\":\"460075af-9c8c-4504-bf9b-0034fbd5d5c9\",\"type\":\"ColumnDataSource\"},{\"attributes\":{\"plot\":null,\"text\":\"XGBoost Feature Importance\"},\"id\":\"184e9db7-d31b-44a1-be6e-9f0c15cdc3f7\",\"type\":\"Title\"},{\"attributes\":{},\"id\":\"eaea15a3-36c8-4c0f-9be4-377bbb9e71ab\",\"type\":\"BasicTicker\"},{\"attributes\":{\"callback\":null},\"id\":\"53d96dde-2c7e-4995-9786-14dcf270a30f\",\"type\":\"DataRange1d\"},{\"attributes\":{\"plot\":{\"id\":\"7523f60c-f514-46f3-b7ef-7b97a51bc1e1\",\"subtype\":\"Figure\",\"type\":\"Plot\"},\"render_mode\":\"css\",\"text\":\"* points sized by AUC\",\"x\":10,\"x_units\":\"screen\",\"y\":495,\"y_units\":\"screen\"},\"id\":\"0e78ee3f-2640-4bcb-91fb-7a7818fbce71\",\"type\":\"Label\"},{\"attributes\":{},\"id\":\"a1e70ef5-1268-40a2-8176-90a7967cafc5\",\"type\":\"PanTool\"},{\"attributes\":{\"line_alpha\":{\"value\":0.1},\"line_color\":{\"value\":\"#1f77b4\"},\"line_width\":{\"value\":2},\"xs\":{\"field\":\"x\"},\"ys\":{\"field\":\"y\"}},\"id\":\"f6f6572d-bc37-4922-a332-a5dbc989e6e5\",\"type\":\"MultiLine\"},{\"attributes\":{},\"id\":\"e981e127-37d0-434d-86d8-b0e618f1a7a9\",\"type\":\"BasicTicker\"},{\"attributes\":{\"data_source\":{\"id\":\"b7917536-f791-4371-b49f-fcf8393771cb\",\"type\":\"ColumnDataSource\"},\"glyph\":{\"id\":\"a857411b-e082-4f5e-a89c-ad7ed096ce4b\",\"type\":\"Circle\"},\"hover_glyph\":null,\"muted_glyph\":null,\"nonselection_glyph\":{\"id\":\"673d5857-c979-4569-90c2-264aaabe33ea\",\"type\":\"Circle\"},\"selection_glyph\":null,\"view\":{\"id\":\"b2ee4601-8e4e-41f3-8022-0e127ef4fbf3\",\"type\":\"CDSView\"}},\"id\":\"1d542307-2ab7-4305-be61-82665bc0900a\",\"type\":\"GlyphRenderer\"},{\"attributes\":{\"plot\":{\"id\":\"ed392615-ef85-4a4d-8e46-e3be344b404c\",\"subtype\":\"Figure\",\"type\":\"Plot\"},\"render_mode\":\"css\",\"text\":\"Learning rate=0.1\",\"x\":10,\"x_units\":\"screen\",\"y\":5,\"y_units\":\"screen\"},\"id\":\"6b4532df-a13a-4b49-9465-07e95584f0d4\",\"type\":\"Label\"},{\"attributes\":{},\"id\":\"e945aa23-a81e-4a57-8aa4-114640535de9\",\"type\":\"BasicTickFormatter\"},{\"attributes\":{},\"id\":\"7c893bdb-dd47-445d-aadc-3cbf86d16b93\",\"type\":\"WheelZoomTool\"},{\"attributes\":{\"active_drag\":\"auto\",\"active_inspect\":\"auto\",\"active_scroll\":\"auto\",\"active_tap\":\"auto\",\"tools\":[{\"id\":\"990af05e-152a-4598-997e-721f9a475a32\",\"type\":\"HoverTool\"},{\"id\":\"20678852-7bb3-47a4-ab32-09a4dde34ea9\",\"type\":\"WheelZoomTool\"},{\"id\":\"4fe315fc-1371-4b95-a488-f5daa52fd9a4\",\"type\":\"PanTool\"},{\"id\":\"f8aae852-9439-4307-a79e-60d7a2ece341\",\"type\":\"ResetTool\"}]},\"id\":\"14e580ac-2481-4bab-b1ac-3452f77e0e34\",\"type\":\"Toolbar\"},{\"attributes\":{\"child\":{\"id\":\"32d4f24b-ffcd-4035-8e1e-c1f149d49806\",\"subtype\":\"Figure\",\"type\":\"Plot\"},\"title\":\"LightGBM\"},\"id\":\"80c005bd-a536-4ffb-8473-7e40f8ba5239\",\"type\":\"Panel\"},{\"attributes\":{\"data_source\":{\"id\":\"51527490-3c0a-40b8-ac78-9f786a2c1541\",\"type\":\"ColumnDataSource\"},\"glyph\":{\"id\":\"0a77b4df-3727-4fe3-9a35-3b37503ded29\",\"type\":\"Square\"},\"hover_glyph\":null,\"muted_glyph\":null,\"nonselection_glyph\":{\"id\":\"2939d2e7-d5bb-40fd-a6ea-0f9cc458abba\",\"type\":\"Square\"},\"selection_glyph\":null,\"view\":{\"id\":\"0ee14c7a-2d0d-44d1-93b2-68c49b9ee521\",\"type\":\"CDSView\"}},\"id\":\"06bf5e8f-cc56-4abc-973a-b5213ab5cfbb\",\"type\":\"GlyphRenderer\"},{\"attributes\":{},\"id\":\"89db18e9-2b46-4edd-9cce-fa1d97613fe4\",\"type\":\"BasicTickFormatter\"},{\"attributes\":{},\"id\":\"5d1a4d5b-dc21-4cd3-8873-dde6173e35fb\",\"type\":\"BasicTickFormatter\"},{\"attributes\":{\"child\":{\"id\":\"7b0aeb7f-6cbc-4a81-9686-64a4dc1f51f7\",\"subtype\":\"Figure\",\"type\":\"Plot\"},\"title\":\"XGBoost\"},\"id\":\"6d89fe08-bd6c-4568-a690-3518d00df6c6\",\"type\":\"Panel\"},{\"attributes\":{\"source\":{\"id\":\"b7917536-f791-4371-b49f-fcf8393771cb\",\"type\":\"ColumnDataSource\"}},\"id\":\"b2ee4601-8e4e-41f3-8022-0e127ef4fbf3\",\"type\":\"CDSView\"},{\"attributes\":{\"dimension\":1,\"plot\":{\"id\":\"ba6a0931-5b19-4948-bd80-60f3dc8439da\",\"subtype\":\"Figure\",\"type\":\"Plot\"},\"ticker\":{\"id\":\"1948d185-dcc4-4a85-8311-4c3503cc1f03\",\"type\":\"BasicTicker\"}},\"id\":\"b6f00016-df4e-4403-9462-07064cdb303a\",\"type\":\"Grid\"},{\"attributes\":{\"dimension\":1,\"plot\":{\"id\":\"b4a8c323-808e-4aab-a4dd-1e7d63566aa7\",\"subtype\":\"Figure\",\"type\":\"Plot\"},\"ticker\":{\"id\":\"5a4d800a-9e64-419a-8a20-e716f3c0c36b\",\"type\":\"BasicTicker\"}},\"id\":\"a611673f-a65b-464b-918b-2a6c135a488a\",\"type\":\"Grid\"},{\"attributes\":{},\"id\":\"cd3d840a-1a42-46f5-a7a6-cb48d424ba0b\",\"type\":\"CategoricalTicker\"},{\"attributes\":{\"dimension\":1,\"plot\":{\"id\":\"e28045a7-d40f-4bef-bacf-6e6c5b294f8e\",\"subtype\":\"Figure\",\"type\":\"Plot\"},\"ticker\":{\"id\":\"eaea15a3-36c8-4c0f-9be4-377bbb9e71ab\",\"type\":\"BasicTicker\"}},\"id\":\"aad8e686-a9ed-4163-95d6-8ef2b8f165cc\",\"type\":\"Grid\"},{\"attributes\":{},\"id\":\"2d42ae62-bd21-4aaa-8dbd-59707beeae8c\",\"type\":\"CategoricalTicker\"},{\"attributes\":{},\"id\":\"2095917c-f686-4aec-bdd7-82e98396aa6c\",\"type\":\"BasicTicker\"},{\"attributes\":{\"source\":{\"id\":\"51527490-3c0a-40b8-ac78-9f786a2c1541\",\"type\":\"ColumnDataSource\"}},\"id\":\"0ee14c7a-2d0d-44d1-93b2-68c49b9ee521\",\"type\":\"CDSView\"},{\"attributes\":{\"formatter\":{\"id\":\"3379942e-ceab-467f-8b8b-67393881c588\",\"type\":\"CategoricalTickFormatter\"},\"major_label_orientation\":1,\"plot\":{\"id\":\"ba6a0931-5b19-4948-bd80-60f3dc8439da\",\"subtype\":\"Figure\",\"type\":\"Plot\"},\"ticker\":{\"id\":\"cd3d840a-1a42-46f5-a7a6-cb48d424ba0b\",\"type\":\"CategoricalTicker\"}},\"id\":\"0866a41d-9c3a-4340-835c-49e16cb5dd5d\",\"type\":\"CategoricalAxis\"},{\"attributes\":{\"callback\":null,\"end\":20},\"id\":\"1520781f-b528-42d1-abd2-f45705d433c3\",\"type\":\"Range1d\"},{\"attributes\":{\"dimension\":1,\"plot\":{\"id\":\"bf333bea-24d8-414b-8321-2e80f4d34bc0\",\"subtype\":\"Figure\",\"type\":\"Plot\"},\"ticker\":{\"id\":\"ab141062-b5ad-470d-b8e2-db383edd836a\",\"type\":\"BasicTicker\"}},\"id\":\"81ceebba-562d-40aa-a332-959901e49d9e\",\"type\":\"Grid\"},{\"attributes\":{\"callback\":null,\"tabs\":[{\"id\":\"38d272af-b1aa-4392-9130-8c103d293e03\",\"type\":\"Panel\"},{\"id\":\"3cb6a3d8-980d-46c4-9fac-0695b32eabd9\",\"type\":\"Panel\"}]},\"id\":\"d84ee6ab-b39a-42ca-b7c7-9640dcacc33d\",\"type\":\"Tabs\"},{\"attributes\":{},\"id\":\"f5c57551-8832-46a6-ac50-e92dc6176453\",\"type\":\"BasicTicker\"},{\"attributes\":{\"align\":\"center\",\"plot\":null,\"text\":\"XGBoost Parameter Tuning\",\"text_font_size\":{\"value\":\"20px\"}},\"id\":\"772612fb-1016-4d51-9de2-206efffd4641\",\"type\":\"Title\"},{\"attributes\":{\"active_drag\":\"auto\",\"active_inspect\":\"auto\",\"active_scroll\":\"auto\",\"active_tap\":\"auto\",\"tools\":[{\"id\":\"f2814985-2088-4dc6-92c4-ce164810b0bb\",\"type\":\"HoverTool\"},{\"id\":\"7c893bdb-dd47-445d-aadc-3cbf86d16b93\",\"type\":\"WheelZoomTool\"},{\"id\":\"9bc4de07-6266-49e0-8ac0-3dee0e7f4413\",\"type\":\"PanTool\"},{\"id\":\"43634eb6-9046-4050-82c2-855dd6aedd95\",\"type\":\"ResetTool\"}]},\"id\":\"65930804-ab75-4d54-8da2-905626624370\",\"type\":\"Toolbar\"},{\"attributes\":{\"callback\":null,\"end\":70},\"id\":\"7e5974e9-e934-4cc3-bf76-53fe4485baf9\",\"type\":\"Range1d\"},{\"attributes\":{},\"id\":\"20678852-7bb3-47a4-ab32-09a4dde34ea9\",\"type\":\"WheelZoomTool\"},{\"attributes\":{},\"id\":\"949abf9c-4ed8-41ed-a88f-bbb98bf975ed\",\"type\":\"LinearScale\"},{\"attributes\":{\"dimension\":1,\"plot\":{\"id\":\"0aeeac43-c4bb-4a76-b760-45b4b00e8ee5\",\"subtype\":\"Figure\",\"type\":\"Plot\"},\"ticker\":{\"id\":\"83024010-760a-4fc7-9983-1d5614f200d5\",\"type\":\"BasicTicker\"}},\"id\":\"b4662ebb-a541-4072-b2a3-b99413b8bf8b\",\"type\":\"Grid\"},{\"attributes\":{\"active_drag\":\"auto\",\"active_inspect\":\"auto\",\"active_scroll\":\"auto\",\"active_tap\":\"auto\",\"tools\":[{\"id\":\"990af05e-152a-4598-997e-721f9a475a32\",\"type\":\"HoverTool\"},{\"id\":\"78c9684b-941f-4694-ab52-a3d8b102eeab\",\"type\":\"WheelZoomTool\"},{\"id\":\"fb99a987-ffc1-495c-aeb8-c4be8d7fc162\",\"type\":\"PanTool\"},{\"id\":\"360b5ea7-7a19-4abb-b0a3-9d09ba90a54f\",\"type\":\"ResetTool\"}]},\"id\":\"fd51ceaa-47b1-484d-8bf3-a1ed605a9556\",\"type\":\"Toolbar\"},{\"attributes\":{},\"id\":\"eafc7afd-83bf-41fe-beb9-68a32ac143b7\",\"type\":\"PanTool\"},{\"attributes\":{},\"id\":\"674b5486-ec43-460a-a1bd-43dd010f1597\",\"type\":\"LinearScale\"},{\"attributes\":{\"source\":{\"id\":\"ec2892da-76b5-4b2f-82de-973068d846ac\",\"type\":\"ColumnDataSource\"}},\"id\":\"0cb81d1b-9af9-4125-9321-4d66b77dcef7\",\"type\":\"CDSView\"},{\"attributes\":{\"data_source\":{\"id\":\"9053efe8-5a04-4c78-b828-12e1957b4f45\",\"type\":\"ColumnDataSource\"},\"glyph\":{\"id\":\"2c87efe7-fc98-46ed-bd1c-560b9eb0cd11\",\"type\":\"VBar\"},\"hover_glyph\":null,\"muted_glyph\":null,\"nonselection_glyph\":{\"id\":\"1caaed8c-cf9f-4425-b628-ee594e9d407c\",\"type\":\"VBar\"},\"selection_glyph\":null,\"view\":{\"id\":\"e6e71b94-8e0b-4829-9838-6c26386ebd9d\",\"type\":\"CDSView\"}},\"id\":\"99913536-a235-4837-8f99-6e3c28f42523\",\"type\":\"GlyphRenderer\"},{\"attributes\":{},\"id\":\"9bc4de07-6266-49e0-8ac0-3dee0e7f4413\",\"type\":\"PanTool\"},{\"attributes\":{\"label\":{\"field\":\"legend\"},\"renderers\":[{\"id\":\"2a4a4393-a783-4e94-bd22-6f3a2a5e3907\",\"type\":\"GlyphRenderer\"}]},\"id\":\"eca07594-4646-4b6e-8e88-5fbc375e79d1\",\"type\":\"LegendItem\"},{\"attributes\":{\"plot\":{\"id\":\"0aeeac43-c4bb-4a76-b760-45b4b00e8ee5\",\"subtype\":\"Figure\",\"type\":\"Plot\"},\"render_mode\":\"css\",\"text\":\"* Previous order size assumption\",\"x\":10,\"x_units\":\"screen\",\"y\":325,\"y_units\":\"screen\"},\"id\":\"76d0e124-f707-43d3-9787-7ac5a78ae4c9\",\"type\":\"Label\"},{\"attributes\":{},\"id\":\"f187ee9d-4276-4fb9-814e-377058404547\",\"type\":\"BasicTicker\"},{\"attributes\":{\"data_source\":{\"id\":\"09b8f255-d9b4-4f04-a974-7ad1ea0d2212\",\"type\":\"ColumnDataSource\"},\"glyph\":{\"id\":\"5c833032-6efa-447a-b4d9-5eb9908ebac8\",\"type\":\"MultiLine\"},\"hover_glyph\":null,\"muted_glyph\":null,\"nonselection_glyph\":{\"id\":\"f6f6572d-bc37-4922-a332-a5dbc989e6e5\",\"type\":\"MultiLine\"},\"selection_glyph\":null,\"view\":{\"id\":\"7056ab00-de56-4722-8b25-259484a37311\",\"type\":\"CDSView\"}},\"id\":\"2a4a4393-a783-4e94-bd22-6f3a2a5e3907\",\"type\":\"GlyphRenderer\"},{\"attributes\":{\"callback\":null,\"tooltips\":[[\"Number of Users\",\"@hist\"],[\"Prev Order Size\",\"@center\"]]},\"id\":\"d3cda3f6-e179-4e37-af13-37d6b6e2b781\",\"type\":\"HoverTool\"},{\"attributes\":{\"callback\":null},\"id\":\"d61518c5-5903-4ef2-ad1f-cfea8bb68fc5\",\"type\":\"DataRange1d\"},{\"attributes\":{},\"id\":\"1948d185-dcc4-4a85-8311-4c3503cc1f03\",\"type\":\"BasicTicker\"},{\"attributes\":{\"source\":{\"id\":\"0fe189d4-55ac-4e68-8065-76bd422104b5\",\"type\":\"ColumnDataSource\"}},\"id\":\"5cccb2ba-e5c8-4123-8717-4ed1ddc33a45\",\"type\":\"CDSView\"},{\"attributes\":{},\"id\":\"91dc6367-40bf-4d51-a91a-32e1f9d72834\",\"type\":\"BasicTickFormatter\"},{\"attributes\":{},\"id\":\"9cba0813-f0f8-4e2c-b0bf-2ac6c14e1723\",\"type\":\"LinearScale\"},{\"attributes\":{},\"id\":\"c4e4d31e-b430-4327-aaed-885a70d69c1b\",\"type\":\"LinearScale\"},{\"attributes\":{\"callback\":null,\"end\":380},\"id\":\"34223728-e50f-4d37-bf34-652331559217\",\"type\":\"Range1d\"},{\"attributes\":{\"callback\":null,\"column_names\":[\"disp\",\"num_leaves\",\"scale\",\"test_scores\",\"disp2\",\"learning_rate\",\"n_tree\"],\"data\":{\"disp\":[\"0.2\",\"0.2\",\"0.2\",\"0.2\",\"0.2\",\"0.2\",\"0.2\",\"0.2\",\"0.2\",\"0.2\",\"0.2\",\"0.2\"],\"disp2\":[\"0.2654\",\"0.2651\",\"0.2649\",\"0.2648\",\"0.2648\",\"0.2649\",\"0.2647\",\"0.2648\",\"0.2649\",\"0.2647\",\"0.2648\",\"0.2649\"],\"learning_rate\":[0.2,0.2,0.2,0.2,0.2,0.2,0.2,0.2,0.2,0.2,0.2,0.2],\"n_tree\":[40,40,40,140,140,140,240,240,240,340,340,340],\"num_leaves\":[20,40,80,20,40,80,20,40,80,20,40,80],\"scale\":[18,18,18,18,18,18,12.407036029912403,18,18,12.407036029912403,18,18],\"test_scores\":[0.265384372,0.265092002,0.264933189,0.264837342,0.26482876,0.264864249,0.264732721,0.26482876,0.264864249,0.264732721,0.26482876,0.264864249]}},\"id\":\"762c0027-78aa-4b5d-8621-dde7b054d211\",\"type\":\"ColumnDataSource\"},{\"attributes\":{},\"id\":\"3889ae5e-2d0b-470a-83c4-6e2cdce641aa\",\"type\":\"BasicTicker\"},{\"attributes\":{\"label\":{\"field\":\"legend\"},\"renderers\":[{\"id\":\"449082d8-aa0e-4d00-b6ee-c8865b46257f\",\"type\":\"GlyphRenderer\"}]},\"id\":\"d70bb31b-c9e2-419a-bb0c-e65f8656df12\",\"type\":\"LegendItem\"},{\"attributes\":{},\"id\":\"ca02d4cd-bab2-4261-87f3-1c641f6a44d7\",\"type\":\"BasicTickFormatter\"},{\"attributes\":{\"source\":{\"id\":\"e250d8d6-f2e7-4b03-99a8-1b913a3a5754\",\"type\":\"ColumnDataSource\"}},\"id\":\"876cdd69-65ed-4168-a32a-0739926c90cd\",\"type\":\"CDSView\"},{\"attributes\":{},\"id\":\"989f2c32-bdd6-45b0-9af5-ee170812992a\",\"type\":\"BasicTicker\"},{\"attributes\":{},\"id\":\"81279da2-ace6-40c2-a5f1-c475d6dc034e\",\"type\":\"LinearScale\"},{\"attributes\":{\"source\":{\"id\":\"460075af-9c8c-4504-bf9b-0034fbd5d5c9\",\"type\":\"ColumnDataSource\"}},\"id\":\"c75824e8-7b9e-475f-b405-cacb1a154ee3\",\"type\":\"CDSView\"},{\"attributes\":{},\"id\":\"3e17b9fa-a7fb-469c-9980-33d256982bef\",\"type\":\"BasicTickFormatter\"},{\"attributes\":{\"active_drag\":\"auto\",\"active_inspect\":\"auto\",\"active_scroll\":\"auto\",\"active_tap\":\"auto\",\"tools\":[{\"id\":\"3e86b460-2c21-4a90-94b4-d542c82d595a\",\"type\":\"WheelZoomTool\"},{\"id\":\"e21ec661-12e0-4f0c-8d72-9255ad5ad567\",\"type\":\"PanTool\"},{\"id\":\"7f9038d3-07da-4c3e-88f0-7b4ac3963d2a\",\"type\":\"ResetTool\"}]},\"id\":\"e0f31b11-c6f2-4213-a905-7b345fed21f2\",\"type\":\"Toolbar\"},{\"attributes\":{},\"id\":\"4a76ea87-9bc7-439e-92b3-c7f960aba84a\",\"type\":\"LinearScale\"},{\"attributes\":{\"fill_color\":{\"value\":\"#f46d43\"},\"line_color\":{\"value\":\"#f46d43\"},\"size\":{\"field\":\"scale\",\"units\":\"screen\"},\"x\":{\"field\":\"depth\"},\"y\":{\"field\":\"n_tree\"}},\"id\":\"a857411b-e082-4f5e-a89c-ad7ed096ce4b\",\"type\":\"Circle\"},{\"attributes\":{\"plot\":{\"id\":\"3622534d-ca31-4f34-9ffe-5a564c8d5e84\",\"subtype\":\"Figure\",\"type\":\"Plot\"},\"ticker\":{\"id\":\"e981e127-37d0-434d-86d8-b0e618f1a7a9\",\"type\":\"BasicTicker\"}},\"id\":\"051654d5-60fc-48fb-ba1b-1a7926d26bfa\",\"type\":\"Grid\"},{\"attributes\":{},\"id\":\"263c5d44-638e-4c24-9cb6-95e8c543e6df\",\"type\":\"BasicTickFormatter\"},{\"attributes\":{\"plot\":{\"id\":\"e28045a7-d40f-4bef-bacf-6e6c5b294f8e\",\"subtype\":\"Figure\",\"type\":\"Plot\"},\"render_mode\":\"css\",\"text\":\"Learning rate=0.1\",\"x\":10,\"x_units\":\"screen\",\"y\":5,\"y_units\":\"screen\"},\"id\":\"da5da137-bd64-4808-9c40-1c017d5c8f73\",\"type\":\"Label\"},{\"attributes\":{},\"id\":\"f6825aec-1548-4c74-8f3e-e986082bcbf3\",\"type\":\"LinearScale\"},{\"attributes\":{\"fill_alpha\":{\"value\":0.4},\"fill_color\":{\"field\":\"color\"},\"line_alpha\":{\"value\":0.4},\"line_color\":{\"field\":\"color\"},\"size\":{\"units\":\"screen\",\"value\":30},\"x\":{\"field\":\"n_tree\"},\"y\":{\"field\":\"num_leaves\"}},\"id\":\"0a77b4df-3727-4fe3-9a35-3b37503ded29\",\"type\":\"Square\"},{\"attributes\":{},\"id\":\"fb99a987-ffc1-495c-aeb8-c4be8d7fc162\",\"type\":\"PanTool\"},{\"attributes\":{\"line_alpha\":{\"value\":0.1},\"line_color\":{\"value\":\"#1f77b4\"},\"line_width\":{\"value\":2},\"xs\":{\"field\":\"x\"},\"ys\":{\"field\":\"y\"}},\"id\":\"895b3a75-743b-4af1-bfb3-03f314f4626a\",\"type\":\"MultiLine\"},{\"attributes\":{\"active_drag\":\"auto\",\"active_inspect\":\"auto\",\"active_scroll\":\"auto\",\"active_tap\":\"auto\",\"tools\":[{\"id\":\"990af05e-152a-4598-997e-721f9a475a32\",\"type\":\"HoverTool\"},{\"id\":\"af508ef5-b839-4f8d-bd92-dc92fb3310d4\",\"type\":\"WheelZoomTool\"},{\"id\":\"870aac9a-d31c-40bd-b443-e46f6a00e466\",\"type\":\"PanTool\"},{\"id\":\"e502b085-56a3-4f00-a5d0-770f3355936a\",\"type\":\"ResetTool\"}]},\"id\":\"6b210795-69cf-4081-a78f-fe68cd02a394\",\"type\":\"Toolbar\"},{\"attributes\":{\"data_source\":{\"id\":\"957e4b17-13b1-4ead-9ac5-99238e393098\",\"type\":\"ColumnDataSource\"},\"glyph\":{\"id\":\"1979cfed-c735-4f99-aebb-0853ffeb0a42\",\"type\":\"VBar\"},\"hover_glyph\":null,\"muted_glyph\":null,\"nonselection_glyph\":{\"id\":\"157b66c2-9042-4d54-9000-d6e63a909fce\",\"type\":\"VBar\"},\"selection_glyph\":null,\"view\":{\"id\":\"99ddd8e5-1ecb-41b4-9cd0-a445445cd1ec\",\"type\":\"CDSView\"}},\"id\":\"1b040b27-59b6-40a6-b3d0-36a834f1b7b0\",\"type\":\"GlyphRenderer\"},{\"attributes\":{},\"id\":\"2f33bffb-9f5b-478c-abb9-a1a0f2e70c69\",\"type\":\"LinearScale\"},{\"attributes\":{\"callback\":null,\"column_names\":[\"color\",\"x\",\"counts\"],\"data\":{\"color\":[\"#ed7953\",\"#f0f921\",\"#ed7953\",\"#f0f921\",\"#ed7953\",\"#f0f921\",\"#ed7953\",\"#f0f921\"],\"counts\":[0.3528851,0.3602763,0.3590081,0.3655024,0.3680951,0.3752033,0.3671077,0.3746257],\"x\":[[\"Linear\",\"Previous\"],[\"Linear\",\"Average\"],[\"MLP\",\"Previous\"],[\"MLP\",\"Average\"],[\"XGB\",\"Previous\"],[\"XGB\",\"Average\"],[\"LGB\",\"Previous\"],[\"LGB\",\"Average\"]]}},\"id\":\"9053efe8-5a04-4c78-b828-12e1957b4f45\",\"type\":\"ColumnDataSource\"},{\"attributes\":{\"below\":[{\"id\":\"32832b1f-6809-4160-b53f-03aaacf99912\",\"type\":\"LinearAxis\"}],\"left\":[{\"id\":\"4655fbf8-7b2b-4fc8-bf96-bd5d961fcbea\",\"type\":\"LinearAxis\"}],\"renderers\":[{\"id\":\"32832b1f-6809-4160-b53f-03aaacf99912\",\"type\":\"LinearAxis\"},{\"id\":\"0e29cde1-5e58-4c20-b3b4-4fc1c9e53c4e\",\"type\":\"Grid\"},{\"id\":\"4655fbf8-7b2b-4fc8-bf96-bd5d961fcbea\",\"type\":\"LinearAxis\"},{\"id\":\"c2b854e0-a5fa-40ce-bbcb-ec01a52b4f2d\",\"type\":\"Grid\"},{\"id\":\"1d542307-2ab7-4305-be61-82665bc0900a\",\"type\":\"GlyphRenderer\"},{\"id\":\"afd88d31-9c8b-41d7-9f12-31182401c81d\",\"type\":\"Label\"},{\"id\":\"48a5735c-7c0d-4acf-b33e-b67b6ada10ff\",\"type\":\"Label\"}],\"title\":{\"id\":\"772612fb-1016-4d51-9de2-206efffd4641\",\"type\":\"Title\"},\"toolbar\":{\"id\":\"fd51ceaa-47b1-484d-8bf3-a1ed605a9556\",\"type\":\"Toolbar\"},\"x_range\":{\"id\":\"1520781f-b528-42d1-abd2-f45705d433c3\",\"type\":\"Range1d\"},\"x_scale\":{\"id\":\"d8ebe987-fab5-42aa-9401-070b15c99c6f\",\"type\":\"LinearScale\"},\"y_range\":{\"id\":\"34223728-e50f-4d37-bf34-652331559217\",\"type\":\"Range1d\"},\"y_scale\":{\"id\":\"e7c5f6b2-e6da-467f-8578-7f962061c7f3\",\"type\":\"LinearScale\"}},\"id\":\"a0c41e1d-2049-46c3-aa82-84d1f15e62ff\",\"subtype\":\"Figure\",\"type\":\"Plot\"},{\"attributes\":{\"callback\":null,\"end\":90,\"start\":10},\"id\":\"47822739-3d24-44bd-856f-9ba8e3a9f045\",\"type\":\"Range1d\"},{\"attributes\":{\"formatter\":{\"id\":\"0d5cafd1-edb3-43a9-8d55-5b9ad6eb3be9\",\"type\":\"BasicTickFormatter\"},\"plot\":{\"id\":\"3622534d-ca31-4f34-9ffe-5a564c8d5e84\",\"subtype\":\"Figure\",\"type\":\"Plot\"},\"ticker\":{\"id\":\"e981e127-37d0-434d-86d8-b0e618f1a7a9\",\"type\":\"BasicTicker\"}},\"id\":\"f6403170-9542-474e-89f0-55c677625976\",\"type\":\"LinearAxis\"},{\"attributes\":{\"align\":\"center\",\"plot\":null,\"text\":\"LightGBM Parameter Tuning\",\"text_font_size\":{\"value\":\"20px\"}},\"id\":\"e236368d-8487-4b8f-b595-760944d9d893\",\"type\":\"Title\"},{\"attributes\":{\"plot\":{\"id\":\"b4a8c323-808e-4aab-a4dd-1e7d63566aa7\",\"subtype\":\"Figure\",\"type\":\"Plot\"},\"render_mode\":\"css\",\"text\":\"* points sized by AUC\",\"x\":10,\"x_units\":\"screen\",\"y\":495,\"y_units\":\"screen\"},\"id\":\"0e92e44b-612d-406a-bd6d-9d394684a829\",\"type\":\"Label\"},{\"attributes\":{\"child\":{\"id\":\"7523f60c-f514-46f3-b7ef-7b97a51bc1e1\",\"subtype\":\"Figure\",\"type\":\"Plot\"},\"title\":\"Learning rate=0.05\"},\"id\":\"57aaf042-b0c5-4fac-8547-73c13048f141\",\"type\":\"Panel\"},{\"attributes\":{},\"id\":\"a18de7c0-590e-4349-a3e0-a1fc482dc7ec\",\"type\":\"CategoricalScale\"},{\"attributes\":{},\"id\":\"76eaa87b-21ae-43fc-9499-d8d76fb0248f\",\"type\":\"WheelZoomTool\"},{\"attributes\":{\"align\":\"center\",\"plot\":null,\"text\":\"MLP Parameter Tuning\",\"text_font_size\":{\"value\":\"20px\"}},\"id\":\"964bbd60-5c56-4524-afe5-915b9bcb858a\",\"type\":\"Title\"},{\"attributes\":{\"bottom\":{\"value\":0},\"fill_alpha\":{\"value\":0.1},\"fill_color\":{\"value\":\"#1f77b4\"},\"left\":{\"field\":\"left\"},\"line_alpha\":{\"value\":0.1},\"line_color\":{\"value\":\"#1f77b4\"},\"right\":{\"field\":\"right\"},\"top\":{\"field\":\"hist\"}},\"id\":\"f788689a-7c0f-4307-81f1-d73fe4df43a2\",\"type\":\"Quad\"},{\"attributes\":{\"source\":{\"id\":\"e3e5022b-2086-49cd-bcdc-9fef52209c8c\",\"type\":\"ColumnDataSource\"}},\"id\":\"e968578e-45a8-4284-9a1d-320c4d591ba0\",\"type\":\"CDSView\"},{\"attributes\":{},\"id\":\"ab141062-b5ad-470d-b8e2-db383edd836a\",\"type\":\"BasicTicker\"},{\"attributes\":{},\"id\":\"e21ec661-12e0-4f0c-8d72-9255ad5ad567\",\"type\":\"PanTool\"},{\"attributes\":{\"plot\":{\"id\":\"a0c41e1d-2049-46c3-aa82-84d1f15e62ff\",\"subtype\":\"Figure\",\"type\":\"Plot\"},\"render_mode\":\"css\",\"text\":\"Learning rate=0.2\",\"x\":10,\"x_units\":\"screen\",\"y\":5,\"y_units\":\"screen\"},\"id\":\"48a5735c-7c0d-4acf-b33e-b67b6ada10ff\",\"type\":\"Label\"},{\"attributes\":{\"callback\":null,\"factors\":[[\"Linear\",\"Previous\"],[\"Linear\",\"Average\"],[\"MLP\",\"Previous\"],[\"MLP\",\"Average\"],[\"XGB\",\"Previous\"],[\"XGB\",\"Average\"],[\"LGB\",\"Previous\"],[\"LGB\",\"Average\"]],\"range_padding\":0.2},\"id\":\"fd3a9a54-4b08-4101-891f-f98ae5efa22a\",\"type\":\"FactorRange\"},{\"attributes\":{},\"id\":\"e50e454c-4423-47ce-9008-f9484265de5e\",\"type\":\"ResetTool\"},{\"attributes\":{},\"id\":\"f37c8aaf-7dbb-4b19-b018-facdcece363f\",\"type\":\"BasicTicker\"},{\"attributes\":{\"child\":{\"id\":\"a0c41e1d-2049-46c3-aa82-84d1f15e62ff\",\"subtype\":\"Figure\",\"type\":\"Plot\"},\"title\":\"Learning rate=0.2\"},\"id\":\"9af09389-4411-43d9-b8dc-fb76143bd568\",\"type\":\"Panel\"},{\"attributes\":{\"fill_alpha\":{\"value\":0.1},\"fill_color\":{\"value\":\"#1f77b4\"},\"line_alpha\":{\"value\":0.1},\"line_color\":{\"value\":\"#1f77b4\"},\"top\":{\"field\":\"top\"},\"width\":{\"value\":0.9},\"x\":{\"field\":\"x\"}},\"id\":\"157b66c2-9042-4d54-9000-d6e63a909fce\",\"type\":\"VBar\"},{\"attributes\":{\"callback\":null},\"id\":\"c200dd7e-bd74-460e-ba60-d37236047a52\",\"type\":\"DataRange1d\"},{\"attributes\":{\"plot\":null,\"text\":\"Distribution of Previous Order Size\"},\"id\":\"ad52a3e8-52ac-4468-bfa3-7bee2314d7b2\",\"type\":\"Title\"},{\"attributes\":{\"callback\":null,\"column_names\":[\"disp\",\"depth\",\"n_tree\",\"color\",\"learning_rate\",\"disp2\"],\"data\":{\"color\":[\"green\"],\"depth\":[10],\"disp\":[\".05\"],\"disp2\":[\"0.2645\"],\"learning_rate\":[0.05],\"n_tree\":[240]}},\"id\":\"8c01cc57-9cc7-4641-91f2-54443def3932\",\"type\":\"ColumnDataSource\"},{\"attributes\":{},\"id\":\"3b5b892e-1f22-4305-90a8-65a5f43adc32\",\"type\":\"CategoricalTickFormatter\"},{\"attributes\":{},\"id\":\"3379942e-ceab-467f-8b8b-67393881c588\",\"type\":\"CategoricalTickFormatter\"},{\"attributes\":{},\"id\":\"732926bd-c2ee-49e3-a9a3-a4409e8f9bd7\",\"type\":\"BasicTicker\"},{\"attributes\":{\"source\":{\"id\":\"8c01cc57-9cc7-4641-91f2-54443def3932\",\"type\":\"ColumnDataSource\"}},\"id\":\"ee73dae4-7170-4f35-9615-f5143e9854ea\",\"type\":\"CDSView\"},{\"attributes\":{\"plot\":{\"id\":\"bf333bea-24d8-414b-8321-2e80f4d34bc0\",\"subtype\":\"Figure\",\"type\":\"Plot\"},\"ticker\":{\"id\":\"f5c57551-8832-46a6-ac50-e92dc6176453\",\"type\":\"BasicTicker\"}},\"id\":\"4ed0d63c-7379-4326-9276-b8bb045fa0d9\",\"type\":\"Grid\"},{\"attributes\":{},\"id\":\"7a68cd64-9d31-40ed-93c1-4b7747386651\",\"type\":\"WheelZoomTool\"},{\"attributes\":{\"active_drag\":\"auto\",\"active_inspect\":\"auto\",\"active_scroll\":\"auto\",\"active_tap\":\"auto\",\"tools\":[{\"id\":\"1c727726-feae-4570-8fa2-bafa66e266b2\",\"type\":\"HoverTool\"},{\"id\":\"13d2ab26-8cf1-4140-b9d0-7b476e63732f\",\"type\":\"WheelZoomTool\"},{\"id\":\"2975c010-2377-4bd3-8cfd-ca6cc0860cbf\",\"type\":\"PanTool\"},{\"id\":\"798b75d1-18ec-4558-b629-c2f7f218f62e\",\"type\":\"ResetTool\"}]},\"id\":\"c38235f6-d862-475e-9b70-fc3a30d9dc85\",\"type\":\"Toolbar\"},{\"attributes\":{\"callback\":null,\"end\":20},\"id\":\"361f8162-3161-412f-96b0-06e0869b6e80\",\"type\":\"Range1d\"},{\"attributes\":{\"plot\":{\"id\":\"de9b13c6-00d8-4f4d-a7e5-fdf3953a1239\",\"subtype\":\"Figure\",\"type\":\"Plot\"},\"ticker\":{\"id\":\"f187ee9d-4276-4fb9-814e-377058404547\",\"type\":\"BasicTicker\"}},\"id\":\"fd49143d-bab8-483d-878e-9e8e484363c3\",\"type\":\"Grid\"},{\"attributes\":{\"formatter\":{\"id\":\"2b6944c4-d69e-4a4b-8c47-d7627656a2bd\",\"type\":\"BasicTickFormatter\"},\"plot\":{\"id\":\"0aeeac43-c4bb-4a76-b760-45b4b00e8ee5\",\"subtype\":\"Figure\",\"type\":\"Plot\"},\"ticker\":{\"id\":\"732926bd-c2ee-49e3-a9a3-a4409e8f9bd7\",\"type\":\"BasicTicker\"}},\"id\":\"a449e193-32c9-4347-a325-046953359f1f\",\"type\":\"LinearAxis\"},{\"attributes\":{},\"id\":\"bc3393b3-925b-4e0f-9f81-bb576ff3aaf5\",\"type\":\"BasicTicker\"},{\"attributes\":{},\"id\":\"d5d6dce3-d7aa-43c4-8278-369a763a954f\",\"type\":\"BasicTicker\"},{\"attributes\":{\"child\":{\"id\":\"bf333bea-24d8-414b-8321-2e80f4d34bc0\",\"subtype\":\"Figure\",\"type\":\"Plot\"},\"title\":\"Learning rate=0.2\"},\"id\":\"3cb6a3d8-980d-46c4-9fac-0695b32eabd9\",\"type\":\"Panel\"},{\"attributes\":{\"plot\":null,\"text\":\"LightGBM Feature Importance\"},\"id\":\"30add88a-15f6-4af1-947e-df7fb1488629\",\"type\":\"Title\"},{\"attributes\":{\"axis_label\":\"# of trees\",\"formatter\":{\"id\":\"ca02d4cd-bab2-4261-87f3-1c641f6a44d7\",\"type\":\"BasicTickFormatter\"},\"plot\":{\"id\":\"a0c41e1d-2049-46c3-aa82-84d1f15e62ff\",\"subtype\":\"Figure\",\"type\":\"Plot\"},\"ticker\":{\"id\":\"833a5139-ea6f-4ef6-a737-a9fdf594c6f5\",\"type\":\"BasicTicker\"}},\"id\":\"4655fbf8-7b2b-4fc8-bf96-bd5d961fcbea\",\"type\":\"LinearAxis\"},{\"attributes\":{\"fill_color\":{\"value\":\"#0d0887\"},\"line_color\":{\"value\":\"#0d0887\"},\"top\":{\"field\":\"top\"},\"width\":{\"value\":0.9},\"x\":{\"field\":\"x\"}},\"id\":\"ebd90390-534a-48d8-b9a7-a0033d6c8ad1\",\"type\":\"VBar\"},{\"attributes\":{\"below\":[{\"id\":\"2db4afae-e3ef-4ec6-ab22-848645e18455\",\"type\":\"LinearAxis\"}],\"left\":[{\"id\":\"614027b4-bcc5-4262-9be4-c7b00f43f7c5\",\"type\":\"LinearAxis\"}],\"renderers\":[{\"id\":\"2db4afae-e3ef-4ec6-ab22-848645e18455\",\"type\":\"LinearAxis\"},{\"id\":\"332c1df0-feaf-48e7-9566-455e25b5ba3d\",\"type\":\"Grid\"},{\"id\":\"614027b4-bcc5-4262-9be4-c7b00f43f7c5\",\"type\":\"LinearAxis\"},{\"id\":\"66cdcc55-c0ad-4b71-813d-26824193a70d\",\"type\":\"Grid\"},{\"id\":\"df28f58f-c458-4b1d-8730-7a24b7379090\",\"type\":\"GlyphRenderer\"},{\"id\":\"bffe3ad4-562d-4e1c-9e6b-914ff16dc57e\",\"type\":\"GlyphRenderer\"},{\"id\":\"0e78ee3f-2640-4bcb-91fb-7a7818fbce71\",\"type\":\"Label\"},{\"id\":\"4e60890e-7262-4a9a-9265-3a8e492d3bbc\",\"type\":\"Label\"}],\"title\":{\"id\":\"4d7ad9ba-c51d-4938-8f24-e7a97cc53027\",\"type\":\"Title\"},\"toolbar\":{\"id\":\"14e580ac-2481-4bab-b1ac-3452f77e0e34\",\"type\":\"Toolbar\"},\"x_range\":{\"id\":\"ecafbb9f-cd73-4566-959f-cc515731b353\",\"type\":\"Range1d\"},\"x_scale\":{\"id\":\"f4ad8451-b8e0-42aa-b17e-22769f507e63\",\"type\":\"LinearScale\"},\"y_range\":{\"id\":\"5543bdd7-e3f7-402a-8c0a-5751fad15ab9\",\"type\":\"Range1d\"},\"y_scale\":{\"id\":\"c4e4d31e-b430-4327-aaed-885a70d69c1b\",\"type\":\"LinearScale\"}},\"id\":\"7523f60c-f514-46f3-b7ef-7b97a51bc1e1\",\"subtype\":\"Figure\",\"type\":\"Plot\"},{\"attributes\":{\"source\":{\"id\":\"748324d4-ca36-484d-b32f-eabee34c9784\",\"type\":\"ColumnDataSource\"}},\"id\":\"7d1f7c30-1d3d-435a-aeee-a1b579e874fb\",\"type\":\"CDSView\"},{\"attributes\":{\"callback\":null,\"column_names\":[\"y\",\"auc\",\"color\",\"x\",\"legend\",\"label\"],\"data\":{\"auc\":[0.589743339731,0.588788293785,0.579734696004,0.575449448601],\"color\":[\"#0d0887\",\"#9c179e\",\"#ed7953\",\"#f0f921\"],\"label\":[\"LightGBM\",\"XGBoost\",\"MLP\",\"Logistic\"],\"legend\":[\"LightGBM: AUC 0.5897\",\"XGBoost: AUC 0.5888\",\"MLP: AUC 0.5797\",\"Logistic: AUC 0.5754\"],\"x\":[[0.0,0.011795112567152736,1.0],[0.0,0.011478408276887052,1.0],[0.0,0.011759197647638072,1.0],[0.0,0.010549844357798795,1.0]],\"y\":[[0.0,0.19128179202927334,1.0],[0.0,0.18905499584732605,1.0],[0.0,0.17122858965562898,1.0],[0.0,0.1614487415592388,1.0]]}},\"id\":\"0fe189d4-55ac-4e68-8065-76bd422104b5\",\"type\":\"ColumnDataSource\"},{\"attributes\":{\"plot\":null,\"text\":\"Distribution of Average Order Size\"},\"id\":\"ec13721c-7ae1-450c-9c1a-b9b08e7d0afb\",\"type\":\"Title\"},{\"attributes\":{},\"id\":\"a5d73951-33b2-456e-9b4b-1b4aa9dde1aa\",\"type\":\"LinearScale\"},{\"attributes\":{\"fill_alpha\":{\"value\":0.1},\"fill_color\":{\"value\":\"#1f77b4\"},\"line_alpha\":{\"value\":0.1},\"line_color\":{\"value\":\"#1f77b4\"},\"size\":{\"units\":\"screen\",\"value\":30},\"x\":{\"field\":\"units\"},\"y\":{\"field\":\"layers\"}},\"id\":\"811c791c-411c-4d3f-9a59-3ea05cc74743\",\"type\":\"Square\"},{\"attributes\":{\"dimension\":1,\"plot\":{\"id\":\"7523f60c-f514-46f3-b7ef-7b97a51bc1e1\",\"subtype\":\"Figure\",\"type\":\"Plot\"},\"ticker\":{\"id\":\"3889ae5e-2d0b-470a-83c4-6e2cdce641aa\",\"type\":\"BasicTicker\"}},\"id\":\"66cdcc55-c0ad-4b71-813d-26824193a70d\",\"type\":\"Grid\"},{\"attributes\":{\"fill_alpha\":{\"value\":0.1},\"fill_color\":{\"value\":\"#1f77b4\"},\"line_alpha\":{\"value\":0.1},\"line_color\":{\"value\":\"#1f77b4\"},\"top\":{\"field\":\"top\"},\"width\":{\"value\":0.9},\"x\":{\"field\":\"x\"}},\"id\":\"873a34ce-d7d7-4d36-9cdb-2119fb72eefb\",\"type\":\"VBar\"},{\"attributes\":{\"plot\":{\"id\":\"7b0aeb7f-6cbc-4a81-9686-64a4dc1f51f7\",\"subtype\":\"Figure\",\"type\":\"Plot\"},\"ticker\":{\"id\":\"2d42ae62-bd21-4aaa-8dbd-59707beeae8c\",\"type\":\"CategoricalTicker\"}},\"id\":\"6e641105-9019-48f5-b0af-a053576c7eb0\",\"type\":\"Grid\"},{\"attributes\":{\"formatter\":{\"id\":\"3711c2f9-c32a-4430-8d75-91140a91cfc6\",\"type\":\"BasicTickFormatter\"},\"plot\":{\"id\":\"ba6a0931-5b19-4948-bd80-60f3dc8439da\",\"subtype\":\"Figure\",\"type\":\"Plot\"},\"ticker\":{\"id\":\"1948d185-dcc4-4a85-8311-4c3503cc1f03\",\"type\":\"BasicTicker\"}},\"id\":\"c29cf239-8475-4d90-b789-f92b0a6cac9c\",\"type\":\"LinearAxis\"},{\"attributes\":{\"callback\":null,\"column_names\":[\"disp\",\"color\",\"disp2\",\"num_leaves\",\"n_tree\"],\"data\":{\"color\":[\"green\"],\"disp\":[\"0.1\"],\"disp2\":[\"0.2645\"],\"n_tree\":[340],\"num_leaves\":[40]}},\"id\":\"51527490-3c0a-40b8-ac78-9f786a2c1541\",\"type\":\"ColumnDataSource\"},{\"attributes\":{\"active_drag\":\"auto\",\"active_inspect\":\"auto\",\"active_scroll\":\"auto\",\"active_tap\":\"auto\",\"tools\":[{\"id\":\"76eaa87b-21ae-43fc-9499-d8d76fb0248f\",\"type\":\"WheelZoomTool\"},{\"id\":\"2b98782f-0573-47e2-b6ae-0709b3b1c4b5\",\"type\":\"PanTool\"},{\"id\":\"1b4d750d-a922-4b18-9b5d-f8d759626ff0\",\"type\":\"ResetTool\"}]},\"id\":\"3b264ff8-ec27-499f-8196-8f57148526a7\",\"type\":\"Toolbar\"},{\"attributes\":{\"callback\":null,\"column_names\":[\"x\",\"top\"],\"data\":{\"top\":[801,581,644,459,942,644,425,281,296,262,349,453,408,551,574,341,619,139,228,272,234,296,119,45,46,120,1,14,30,5],\"x\":[\"avg_order_size\",\"prev_ord_size\",\"avg_days_between_orders\",\"num_orders_placed\",\"reordered_usr_avg\",\"overall_avg_prod_disp\",\"overall_avg_aisle_disp\",\"perc_aisle_support\",\"overall_avg_dept_disp\",\"perc_dept_support\",\"avg_ord_pos\",\"days_since_aisle\",\"days_since_department\",\"days_since_prod\",\"order_aisle_displacement\",\"orders_since_prod\",\"perc_prod_support\",\"prod_aisle_ratio\",\"prod_dept_ratio\",\"streak_length\",\"usr_avg_aisle_disp\",\"usr_avg_dept_disp\",\"usr_avg_prod_disp\",\"prod_due_overall_perc\",\"prod_due_user_perc\",\"aisle_due_overall_perc\",\"aisle_due_user_perc\",\"dept_due_overall_perc\",\"dept_due_user_perc\",\"reorder_custom\"]}},\"id\":\"e3e5022b-2086-49cd-bcdc-9fef52209c8c\",\"type\":\"ColumnDataSource\"},{\"attributes\":{\"fill_alpha\":{\"value\":0.1},\"fill_color\":{\"value\":\"#1f77b4\"},\"line_alpha\":{\"value\":0.1},\"line_color\":{\"value\":\"#1f77b4\"},\"size\":{\"field\":\"scale\",\"units\":\"screen\"},\"x\":{\"field\":\"n_tree\"},\"y\":{\"field\":\"num_leaves\"}},\"id\":\"d6d3d53f-702d-4bb9-b88a-52c1c8640cfe\",\"type\":\"Circle\"},{\"attributes\":{},\"id\":\"52d7b477-0373-4843-a903-260211ce171d\",\"type\":\"BasicTickFormatter\"},{\"attributes\":{\"dimensions\":\"height\"},\"id\":\"ce0f4e2a-ea56-4cf5-9d43-c177789c3d8b\",\"type\":\"WheelZoomTool\"},{\"attributes\":{},\"id\":\"5738849e-77e2-4a33-9980-da072f3f48ae\",\"type\":\"BasicTickFormatter\"},{\"attributes\":{\"axis_label\":\"Nodes\",\"formatter\":{\"id\":\"5cabcf12-612f-4108-bbdb-f5e61d991b81\",\"type\":\"BasicTickFormatter\"},\"plot\":{\"id\":\"b4a8c323-808e-4aab-a4dd-1e7d63566aa7\",\"subtype\":\"Figure\",\"type\":\"Plot\"},\"ticker\":{\"id\":\"48f4a33d-f8a2-4dbe-a3c8-103a1ec10a3e\",\"type\":\"BasicTicker\"}},\"id\":\"4f6437ca-9197-4e6e-ae62-7f73214cb915\",\"type\":\"LinearAxis\"},{\"attributes\":{\"callback\":null,\"column_names\":[\"layers\",\"test_scores\",\"disp2\",\"scale\",\"units\"],\"data\":{\"disp2\":[\"0.2732\",\"0.2684\",\"0.2683\",\"0.2680\",\"0.2685\",\"0.2732\",\"0.2675\",\"0.2735\",\"0.2681\",\"0.2682\",\"0.2679\",\"0.2681\",\"0.2675\",\"0.2694\",\"0.2678\",\"0.2674\",\"0.2728\",\"0.2682\",\"0.2680\",\"0.2676\"],\"layers\":[10,20,30,40,10,30,10,40,40,20,30,40,10,50,10,20,5,5,5,5],\"scale\":[18,18,17.57227605976227,12.32434811250043,18,18,1.3292362617662983,18,14.217187536074576,16.631925632494877,10.88777138829007,14.510207410406949,2.7406389092965764,18,9.05602344929651,1.0,18,17.025586960772245,12.616330587649365,4.642489217220662],\"test_scores\":[0.273223238,0.268352593,0.268273315,0.268010023,0.26852826,0.273200709,0.267458391,0.273462352,0.268104988,0.268226137,0.267937949,0.268119689,0.267529202,0.269416292,0.267846049,0.267441873,0.2728082582,0.268245887248,0.268024671953,0.267624619082],\"units\":[10,20,30,40,30,10,40,10,20,40,40,30,50,10,60,60,10,30,40,50]}},\"id\":\"748324d4-ca36-484d-b32f-eabee34c9784\",\"type\":\"ColumnDataSource\"},{\"attributes\":{\"source\":{\"id\":\"957e4b17-13b1-4ead-9ac5-99238e393098\",\"type\":\"ColumnDataSource\"}},\"id\":\"99ddd8e5-1ecb-41b4-9cd0-a445445cd1ec\",\"type\":\"CDSView\"},{\"attributes\":{},\"id\":\"b3e3c1b6-925f-420b-bffe-a126deaea846\",\"type\":\"CategoricalScale\"},{\"attributes\":{},\"id\":\"f23de53c-9f1e-4fe0-9f8c-02426f42f312\",\"type\":\"CategoricalTickFormatter\"},{\"attributes\":{},\"id\":\"833a5139-ea6f-4ef6-a737-a9fdf594c6f5\",\"type\":\"BasicTicker\"},{\"attributes\":{\"source\":{\"id\":\"9053efe8-5a04-4c78-b828-12e1957b4f45\",\"type\":\"ColumnDataSource\"}},\"id\":\"e6e71b94-8e0b-4829-9838-6c26386ebd9d\",\"type\":\"CDSView\"},{\"attributes\":{},\"id\":\"342ffb3b-5803-48a3-8f55-a8622d11d04b\",\"type\":\"BasicTicker\"},{\"attributes\":{\"plot\":{\"id\":\"0aeeac43-c4bb-4a76-b760-45b4b00e8ee5\",\"subtype\":\"Figure\",\"type\":\"Plot\"},\"ticker\":{\"id\":\"732926bd-c2ee-49e3-a9a3-a4409e8f9bd7\",\"type\":\"BasicTicker\"}},\"id\":\"018fa663-f051-44d4-b6df-c3d424179e01\",\"type\":\"Grid\"},{\"attributes\":{\"callback\":null,\"end\":380},\"id\":\"5543bdd7-e3f7-402a-8c0a-5751fad15ab9\",\"type\":\"Range1d\"},{\"attributes\":{\"callback\":null,\"factors\":[\"avg_order_size\",\"prev_ord_size\",\"avg_days_between_orders\",\"num_orders_placed\",\"reordered_usr_avg\",\"overall_avg_prod_disp\",\"overall_avg_aisle_disp\",\"perc_aisle_support\",\"overall_avg_dept_disp\",\"perc_dept_support\",\"avg_ord_pos\",\"days_since_aisle\",\"days_since_department\",\"days_since_prod\",\"order_aisle_displacement\",\"orders_since_prod\",\"perc_prod_support\",\"prod_aisle_ratio\",\"prod_dept_ratio\",\"streak_length\",\"usr_avg_aisle_disp\",\"usr_avg_dept_disp\",\"usr_avg_prod_disp\",\"prod_due_overall_perc\",\"prod_due_user_perc\",\"aisle_due_overall_perc\",\"aisle_due_user_perc\",\"dept_due_overall_perc\",\"dept_due_user_perc\",\"reorder_custom\"],\"range_padding\":0.1},\"id\":\"bb65f245-9f86-43d4-8e6e-0722b99a55ee\",\"type\":\"FactorRange\"},{\"attributes\":{\"axis_label\":\"Layers\",\"formatter\":{\"id\":\"3e17b9fa-a7fb-469c-9980-33d256982bef\",\"type\":\"BasicTickFormatter\"},\"plot\":{\"id\":\"b4a8c323-808e-4aab-a4dd-1e7d63566aa7\",\"subtype\":\"Figure\",\"type\":\"Plot\"},\"ticker\":{\"id\":\"5a4d800a-9e64-419a-8a20-e716f3c0c36b\",\"type\":\"BasicTicker\"}},\"id\":\"3d5f75c2-7a6c-4946-9987-7a69cc49d8fc\",\"type\":\"LinearAxis\"},{\"attributes\":{},\"id\":\"af508ef5-b839-4f8d-bd92-dc92fb3310d4\",\"type\":\"WheelZoomTool\"},{\"attributes\":{\"source\":{\"id\":\"762c0027-78aa-4b5d-8621-dde7b054d211\",\"type\":\"ColumnDataSource\"}},\"id\":\"a83ad47a-f400-4921-b93b-850d351bf405\",\"type\":\"CDSView\"},{\"attributes\":{\"line_dash\":[6],\"line_width\":{\"value\":2},\"location\":0.3118025,\"plot\":{\"id\":\"ba6a0931-5b19-4948-bd80-60f3dc8439da\",\"subtype\":\"Figure\",\"type\":\"Plot\"}},\"id\":\"6a09487a-7c72-4208-8558-58f5ff20f0ff\",\"type\":\"Span\"},{\"attributes\":{},\"id\":\"1b247c71-bfb8-4b9a-a593-783bbdf719b3\",\"type\":\"BasicTicker\"},{\"attributes\":{\"axis_label\":\"Tree depth\",\"formatter\":{\"id\":\"a2a3f9ed-bbde-4d6d-bcc8-dda3a0164b7c\",\"type\":\"BasicTickFormatter\"},\"plot\":{\"id\":\"a0c41e1d-2049-46c3-aa82-84d1f15e62ff\",\"subtype\":\"Figure\",\"type\":\"Plot\"},\"ticker\":{\"id\":\"1b247c71-bfb8-4b9a-a593-783bbdf719b3\",\"type\":\"BasicTicker\"}},\"id\":\"32832b1f-6809-4160-b53f-03aaacf99912\",\"type\":\"LinearAxis\"},{\"attributes\":{},\"id\":\"0d5cafd1-edb3-43a9-8d55-5b9ad6eb3be9\",\"type\":\"BasicTickFormatter\"},{\"attributes\":{\"fill_alpha\":{\"value\":0.4},\"fill_color\":{\"field\":\"color\"},\"line_alpha\":{\"value\":0.4},\"line_color\":{\"field\":\"color\"},\"size\":{\"units\":\"screen\",\"value\":30},\"x\":{\"field\":\"units\"},\"y\":{\"field\":\"layers\"}},\"id\":\"f080f43e-eb1e-49ca-8449-cd836625adc7\",\"type\":\"Square\"},{\"attributes\":{\"formatter\":{\"id\":\"89f27159-862a-473b-bbf5-7bbaa3d51029\",\"type\":\"BasicTickFormatter\"},\"plot\":{\"id\":\"3622534d-ca31-4f34-9ffe-5a564c8d5e84\",\"subtype\":\"Figure\",\"type\":\"Plot\"},\"ticker\":{\"id\":\"989f2c32-bdd6-45b0-9af5-ee170812992a\",\"type\":\"BasicTicker\"}},\"id\":\"7f21f8df-4f75-40b2-9771-f840a7ae52f5\",\"type\":\"LinearAxis\"},{\"attributes\":{},\"id\":\"fbc3fbdd-58c8-4350-b6ca-38f0e1106fb9\",\"type\":\"PanTool\"},{\"attributes\":{},\"id\":\"f4ad8451-b8e0-42aa-b17e-22769f507e63\",\"type\":\"LinearScale\"},{\"attributes\":{\"callback\":null,\"tooltips\":[[\"RMSE\",\"@disp2\"],[\"# of trees\",\"@n_tree\"],[\"# of leaves\",\"@num_leaves\"]]},\"id\":\"1c727726-feae-4570-8fa2-bafa66e266b2\",\"type\":\"HoverTool\"},{\"attributes\":{\"callback\":null,\"end\":0.377,\"start\":0.3},\"id\":\"858d4dae-8560-4dd6-928d-1e1550ff15c8\",\"type\":\"Range1d\"},{\"attributes\":{\"callback\":null,\"end\":90,\"start\":10},\"id\":\"ef7f22bb-fe13-4e54-8fdf-38408a102fd5\",\"type\":\"Range1d\"},{\"attributes\":{},\"id\":\"5cabcf12-612f-4108-bbdb-f5e61d991b81\",\"type\":\"BasicTickFormatter\"},{\"attributes\":{\"axis_label\":\"# of trees\",\"formatter\":{\"id\":\"5a40c277-620a-4cb8-9926-bf098527ca0d\",\"type\":\"BasicTickFormatter\"},\"plot\":{\"id\":\"7523f60c-f514-46f3-b7ef-7b97a51bc1e1\",\"subtype\":\"Figure\",\"type\":\"Plot\"},\"ticker\":{\"id\":\"3889ae5e-2d0b-470a-83c4-6e2cdce641aa\",\"type\":\"BasicTicker\"}},\"id\":\"614027b4-bcc5-4262-9be4-c7b00f43f7c5\",\"type\":\"LinearAxis\"},{\"attributes\":{\"callback\":null,\"column_names\":[\"x\",\"top\"],\"data\":{\"top\":[13753,11916,11483,9056,14336,12422,9280,8025,5562,6987,10107,7595,7325,7281,9243,4867,7680,2124,3632,3294,6580,7206,1412,1150,1739,2442,381,236,611,119],\"x\":[\"avg_order_size\",\"prev_ord_size\",\"avg_days_between_orders\",\"num_orders_placed\",\"reordered_usr_avg\",\"overall_avg_prod_disp\",\"overall_avg_aisle_disp\",\"perc_aisle_support\",\"overall_avg_dept_disp\",\"perc_dept_support\",\"avg_ord_pos\",\"days_since_aisle\",\"days_since_department\",\"days_since_prod\",\"order_aisle_displacement\",\"orders_since_prod\",\"perc_prod_support\",\"prod_aisle_ratio\",\"prod_dept_ratio\",\"streak_length\",\"usr_avg_aisle_disp\",\"usr_avg_dept_disp\",\"usr_avg_prod_disp\",\"prod_due_overall_perc\",\"prod_due_user_perc\",\"aisle_due_overall_perc\",\"aisle_due_user_perc\",\"dept_due_overall_perc\",\"dept_due_user_perc\",\"reorder_custom\"]}},\"id\":\"957e4b17-13b1-4ead-9ac5-99238e393098\",\"type\":\"ColumnDataSource\"},{\"attributes\":{\"dimension\":1,\"plot\":{\"id\":\"3622534d-ca31-4f34-9ffe-5a564c8d5e84\",\"subtype\":\"Figure\",\"type\":\"Plot\"},\"ticker\":{\"id\":\"989f2c32-bdd6-45b0-9af5-ee170812992a\",\"type\":\"BasicTicker\"}},\"id\":\"126bc97c-3a67-4eba-bb78-0087c50c4c56\",\"type\":\"Grid\"},{\"attributes\":{\"data_source\":{\"id\":\"8c01cc57-9cc7-4641-91f2-54443def3932\",\"type\":\"ColumnDataSource\"},\"glyph\":{\"id\":\"fcedab00-986b-4f31-aeeb-ae798afafc10\",\"type\":\"Square\"},\"hover_glyph\":null,\"muted_glyph\":null,\"nonselection_glyph\":{\"id\":\"80fb2f61-98f8-42ac-8fd2-d1f97f31bba2\",\"type\":\"Square\"},\"selection_glyph\":null,\"view\":{\"id\":\"ee73dae4-7170-4f35-9615-f5143e9854ea\",\"type\":\"CDSView\"}},\"id\":\"bffe3ad4-562d-4e1c-9e6b-914ff16dc57e\",\"type\":\"GlyphRenderer\"},{\"attributes\":{\"axis_label\":\"Number of Users\",\"formatter\":{\"id\":\"91dc6367-40bf-4d51-a91a-32e1f9d72834\",\"type\":\"BasicTickFormatter\"},\"plot\":{\"id\":\"de9b13c6-00d8-4f4d-a7e5-fdf3953a1239\",\"subtype\":\"Figure\",\"type\":\"Plot\"},\"ticker\":{\"id\":\"8a2d112b-b280-4c0a-a0bb-c02d94ebbcef\",\"type\":\"BasicTicker\"}},\"id\":\"a08d9c4d-ed24-4f61-b85f-702a681247c6\",\"type\":\"LinearAxis\"},{\"attributes\":{\"align\":\"center\",\"plot\":null,\"text\":\"Submission Scores by Model and Assumption\",\"text_font_size\":{\"value\":\"15px\"}},\"id\":\"a4014494-2faf-4d1a-8288-861e75b56adf\",\"type\":\"Title\"},{\"attributes\":{\"callback\":null,\"tabs\":[{\"id\":\"6d89fe08-bd6c-4568-a690-3518d00df6c6\",\"type\":\"Panel\"},{\"id\":\"80c005bd-a536-4ffb-8473-7e40f8ba5239\",\"type\":\"Panel\"}]},\"id\":\"8d2d3563-4a86-40e6-b284-93d5d3f03f28\",\"type\":\"Tabs\"},{\"attributes\":{\"below\":[{\"id\":\"fd9e8cf3-df8f-4e00-941e-fd96b174d014\",\"type\":\"LinearAxis\"}],\"left\":[{\"id\":\"036f8aa5-8ed6-4b61-89a6-55734b3b36b5\",\"type\":\"LinearAxis\"}],\"renderers\":[{\"id\":\"fd9e8cf3-df8f-4e00-941e-fd96b174d014\",\"type\":\"LinearAxis\"},{\"id\":\"92c5d232-2378-440e-b860-2fdb93fb1679\",\"type\":\"Grid\"},{\"id\":\"036f8aa5-8ed6-4b61-89a6-55734b3b36b5\",\"type\":\"LinearAxis\"},{\"id\":\"16335907-e751-4b57-bf01-db56d435cb0e\",\"type\":\"Grid\"},{\"id\":\"745dda15-77fd-4652-adeb-9978b1eff40e\",\"type\":\"GlyphRenderer\"},{\"id\":\"06bf5e8f-cc56-4abc-973a-b5213ab5cfbb\",\"type\":\"GlyphRenderer\"},{\"id\":\"8b942629-d73d-4dbf-ba31-1fa567194898\",\"type\":\"Label\"},{\"id\":\"6b4532df-a13a-4b49-9465-07e95584f0d4\",\"type\":\"Label\"}],\"title\":{\"id\":\"e236368d-8487-4b8f-b595-760944d9d893\",\"type\":\"Title\"},\"toolbar\":{\"id\":\"e3d4925c-036d-4f09-9247-e336094c8924\",\"type\":\"Toolbar\"},\"x_range\":{\"id\":\"9629afcc-d90c-447f-8fb3-4141114fe13f\",\"type\":\"Range1d\"},\"x_scale\":{\"id\":\"d55a5405-3207-42aa-8e6b-117c20ef53c7\",\"type\":\"LinearScale\"},\"y_range\":{\"id\":\"47822739-3d24-44bd-856f-9ba8e3a9f045\",\"type\":\"Range1d\"},\"y_scale\":{\"id\":\"2f33bffb-9f5b-478c-abb9-a1a0f2e70c69\",\"type\":\"LinearScale\"}},\"id\":\"ed392615-ef85-4a4d-8e46-e3be344b404c\",\"subtype\":\"Figure\",\"type\":\"Plot\"},{\"attributes\":{\"bottom\":{\"value\":0},\"fill_color\":{\"field\":\"colors\"},\"left\":{\"field\":\"left\"},\"line_color\":{\"value\":\"#1f77b4\"},\"right\":{\"field\":\"right\"},\"top\":{\"field\":\"hist\"}},\"id\":\"910dc288-c577-49ba-9817-eeaa8faf6d57\",\"type\":\"Quad\"},{\"attributes\":{\"items\":[{\"id\":\"eca07594-4646-4b6e-8e88-5fbc375e79d1\",\"type\":\"LegendItem\"}],\"location\":\"bottom_right\",\"plot\":{\"id\":\"0aeeac43-c4bb-4a76-b760-45b4b00e8ee5\",\"subtype\":\"Figure\",\"type\":\"Plot\"}},\"id\":\"21190465-f124-4349-9389-f6cfd67d48a8\",\"type\":\"Legend\"},{\"attributes\":{\"align\":\"center\",\"plot\":null,\"text\":\"ROC Curves for Regressors\",\"text_font_size\":{\"value\":\"20px\"}},\"id\":\"37c289e7-6b27-458b-b225-8f3e22949ec2\",\"type\":\"Title\"},{\"attributes\":{\"axis_label\":\"Tree depth\",\"formatter\":{\"id\":\"8596ce0d-b28d-4a91-af88-f226d3983eb2\",\"type\":\"BasicTickFormatter\"},\"plot\":{\"id\":\"7523f60c-f514-46f3-b7ef-7b97a51bc1e1\",\"subtype\":\"Figure\",\"type\":\"Plot\"},\"ticker\":{\"id\":\"6ab4f740-395e-4f0c-84c2-7207340af531\",\"type\":\"BasicTicker\"}},\"id\":\"2db4afae-e3ef-4ec6-ab22-848645e18455\",\"type\":\"LinearAxis\"},{\"attributes\":{\"fill_alpha\":{\"value\":0.1},\"fill_color\":{\"value\":\"#1f77b4\"},\"line_alpha\":{\"value\":0.1},\"line_color\":{\"value\":\"#1f77b4\"},\"size\":{\"field\":\"scale\",\"units\":\"screen\"},\"x\":{\"field\":\"depth\"},\"y\":{\"field\":\"n_tree\"}},\"id\":\"673d5857-c979-4569-90c2-264aaabe33ea\",\"type\":\"Circle\"},{\"attributes\":{\"active_drag\":\"auto\",\"active_inspect\":\"auto\",\"active_scroll\":\"auto\",\"active_tap\":\"auto\",\"tools\":[{\"id\":\"680744f4-ab34-4712-9ab4-b3c4237048e2\",\"type\":\"HoverTool\"},{\"id\":\"edfdcbbc-4fbc-48bc-9e2c-547cd46aa322\",\"type\":\"WheelZoomTool\"},{\"id\":\"eafc7afd-83bf-41fe-beb9-68a32ac143b7\",\"type\":\"PanTool\"},{\"id\":\"e50e454c-4423-47ce-9008-f9484265de5e\",\"type\":\"ResetTool\"}]},\"id\":\"cc737a3e-462e-4899-bb89-333835ae3017\",\"type\":\"Toolbar\"},{\"attributes\":{\"axis_label\":\"num_leaves\",\"formatter\":{\"id\":\"52d7b477-0373-4843-a903-260211ce171d\",\"type\":\"BasicTickFormatter\"},\"plot\":{\"id\":\"ed392615-ef85-4a4d-8e46-e3be344b404c\",\"subtype\":\"Figure\",\"type\":\"Plot\"},\"ticker\":{\"id\":\"d5031c11-d292-4d33-9dc5-34a9b78cad84\",\"type\":\"BasicTicker\"}},\"id\":\"036f8aa5-8ed6-4b61-89a6-55734b3b36b5\",\"type\":\"LinearAxis\"},{\"attributes\":{\"data_source\":{\"id\":\"642ac923-1a27-4652-b8ae-b404f47fdede\",\"type\":\"ColumnDataSource\"},\"glyph\":{\"id\":\"f080f43e-eb1e-49ca-8449-cd836625adc7\",\"type\":\"Square\"},\"hover_glyph\":null,\"muted_glyph\":null,\"nonselection_glyph\":{\"id\":\"811c791c-411c-4d3f-9a59-3ea05cc74743\",\"type\":\"Square\"},\"selection_glyph\":null,\"view\":{\"id\":\"a02a1ad8-ffc2-4ca6-8c47-0865d395ea45\",\"type\":\"CDSView\"}},\"id\":\"b210c15b-b5b5-4e69-a5b5-fe7b6f65d6a8\",\"type\":\"GlyphRenderer\"},{\"attributes\":{},\"id\":\"91caa248-8eb1-46fb-a453-cf0616e7c118\",\"type\":\"WheelZoomTool\"},{\"attributes\":{\"dimension\":1,\"plot\":{\"id\":\"de9b13c6-00d8-4f4d-a7e5-fdf3953a1239\",\"subtype\":\"Figure\",\"type\":\"Plot\"},\"ticker\":{\"id\":\"8a2d112b-b280-4c0a-a0bb-c02d94ebbcef\",\"type\":\"BasicTicker\"}},\"id\":\"ba20570d-38ce-41a2-97ba-a1d08e78b441\",\"type\":\"Grid\"},{\"attributes\":{},\"id\":\"1e1cd196-c596-4ccc-9d4b-8ac18927d863\",\"type\":\"ResetTool\"},{\"attributes\":{\"axis_label\":\"# of trees\",\"formatter\":{\"id\":\"857240d4-6785-4f4c-82b3-9c20a4fa3683\",\"type\":\"BasicTickFormatter\"},\"plot\":{\"id\":\"e28045a7-d40f-4bef-bacf-6e6c5b294f8e\",\"subtype\":\"Figure\",\"type\":\"Plot\"},\"ticker\":{\"id\":\"eaea15a3-36c8-4c0f-9be4-377bbb9e71ab\",\"type\":\"BasicTicker\"}},\"id\":\"4d547e3b-f2b2-4af6-bd3e-e731723d94db\",\"type\":\"LinearAxis\"},{\"attributes\":{},\"id\":\"e03c4abd-50dc-4835-93a4-12f69c437b12\",\"type\":\"LinearScale\"},{\"attributes\":{\"plot\":{\"id\":\"bf333bea-24d8-414b-8321-2e80f4d34bc0\",\"subtype\":\"Figure\",\"type\":\"Plot\"},\"render_mode\":\"css\",\"text\":\"Learning rate=0.2\",\"x\":10,\"x_units\":\"screen\",\"y\":5,\"y_units\":\"screen\"},\"id\":\"3f404c8a-406f-4c62-ace4-2ecd9463e63e\",\"type\":\"Label\"},{\"attributes\":{},\"id\":\"d55a5405-3207-42aa-8e6b-117c20ef53c7\",\"type\":\"LinearScale\"},{\"attributes\":{\"axis_label\":\"Number of Users\",\"formatter\":{\"id\":\"e8f0b8c8-cf5a-4f32-ad59-98dd01b72679\",\"type\":\"BasicTickFormatter\"},\"plot\":{\"id\":\"0e287fec-f179-47f3-8342-eae1cbb945d6\",\"subtype\":\"Figure\",\"type\":\"Plot\"},\"ticker\":{\"id\":\"9cffd841-84a2-425f-8f04-2df428adb611\",\"type\":\"BasicTicker\"}},\"id\":\"5acf0c2b-f8ce-4bd7-a06f-2ee493771b9d\",\"type\":\"LinearAxis\"},{\"attributes\":{\"below\":[{\"id\":\"9d7a8db9-5f26-44ca-933f-60debba24edc\",\"type\":\"LinearAxis\"}],\"left\":[{\"id\":\"a08d9c4d-ed24-4f61-b85f-702a681247c6\",\"type\":\"LinearAxis\"}],\"plot_height\":250,\"plot_width\":800,\"renderers\":[{\"id\":\"9d7a8db9-5f26-44ca-933f-60debba24edc\",\"type\":\"LinearAxis\"},{\"id\":\"fd49143d-bab8-483d-878e-9e8e484363c3\",\"type\":\"Grid\"},{\"id\":\"a08d9c4d-ed24-4f61-b85f-702a681247c6\",\"type\":\"LinearAxis\"},{\"id\":\"ba20570d-38ce-41a2-97ba-a1d08e78b441\",\"type\":\"Grid\"},{\"id\":\"40dd2d3c-0955-499d-87cf-c693aca40d3f\",\"type\":\"GlyphRenderer\"}],\"title\":{\"id\":\"ad52a3e8-52ac-4468-bfa3-7bee2314d7b2\",\"type\":\"Title\"},\"toolbar\":{\"id\":\"a2e56e2e-be2a-4bfc-8b73-5f8295519eea\",\"type\":\"Toolbar\"},\"x_range\":{\"id\":\"d61518c5-5903-4ef2-ad1f-cfea8bb68fc5\",\"type\":\"DataRange1d\"},\"x_scale\":{\"id\":\"949abf9c-4ed8-41ed-a88f-bbb98bf975ed\",\"type\":\"LinearScale\"},\"y_range\":{\"id\":\"9ae8e7fb-a610-4f2b-9218-a74c66f19b2e\",\"type\":\"DataRange1d\"},\"y_scale\":{\"id\":\"a5d73951-33b2-456e-9b4b-1b4aa9dde1aa\",\"type\":\"LinearScale\"}},\"id\":\"de9b13c6-00d8-4f4d-a7e5-fdf3953a1239\",\"subtype\":\"Figure\",\"type\":\"Plot\"},{\"attributes\":{},\"id\":\"8596ce0d-b28d-4a91-af88-f226d3983eb2\",\"type\":\"BasicTickFormatter\"},{\"attributes\":{\"line_color\":{\"field\":\"color\"},\"line_width\":{\"value\":2},\"xs\":{\"field\":\"x\"},\"ys\":{\"field\":\"y\"}},\"id\":\"5c833032-6efa-447a-b4d9-5eb9908ebac8\",\"type\":\"MultiLine\"},{\"attributes\":{\"below\":[{\"id\":\"4f6437ca-9197-4e6e-ae62-7f73214cb915\",\"type\":\"LinearAxis\"}],\"left\":[{\"id\":\"3d5f75c2-7a6c-4946-9987-7a69cc49d8fc\",\"type\":\"LinearAxis\"}],\"renderers\":[{\"id\":\"4f6437ca-9197-4e6e-ae62-7f73214cb915\",\"type\":\"LinearAxis\"},{\"id\":\"8fd91e6c-8d45-47ef-94f1-41af8777bda9\",\"type\":\"Grid\"},{\"id\":\"3d5f75c2-7a6c-4946-9987-7a69cc49d8fc\",\"type\":\"LinearAxis\"},{\"id\":\"a611673f-a65b-464b-918b-2a6c135a488a\",\"type\":\"Grid\"},{\"id\":\"0a3e9cbe-8027-40a9-bbb4-3324235ac73f\",\"type\":\"GlyphRenderer\"},{\"id\":\"b210c15b-b5b5-4e69-a5b5-fe7b6f65d6a8\",\"type\":\"GlyphRenderer\"},{\"id\":\"0e92e44b-612d-406a-bd6d-9d394684a829\",\"type\":\"Label\"}],\"title\":{\"id\":\"964bbd60-5c56-4524-afe5-915b9bcb858a\",\"type\":\"Title\"},\"toolbar\":{\"id\":\"65930804-ab75-4d54-8da2-905626624370\",\"type\":\"Toolbar\"},\"x_range\":{\"id\":\"7e5974e9-e934-4cc3-bf76-53fe4485baf9\",\"type\":\"Range1d\"},\"x_scale\":{\"id\":\"81279da2-ace6-40c2-a5f1-c475d6dc034e\",\"type\":\"LinearScale\"},\"y_range\":{\"id\":\"5ed74cb1-f26c-46b4-8479-069f3faab1d5\",\"type\":\"Range1d\"},\"y_scale\":{\"id\":\"87b69316-7dec-41c3-8aa8-f51d6e975ba8\",\"type\":\"LinearScale\"}},\"id\":\"b4a8c323-808e-4aab-a4dd-1e7d63566aa7\",\"subtype\":\"Figure\",\"type\":\"Plot\"},{\"attributes\":{\"callback\":null,\"tooltips\":[[\"Number of Users\",\"@hist\"],[\"Avg Order Size\",\"@center\"]]},\"id\":\"680744f4-ab34-4712-9ab4-b3c4237048e2\",\"type\":\"HoverTool\"},{\"attributes\":{},\"id\":\"4b6e7a0c-2c90-43c5-a930-13982f6ad301\",\"type\":\"CategoricalTicker\"},{\"attributes\":{\"fill_color\":{\"value\":\"#9c179e\"},\"line_color\":{\"value\":\"#9c179e\"},\"top\":{\"field\":\"top\"},\"width\":{\"value\":0.9},\"x\":{\"field\":\"x\"}},\"id\":\"1979cfed-c735-4f99-aebb-0853ffeb0a42\",\"type\":\"VBar\"},{\"attributes\":{\"bottom\":{\"value\":0},\"fill_color\":{\"field\":\"colors\"},\"left\":{\"field\":\"left\"},\"line_color\":{\"value\":\"#1f77b4\"},\"right\":{\"field\":\"right\"},\"top\":{\"field\":\"hist\"}},\"id\":\"c1bb2401-a90f-4a39-80e4-c999effc07cb\",\"type\":\"Quad\"},{\"attributes\":{},\"id\":\"e502b085-56a3-4f00-a5d0-770f3355936a\",\"type\":\"ResetTool\"},{\"attributes\":{\"callback\":null,\"factors\":[\"avg_order_size\",\"prev_ord_size\",\"avg_days_between_orders\",\"num_orders_placed\",\"reordered_usr_avg\",\"overall_avg_prod_disp\",\"overall_avg_aisle_disp\",\"perc_aisle_support\",\"overall_avg_dept_disp\",\"perc_dept_support\",\"avg_ord_pos\",\"days_since_aisle\",\"days_since_department\",\"days_since_prod\",\"order_aisle_displacement\",\"orders_since_prod\",\"perc_prod_support\",\"prod_aisle_ratio\",\"prod_dept_ratio\",\"streak_length\",\"usr_avg_aisle_disp\",\"usr_avg_dept_disp\",\"usr_avg_prod_disp\",\"prod_due_overall_perc\",\"prod_due_user_perc\",\"aisle_due_overall_perc\",\"aisle_due_user_perc\",\"dept_due_overall_perc\",\"dept_due_user_perc\",\"reorder_custom\"],\"range_padding\":0.1},\"id\":\"684703e5-6423-4c1c-b224-87ddddb71b21\",\"type\":\"FactorRange\"},{\"attributes\":{},\"id\":\"87b69316-7dec-41c3-8aa8-f51d6e975ba8\",\"type\":\"LinearScale\"},{\"attributes\":{\"plot\":{\"id\":\"32d4f24b-ffcd-4035-8e1e-c1f149d49806\",\"subtype\":\"Figure\",\"type\":\"Plot\"},\"ticker\":{\"id\":\"4b6e7a0c-2c90-43c5-a930-13982f6ad301\",\"type\":\"CategoricalTicker\"}},\"id\":\"6ac97ce5-ca7a-4cc7-9f84-5b201da296cf\",\"type\":\"Grid\"},{\"attributes\":{},\"id\":\"7b109566-bcba-4b2e-8d39-4d5ca94d5e4a\",\"type\":\"PanTool\"},{\"attributes\":{},\"id\":\"f8aae852-9439-4307-a79e-60d7a2ece341\",\"type\":\"ResetTool\"},{\"attributes\":{\"line_color\":{\"field\":\"color\"},\"line_width\":{\"value\":2},\"xs\":{\"field\":\"x\"},\"ys\":{\"field\":\"y\"}},\"id\":\"d17d51fc-bac5-49f7-beeb-b97bda15df90\",\"type\":\"MultiLine\"},{\"attributes\":{\"active_drag\":\"auto\",\"active_inspect\":\"auto\",\"active_scroll\":\"auto\",\"active_tap\":\"auto\",\"tools\":[{\"id\":\"91caa248-8eb1-46fb-a453-cf0616e7c118\",\"type\":\"WheelZoomTool\"},{\"id\":\"7b109566-bcba-4b2e-8d39-4d5ca94d5e4a\",\"type\":\"PanTool\"},{\"id\":\"96faa7a2-1f9a-4fb6-a412-d092e4bd4616\",\"type\":\"ResetTool\"}]},\"id\":\"58108d2f-99a0-4895-bee0-242a4baaea58\",\"type\":\"Toolbar\"},{\"attributes\":{\"align\":\"center\",\"plot\":null,\"text\":\"LightGBM Parameter Tuning\",\"text_font_size\":{\"value\":\"20px\"}},\"id\":\"bd70ed99-70f3-4aa3-a562-88ada4e8d630\",\"type\":\"Title\"},{\"attributes\":{},\"id\":\"d5031c11-d292-4d33-9dc5-34a9b78cad84\",\"type\":\"BasicTicker\"},{\"attributes\":{\"fill_alpha\":{\"value\":0.1},\"fill_color\":{\"value\":\"#1f77b4\"},\"line_alpha\":{\"value\":0.1},\"line_color\":{\"value\":\"#1f77b4\"},\"size\":{\"units\":\"screen\",\"value\":30},\"x\":{\"field\":\"depth\"},\"y\":{\"field\":\"n_tree\"}},\"id\":\"80fb2f61-98f8-42ac-8fd2-d1f97f31bba2\",\"type\":\"Square\"},{\"attributes\":{\"align\":\"center\",\"plot\":null,\"text\":\"XGBoost Parameter Tuning\",\"text_font_size\":{\"value\":\"20px\"}},\"id\":\"4d7ad9ba-c51d-4938-8f24-e7a97cc53027\",\"type\":\"Title\"},{\"attributes\":{\"fill_alpha\":{\"value\":0.1},\"fill_color\":{\"value\":\"#1f77b4\"},\"line_alpha\":{\"value\":0.1},\"line_color\":{\"value\":\"#1f77b4\"},\"size\":{\"field\":\"scale\",\"units\":\"screen\"},\"x\":{\"field\":\"depth\"},\"y\":{\"field\":\"n_tree\"}},\"id\":\"9cdf9b25-df69-46c4-bf11-a65b8182acdd\",\"type\":\"Circle\"},{\"attributes\":{},\"id\":\"9cffd841-84a2-425f-8f04-2df428adb611\",\"type\":\"BasicTicker\"},{\"attributes\":{\"grid_line_color\":{\"value\":null},\"plot\":{\"id\":\"ba6a0931-5b19-4948-bd80-60f3dc8439da\",\"subtype\":\"Figure\",\"type\":\"Plot\"},\"ticker\":{\"id\":\"cd3d840a-1a42-46f5-a7a6-cb48d424ba0b\",\"type\":\"CategoricalTicker\"}},\"id\":\"62e8cca1-8add-48af-913a-385bcaa35ceb\",\"type\":\"Grid\"},{\"attributes\":{},\"id\":\"3e86b460-2c21-4a90-94b4-d542c82d595a\",\"type\":\"WheelZoomTool\"},{\"attributes\":{\"source\":{\"id\":\"642ac923-1a27-4652-b8ae-b404f47fdede\",\"type\":\"ColumnDataSource\"}},\"id\":\"a02a1ad8-ffc2-4ca6-8c47-0865d395ea45\",\"type\":\"CDSView\"},{\"attributes\":{\"callback\":null},\"id\":\"23f9a1b5-9f88-4c23-a12a-f51830092cde\",\"type\":\"DataRange1d\"},{\"attributes\":{},\"id\":\"e84fb023-93d7-48c4-b6b7-2885e22fcc6c\",\"type\":\"BasicTickFormatter\"},{\"attributes\":{},\"id\":\"ba608162-3ea7-4427-bdfb-61bd2b2abf44\",\"type\":\"CategoricalScale\"},{\"attributes\":{},\"id\":\"f150d621-f78d-4109-a82c-98b07dfce051\",\"type\":\"BasicTickFormatter\"},{\"attributes\":{\"child\":{\"id\":\"ed392615-ef85-4a4d-8e46-e3be344b404c\",\"subtype\":\"Figure\",\"type\":\"Plot\"},\"title\":\"Learning rate=0.1\"},\"id\":\"38d272af-b1aa-4392-9130-8c103d293e03\",\"type\":\"Panel\"},{\"attributes\":{},\"id\":\"89f27159-862a-473b-bbf5-7bbaa3d51029\",\"type\":\"BasicTickFormatter\"},{\"attributes\":{},\"id\":\"41305384-4fce-4832-bf48-fbd983b78c28\",\"type\":\"BasicTickFormatter\"},{\"attributes\":{},\"id\":\"96faa7a2-1f9a-4fb6-a412-d092e4bd4616\",\"type\":\"ResetTool\"},{\"attributes\":{\"items\":[{\"id\":\"d70bb31b-c9e2-419a-bb0c-e65f8656df12\",\"type\":\"LegendItem\"}],\"location\":\"bottom_right\",\"plot\":{\"id\":\"3622534d-ca31-4f34-9ffe-5a564c8d5e84\",\"subtype\":\"Figure\",\"type\":\"Plot\"}},\"id\":\"9b5a786c-fa81-45a0-93d0-a7a0efb4dd1e\",\"type\":\"Legend\"},{\"attributes\":{\"formatter\":{\"id\":\"f23de53c-9f1e-4fe0-9f8c-02426f42f312\",\"type\":\"CategoricalTickFormatter\"},\"major_label_orientation\":1,\"plot\":{\"id\":\"32d4f24b-ffcd-4035-8e1e-c1f149d49806\",\"subtype\":\"Figure\",\"type\":\"Plot\"},\"ticker\":{\"id\":\"4b6e7a0c-2c90-43c5-a930-13982f6ad301\",\"type\":\"CategoricalTicker\"}},\"id\":\"6b2500f6-f2e4-446e-8500-e68be2413e03\",\"type\":\"CategoricalAxis\"},{\"attributes\":{\"fill_color\":{\"field\":\"color\"},\"line_color\":{\"value\":\"white\"},\"top\":{\"field\":\"counts\"},\"width\":{\"value\":0.9},\"x\":{\"field\":\"x\"}},\"id\":\"2c87efe7-fc98-46ed-bd1c-560b9eb0cd11\",\"type\":\"VBar\"},{\"attributes\":{},\"id\":\"857240d4-6785-4f4c-82b3-9c20a4fa3683\",\"type\":\"BasicTickFormatter\"},{\"attributes\":{\"callback\":null,\"column_names\":[\"disp\",\"test_scores\",\"depth\",\"scale\",\"n_tree\",\"learning_rate\",\"disp2\"],\"data\":{\"depth\":[5,10,15,5,10,15,5,10,15,5,10,15],\"disp\":[\"0.2\",\"0.2\",\"0.2\",\"0.2\",\"0.2\",\"0.2\",\"0.2\",\"0.2\",\"0.2\",\"0.2\",\"0.2\",\"0.2\"],\"disp2\":[\"0.2655\",\"0.2649\",\"0.2677\",\"0.2648\",\"0.2652\",\"0.2677\",\"0.2647\",\"0.2652\",\"0.2677\",\"0.2647\",\"0.2652\",\"0.2677\"],\"learning_rate\":[0.2,0.2,0.2,0.2,0.2,0.2,0.2,0.2,0.2,0.2,0.2,0.2],\"n_tree\":[40,40,40,140,140,140,240,240,240,340,340,340],\"scale\":[15.123579108242716,7.31235684275792,18,5.872113673282196,10.443586215735644,18,3.5804423540557107,10.443586215735644,18,3.5804423540557107,10.443586215735644,18],\"test_scores\":[0.265478048,0.26494173,0.267652538,0.264842843,0.26515672,0.267652538,0.264685497,0.26515672,0.267652538,0.264685497,0.26515672,0.267652538]}},\"id\":\"b7917536-f791-4371-b49f-fcf8393771cb\",\"type\":\"ColumnDataSource\"},{\"attributes\":{\"fill_alpha\":{\"value\":0.1},\"fill_color\":{\"value\":\"#1f77b4\"},\"line_alpha\":{\"value\":0.1},\"line_color\":{\"value\":\"#1f77b4\"},\"size\":{\"field\":\"scale\",\"units\":\"screen\"},\"x\":{\"field\":\"depth\"},\"y\":{\"field\":\"n_tree\"}},\"id\":\"f58da448-dcdd-4822-a34e-b5d9b0b9a0a0\",\"type\":\"Circle\"},{\"attributes\":{\"fill_alpha\":{\"value\":0.1},\"fill_color\":{\"value\":\"#1f77b4\"},\"line_alpha\":{\"value\":0.1},\"line_color\":{\"value\":\"#1f77b4\"},\"size\":{\"field\":\"scale\",\"units\":\"screen\"},\"x\":{\"field\":\"n_tree\"},\"y\":{\"field\":\"num_leaves\"}},\"id\":\"716a0a39-c7df-48ae-b101-51df4a76bc7f\",\"type\":\"Circle\"},{\"attributes\":{},\"id\":\"0fce236f-f7c8-42ea-a6fc-f5742e06408b\",\"type\":\"ResetTool\"},{\"attributes\":{\"dimension\":1,\"plot\":{\"id\":\"0e287fec-f179-47f3-8342-eae1cbb945d6\",\"subtype\":\"Figure\",\"type\":\"Plot\"},\"ticker\":{\"id\":\"9cffd841-84a2-425f-8f04-2df428adb611\",\"type\":\"BasicTicker\"}},\"id\":\"82c4c1d7-5050-48df-b4d9-8358b41d1856\",\"type\":\"Grid\"},{\"attributes\":{\"plot\":{\"id\":\"e28045a7-d40f-4bef-bacf-6e6c5b294f8e\",\"subtype\":\"Figure\",\"type\":\"Plot\"},\"render_mode\":\"css\",\"text\":\"* points sized by AUC\",\"x\":10,\"x_units\":\"screen\",\"y\":495,\"y_units\":\"screen\"},\"id\":\"838f27a0-35a5-43ce-bbc7-bbb323eab40c\",\"type\":\"Label\"},{\"attributes\":{\"callback\":null},\"id\":\"203e1113-9a0f-48fb-8fbe-179c60362d81\",\"type\":\"DataRange1d\"},{\"attributes\":{\"callback\":null,\"end\":60},\"id\":\"5ed74cb1-f26c-46b4-8479-069f3faab1d5\",\"type\":\"Range1d\"},{\"attributes\":{\"fill_alpha\":{\"value\":0.1},\"fill_color\":{\"value\":\"#1f77b4\"},\"line_alpha\":{\"value\":0.1},\"line_color\":{\"value\":\"#1f77b4\"},\"size\":{\"units\":\"screen\",\"value\":30},\"x\":{\"field\":\"n_tree\"},\"y\":{\"field\":\"num_leaves\"}},\"id\":\"2939d2e7-d5bb-40fd-a6ea-0f9cc458abba\",\"type\":\"Square\"},{\"attributes\":{\"dimension\":1,\"plot\":{\"id\":\"7b0aeb7f-6cbc-4a81-9686-64a4dc1f51f7\",\"subtype\":\"Figure\",\"type\":\"Plot\"},\"ticker\":{\"id\":\"d5d6dce3-d7aa-43c4-8278-369a763a954f\",\"type\":\"BasicTicker\"}},\"id\":\"7a97ab9c-ecaf-4f2b-8c4c-3907be81f3f7\",\"type\":\"Grid\"},{\"attributes\":{},\"id\":\"fd6ed839-fe1b-457b-880d-4bee05c1d341\",\"type\":\"LinearScale\"},{\"attributes\":{},\"id\":\"1b4d750d-a922-4b18-9b5d-f8d759626ff0\",\"type\":\"ResetTool\"},{\"attributes\":{\"fill_alpha\":{\"value\":0.4},\"fill_color\":{\"field\":\"color\"},\"line_alpha\":{\"value\":0.4},\"line_color\":{\"field\":\"color\"},\"size\":{\"units\":\"screen\",\"value\":30},\"x\":{\"field\":\"depth\"},\"y\":{\"field\":\"n_tree\"}},\"id\":\"fcedab00-986b-4f31-aeeb-ae798afafc10\",\"type\":\"Square\"},{\"attributes\":{\"fill_alpha\":{\"value\":0.1},\"fill_color\":{\"value\":\"#1f77b4\"},\"line_alpha\":{\"value\":0.1},\"line_color\":{\"value\":\"#1f77b4\"},\"top\":{\"field\":\"counts\"},\"width\":{\"value\":0.9},\"x\":{\"field\":\"x\"}},\"id\":\"1caaed8c-cf9f-4425-b628-ee594e9d407c\",\"type\":\"VBar\"},{\"attributes\":{\"axis_label\":\"# of trees\",\"formatter\":{\"id\":\"f150d621-f78d-4109-a82c-98b07dfce051\",\"type\":\"BasicTickFormatter\"},\"plot\":{\"id\":\"bf333bea-24d8-414b-8321-2e80f4d34bc0\",\"subtype\":\"Figure\",\"type\":\"Plot\"},\"ticker\":{\"id\":\"f5c57551-8832-46a6-ac50-e92dc6176453\",\"type\":\"BasicTicker\"}},\"id\":\"53353a07-1123-458c-af40-29d5dce1cbf2\",\"type\":\"LinearAxis\"},{\"attributes\":{\"callback\":null,\"tooltips\":[[\"RMSE\",\"@disp2\"],[\"Nodes\",\"@units\"],[\"Layers\",\"@layers\"]]},\"id\":\"f2814985-2088-4dc6-92c4-ce164810b0bb\",\"type\":\"HoverTool\"},{\"attributes\":{},\"id\":\"47930e36-a47f-47e2-bd3b-850b81b1ac93\",\"type\":\"WheelZoomTool\"},{\"attributes\":{\"callback\":null,\"tabs\":[{\"id\":\"57aaf042-b0c5-4fac-8547-73c13048f141\",\"type\":\"Panel\"},{\"id\":\"fc243c67-4b6e-431e-84fb-fb43605cf7cc\",\"type\":\"Panel\"},{\"id\":\"9af09389-4411-43d9-b8dc-fb76143bd568\",\"type\":\"Panel\"}]},\"id\":\"fb8ef2ba-094c-45ae-af3a-16ad74ff05fd\",\"type\":\"Tabs\"},{\"attributes\":{\"active_drag\":\"auto\",\"active_inspect\":\"auto\",\"active_scroll\":\"auto\",\"active_tap\":\"auto\",\"tools\":[{\"id\":\"7a68cd64-9d31-40ed-93c1-4b7747386651\",\"type\":\"WheelZoomTool\"},{\"id\":\"ba14a346-8da9-422a-b3a6-ac342397f3c0\",\"type\":\"PanTool\"},{\"id\":\"9ab9b67f-58a6-4c25-949c-497d5281260a\",\"type\":\"ResetTool\"}]},\"id\":\"f94a68f7-d4d9-42c7-bc41-1da43b1506f2\",\"type\":\"Toolbar\"},{\"attributes\":{},\"id\":\"858e6562-b3d0-41f4-bb2f-c2e391ede620\",\"type\":\"LinearScale\"},{\"attributes\":{},\"id\":\"2975c010-2377-4bd3-8cfd-ca6cc0860cbf\",\"type\":\"PanTool\"},{\"attributes\":{\"active_drag\":\"auto\",\"active_inspect\":\"auto\",\"active_scroll\":\"auto\",\"active_tap\":\"auto\",\"tools\":[{\"id\":\"1c727726-feae-4570-8fa2-bafa66e266b2\",\"type\":\"HoverTool\"},{\"id\":\"3d01746c-d03a-4bff-92dd-74794594730d\",\"type\":\"WheelZoomTool\"},{\"id\":\"fbc3fbdd-58c8-4350-b6ca-38f0e1106fb9\",\"type\":\"PanTool\"},{\"id\":\"82e16926-b15b-4ba1-9b8a-ef63762822c1\",\"type\":\"ResetTool\"}]},\"id\":\"e3d4925c-036d-4f09-9247-e336094c8924\",\"type\":\"Toolbar\"},{\"attributes\":{},\"id\":\"4fe315fc-1371-4b95-a488-f5daa52fd9a4\",\"type\":\"PanTool\"},{\"attributes\":{},\"id\":\"2b6944c4-d69e-4a4b-8c47-d7627656a2bd\",\"type\":\"BasicTickFormatter\"},{\"attributes\":{\"below\":[{\"id\":\"0866a41d-9c3a-4340-835c-49e16cb5dd5d\",\"type\":\"CategoricalAxis\"}],\"left\":[{\"id\":\"c29cf239-8475-4d90-b789-f92b0a6cac9c\",\"type\":\"LinearAxis\"}],\"plot_height\":250,\"renderers\":[{\"id\":\"0866a41d-9c3a-4340-835c-49e16cb5dd5d\",\"type\":\"CategoricalAxis\"},{\"id\":\"62e8cca1-8add-48af-913a-385bcaa35ceb\",\"type\":\"Grid\"},{\"id\":\"c29cf239-8475-4d90-b789-f92b0a6cac9c\",\"type\":\"LinearAxis\"},{\"id\":\"b6f00016-df4e-4403-9462-07064cdb303a\",\"type\":\"Grid\"},{\"id\":\"99913536-a235-4837-8f99-6e3c28f42523\",\"type\":\"GlyphRenderer\"},{\"id\":\"6a09487a-7c72-4208-8558-58f5ff20f0ff\",\"type\":\"Span\"}],\"title\":{\"id\":\"a4014494-2faf-4d1a-8288-861e75b56adf\",\"type\":\"Title\"},\"toolbar\":{\"id\":\"58108d2f-99a0-4895-bee0-242a4baaea58\",\"type\":\"Toolbar\"},\"toolbar_location\":null,\"x_range\":{\"id\":\"fd3a9a54-4b08-4101-891f-f98ae5efa22a\",\"type\":\"FactorRange\"},\"x_scale\":{\"id\":\"a18de7c0-590e-4349-a3e0-a1fc482dc7ec\",\"type\":\"CategoricalScale\"},\"y_range\":{\"id\":\"858d4dae-8560-4dd6-928d-1e1550ff15c8\",\"type\":\"Range1d\"},\"y_scale\":{\"id\":\"31348088-2058-45ee-aba7-58736ea471aa\",\"type\":\"LinearScale\"}},\"id\":\"ba6a0931-5b19-4948-bd80-60f3dc8439da\",\"subtype\":\"Figure\",\"type\":\"Plot\"},{\"attributes\":{\"dimension\":1,\"plot\":{\"id\":\"32d4f24b-ffcd-4035-8e1e-c1f149d49806\",\"subtype\":\"Figure\",\"type\":\"Plot\"},\"ticker\":{\"id\":\"bc3393b3-925b-4e0f-9f81-bb576ff3aaf5\",\"type\":\"BasicTicker\"}},\"id\":\"0d4086cc-e0d4-4601-b45a-eea7467a6b57\",\"type\":\"Grid\"},{\"attributes\":{\"axis_label\":\"Average Order Size\",\"formatter\":{\"id\":\"41305384-4fce-4832-bf48-fbd983b78c28\",\"type\":\"BasicTickFormatter\"},\"plot\":{\"id\":\"0e287fec-f179-47f3-8342-eae1cbb945d6\",\"subtype\":\"Figure\",\"type\":\"Plot\"},\"ticker\":{\"id\":\"342ffb3b-5803-48a3-8f55-a8622d11d04b\",\"type\":\"BasicTicker\"}},\"id\":\"4aca3236-ce25-4e72-a8f3-1cb9f8bf7079\",\"type\":\"LinearAxis\"},{\"attributes\":{},\"id\":\"e8f0b8c8-cf5a-4f32-ad59-98dd01b72679\",\"type\":\"BasicTickFormatter\"},{\"attributes\":{},\"id\":\"a2a3f9ed-bbde-4d6d-bcc8-dda3a0164b7c\",\"type\":\"BasicTickFormatter\"},{\"attributes\":{},\"id\":\"08021b22-dc08-4ca5-9d81-1af0dd6d08f7\",\"type\":\"LinearScale\"},{\"attributes\":{\"callback\":null,\"column_names\":[\"disp\",\"test_scores\",\"depth\",\"scale\",\"n_tree\",\"learning_rate\",\"disp2\"],\"data\":{\"depth\":[5,10,15,5,10,15,5,10,15,5,10,15],\"disp\":[\"0.1\",\"0.1\",\"0.1\",\"0.1\",\"0.1\",\"0.1\",\"0.1\",\"0.1\",\"0.1\",\"0.1\",\"0.1\",\"0.1\"],\"disp2\":[\"0.2661\",\"0.2649\",\"0.2662\",\"0.2651\",\"0.2647\",\"0.2664\",\"0.2648\",\"0.2647\",\"0.2664\",\"0.2647\",\"0.2647\",\"0.2664\"],\"learning_rate\":[0.1,0.1,0.1,0.1,0.1,0.1,0.1,0.1,0.1,0.1,0.1,0.1],\"n_tree\":[40,40,40,140,140,140,240,240,240,340,340,340],\"scale\":[18,7.005147106657991,18,8.922218586482648,3.8569791795117867,18,4.537900318380499,3.8569791795117867,18,3.6359477968227227,3.8569791795117867,18],\"test_scores\":[0.266136178,0.264920637,0.266208122,0.265052263,0.264704484,0.266417481,0.264751236,0.264704484,0.266417481,0.264689308,0.264704484,0.266417481]}},\"id\":\"ec2892da-76b5-4b2f-82de-973068d846ac\",\"type\":\"ColumnDataSource\"},{\"attributes\":{\"below\":[{\"id\":\"4aca3236-ce25-4e72-a8f3-1cb9f8bf7079\",\"type\":\"LinearAxis\"}],\"left\":[{\"id\":\"5acf0c2b-f8ce-4bd7-a06f-2ee493771b9d\",\"type\":\"LinearAxis\"}],\"plot_height\":250,\"plot_width\":800,\"renderers\":[{\"id\":\"4aca3236-ce25-4e72-a8f3-1cb9f8bf7079\",\"type\":\"LinearAxis\"},{\"id\":\"aa52a20c-9b4b-4a8a-b6d1-38fe165c45ad\",\"type\":\"Grid\"},{\"id\":\"5acf0c2b-f8ce-4bd7-a06f-2ee493771b9d\",\"type\":\"LinearAxis\"},{\"id\":\"82c4c1d7-5050-48df-b4d9-8358b41d1856\",\"type\":\"Grid\"},{\"id\":\"852a8bb0-cd11-4cbd-8112-120582cd9ce1\",\"type\":\"GlyphRenderer\"}],\"title\":{\"id\":\"ec13721c-7ae1-450c-9c1a-b9b08e7d0afb\",\"type\":\"Title\"},\"toolbar\":{\"id\":\"cc737a3e-462e-4899-bb89-333835ae3017\",\"type\":\"Toolbar\"},\"x_range\":{\"id\":\"c200dd7e-bd74-460e-ba60-d37236047a52\",\"type\":\"DataRange1d\"},\"x_scale\":{\"id\":\"858e6562-b3d0-41f4-bb2f-c2e391ede620\",\"type\":\"LinearScale\"},\"y_range\":{\"id\":\"fd5b1e37-1bf6-4378-88e3-a92823f6cd7a\",\"type\":\"DataRange1d\"},\"y_scale\":{\"id\":\"08021b22-dc08-4ca5-9d81-1af0dd6d08f7\",\"type\":\"LinearScale\"}},\"id\":\"0e287fec-f179-47f3-8342-eae1cbb945d6\",\"subtype\":\"Figure\",\"type\":\"Plot\"},{\"attributes\":{\"data_source\":{\"id\":\"748324d4-ca36-484d-b32f-eabee34c9784\",\"type\":\"ColumnDataSource\"},\"glyph\":{\"id\":\"6e4f1805-a69d-4145-9bcb-acede42c816e\",\"type\":\"Circle\"},\"hover_glyph\":null,\"muted_glyph\":null,\"nonselection_glyph\":{\"id\":\"29c86b86-e987-455e-955e-ff853d937d1d\",\"type\":\"Circle\"},\"selection_glyph\":null,\"view\":{\"id\":\"7d1f7c30-1d3d-435a-aeee-a1b579e874fb\",\"type\":\"CDSView\"}},\"id\":\"0a3e9cbe-8027-40a9-bbb4-3324235ac73f\",\"type\":\"GlyphRenderer\"},{\"attributes\":{\"callback\":null,\"column_names\":[\"y\",\"auc\",\"color\",\"x\",\"legend\",\"label\"],\"data\":{\"auc\":[0.7096958361581512,0.709311906079616,0.7014539450367802,0.6966805822373798],\"color\":[\"#0d0887\",\"#9c179e\",\"#ed7953\",\"#f0f921\"],\"label\":[\"LightGBM\",\"XGBoost\",\"MLP\",\"Linear\"],\"legend\":[\"LightGBM: AUC 0.7097\",\"XGBoost: AUC 0.7093\",\"MLP: AUC 0.7015\",\"Linear: AUC 0.6967\"],\"x\":[[0.0,0.11926430572869086,1.0],[0.0,0.11934005355893998,1.0],[0.0,0.12087068212880135,1.0],[0.0,0.12180512303471928,1.0]],\"y\":[[0.0,0.5386559780449933,1.0],[0.0,0.5379638657181719,1.0],[0.0,0.5237785722023616,1.0],[0.0,0.5151662875094789,1.0]]}},\"id\":\"09b8f255-d9b4-4f04-a974-7ad1ea0d2212\",\"type\":\"ColumnDataSource\"},{\"attributes\":{\"callback\":null},\"id\":\"9ae8e7fb-a610-4f2b-9218-a74c66f19b2e\",\"type\":\"DataRange1d\"},{\"attributes\":{\"plot\":{\"id\":\"a0c41e1d-2049-46c3-aa82-84d1f15e62ff\",\"subtype\":\"Figure\",\"type\":\"Plot\"},\"ticker\":{\"id\":\"1b247c71-bfb8-4b9a-a593-783bbdf719b3\",\"type\":\"BasicTicker\"}},\"id\":\"0e29cde1-5e58-4c20-b3b4-4fc1c9e53c4e\",\"type\":\"Grid\"},{\"attributes\":{\"plot\":{\"id\":\"ed392615-ef85-4a4d-8e46-e3be344b404c\",\"subtype\":\"Figure\",\"type\":\"Plot\"},\"ticker\":{\"id\":\"2095917c-f686-4aec-bdd7-82e98396aa6c\",\"type\":\"BasicTicker\"}},\"id\":\"92c5d232-2378-440e-b860-2fdb93fb1679\",\"type\":\"Grid\"},{\"attributes\":{\"data_source\":{\"id\":\"cfba1732-1010-4455-9362-94aa23bc4725\",\"type\":\"ColumnDataSource\"},\"glyph\":{\"id\":\"c1bb2401-a90f-4a39-80e4-c999effc07cb\",\"type\":\"Quad\"},\"hover_glyph\":null,\"muted_glyph\":null,\"nonselection_glyph\":{\"id\":\"f788689a-7c0f-4307-81f1-d73fe4df43a2\",\"type\":\"Quad\"},\"selection_glyph\":null,\"view\":{\"id\":\"c841f1e2-1ac8-4a51-ad58-ca56bb54606c\",\"type\":\"CDSView\"}},\"id\":\"40dd2d3c-0955-499d-87cf-c693aca40d3f\",\"type\":\"GlyphRenderer\"},{\"attributes\":{\"fill_color\":{\"value\":\"#0d0887\"},\"line_color\":{\"value\":\"#0d0887\"},\"size\":{\"field\":\"scale\",\"units\":\"screen\"},\"x\":{\"field\":\"n_tree\"},\"y\":{\"field\":\"num_leaves\"}},\"id\":\"a0f2ea0d-a266-4a1b-aca4-5583b581470b\",\"type\":\"Circle\"},{\"attributes\":{\"fill_alpha\":{\"value\":0.1},\"fill_color\":{\"value\":\"#1f77b4\"},\"line_alpha\":{\"value\":0.1},\"line_color\":{\"value\":\"#1f77b4\"},\"size\":{\"field\":\"scale\",\"units\":\"screen\"},\"x\":{\"field\":\"units\"},\"y\":{\"field\":\"layers\"}},\"id\":\"29c86b86-e987-455e-955e-ff853d937d1d\",\"type\":\"Circle\"},{\"attributes\":{\"align\":\"center\",\"plot\":null,\"text\":\"XGBoost Parameter Tuning\",\"text_font_size\":{\"value\":\"20px\"}},\"id\":\"a28ba936-c38d-468d-8c64-0a241d7bb788\",\"type\":\"Title\"},{\"attributes\":{\"dimension\":1,\"plot\":{\"id\":\"ed392615-ef85-4a4d-8e46-e3be344b404c\",\"subtype\":\"Figure\",\"type\":\"Plot\"},\"ticker\":{\"id\":\"d5031c11-d292-4d33-9dc5-34a9b78cad84\",\"type\":\"BasicTicker\"}},\"id\":\"16335907-e751-4b57-bf01-db56d435cb0e\",\"type\":\"Grid\"},{\"attributes\":{\"data_source\":{\"id\":\"0fe189d4-55ac-4e68-8065-76bd422104b5\",\"type\":\"ColumnDataSource\"},\"glyph\":{\"id\":\"d17d51fc-bac5-49f7-beeb-b97bda15df90\",\"type\":\"MultiLine\"},\"hover_glyph\":null,\"muted_glyph\":null,\"nonselection_glyph\":{\"id\":\"895b3a75-743b-4af1-bfb3-03f314f4626a\",\"type\":\"MultiLine\"},\"selection_glyph\":null,\"view\":{\"id\":\"5cccb2ba-e5c8-4123-8717-4ed1ddc33a45\",\"type\":\"CDSView\"}},\"id\":\"449082d8-aa0e-4d00-b6ee-c8865b46257f\",\"type\":\"GlyphRenderer\"},{\"attributes\":{},\"id\":\"ba14a346-8da9-422a-b3a6-ac342397f3c0\",\"type\":\"PanTool\"},{\"attributes\":{},\"id\":\"b77cb2d4-167f-490e-a6b3-e12358e3d869\",\"type\":\"LinearScale\"},{\"attributes\":{\"plot\":{\"id\":\"b4a8c323-808e-4aab-a4dd-1e7d63566aa7\",\"subtype\":\"Figure\",\"type\":\"Plot\"},\"ticker\":{\"id\":\"48f4a33d-f8a2-4dbe-a3c8-103a1ec10a3e\",\"type\":\"BasicTicker\"}},\"id\":\"8fd91e6c-8d45-47ef-94f1-41af8777bda9\",\"type\":\"Grid\"}],\"root_ids\":[\"0e287fec-f179-47f3-8342-eae1cbb945d6\",\"de9b13c6-00d8-4f4d-a7e5-fdf3953a1239\",\"b4a8c323-808e-4aab-a4dd-1e7d63566aa7\",\"fb8ef2ba-094c-45ae-af3a-16ad74ff05fd\",\"d84ee6ab-b39a-42ca-b7c7-9640dcacc33d\",\"3622534d-ca31-4f34-9ffe-5a564c8d5e84\",\"0aeeac43-c4bb-4a76-b760-45b4b00e8ee5\",\"8d2d3563-4a86-40e6-b284-93d5d3f03f28\",\"ba6a0931-5b19-4948-bd80-60f3dc8439da\"]},\"title\":\"Bokeh Application\",\"version\":\"0.12.13\"}}';\n",
      "          var render_items = [{\"docid\":\"20b3342a-3198-4673-8a84-b60af543f799\",\"elementid\":\"8b0afda9-dbb6-4339-beb2-2d609f9c9d9a\",\"modelid\":\"3622534d-ca31-4f34-9ffe-5a564c8d5e84\"},{\"docid\":\"20b3342a-3198-4673-8a84-b60af543f799\",\"elementid\":\"41b9a5b2-5fd8-453d-8573-2218f9aee179\",\"modelid\":\"0e287fec-f179-47f3-8342-eae1cbb945d6\"},{\"docid\":\"20b3342a-3198-4673-8a84-b60af543f799\",\"elementid\":\"51f30c08-8e88-4b54-aa2e-9e8bd158ac3e\",\"modelid\":\"de9b13c6-00d8-4f4d-a7e5-fdf3953a1239\"},{\"docid\":\"20b3342a-3198-4673-8a84-b60af543f799\",\"elementid\":\"44f63d7a-d494-476d-92fc-20d427e44d00\",\"modelid\":\"b4a8c323-808e-4aab-a4dd-1e7d63566aa7\"},{\"docid\":\"20b3342a-3198-4673-8a84-b60af543f799\",\"elementid\":\"28c10b71-912c-4ef0-ba1e-813581671739\",\"modelid\":\"7523f60c-f514-46f3-b7ef-7b97a51bc1e1\"},{\"docid\":\"20b3342a-3198-4673-8a84-b60af543f799\",\"elementid\":\"c0cc7300-182b-4d26-9eeb-4b209cda1ed4\",\"modelid\":\"ed392615-ef85-4a4d-8e46-e3be344b404c\"},{\"docid\":\"20b3342a-3198-4673-8a84-b60af543f799\",\"elementid\":\"81b2a77f-76bd-4b5f-a8f3-88263f06eafa\",\"modelid\":\"0aeeac43-c4bb-4a76-b760-45b4b00e8ee5\"},{\"docid\":\"20b3342a-3198-4673-8a84-b60af543f799\",\"elementid\":\"35d63bb0-ed4e-4921-b2fe-d2ec393711dd\",\"modelid\":\"8d2d3563-4a86-40e6-b284-93d5d3f03f28\"},{\"docid\":\"20b3342a-3198-4673-8a84-b60af543f799\",\"elementid\":\"4ffd885f-a9ca-4caa-97c8-3ba019258768\",\"modelid\":\"ba6a0931-5b19-4948-bd80-60f3dc8439da\"}];\n",
      "          root.Bokeh.embed.embed_items(docs_json, render_items);\n",
      "        \n",
      "          }\n",
      "          if (root.Bokeh !== undefined) {\n",
      "            embed_document(root);\n",
      "          } else {\n",
      "            var attempts = 0;\n",
      "            var timer = setInterval(function(root) {\n",
      "              if (root.Bokeh !== undefined) {\n",
      "                embed_document(root);\n",
      "                clearInterval(timer);\n",
      "              }\n",
      "              attempts++;\n",
      "              if (attempts > 100) {\n",
      "                console.log(\"Bokeh: ERROR: Unable to run BokehJS code because BokehJS library is missing\")\n",
      "                clearInterval(timer);\n",
      "              }\n",
      "            }, 10, root)\n",
      "          }\n",
      "        })(window);\n",
      "      });\n",
      "    };\n",
      "    if (document.readyState != \"loading\") fn();\n",
      "    else document.addEventListener(\"DOMContentLoaded\", fn);\n",
      "  })();\n",
      "</script> \n",
      "<div class=\"bk-root\">\n",
      "    <div class=\"bk-plotdiv\" id=\"8b0afda9-dbb6-4339-beb2-2d609f9c9d9a\"></div>\n",
      "</div> \n",
      "<div class=\"bk-root\">\n",
      "    <div class=\"bk-plotdiv\" id=\"41b9a5b2-5fd8-453d-8573-2218f9aee179\"></div>\n",
      "</div> \n",
      "<div class=\"bk-root\">\n",
      "    <div class=\"bk-plotdiv\" id=\"51f30c08-8e88-4b54-aa2e-9e8bd158ac3e\"></div>\n",
      "</div> \n",
      "<div class=\"bk-root\">\n",
      "    <div class=\"bk-plotdiv\" id=\"44f63d7a-d494-476d-92fc-20d427e44d00\"></div>\n",
      "</div> \n",
      "<div class=\"bk-root\">\n",
      "    <div class=\"bk-plotdiv\" id=\"28c10b71-912c-4ef0-ba1e-813581671739\"></div>\n",
      "</div> \n",
      "<div class=\"bk-root\">\n",
      "    <div class=\"bk-plotdiv\" id=\"c0cc7300-182b-4d26-9eeb-4b209cda1ed4\"></div>\n",
      "</div> \n",
      "<div class=\"bk-root\">\n",
      "    <div class=\"bk-plotdiv\" id=\"81b2a77f-76bd-4b5f-a8f3-88263f06eafa\"></div>\n",
      "</div> \n",
      "<div class=\"bk-root\">\n",
      "    <div class=\"bk-plotdiv\" id=\"35d63bb0-ed4e-4921-b2fe-d2ec393711dd\"></div>\n",
      "</div> \n",
      "<div class=\"bk-root\">\n",
      "    <div class=\"bk-plotdiv\" id=\"4ffd885f-a9ca-4caa-97c8-3ba019258768\"></div>\n",
      "</div>\n"
     ]
    }
   ],
   "source": [
    "script, div = components([auc_initial, p_size1, p_size2, p_mlp, p_xgb05, p_lgb1, auc_final, tabs, p])\n",
    "print script, div[0], div[1], div[2], div[3], div[4], div[5], div[6], div[7], div[8]"
   ]
  },
  {
   "cell_type": "markdown",
   "metadata": {},
   "source": [
    "# Area example"
   ]
  },
  {
   "cell_type": "code",
   "execution_count": 18,
   "metadata": {},
   "outputs": [
    {
     "name": "stderr",
     "output_type": "stream",
     "text": [
      "C:\\ProgramData\\Anaconda2\\lib\\site-packages\\bokeh\\models\\sources.py:137: BokehUserWarning: ColumnDataSource's columns must be of the same length. Current lengths: ('x', 150), ('y', 225)\n",
      "  \"Current lengths: %s\" % \", \".join(sorted(str((k, len(v))) for k, v in data.items())), BokehUserWarning))\n"
     ]
    },
    {
     "data": {
      "text/html": [
       "\n",
       "<div class=\"bk-root\">\n",
       "    <div class=\"bk-plotdiv\" id=\"5fff38ce-a99b-4a78-9324-5fc7223e6a67\"></div>\n",
       "</div>"
      ]
     },
     "metadata": {},
     "output_type": "display_data"
    },
    {
     "data": {
      "application/javascript": [
       "(function(root) {\n",
       "  function embed_document(root) {\n",
       "    \n",
       "  var docs_json = {\"747ba551-25c0-49cc-9536-fbedd44ad099\":{\"roots\":{\"references\":[{\"attributes\":{\"dimension\":1,\"grid_line_alpha\":{\"value\":0.4},\"plot\":{\"id\":\"0f034743-9095-47aa-b3e1-34e8764d8c39\",\"subtype\":\"Figure\",\"type\":\"Plot\"},\"ticker\":{\"id\":\"cb2dee66-2981-4a78-aaca-d5e7c39d0fd3\",\"type\":\"BasicTicker\"}},\"id\":\"49025ffa-670e-4b75-b26b-c6634489ff8b\",\"type\":\"Grid\"},{\"attributes\":{},\"id\":\"26353c07-64f3-4926-a368-dd654597dc71\",\"type\":\"SaveTool\"},{\"attributes\":{},\"id\":\"47373b11-2851-43ee-bf8e-583cfe20c420\",\"type\":\"HelpTool\"},{\"attributes\":{\"fill_alpha\":0.8,\"fill_color\":\"#7570B3\",\"line_color\":\"#7570B3\",\"x\":{\"field\":\"x\"},\"y\":{\"field\":\"y\"}},\"id\":\"cc70da59-2d1f-4ccf-85dd-9ea3978ccec8\",\"type\":\"Patch\"},{\"attributes\":{\"below\":[{\"id\":\"5605eea6-1377-47dd-bf70-6f85c902bc6c\",\"type\":\"LinearAxis\"}],\"left\":[{\"id\":\"8c11daa0-5284-40a8-b85f-2cce1f766dbf\",\"type\":\"LinearAxis\"}],\"plot_height\":600,\"plot_width\":800,\"renderers\":[{\"id\":\"5605eea6-1377-47dd-bf70-6f85c902bc6c\",\"type\":\"LinearAxis\"},{\"id\":\"86a2cdb8-5b7c-46df-bfd0-f9d7f3e719d7\",\"type\":\"Grid\"},{\"id\":\"8c11daa0-5284-40a8-b85f-2cce1f766dbf\",\"type\":\"LinearAxis\"},{\"id\":\"49025ffa-670e-4b75-b26b-c6634489ff8b\",\"type\":\"Grid\"},{\"id\":\"6cf107a3-a1b4-46a8-a435-aeac42ca564e\",\"type\":\"BoxAnnotation\"},{\"id\":\"99098963-0a08-4061-82d3-6d2928fa9463\",\"type\":\"GlyphRenderer\"}],\"title\":{\"id\":\"39c48bbd-2dff-4005-91b7-5278018c4caa\",\"type\":\"Title\"},\"toolbar\":{\"id\":\"2e167e75-115e-4389-8d4b-d4144c1f06ef\",\"type\":\"Toolbar\"},\"x_range\":{\"id\":\"c09c8d8a-a1f3-472f-b5a7-fff5ca2c8f71\",\"type\":\"DataRange1d\"},\"x_scale\":{\"id\":\"6ab9f275-0ef5-416b-84ae-a6eb34673dc7\",\"type\":\"LinearScale\"},\"y_range\":{\"id\":\"072d7283-6acd-4a9e-a76e-f03ae05f01a8\",\"type\":\"DataRange1d\"},\"y_scale\":{\"id\":\"9c3a3afc-2c54-418a-966a-4835bb09a381\",\"type\":\"LinearScale\"}},\"id\":\"0f034743-9095-47aa-b3e1-34e8764d8c39\",\"subtype\":\"Figure\",\"type\":\"Plot\"},{\"attributes\":{},\"id\":\"fc1fab32-fa74-4811-b85a-4f4561fe97bd\",\"type\":\"BasicTickFormatter\"},{\"attributes\":{\"overlay\":{\"id\":\"6cf107a3-a1b4-46a8-a435-aeac42ca564e\",\"type\":\"BoxAnnotation\"}},\"id\":\"a99078b7-b8ad-415f-b17a-831934cf8dfd\",\"type\":\"BoxZoomTool\"},{\"attributes\":{\"active_drag\":\"auto\",\"active_inspect\":\"auto\",\"active_scroll\":\"auto\",\"active_tap\":\"auto\",\"tools\":[{\"id\":\"4fff2afe-c47a-4406-847c-a41bcc1d4ed2\",\"type\":\"PanTool\"},{\"id\":\"aed0cd84-c620-4385-8328-5a68770cb8f4\",\"type\":\"WheelZoomTool\"},{\"id\":\"a99078b7-b8ad-415f-b17a-831934cf8dfd\",\"type\":\"BoxZoomTool\"},{\"id\":\"26353c07-64f3-4926-a368-dd654597dc71\",\"type\":\"SaveTool\"},{\"id\":\"a0ab7124-31c0-45df-a110-f2aac3b55029\",\"type\":\"ResetTool\"},{\"id\":\"47373b11-2851-43ee-bf8e-583cfe20c420\",\"type\":\"HelpTool\"}]},\"id\":\"2e167e75-115e-4389-8d4b-d4144c1f06ef\",\"type\":\"Toolbar\"},{\"attributes\":{},\"id\":\"cb2dee66-2981-4a78-aaca-d5e7c39d0fd3\",\"type\":\"BasicTicker\"},{\"attributes\":{},\"id\":\"9c3a3afc-2c54-418a-966a-4835bb09a381\",\"type\":\"LinearScale\"},{\"attributes\":{\"callback\":null,\"range_padding\":0},\"id\":\"c09c8d8a-a1f3-472f-b5a7-fff5ca2c8f71\",\"type\":\"DataRange1d\"},{\"attributes\":{\"source\":{\"id\":\"48061d5a-04bb-418c-b1b6-9a943a3b4c23\",\"type\":\"ColumnDataSource\"}},\"id\":\"da15e485-fcac-4812-9dec-ae6afaea6d5d\",\"type\":\"CDSView\"},{\"attributes\":{\"fill_alpha\":0.1,\"fill_color\":\"#1f77b4\",\"line_alpha\":0.1,\"line_color\":\"#1f77b4\",\"x\":{\"field\":\"x\"},\"y\":{\"field\":\"y\"}},\"id\":\"122327f1-b089-4193-8511-f6d659f96b89\",\"type\":\"Patch\"},{\"attributes\":{\"callback\":null,\"column_names\":[\"x\",\"y\"],\"data\":{\"x\":{\"__ndarray__\":\"AAAAAAAAAEAAAAAAAAAIQAAAAAAAABRAAAAAAAAAHEAAAAAAAAAgQAAAAAAAACRAAAAAAAAAJkAAAAAAAAAqQAAAAAAAAC5AAAAAAAAAMEAAAAAAAAAyQAAAAAAAADNAAAAAAAAANUAAAAAAAAA3QAAAAAAAADhAAAAAAAAAOkAAAAAAAAA7QAAAAAAAAD1AAAAAAAAAP0AAAAAAAABAQAAAAAAAAEFAAAAAAACAQUAAAAAAAIBCQAAAAAAAgENAAAAAAAAAREAAAAAAAABFQAAAAAAAgEVAAAAAAACARkAAAAAAAIBHQAAAAAAAAEhAAAAAAAAASUAAAAAAAIBJQAAAAAAAgEpAAAAAAACAS0AAAAAAAABMQAAAAAAAAE1AAAAAAACATUAAAAAAAIBOQAAAAAAAgE9AAAAAAAAAUEAAAAAAAIBQQAAAAAAAwFBAAAAAAABAUUAAAAAAAMBRQAAAAAAAAFJAAAAAAACAUkAAAAAAAMBSQAAAAAAAQFNAAAAAAADAU0AAAAAAAABUQAAAAAAAgFRAAAAAAADAVEAAAAAAAEBVQAAAAAAAwFVAAAAAAAAAVkAAAAAAAIBWQAAAAAAAwFZAAAAAAABAV0AAAAAAAMBXQAAAAAAAAFhAAAAAAACAWEAAAAAAAMBYQAAAAAAAQFlAAAAAAADAWUAAAAAAAABaQAAAAAAAgFpAAAAAAADAWkAAAAAAAEBbQAAAAAAAwFtAAAAAAAAAXEAAAAAAAIBcQAAAAAAAwFxAAAAAAABAXUAAAAAAAMBdQAAAAAAAAF5AAAAAAAAAXkAAAAAAAMBdQAAAAAAAQF1AAAAAAADAXEAAAAAAAIBcQAAAAAAAAFxAAAAAAADAW0AAAAAAAEBbQAAAAAAAwFpAAAAAAACAWkAAAAAAAABaQAAAAAAAwFlAAAAAAABAWUAAAAAAAMBYQAAAAAAAgFhAAAAAAAAAWEAAAAAAAMBXQAAAAAAAQFdAAAAAAADAVkAAAAAAAIBWQAAAAAAAAFZAAAAAAADAVUAAAAAAAEBVQAAAAAAAwFRAAAAAAACAVEAAAAAAAABUQAAAAAAAwFNAAAAAAABAU0AAAAAAAMBSQAAAAAAAgFJAAAAAAAAAUkAAAAAAAMBRQAAAAAAAQFFAAAAAAADAUEAAAAAAAIBQQAAAAAAAAFBAAAAAAACAT0AAAAAAAIBOQAAAAAAAgE1AAAAAAAAATUAAAAAAAABMQAAAAAAAgEtAAAAAAACASkAAAAAAAIBJQAAAAAAAAElAAAAAAAAASEAAAAAAAIBHQAAAAAAAgEZAAAAAAACARUAAAAAAAABFQAAAAAAAAERAAAAAAACAQ0AAAAAAAIBCQAAAAAAAgEFAAAAAAAAAQUAAAAAAAABAQAAAAAAAAD9AAAAAAAAAPUAAAAAAAAA7QAAAAAAAADpAAAAAAAAAOEAAAAAAAAA3QAAAAAAAADVAAAAAAAAAM0AAAAAAAAAyQAAAAAAAADBAAAAAAAAALkAAAAAAAAAqQAAAAAAAACZAAAAAAAAAJEAAAAAAAAAgQAAAAAAAABxAAAAAAAAAFEAAAAAAAAAIQAAAAAAAAABA\",\"dtype\":\"float64\",\"shape\":[150]},\"y\":{\"__ndarray__\":\"AAAAAAAAAAAAAAAAAAAAAAAAAAAAAAAAAAAAAAAAAAAAAAAAAAAAAAAAAAAAAAAAAAAAAAAAAAAAAAAAAAAAAAAAAAAAAAAAAAAAAAAAAAAAAAAAAAAAAAAAAAAAAAAAAAAAAAAAAAAAAAAAAAAAAAAAAAAAAAAAAAAAAAAAAAAAAAAAAAAAAAAAAAAAAAAAAAAAAAAAAAAAAAAAAAAAAAAAAAAAAAAAAAAAAAAAAAAAAAAAAAAAAAAAAAAAAAAAAAAAAAAAAAAAAAAAAAAAAAAAAAAAAAAAAAAAAAAAAAAAAAAAAAAAAAAAAAAAAAAAAAAAAAAAAAAAAAAAAAAAAAAAAAAAAAAAAAAAAAAAAAAAAAAAAAAAAAAAAAAAAAAAAAAAAAAAAAAAAAAAAAAAAAAAAAAAAAAAAAAAAAAAAAAAAAAAAAAAAAAAAAAAAAAAAAAAAAAAAAAAAAAAAAAAAAAAAAAAAAAAAAAAAAAAAAAAAAAAAAAAAAAAAAAAAAAAAAAAAAAAAAAAAAAAAAAAAAAAAAAAAAAAAAAAAAAAAAAAAAAAAAAAAAAAAAAAAAAAAAAAAAAAAAAAAAAAAAAAAAAAAAAAAAAAAAAAAAAAAAAAAAAAAAAAAAAAAAAAAAAAAAAAAAAAAAAAAAAAAAAAAAAAAAAAAAAAAAAAAAAAAAAAAAAAAAAAAAAAAAAAAAAAAAAAAAAAAAAAAAAAAAAAAAAAAAAAAAAAAAAAAAAAAAAAAAAAAAAAAAAAAAAAAAAAAAAAAAAAAAAAAAAAAAAAAAAAAAAAAAAAAAAAAAAA8D8AAAAAAADwPwAAAAAAAAAAAAAAAAAAAAAAAAAAAAAAAAAAAAAAAAAAAAAAAAAAAAAAAAAAAAAAAAAAAAAAAPA/AAAAAAAA8D8AAAAAAAAAAAAAAAAAAAAAAAAAAAAAAAAAAAAAAAAAAAAAAAAAAAAAAAAAAAAAAAAAAAAAAAAAAAAAAAAAAAAAAAAAAAAAAAAAAAAAAAAAAAAAAAAAAAAAAAAAAAAAAAAAAAAAAADwPwAAAAAAAPA/AAAAAAAAAAAAAAAAAAAAAAAAAAAAAAAAAAAAAAAAAAAAAAAAAAAAAAAAAAAAAAAAAAAAAAAAAAAAAAAAAAAAAAAAAAAAAAAAAAAAAAAAAAAAAAAAAAAAAAAAAAAAAAAAAAAAAAAAAAAAAAAAAAAAAAAAAAAAAAAAAAAAAAAAAAAAAAAAAAAAAAAAAAAAAAAAAAAAAAAAAAAAAAAAAAAAAAAAAAAAAAAAAAAAAAAAAAAAAAAAAADwPwAAAAAAAPA/AAAAAAAA8D8AAAAAAADwPwAAAAAAAPA/AAAAAAAA8D8AAAAAAAAAAAAAAAAAAAAAAAAAAAAAAAAAAAAAAAAAAAAAAAAAAAAAAAAAAAAAAAAAAAAAAAAAQAAAAAAAAABAAAAAAAAAAAAAAAAAAAAAAAAAAAAAABhAAAAAAAAAGEAAAAAAAAAAQAAAAAAAAABAAAAAAAAAGEAAAAAAAAAYQAAAAAAAAAhAAAAAAAAACEAAAAAAAAAAQAAAAAAAAABAAAAAAAAAKEAAAAAAAAAoQAAAAAAAAAhAAAAAAAAACEAAAAAAAAAiQAAAAAAAACJAAAAAAAAAJkAAAAAAAAAmQAAAAAAAABRAAAAAAAAAFEAAAAAAAAA8QAAAAAAAADxAAAAAAAAAKkAAAAAAAAAqQAAAAAAAgEFAAAAAAACAQUAAAAAAAABJQAAAAAAAAElAAAAAAAAAP0AAAAAAAAA/QAAAAAAAQFNAAAAAAABAU0AAAAAAAABPQAAAAAAAAE9AAAAAAADAX0AAAAAAAMBfQAAAAAAAgGdAAAAAAACAZ0AAAAAAAIBcQAAAAAAAgFxAAAAAAACgb0AAAAAAAKBvQAAAAAAAYGZAAAAAAABgZkAAAAAAAJB5QAAAAAAAkHlAAAAAAADwgkAAAAAAAPCCQAAAAAAAEHZAAAAAAAAQdkAAAAAAAMCOQAAAAAAAwI5AAAAAAACwg0AAAAAAALCDQAAAAAAAWJVAAAAAAABYlUAAAAAAAICeQAAAAAAAgJ5AAAAAAAAck0AAAAAAAByTQAAAAAAAaKdAAAAAAABop0AAAAAAAIydQAAAAAAAjJ1AAAAAAAAtsUAAAAAAAC2xQAAAAAAARbZAAAAAAABFtkAAAAAAADiqQAAAAAAAOKpAAAAAAADiv0AAAAAAAOK/QAAAAAAAKbNAAAAAAAAps0AAAAAAAEzGQAAAAAAATMZAAAAAAICOy0AAAAAAgI7LQAAAAAAA479AAAAAAADjv0AAAAAAAPPQQAAAAAAA89BAAAAAAAAFwUAAAAAAAAXBQAAAAACAM9BAAAAAAIAz0EAAAAAAALnMQAAAAAAAucxA\",\"dtype\":\"float64\",\"shape\":[225]}}},\"id\":\"48061d5a-04bb-418c-b1b6-9a943a3b4c23\",\"type\":\"ColumnDataSource\"},{\"attributes\":{},\"id\":\"8eb0bf9e-c8a6-4342-9f8e-a345f6204676\",\"type\":\"BasicTickFormatter\"},{\"attributes\":{},\"id\":\"a0ab7124-31c0-45df-a110-f2aac3b55029\",\"type\":\"ResetTool\"},{\"attributes\":{},\"id\":\"4fff2afe-c47a-4406-847c-a41bcc1d4ed2\",\"type\":\"PanTool\"},{\"attributes\":{\"formatter\":{\"id\":\"fc1fab32-fa74-4811-b85a-4f4561fe97bd\",\"type\":\"BasicTickFormatter\"},\"plot\":{\"id\":\"0f034743-9095-47aa-b3e1-34e8764d8c39\",\"subtype\":\"Figure\",\"type\":\"Plot\"},\"ticker\":{\"id\":\"cb2dee66-2981-4a78-aaca-d5e7c39d0fd3\",\"type\":\"BasicTicker\"}},\"id\":\"8c11daa0-5284-40a8-b85f-2cce1f766dbf\",\"type\":\"LinearAxis\"},{\"attributes\":{},\"id\":\"6ab9f275-0ef5-416b-84ae-a6eb34673dc7\",\"type\":\"LinearScale\"},{\"attributes\":{\"bottom_units\":\"screen\",\"fill_alpha\":{\"value\":0.5},\"fill_color\":{\"value\":\"lightgrey\"},\"left_units\":\"screen\",\"level\":\"overlay\",\"line_alpha\":{\"value\":1.0},\"line_color\":{\"value\":\"black\"},\"line_dash\":[4,4],\"line_width\":{\"value\":2},\"plot\":null,\"render_mode\":\"css\",\"right_units\":\"screen\",\"top_units\":\"screen\"},\"id\":\"6cf107a3-a1b4-46a8-a435-aeac42ca564e\",\"type\":\"BoxAnnotation\"},{\"attributes\":{\"callback\":null},\"id\":\"072d7283-6acd-4a9e-a76e-f03ae05f01a8\",\"type\":\"DataRange1d\"},{\"attributes\":{\"plot\":null,\"text\":\"\"},\"id\":\"39c48bbd-2dff-4005-91b7-5278018c4caa\",\"type\":\"Title\"},{\"attributes\":{\"formatter\":{\"id\":\"8eb0bf9e-c8a6-4342-9f8e-a345f6204676\",\"type\":\"BasicTickFormatter\"},\"plot\":{\"id\":\"0f034743-9095-47aa-b3e1-34e8764d8c39\",\"subtype\":\"Figure\",\"type\":\"Plot\"},\"ticker\":{\"id\":\"f29bb426-beae-44e9-ba82-d4ec09b1f381\",\"type\":\"BasicTicker\"}},\"id\":\"5605eea6-1377-47dd-bf70-6f85c902bc6c\",\"type\":\"LinearAxis\"},{\"attributes\":{\"grid_line_alpha\":{\"value\":0.4},\"plot\":{\"id\":\"0f034743-9095-47aa-b3e1-34e8764d8c39\",\"subtype\":\"Figure\",\"type\":\"Plot\"},\"ticker\":{\"id\":\"f29bb426-beae-44e9-ba82-d4ec09b1f381\",\"type\":\"BasicTicker\"}},\"id\":\"86a2cdb8-5b7c-46df-bfd0-f9d7f3e719d7\",\"type\":\"Grid\"},{\"attributes\":{},\"id\":\"f29bb426-beae-44e9-ba82-d4ec09b1f381\",\"type\":\"BasicTicker\"},{\"attributes\":{\"data_source\":{\"id\":\"48061d5a-04bb-418c-b1b6-9a943a3b4c23\",\"type\":\"ColumnDataSource\"},\"glyph\":{\"id\":\"cc70da59-2d1f-4ccf-85dd-9ea3978ccec8\",\"type\":\"Patch\"},\"hover_glyph\":null,\"muted_glyph\":null,\"nonselection_glyph\":{\"id\":\"122327f1-b089-4193-8511-f6d659f96b89\",\"type\":\"Patch\"},\"selection_glyph\":null,\"view\":{\"id\":\"da15e485-fcac-4812-9dec-ae6afaea6d5d\",\"type\":\"CDSView\"}},\"id\":\"99098963-0a08-4061-82d3-6d2928fa9463\",\"type\":\"GlyphRenderer\"},{\"attributes\":{},\"id\":\"aed0cd84-c620-4385-8328-5a68770cb8f4\",\"type\":\"WheelZoomTool\"}],\"root_ids\":[\"0f034743-9095-47aa-b3e1-34e8764d8c39\"]},\"title\":\"Bokeh Application\",\"version\":\"0.12.13\"}};\n",
       "  var render_items = [{\"docid\":\"747ba551-25c0-49cc-9536-fbedd44ad099\",\"elementid\":\"5fff38ce-a99b-4a78-9324-5fc7223e6a67\",\"modelid\":\"0f034743-9095-47aa-b3e1-34e8764d8c39\"}];\n",
       "  root.Bokeh.embed.embed_items_notebook(docs_json, render_items);\n",
       "\n",
       "  }\n",
       "  if (root.Bokeh !== undefined) {\n",
       "    embed_document(root);\n",
       "  } else {\n",
       "    var attempts = 0;\n",
       "    var timer = setInterval(function(root) {\n",
       "      if (root.Bokeh !== undefined) {\n",
       "        embed_document(root);\n",
       "        clearInterval(timer);\n",
       "      }\n",
       "      attempts++;\n",
       "      if (attempts > 100) {\n",
       "        console.log(\"Bokeh: ERROR: Unable to run BokehJS code because BokehJS library is missing\")\n",
       "        clearInterval(timer);\n",
       "      }\n",
       "    }, 10, root)\n",
       "  }\n",
       "})(window);"
      ],
      "application/vnd.bokehjs_exec.v0+json": ""
     },
     "metadata": {
      "application/vnd.bokehjs_exec.v0+json": {
       "id": "0f034743-9095-47aa-b3e1-34e8764d8c39"
      }
     },
     "output_type": "display_data"
    }
   ],
   "source": [
    "hover = HoverTool(tooltips=[\n",
    "    (\"Number of products\", \"@band_x\"),\n",
    "    (\"Average\", \"@center\")\n",
    "    ])\n",
    "\n",
    "# Define Bollinger Bands\n",
    "upperband = np.repeat(hist, 2)\n",
    "lowerband = np.zeros(75)\n",
    "x_data = center\n",
    "\n",
    "# Bollinger shading glyph:\n",
    "band_x = np.append(x_data, x_data[::-1])\n",
    "band_y = np.append(lowerband, upperband[::-1])\n",
    "\n",
    "p = figure(plot_height=300, plot_width=800)\n",
    "p.grid.grid_line_alpha = 0.4\n",
    "p.x_range.range_padding = 0\n",
    "p.plot_height = 600\n",
    "p.plot_width = 800\n",
    "\n",
    "p.patch(band_x, band_y, color='#7570B3', fill_alpha=0.8)\n",
    "\n",
    "show(p)"
   ]
  }
 ],
 "metadata": {
  "kernelspec": {
   "display_name": "Python 2",
   "language": "python",
   "name": "python2"
  },
  "language_info": {
   "codemirror_mode": {
    "name": "ipython",
    "version": 2
   },
   "file_extension": ".py",
   "mimetype": "text/x-python",
   "name": "python",
   "nbconvert_exporter": "python",
   "pygments_lexer": "ipython2",
   "version": "2.7.13"
  }
 },
 "nbformat": 4,
 "nbformat_minor": 2
}
