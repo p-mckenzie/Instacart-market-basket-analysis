{
 "cells": [
  {
   "cell_type": "markdown",
   "metadata": {},
   "source": [
    "# Analysis\n",
    "### Instacart Market Basket Analysis - Paige McKenzie\n",
    "\n",
    "See my [blog post](https://p-mckenzie.github.io/2017/12/12/instacart-part-2/ \"Instacart Part 2 - Modeling\") on the subject."
   ]
  },
  {
   "cell_type": "markdown",
   "metadata": {},
   "source": [
    "#### Import packages and read in data, created by feature_engineering.py"
   ]
  },
  {
   "cell_type": "code",
   "execution_count": 1,
   "metadata": {},
   "outputs": [
    {
     "name": "stdout",
     "output_type": "stream",
     "text": [
      "Populating the interactive namespace from numpy and matplotlib\n"
     ]
    }
   ],
   "source": [
    "import pandas as pd\n",
    "import numpy as np\n",
    "import matplotlib.pyplot as plt\n",
    "%pylab inline\n",
    "\n",
    "import warnings\n",
    "warnings.filterwarnings('ignore')\n",
    "\n",
    "from sklearn.metrics import mean_squared_error"
   ]
  },
  {
   "cell_type": "code",
   "execution_count": 2,
   "metadata": {},
   "outputs": [
    {
     "data": {
      "text/html": [
       "<div>\n",
       "<style>\n",
       "    .dataframe thead tr:only-child th {\n",
       "        text-align: right;\n",
       "    }\n",
       "\n",
       "    .dataframe thead th {\n",
       "        text-align: left;\n",
       "    }\n",
       "\n",
       "    .dataframe tbody tr th {\n",
       "        vertical-align: top;\n",
       "    }\n",
       "</style>\n",
       "<table border=\"1\" class=\"dataframe\">\n",
       "  <thead>\n",
       "    <tr style=\"text-align: right;\">\n",
       "      <th></th>\n",
       "      <th>user_id</th>\n",
       "      <th>order_id</th>\n",
       "      <th>product_id</th>\n",
       "      <th>target</th>\n",
       "      <th>avg_order_size</th>\n",
       "      <th>prev_ord_size</th>\n",
       "      <th>avg_days_between_orders</th>\n",
       "      <th>num_orders_placed</th>\n",
       "      <th>reordered_usr_avg</th>\n",
       "      <th>overall_avg_prod_disp</th>\n",
       "      <th>...</th>\n",
       "      <th>usr_avg_aisle_disp</th>\n",
       "      <th>usr_avg_dept_disp</th>\n",
       "      <th>usr_avg_prod_disp</th>\n",
       "      <th>prod_due_overall_perc</th>\n",
       "      <th>prod_due_user_perc</th>\n",
       "      <th>aisle_due_overall_perc</th>\n",
       "      <th>aisle_due_user_perc</th>\n",
       "      <th>dept_due_overall_perc</th>\n",
       "      <th>dept_due_user_perc</th>\n",
       "      <th>reorder_custom</th>\n",
       "    </tr>\n",
       "  </thead>\n",
       "  <tbody>\n",
       "    <tr>\n",
       "      <th>0</th>\n",
       "      <td>1</td>\n",
       "      <td>1187899</td>\n",
       "      <td>196</td>\n",
       "      <td>1</td>\n",
       "      <td>5.9</td>\n",
       "      <td>9.0</td>\n",
       "      <td>19.56</td>\n",
       "      <td>11</td>\n",
       "      <td>0.695</td>\n",
       "      <td>66.272329</td>\n",
       "      <td>...</td>\n",
       "      <td>19.00</td>\n",
       "      <td>19.00</td>\n",
       "      <td>19.00</td>\n",
       "      <td>0.909</td>\n",
       "      <td>0.909</td>\n",
       "      <td>0.695</td>\n",
       "      <td>0.909</td>\n",
       "      <td>0.909</td>\n",
       "      <td>0.695</td>\n",
       "      <td>1</td>\n",
       "    </tr>\n",
       "    <tr>\n",
       "      <th>1</th>\n",
       "      <td>1</td>\n",
       "      <td>1187899</td>\n",
       "      <td>10258</td>\n",
       "      <td>1</td>\n",
       "      <td>5.9</td>\n",
       "      <td>9.0</td>\n",
       "      <td>19.56</td>\n",
       "      <td>11</td>\n",
       "      <td>0.695</td>\n",
       "      <td>56.355440</td>\n",
       "      <td>...</td>\n",
       "      <td>19.44</td>\n",
       "      <td>19.00</td>\n",
       "      <td>19.44</td>\n",
       "      <td>0.818</td>\n",
       "      <td>0.909</td>\n",
       "      <td>0.695</td>\n",
       "      <td>0.818</td>\n",
       "      <td>0.909</td>\n",
       "      <td>0.695</td>\n",
       "      <td>1</td>\n",
       "    </tr>\n",
       "    <tr>\n",
       "      <th>2</th>\n",
       "      <td>1</td>\n",
       "      <td>431534</td>\n",
       "      <td>10326</td>\n",
       "      <td>0</td>\n",
       "      <td>5.9</td>\n",
       "      <td>9.0</td>\n",
       "      <td>19.56</td>\n",
       "      <td>11</td>\n",
       "      <td>0.695</td>\n",
       "      <td>57.078752</td>\n",
       "      <td>...</td>\n",
       "      <td>87.50</td>\n",
       "      <td>87.50</td>\n",
       "      <td>97.00</td>\n",
       "      <td>0.182</td>\n",
       "      <td>0.182</td>\n",
       "      <td>0.695</td>\n",
       "      <td>0.182</td>\n",
       "      <td>0.182</td>\n",
       "      <td>0.695</td>\n",
       "      <td>0</td>\n",
       "    </tr>\n",
       "    <tr>\n",
       "      <th>3</th>\n",
       "      <td>1</td>\n",
       "      <td>2550362</td>\n",
       "      <td>12427</td>\n",
       "      <td>0</td>\n",
       "      <td>5.9</td>\n",
       "      <td>9.0</td>\n",
       "      <td>19.56</td>\n",
       "      <td>11</td>\n",
       "      <td>0.695</td>\n",
       "      <td>76.984336</td>\n",
       "      <td>...</td>\n",
       "      <td>19.00</td>\n",
       "      <td>19.00</td>\n",
       "      <td>19.00</td>\n",
       "      <td>0.909</td>\n",
       "      <td>0.909</td>\n",
       "      <td>0.695</td>\n",
       "      <td>0.909</td>\n",
       "      <td>0.909</td>\n",
       "      <td>0.695</td>\n",
       "      <td>1</td>\n",
       "    </tr>\n",
       "    <tr>\n",
       "      <th>4</th>\n",
       "      <td>1</td>\n",
       "      <td>1187899</td>\n",
       "      <td>13032</td>\n",
       "      <td>1</td>\n",
       "      <td>5.9</td>\n",
       "      <td>9.0</td>\n",
       "      <td>19.56</td>\n",
       "      <td>11</td>\n",
       "      <td>0.695</td>\n",
       "      <td>83.045575</td>\n",
       "      <td>...</td>\n",
       "      <td>58.33</td>\n",
       "      <td>58.33</td>\n",
       "      <td>58.33</td>\n",
       "      <td>0.273</td>\n",
       "      <td>0.273</td>\n",
       "      <td>0.695</td>\n",
       "      <td>0.273</td>\n",
       "      <td>0.273</td>\n",
       "      <td>0.695</td>\n",
       "      <td>1</td>\n",
       "    </tr>\n",
       "  </tbody>\n",
       "</table>\n",
       "<p>5 rows × 34 columns</p>\n",
       "</div>"
      ],
      "text/plain": [
       "   user_id  order_id  product_id  target  avg_order_size  prev_ord_size  \\\n",
       "0        1   1187899         196       1             5.9            9.0   \n",
       "1        1   1187899       10258       1             5.9            9.0   \n",
       "2        1    431534       10326       0             5.9            9.0   \n",
       "3        1   2550362       12427       0             5.9            9.0   \n",
       "4        1   1187899       13032       1             5.9            9.0   \n",
       "\n",
       "   avg_days_between_orders  num_orders_placed  reordered_usr_avg  \\\n",
       "0                    19.56                 11              0.695   \n",
       "1                    19.56                 11              0.695   \n",
       "2                    19.56                 11              0.695   \n",
       "3                    19.56                 11              0.695   \n",
       "4                    19.56                 11              0.695   \n",
       "\n",
       "   overall_avg_prod_disp       ...        usr_avg_aisle_disp  \\\n",
       "0              66.272329       ...                     19.00   \n",
       "1              56.355440       ...                     19.44   \n",
       "2              57.078752       ...                     87.50   \n",
       "3              76.984336       ...                     19.00   \n",
       "4              83.045575       ...                     58.33   \n",
       "\n",
       "   usr_avg_dept_disp  usr_avg_prod_disp  prod_due_overall_perc  \\\n",
       "0              19.00              19.00                  0.909   \n",
       "1              19.00              19.44                  0.818   \n",
       "2              87.50              97.00                  0.182   \n",
       "3              19.00              19.00                  0.909   \n",
       "4              58.33              58.33                  0.273   \n",
       "\n",
       "   prod_due_user_perc  aisle_due_overall_perc  aisle_due_user_perc  \\\n",
       "0               0.909                   0.695                0.909   \n",
       "1               0.909                   0.695                0.818   \n",
       "2               0.182                   0.695                0.182   \n",
       "3               0.909                   0.695                0.909   \n",
       "4               0.273                   0.695                0.273   \n",
       "\n",
       "   dept_due_overall_perc  dept_due_user_perc  reorder_custom  \n",
       "0                  0.909               0.695               1  \n",
       "1                  0.909               0.695               1  \n",
       "2                  0.182               0.695               0  \n",
       "3                  0.909               0.695               1  \n",
       "4                  0.273               0.695               1  \n",
       "\n",
       "[5 rows x 34 columns]"
      ]
     },
     "execution_count": 2,
     "metadata": {},
     "output_type": "execute_result"
    }
   ],
   "source": [
    "df = pd.read_csv('x_train.csv', index_col=0)\n",
    "df.head()"
   ]
  },
  {
   "cell_type": "code",
   "execution_count": 4,
   "metadata": {},
   "outputs": [
    {
     "data": {
      "text/plain": [
       "0    7645837\n",
       "1     828824\n",
       "Name: target, dtype: int64"
      ]
     },
     "execution_count": 4,
     "metadata": {},
     "output_type": "execute_result"
    }
   ],
   "source": [
    "df['target'].value_counts()"
   ]
  },
  {
   "cell_type": "markdown",
   "metadata": {},
   "source": [
    "# Split into train/test based on user_id to simulate Kaggle train/test environment"
   ]
  },
  {
   "cell_type": "code",
   "execution_count": 6,
   "metadata": {
    "collapsed": true
   },
   "outputs": [],
   "source": [
    "import random\n",
    "mylist = list(df['user_id'].unique())\n",
    "\n",
    "random.seed(9001)\n",
    "train_users = [ mylist[i] for i in (random.sample(range(len(mylist)), int(.8*len(mylist)))) ]\n",
    "\n",
    "train = df[df['user_id'].isin(train_users)]\n",
    "test = df[~df['user_id'].isin(train_users)]\n",
    "\n",
    "del df\n",
    "del train_users\n",
    "\n",
    "y_train = np.array(train['target'])\n",
    "y_test = np.array(test['target'])\n",
    "\n",
    "X_train = np.array(train[list(train.columns[4:])])\n",
    "X_test = np.array(test[list(test.columns[4:])])\n",
    "\n",
    "var_names = test.columns[4:]\n",
    "\n",
    "del train\n",
    "del test"
   ]
  },
  {
   "cell_type": "markdown",
   "metadata": {},
   "source": [
    "# Logistic Regression"
   ]
  },
  {
   "cell_type": "code",
   "execution_count": 7,
   "metadata": {
    "collapsed": true
   },
   "outputs": [],
   "source": [
    "from sklearn.linear_model import LinearRegression"
   ]
  },
  {
   "cell_type": "code",
   "execution_count": 8,
   "metadata": {},
   "outputs": [
    {
     "name": "stdout",
     "output_type": "stream",
     "text": [
      "0.269768310951\n"
     ]
    }
   ],
   "source": [
    "lin = LinearRegression()\n",
    "lin.fit(X_train,y_train)\n",
    "\n",
    "pred = lin.predict(X_test)\n",
    "\n",
    "print mean_squared_error(y_test, pred)**.5"
   ]
  },
  {
   "cell_type": "code",
   "execution_count": 9,
   "metadata": {},
   "outputs": [
    {
     "name": "stdout",
     "output_type": "stream",
     "text": [
      "0.0978200097736 -0.242179914377 3.1557312937\n"
     ]
    }
   ],
   "source": [
    "print pred.mean(), pred.min(), pred.max()"
   ]
  },
  {
   "cell_type": "markdown",
   "metadata": {},
   "source": [
    "#### Separation is good!"
   ]
  },
  {
   "cell_type": "code",
   "execution_count": 10,
   "metadata": {
    "collapsed": true
   },
   "outputs": [],
   "source": [
    "import pickle\n",
    "\n",
    "pickle.dump(lin, open('lin.pickle', 'wb'))"
   ]
  },
  {
   "cell_type": "markdown",
   "metadata": {},
   "source": [
    "# Neural Network"
   ]
  },
  {
   "cell_type": "code",
   "execution_count": 11,
   "metadata": {
    "collapsed": true
   },
   "outputs": [],
   "source": [
    "from sklearn.neural_network import MLPRegressor"
   ]
  },
  {
   "cell_type": "code",
   "execution_count": 12,
   "metadata": {},
   "outputs": [
    {
     "name": "stdout",
     "output_type": "stream",
     "text": [
      "10 10 - RMSE of 0.273223237843 at 18:30:42\n",
      "\n",
      "20 20 - RMSE of 0.268352593301 at 18:40:25\n",
      "\n",
      "30 30 - RMSE of 0.268273314707 at 18:50:16\n",
      "\n",
      "40 40 - RMSE of 0.268010022536 at 19:10:13\n",
      "\n",
      "30 10 - RMSE of 0.268528260256 at 19:18:34\n",
      "\n",
      "10 30 - RMSE of 0.273200708658 at 19:27:23\n",
      "\n",
      "40 10 - RMSE of 0.267458391176 at 19:40:36\n",
      "\n",
      "10 40 - RMSE of 0.273462352088 at 19:48:18\n",
      "\n",
      "20 40 - RMSE of 0.268104987841 at 20:02:26\n",
      "\n",
      "40 20 - RMSE of 0.268226137415 at 20:12:48\n",
      "\n",
      "40 30 - RMSE of 0.26793794889 at 20:27:06\n",
      "\n",
      "30 40 - RMSE of 0.268119689124 at 20:38:56\n",
      "\n",
      "50 10 - RMSE of 0.267529201923 at 20:51:00\n",
      "\n",
      "10 50 - RMSE of 0.269416292182 at 21:00:15\n",
      "\n",
      "60 10 - RMSE of 0.267846049183 at 21:10:09\n",
      "\n",
      "60 20 - RMSE of 0.267441873482 at 21:26:25\n",
      "\n",
      "10 5 - RMSE of 0.2728082582 at 21:43:00\n",
      "\n",
      "30 5 - RMSE of 0.268245887248 at 21:47:42\n",
      "\n",
      "40 5 - RMSE of 0.268024671953 at 21:57:39\n",
      "\n",
      "50 5 - RMSE of 0.267624619082 at 22:07:33\n",
      "\n"
     ]
    }
   ],
   "source": [
    "hidden_layer_sizes = [(10,10),(20,20),(30,30),(40,40),(30,10),(10,30),(40,10),(10,40),(20,40),(40,20),(40,30),(30,40),(50,10),(10,50),(60,10),(60,20),(10,5),(30,5),(40,5),(50,5)]\n",
    "\n",
    "for hidden_layer in hidden_layer_sizes:\n",
    "    #define MLP\n",
    "    mlp = MLPRegressor(hidden_layer_sizes=hidden_layer, activation='tanh',\n",
    "                       solver='sgd', learning_rate='adaptive',\n",
    "                      random_state=42, batch_size=500, learning_rate_init=.003,\n",
    "                        momentum=.5, tol=.001, verbose=False,\n",
    "                       early_stopping=True, validation_fraction=.2)\n",
    "\n",
    "    #fit to training data\n",
    "    mlp.fit(X_train, y_train)\n",
    "    #predict on test data\n",
    "    pred = mlp.predict(X_test)\n",
    "\n",
    "    #find AUC on out-of-sample user_ids\n",
    "    print('{} {} - RMSE of {} at {}\\n'.format(hidden_layer[0], hidden_layer[1], mean_squared_error(y_test, pred)**.5, datetime.datetime.now().strftime('%H:%M:%S')))"
   ]
  },
  {
   "cell_type": "code",
   "execution_count": 13,
   "metadata": {},
   "outputs": [
    {
     "data": {
      "text/plain": [
       "MLPRegressor(activation='tanh', alpha=0.0001, batch_size=500, beta_1=0.9,\n",
       "       beta_2=0.999, early_stopping=True, epsilon=1e-08,\n",
       "       hidden_layer_sizes=(40, 10), learning_rate='adaptive',\n",
       "       learning_rate_init=0.003, max_iter=200, momentum=0.5,\n",
       "       nesterovs_momentum=True, power_t=0.5, random_state=42, shuffle=True,\n",
       "       solver='sgd', tol=0.001, validation_fraction=0.2, verbose=False,\n",
       "       warm_start=False)"
      ]
     },
     "execution_count": 13,
     "metadata": {},
     "output_type": "execute_result"
    }
   ],
   "source": [
    "#re-fit best model\n",
    "mlp = MLPRegressor(hidden_layer_sizes=(40,10), activation='tanh',\n",
    "                       solver='sgd', learning_rate='adaptive',\n",
    "                      random_state=42, batch_size=500, learning_rate_init=.003,\n",
    "                        momentum=.5, tol=.001, verbose=False,\n",
    "                       early_stopping=True, validation_fraction=.2)\n",
    "\n",
    "#fit to training data\n",
    "mlp.fit(X_train, y_train)"
   ]
  },
  {
   "cell_type": "code",
   "execution_count": 15,
   "metadata": {},
   "outputs": [
    {
     "name": "stdout",
     "output_type": "stream",
     "text": [
      "0.267458391176\n"
     ]
    }
   ],
   "source": [
    "pred = mlp.predict(X_test)\n",
    "\n",
    "print mean_squared_error(y_test, pred)**.5"
   ]
  },
  {
   "cell_type": "code",
   "execution_count": 16,
   "metadata": {
    "collapsed": true
   },
   "outputs": [],
   "source": [
    "import pickle\n",
    "\n",
    "pickle.dump(mlp, open('mlp.pickle', 'wb'))"
   ]
  },
  {
   "cell_type": "markdown",
   "metadata": {},
   "source": [
    "# XGBoost"
   ]
  },
  {
   "cell_type": "code",
   "execution_count": 17,
   "metadata": {},
   "outputs": [],
   "source": [
    "import xgboost as xgb\n",
    "from sklearn.model_selection import train_test_split"
   ]
  },
  {
   "cell_type": "code",
   "execution_count": 18,
   "metadata": {
    "collapsed": true
   },
   "outputs": [],
   "source": [
    "#split initial X_train into a train and validation set, adding another layer to prevent overfitting the train set\n",
    "X_train, X_val, y_train, y_val = train_test_split(X_train, y_train, test_size=0.2, random_state=42)"
   ]
  },
  {
   "cell_type": "code",
   "execution_count": 19,
   "metadata": {},
   "outputs": [
    {
     "name": "stdout",
     "output_type": "stream",
     "text": [
      "0.05\t40\t5\tRMSE 0.272747515999 at 23:08:25\n",
      "0.05\t40\t10\tRMSE 0.270945475055 at 23:15:11\n",
      "0.05\t40\t15\tRMSE 0.271032317978 at 23:28:33\n",
      "0.05\t140\t5\tRMSE 0.265477977278 at 23:39:15\n",
      "0.05\t140\t10\tRMSE 0.264535903207 at 00:01:47\n",
      "0.05\t140\t15\tRMSE 0.265742236989 at 00:42:36\n",
      "0.05\t240\t5\tRMSE 0.265084156629 at 01:01:02\n",
      "0.05\t240\t10\tRMSE 0.264508323906 at 01:36:44\n",
      "0.05\t240\t15\tRMSE 0.265742236989 at 02:17:35\n",
      "0.05\t340\t5\tRMSE 0.264891058298 at 02:43:37\n",
      "0.05\t340\t10\tRMSE 0.264508323906 at 03:19:26\n",
      "0.05\t340\t15\tRMSE 0.265742236989 at 04:00:13\n",
      "0.1\t40\t5\tRMSE 0.26613617829 at 04:03:32\n",
      "0.1\t40\t10\tRMSE 0.264920636652 at 04:10:17\n",
      "0.1\t40\t15\tRMSE 0.266208122418 at 04:23:17\n",
      "0.1\t140\t5\tRMSE 0.265052262829 at 04:34:09\n",
      "0.1\t140\t10\tRMSE 0.264704483794 at 04:54:12\n",
      "0.1\t140\t15\tRMSE 0.266417480872 at 05:11:55\n",
      "0.1\t240\t5\tRMSE 0.264751236086 at 05:30:25\n",
      "0.1\t240\t10\tRMSE 0.264704483794 at 05:50:28\n",
      "0.1\t240\t15\tRMSE 0.266417480872 at 06:08:03\n",
      "0.1\t340\t5\tRMSE 0.264689307922 at 06:29:37\n",
      "0.1\t340\t10\tRMSE 0.264704483794 at 06:49:41\n",
      "0.1\t340\t15\tRMSE 0.266417480872 at 07:07:25\n",
      "0.2\t40\t5\tRMSE 0.265478048393 at 07:10:46\n",
      "0.2\t40\t10\tRMSE 0.264941729681 at 07:17:25\n",
      "0.2\t40\t15\tRMSE 0.267652537641 at 07:24:01\n",
      "0.2\t140\t5\tRMSE 0.264842842707 at 07:34:51\n",
      "0.2\t140\t10\tRMSE 0.265156719514 at 07:46:09\n",
      "0.2\t140\t15\tRMSE 0.267652537641 at 07:52:48\n",
      "0.2\t240\t5\tRMSE 0.264685496831 at 08:09:04\n",
      "0.2\t240\t10\tRMSE 0.265156719514 at 08:20:22\n",
      "0.2\t240\t15\tRMSE 0.267652537641 at 08:26:59\n",
      "0.2\t340\t5\tRMSE 0.264685496831 at 08:43:19\n",
      "0.2\t340\t10\tRMSE 0.265156719514 at 08:54:45\n",
      "0.2\t340\t15\tRMSE 0.267652537641 at 09:01:27\n",
      "Wall time: 9h 56min 30s\n"
     ]
    }
   ],
   "source": [
    "%%time\n",
    "depths = [5,10,15]\n",
    "n_estimators = [40,140,240,340]\n",
    "learning_rates = [.05,.1,.2]\n",
    "\n",
    "for learning_rate in learning_rates:\n",
    "    for n_tree in n_estimators:\n",
    "        for depth in depths:\n",
    "            gbm = xgb.XGBRegressor(objective='reg:linear',\n",
    "                            max_depth=depth,\n",
    "                            learning_rate=learning_rate,\n",
    "                            n_estimators=n_tree,\n",
    "                            subsample=.8,\n",
    "                            colsample_bytree=.8)\n",
    "\n",
    "            gbm.fit(X_train, y_train,\n",
    "                eval_set=[(X_val, y_val)],\n",
    "                eval_metric='rmse',\n",
    "                early_stopping_rounds=2, verbose=False)\n",
    "            \n",
    "            print '{}\\t{}\\t{}\\tRMSE {} at {}'.format(learning_rate, n_tree, depth, mean_squared_error(y_test, gbm.predict(X_test))**.5, datetime.datetime.now().strftime('%H:%M:%S'))"
   ]
  },
  {
   "cell_type": "code",
   "execution_count": 20,
   "metadata": {},
   "outputs": [
    {
     "data": {
      "text/plain": [
       "XGBRegressor(base_score=0.5, colsample_bylevel=1, colsample_bytree=0.8,\n",
       "       gamma=0, learning_rate=0.05, max_delta_step=0, max_depth=10,\n",
       "       min_child_weight=1, missing=None, n_estimators=240, nthread=-1,\n",
       "       objective='reg:linear', reg_alpha=0, reg_lambda=1,\n",
       "       scale_pos_weight=1, seed=0, silent=True, subsample=0.8)"
      ]
     },
     "execution_count": 20,
     "metadata": {},
     "output_type": "execute_result"
    }
   ],
   "source": [
    "#re-fit model with best parameters\n",
    "\n",
    "gbm = xgb.XGBRegressor(objective='reg:linear',\n",
    "                max_depth=10,\n",
    "                learning_rate=.05,\n",
    "                n_estimators=240,\n",
    "                subsample=.8,\n",
    "                colsample_bytree=.8)\n",
    "\n",
    "gbm.fit(X_train, y_train,\n",
    "    eval_set=[(X_val, y_val)],\n",
    "    eval_metric='rmse',\n",
    "    early_stopping_rounds=2, verbose=False)"
   ]
  },
  {
   "cell_type": "code",
   "execution_count": 22,
   "metadata": {},
   "outputs": [
    {
     "name": "stdout",
     "output_type": "stream",
     "text": [
      "0.264508323906\n"
     ]
    }
   ],
   "source": [
    "pred = gbm.predict(X_test)\n",
    "\n",
    "print mean_squared_error(y_test, pred)**.5"
   ]
  },
  {
   "cell_type": "code",
   "execution_count": 23,
   "metadata": {
    "collapsed": true
   },
   "outputs": [],
   "source": [
    "import pickle\n",
    "\n",
    "pickle.dump(gbm, open('xgb.pickle', 'wb'))"
   ]
  },
  {
   "cell_type": "markdown",
   "metadata": {},
   "source": [
    "# LightGBM"
   ]
  },
  {
   "cell_type": "code",
   "execution_count": 24,
   "metadata": {
    "collapsed": true
   },
   "outputs": [],
   "source": [
    "import lightgbm as lgb"
   ]
  },
  {
   "cell_type": "code",
   "execution_count": 25,
   "metadata": {},
   "outputs": [
    {
     "name": "stdout",
     "output_type": "stream",
     "text": [
      "0.1\t40\t20\tRMSE 0.266010642666 at 22:19:02\n",
      "0.1\t40\t40\tRMSE 0.265481199588 at 22:19:41\n",
      "0.1\t40\t80\tRMSE 0.265193885772 at 22:20:29\n",
      "0.1\t140\t20\tRMSE 0.264974642854 at 22:21:47\n",
      "0.1\t140\t40\tRMSE 0.264730080751 at 22:23:19\n",
      "0.1\t140\t80\tRMSE 0.264635792783 at 22:25:03\n",
      "0.1\t240\t20\tRMSE 0.264766323743 at 22:26:57\n",
      "0.1\t240\t40\tRMSE 0.264612124258 at 22:29:08\n",
      "0.1\t240\t80\tRMSE 0.264605122858 at 22:31:31\n",
      "0.1\t340\t20\tRMSE 0.264647121968 at 22:34:03\n",
      "0.1\t340\t40\tRMSE 0.264598483202 at 22:36:22\n",
      "0.1\t340\t80\tRMSE 0.264606056962 at 22:38:49\n",
      "0.2\t40\t20\tRMSE 0.265384372015 at 22:39:20\n",
      "0.2\t40\t40\tRMSE 0.265092001702 at 22:39:56\n",
      "0.2\t40\t80\tRMSE 0.264933189449 at 22:40:37\n",
      "0.2\t140\t20\tRMSE 0.264837341975 at 22:41:46\n",
      "0.2\t140\t40\tRMSE 0.264828760353 at 22:42:50\n",
      "0.2\t140\t80\tRMSE 0.264864249404 at 22:43:40\n",
      "0.2\t240\t20\tRMSE 0.264732720685 at 22:45:16\n",
      "0.2\t240\t40\tRMSE 0.264828760353 at 22:46:14\n",
      "0.2\t240\t80\tRMSE 0.264864249404 at 22:47:08\n",
      "0.2\t340\t20\tRMSE 0.264732720685 at 22:49:00\n",
      "0.2\t340\t40\tRMSE 0.264828760353 at 22:50:12\n",
      "0.2\t340\t80\tRMSE 0.264864249404 at 22:51:10\n",
      "Wall time: 32min 40s\n"
     ]
    }
   ],
   "source": [
    "%%time\n",
    "leaves = [20,40,80]\n",
    "n_estimators = [40,140,240,340]\n",
    "learning_rates = [.1,.2]\n",
    "\n",
    "#uses same x_train/x_val split as XGBoost\n",
    "for learning_rate in learning_rates:\n",
    "    for n_tree in n_estimators:\n",
    "        for leaf in leaves:\n",
    "            gbm = lgb.LGBMRegressor(objective='regression',\n",
    "                            num_leaves=leaf,\n",
    "                            learning_rate=learning_rate,\n",
    "                            n_estimators=n_tree,\n",
    "                            feature_fraction=.8)\n",
    "\n",
    "            gbm.fit(X_train, y_train,\n",
    "                eval_set=[(X_val, y_val)],\n",
    "                eval_metric='rmse',\n",
    "                early_stopping_rounds=2, verbose=False)\n",
    "\n",
    "            print '{}\\t{}\\t{}\\tRMSE {} at {}'.format(learning_rate, n_tree, leaf, mean_squared_error(y_test, gbm.predict(X_test, num_iteration=gbm.best_iteration_))**.5, datetime.datetime.now().strftime('%H:%M:%S'))"
   ]
  },
  {
   "cell_type": "code",
   "execution_count": 26,
   "metadata": {
    "scrolled": true
   },
   "outputs": [
    {
     "data": {
      "text/plain": [
       "LGBMRegressor(boosting_type='gbdt',\n",
       "       colsample_bytree=1.0, feature_fraction=0.8, learning_rate=0.1,\n",
       "       max_bin=255, max_depth=-1, min_child_samples=10, min_child_weight=5,\n",
       "       min_split_gain=0.0, n_estimators=340, n_jobs=-1, num_leaves=40,\n",
       "       objective='regression', random_state=0, reg_alpha=0.0,\n",
       "       reg_lambda=0.0, silent=True, subsample=1.0, subsample_for_bin=50000,\n",
       "       subsample_freq=1)"
      ]
     },
     "execution_count": 26,
     "metadata": {},
     "output_type": "execute_result"
    }
   ],
   "source": [
    "#re-fit model with best parameters\n",
    "\n",
    "gbm = lgb.LGBMRegressor(objective='regression',\n",
    "                num_leaves=40,\n",
    "                learning_rate=.1,\n",
    "                n_estimators=340,\n",
    "                feature_fraction=.8)\n",
    "\n",
    "gbm.fit(X_train, y_train,\n",
    "    eval_set=[(X_val, y_val)],\n",
    "    eval_metric='rmse',\n",
    "    early_stopping_rounds=2, verbose=False)"
   ]
  },
  {
   "cell_type": "code",
   "execution_count": 28,
   "metadata": {},
   "outputs": [
    {
     "name": "stdout",
     "output_type": "stream",
     "text": [
      "0.264598483202\n"
     ]
    }
   ],
   "source": [
    "pred = gbm.predict(X_test, num_iteration=gbm.best_iteration_)\n",
    "\n",
    "print mean_squared_error(y_test, pred)**.5"
   ]
  },
  {
   "cell_type": "code",
   "execution_count": 29,
   "metadata": {
    "collapsed": true
   },
   "outputs": [],
   "source": [
    "import pickle\n",
    "\n",
    "pickle.dump(gbm, open('lgb.pickle', 'wb'))"
   ]
  },
  {
   "cell_type": "markdown",
   "metadata": {},
   "source": [
    "# Model Comparisons"
   ]
  },
  {
   "cell_type": "code",
   "execution_count": 30,
   "metadata": {},
   "outputs": [
    {
     "name": "stdout",
     "output_type": "stream",
     "text": [
      "Populating the interactive namespace from numpy and matplotlib\n"
     ]
    }
   ],
   "source": [
    "import pandas as pd\n",
    "import numpy as np\n",
    "import matplotlib.pyplot as plt\n",
    "%pylab inline\n",
    "\n",
    "import warnings\n",
    "warnings.filterwarnings('ignore')"
   ]
  },
  {
   "cell_type": "markdown",
   "metadata": {},
   "source": [
    "### Same train/test split as during model training"
   ]
  },
  {
   "cell_type": "code",
   "execution_count": 31,
   "metadata": {},
   "outputs": [],
   "source": [
    "import random\n",
    "df = pd.read_csv('x_train.csv', index_col=0)\n",
    "\n",
    "mylist = list(df['user_id'].unique())\n",
    "\n",
    "random.seed(9001)\n",
    "train_users = [ mylist[i] for i in (random.sample(range(len(mylist)), int(.8*len(mylist)))) ]\n",
    "\n",
    "test = df[~df['user_id'].isin(train_users)]\n",
    "\n",
    "del df\n",
    "del train_users\n",
    "\n",
    "X_test = np.array(test[list(test.columns[4:])])\n",
    "\n",
    "var_names = test.columns[4:]"
   ]
  },
  {
   "cell_type": "code",
   "execution_count": 32,
   "metadata": {
    "collapsed": true
   },
   "outputs": [],
   "source": [
    "import pickle\n",
    "\n",
    "lin = pickle.load(open('lin.pickle', 'rb'))\n",
    "mlp = pickle.load(open('mlp.pickle', 'rb'))\n",
    "xgb = pickle.load(open('xgb.pickle', 'rb'))\n",
    "lgb = pickle.load(open('lgb.pickle', 'rb'))"
   ]
  },
  {
   "cell_type": "code",
   "execution_count": 33,
   "metadata": {},
   "outputs": [
    {
     "data": {
      "text/html": [
       "<div>\n",
       "<style>\n",
       "    .dataframe thead tr:only-child th {\n",
       "        text-align: right;\n",
       "    }\n",
       "\n",
       "    .dataframe thead th {\n",
       "        text-align: left;\n",
       "    }\n",
       "\n",
       "    .dataframe tbody tr th {\n",
       "        vertical-align: top;\n",
       "    }\n",
       "</style>\n",
       "<table border=\"1\" class=\"dataframe\">\n",
       "  <thead>\n",
       "    <tr style=\"text-align: right;\">\n",
       "      <th></th>\n",
       "      <th>user_id</th>\n",
       "      <th>product_id</th>\n",
       "      <th>target</th>\n",
       "      <th>avg_order_size</th>\n",
       "      <th>prev_ord_size</th>\n",
       "      <th>lin_pred</th>\n",
       "      <th>mlp_pred</th>\n",
       "      <th>xgb_pred</th>\n",
       "      <th>lgb_pred</th>\n",
       "    </tr>\n",
       "  </thead>\n",
       "  <tbody>\n",
       "    <tr>\n",
       "      <th>0</th>\n",
       "      <td>1</td>\n",
       "      <td>196</td>\n",
       "      <td>1</td>\n",
       "      <td>5.9</td>\n",
       "      <td>9.0</td>\n",
       "      <td>0.928517</td>\n",
       "      <td>0.755392</td>\n",
       "      <td>0.935406</td>\n",
       "      <td>0.943262</td>\n",
       "    </tr>\n",
       "    <tr>\n",
       "      <th>1</th>\n",
       "      <td>1</td>\n",
       "      <td>10258</td>\n",
       "      <td>1</td>\n",
       "      <td>5.9</td>\n",
       "      <td>9.0</td>\n",
       "      <td>0.851050</td>\n",
       "      <td>0.744850</td>\n",
       "      <td>0.862433</td>\n",
       "      <td>0.861641</td>\n",
       "    </tr>\n",
       "    <tr>\n",
       "      <th>2</th>\n",
       "      <td>1</td>\n",
       "      <td>10326</td>\n",
       "      <td>0</td>\n",
       "      <td>5.9</td>\n",
       "      <td>9.0</td>\n",
       "      <td>0.134407</td>\n",
       "      <td>0.057902</td>\n",
       "      <td>0.070194</td>\n",
       "      <td>0.078846</td>\n",
       "    </tr>\n",
       "    <tr>\n",
       "      <th>3</th>\n",
       "      <td>1</td>\n",
       "      <td>12427</td>\n",
       "      <td>0</td>\n",
       "      <td>5.9</td>\n",
       "      <td>9.0</td>\n",
       "      <td>0.908589</td>\n",
       "      <td>0.755285</td>\n",
       "      <td>0.873678</td>\n",
       "      <td>0.876320</td>\n",
       "    </tr>\n",
       "    <tr>\n",
       "      <th>4</th>\n",
       "      <td>1</td>\n",
       "      <td>13032</td>\n",
       "      <td>1</td>\n",
       "      <td>5.9</td>\n",
       "      <td>9.0</td>\n",
       "      <td>0.292921</td>\n",
       "      <td>0.254694</td>\n",
       "      <td>0.251282</td>\n",
       "      <td>0.263266</td>\n",
       "    </tr>\n",
       "  </tbody>\n",
       "</table>\n",
       "</div>"
      ],
      "text/plain": [
       "   user_id  product_id  target  avg_order_size  prev_ord_size  lin_pred  \\\n",
       "0        1         196       1             5.9            9.0  0.928517   \n",
       "1        1       10258       1             5.9            9.0  0.851050   \n",
       "2        1       10326       0             5.9            9.0  0.134407   \n",
       "3        1       12427       0             5.9            9.0  0.908589   \n",
       "4        1       13032       1             5.9            9.0  0.292921   \n",
       "\n",
       "   mlp_pred  xgb_pred  lgb_pred  \n",
       "0  0.755392  0.935406  0.943262  \n",
       "1  0.744850  0.862433  0.861641  \n",
       "2  0.057902  0.070194  0.078846  \n",
       "3  0.755285  0.873678  0.876320  \n",
       "4  0.254694  0.251282  0.263266  "
      ]
     },
     "execution_count": 33,
     "metadata": {},
     "output_type": "execute_result"
    }
   ],
   "source": [
    "test = test[['user_id', 'product_id', 'target', 'avg_order_size', 'prev_ord_size']]\n",
    "\n",
    "test['lin_pred'] = lin.predict(X_test)\n",
    "test['mlp_pred'] = mlp.predict(X_test)\n",
    "test['xgb_pred'] = xgb.predict(X_test)\n",
    "test['lgb_pred'] = lgb.predict(X_test)\n",
    "\n",
    "test.head()"
   ]
  },
  {
   "cell_type": "markdown",
   "metadata": {},
   "source": [
    "### Wave assumptions around, and label"
   ]
  },
  {
   "cell_type": "code",
   "execution_count": 35,
   "metadata": {},
   "outputs": [
    {
     "data": {
      "text/html": [
       "<div>\n",
       "<style>\n",
       "    .dataframe thead tr:only-child th {\n",
       "        text-align: right;\n",
       "    }\n",
       "\n",
       "    .dataframe thead th {\n",
       "        text-align: left;\n",
       "    }\n",
       "\n",
       "    .dataframe tbody tr th {\n",
       "        vertical-align: top;\n",
       "    }\n",
       "</style>\n",
       "<table border=\"1\" class=\"dataframe\">\n",
       "  <thead>\n",
       "    <tr style=\"text-align: right;\">\n",
       "      <th></th>\n",
       "      <th>user_id</th>\n",
       "      <th>product_id</th>\n",
       "      <th>target</th>\n",
       "      <th>avg_order_size</th>\n",
       "      <th>prev_ord_size</th>\n",
       "      <th>lin_pred</th>\n",
       "      <th>mlp_pred</th>\n",
       "      <th>xgb_pred</th>\n",
       "      <th>lgb_pred</th>\n",
       "      <th>lin</th>\n",
       "      <th>mlp</th>\n",
       "      <th>xgb</th>\n",
       "      <th>lgb</th>\n",
       "    </tr>\n",
       "  </thead>\n",
       "  <tbody>\n",
       "    <tr>\n",
       "      <th>0</th>\n",
       "      <td>1</td>\n",
       "      <td>196</td>\n",
       "      <td>1</td>\n",
       "      <td>5.9</td>\n",
       "      <td>9.0</td>\n",
       "      <td>0.928517</td>\n",
       "      <td>0.755392</td>\n",
       "      <td>0.935406</td>\n",
       "      <td>0.943262</td>\n",
       "      <td>1</td>\n",
       "      <td>1</td>\n",
       "      <td>1</td>\n",
       "      <td>1</td>\n",
       "    </tr>\n",
       "    <tr>\n",
       "      <th>1</th>\n",
       "      <td>1</td>\n",
       "      <td>10258</td>\n",
       "      <td>1</td>\n",
       "      <td>5.9</td>\n",
       "      <td>9.0</td>\n",
       "      <td>0.851050</td>\n",
       "      <td>0.744850</td>\n",
       "      <td>0.862433</td>\n",
       "      <td>0.861641</td>\n",
       "      <td>1</td>\n",
       "      <td>1</td>\n",
       "      <td>1</td>\n",
       "      <td>1</td>\n",
       "    </tr>\n",
       "    <tr>\n",
       "      <th>2</th>\n",
       "      <td>1</td>\n",
       "      <td>10326</td>\n",
       "      <td>0</td>\n",
       "      <td>5.9</td>\n",
       "      <td>9.0</td>\n",
       "      <td>0.134407</td>\n",
       "      <td>0.057902</td>\n",
       "      <td>0.070194</td>\n",
       "      <td>0.078846</td>\n",
       "      <td>0</td>\n",
       "      <td>0</td>\n",
       "      <td>0</td>\n",
       "      <td>0</td>\n",
       "    </tr>\n",
       "    <tr>\n",
       "      <th>3</th>\n",
       "      <td>1</td>\n",
       "      <td>12427</td>\n",
       "      <td>0</td>\n",
       "      <td>5.9</td>\n",
       "      <td>9.0</td>\n",
       "      <td>0.908589</td>\n",
       "      <td>0.755285</td>\n",
       "      <td>0.873678</td>\n",
       "      <td>0.876320</td>\n",
       "      <td>1</td>\n",
       "      <td>1</td>\n",
       "      <td>1</td>\n",
       "      <td>1</td>\n",
       "    </tr>\n",
       "    <tr>\n",
       "      <th>4</th>\n",
       "      <td>1</td>\n",
       "      <td>13032</td>\n",
       "      <td>1</td>\n",
       "      <td>5.9</td>\n",
       "      <td>9.0</td>\n",
       "      <td>0.292921</td>\n",
       "      <td>0.254694</td>\n",
       "      <td>0.251282</td>\n",
       "      <td>0.263266</td>\n",
       "      <td>1</td>\n",
       "      <td>1</td>\n",
       "      <td>0</td>\n",
       "      <td>0</td>\n",
       "    </tr>\n",
       "  </tbody>\n",
       "</table>\n",
       "</div>"
      ],
      "text/plain": [
       "   user_id  product_id  target  avg_order_size  prev_ord_size  lin_pred  \\\n",
       "0        1         196       1             5.9            9.0  0.928517   \n",
       "1        1       10258       1             5.9            9.0  0.851050   \n",
       "2        1       10326       0             5.9            9.0  0.134407   \n",
       "3        1       12427       0             5.9            9.0  0.908589   \n",
       "4        1       13032       1             5.9            9.0  0.292921   \n",
       "\n",
       "   mlp_pred  xgb_pred  lgb_pred  lin  mlp  xgb  lgb  \n",
       "0  0.755392  0.935406  0.943262    1    1    1    1  \n",
       "1  0.744850  0.862433  0.861641    1    1    1    1  \n",
       "2  0.057902  0.070194  0.078846    0    0    0    0  \n",
       "3  0.755285  0.873678  0.876320    1    1    1    1  \n",
       "4  0.254694  0.251282  0.263266    1    1    0    0  "
      ]
     },
     "execution_count": 35,
     "metadata": {},
     "output_type": "execute_result"
    }
   ],
   "source": [
    "def label_top_n(group):\n",
    "    for string in ['lin', 'mlp', 'xgb', 'lgb']:\n",
    "        group[string] = 0\n",
    "        group.loc[group[string+'_pred'].isin(group[string+'_pred'].nlargest(int(max(group['prev_ord_size'])))), string] = 1\n",
    "    \n",
    "    return group\n",
    "\n",
    "labeled = test.groupby('user_id').apply(label_top_n)\n",
    "labeled.head()"
   ]
  },
  {
   "cell_type": "code",
   "execution_count": 37,
   "metadata": {
    "collapsed": true
   },
   "outputs": [],
   "source": [
    "labeled.to_csv('labeled.csv')"
   ]
  },
  {
   "cell_type": "code",
   "execution_count": 38,
   "metadata": {},
   "outputs": [
    {
     "name": "stdout",
     "output_type": "stream",
     "text": [
      "[[0.0, 0.12180512303471928, 1.0], [0.0, 0.12087068212880135, 1.0], [0.0, 0.11926430572869086, 1.0], [0.0, 0.11934005355893998, 1.0]]\n",
      "[[0.0, 0.5151662875094789, 1.0], [0.0, 0.52377857220236157, 1.0], [0.0, 0.53865597804499332, 1.0], [0.0, 0.5379638657181719, 1.0]]\n",
      "[0.69668058223737983, 0.70145394503678016, 0.70969583615815124, 0.70931190607961603]\n"
     ]
    }
   ],
   "source": [
    "from sklearn.metrics import roc_curve\n",
    "from sklearn.metrics import roc_auc_score\n",
    "\n",
    "x_lin, y_lin, t_lin = roc_curve(labeled['target'].values, labeled['lin'].values, pos_label=1)\n",
    "x_mlp, y_mlp, t_mlp = roc_curve(labeled['target'].values, labeled['mlp'].values, pos_label=1)\n",
    "x_xgb, y_xgb, t_xgb = roc_curve(labeled['target'].values, labeled['xgb'].values, pos_label=1)\n",
    "x_lgb, y_lgb, t_lgb = roc_curve(labeled['target'].values, labeled['lgb'].values, pos_label=1)\n",
    "\n",
    "print [list(x_lin), list(x_mlp), list(x_xgb), list(x_lgb)]\n",
    "print [list(y_lin), list(y_mlp), list(y_xgb), list(y_lgb)]\n",
    "\n",
    "print [roc_auc_score(labeled['target'].values, labeled['lin'].values), roc_auc_score(labeled['target'].values, labeled['mlp'].values), roc_auc_score(labeled['target'].values, labeled['xgb'].values), roc_auc_score(labeled['target'].values, labeled['lgb'].values)]"
   ]
  },
  {
   "cell_type": "code",
   "execution_count": 39,
   "metadata": {},
   "outputs": [
    {
     "data": {
      "image/png": "[encoded data removed]",
      "text/plain": [
       "<matplotlib.figure.Figure at 0x8736f550>"
      ]
     },
     "metadata": {},
     "output_type": "display_data"
    }
   ],
   "source": [
    "names  = ['Linear Regression', 'MLP', 'XGBoost', 'LightGBM']\n",
    "\n",
    "plt.plot(x_lin, y_lin)\n",
    "plt.plot(x_mlp, y_mlp)\n",
    "plt.plot(x_xgb, y_xgb)\n",
    "plt.plot(x_lgb, y_lgb)\n",
    "\n",
    "plt.legend(names)\n",
    "plt.show()"
   ]
  },
  {
   "cell_type": "markdown",
   "metadata": {},
   "source": [
    "### XGBoost is the best out-of-sample, followed by LightGBM, MLP, and then Linear"
   ]
  },
  {
   "cell_type": "code",
   "execution_count": 40,
   "metadata": {},
   "outputs": [
    {
     "name": "stdout",
     "output_type": "stream",
     "text": [
      "[13753, 11916, 11483, 9056, 14336, 12422, 9280, 8025, 5562, 6987, 10107, 7595, 7325, 7281, 9243, 4867, 7680, 2124, 3632, 3294, 6580, 7206, 1412, 1150, 1739, 2442, 381, 236, 611, 119]\n",
      "['avg_order_size', 'prev_ord_size', 'avg_days_between_orders', 'num_orders_placed', 'reordered_usr_avg', 'overall_avg_prod_disp', 'overall_avg_aisle_disp', 'perc_aisle_support', 'overall_avg_dept_disp', 'perc_dept_support', 'avg_ord_pos', 'days_since_aisle', 'days_since_department', 'days_since_prod', 'order_aisle_displacement', 'orders_since_prod', 'perc_prod_support', 'prod_aisle_ratio', 'prod_dept_ratio', 'streak_length', 'usr_avg_aisle_disp', 'usr_avg_dept_disp', 'usr_avg_prod_disp', 'prod_due_overall_perc', 'prod_due_user_perc', 'aisle_due_overall_perc', 'aisle_due_user_perc', 'dept_due_overall_perc', 'dept_due_user_perc', 'reorder_custom']\n"
     ]
    },
    {
     "data": {
      "text/plain": [
       "<matplotlib.axes._subplots.AxesSubplot at 0x19983c88>"
      ]
     },
     "execution_count": 40,
     "metadata": {},
     "output_type": "execute_result"
    },
    {
     "data": {
      "image/png": "[encoded data removed]",
      "text/plain": [
       "<matplotlib.figure.Figure at 0x1d54ad68>"
      ]
     },
     "metadata": {},
     "output_type": "display_data"
    }
   ],
   "source": [
    "#XGBoost variable importance\n",
    "mini_dict = xgb.booster().get_fscore()\n",
    "xgb_importance = [mini_dict['f'+str(i)] for i in range(len(var_names))]\n",
    "del mini_dict\n",
    "\n",
    "print xgb_importance\n",
    "print list(var_names.values)\n",
    "pd.Series(xgb_importance, index=var_names.values).sort_values(ascending=False).plot(kind='bar', title='XGBoost Importance')"
   ]
  },
  {
   "cell_type": "code",
   "execution_count": 42,
   "metadata": {},
   "outputs": [
    {
     "name": "stdout",
     "output_type": "stream",
     "text": [
      "[801, 581, 644, 459, 942, 644, 425, 281, 296, 262, 349, 453, 408, 551, 574, 341, 619, 139, 228, 272, 234, 296, 119, 45, 46, 120, 1, 14, 30, 5]\n",
      "['avg_order_size', 'prev_ord_size', 'avg_days_between_orders', 'num_orders_placed', 'reordered_usr_avg', 'overall_avg_prod_disp', 'overall_avg_aisle_disp', 'perc_aisle_support', 'overall_avg_dept_disp', 'perc_dept_support', 'avg_ord_pos', 'days_since_aisle', 'days_since_department', 'days_since_prod', 'order_aisle_displacement', 'orders_since_prod', 'perc_prod_support', 'prod_aisle_ratio', 'prod_dept_ratio', 'streak_length', 'usr_avg_aisle_disp', 'usr_avg_dept_disp', 'usr_avg_prod_disp', 'prod_due_overall_perc', 'prod_due_user_perc', 'aisle_due_overall_perc', 'aisle_due_user_perc', 'dept_due_overall_perc', 'dept_due_user_perc', 'reorder_custom']\n"
     ]
    },
    {
     "data": {
      "text/plain": [
       "<matplotlib.axes._subplots.AxesSubplot at 0x22509a58>"
      ]
     },
     "execution_count": 42,
     "metadata": {},
     "output_type": "execute_result"
    },
    {
     "data": {
      "image/png": "[encoded data removed]",
      "text/plain": [
       "<matplotlib.figure.Figure at 0x1b3fc898>"
      ]
     },
     "metadata": {},
     "output_type": "display_data"
    }
   ],
   "source": [
    "#lightgbm variable importance\n",
    "print list(lgb.feature_importances_)\n",
    "print list(var_names.values)\n",
    "pd.Series(lgb.feature_importances_, index=var_names.values).sort_values(ascending=False).plot(kind='bar', title='LightGBM Importance')"
   ]
  },
  {
   "cell_type": "markdown",
   "metadata": {},
   "source": [
    "# Make Predictions"
   ]
  },
  {
   "cell_type": "code",
   "execution_count": 44,
   "metadata": {},
   "outputs": [
    {
     "data": {
      "text/html": [
       "<div>\n",
       "<style>\n",
       "    .dataframe thead tr:only-child th {\n",
       "        text-align: right;\n",
       "    }\n",
       "\n",
       "    .dataframe thead th {\n",
       "        text-align: left;\n",
       "    }\n",
       "\n",
       "    .dataframe tbody tr th {\n",
       "        vertical-align: top;\n",
       "    }\n",
       "</style>\n",
       "<table border=\"1\" class=\"dataframe\">\n",
       "  <thead>\n",
       "    <tr style=\"text-align: right;\">\n",
       "      <th></th>\n",
       "      <th>user_id</th>\n",
       "      <th>order_id</th>\n",
       "      <th>product_id</th>\n",
       "      <th>target</th>\n",
       "      <th>avg_order_size</th>\n",
       "      <th>prev_ord_size</th>\n",
       "      <th>avg_days_between_orders</th>\n",
       "      <th>num_orders_placed</th>\n",
       "      <th>reordered_usr_avg</th>\n",
       "      <th>overall_avg_prod_disp</th>\n",
       "      <th>...</th>\n",
       "      <th>usr_avg_aisle_disp</th>\n",
       "      <th>usr_avg_dept_disp</th>\n",
       "      <th>usr_avg_prod_disp</th>\n",
       "      <th>prod_due_overall_perc</th>\n",
       "      <th>prod_due_user_perc</th>\n",
       "      <th>aisle_due_overall_perc</th>\n",
       "      <th>aisle_due_user_perc</th>\n",
       "      <th>dept_due_overall_perc</th>\n",
       "      <th>dept_due_user_perc</th>\n",
       "      <th>reorder_custom</th>\n",
       "    </tr>\n",
       "  </thead>\n",
       "  <tbody>\n",
       "    <tr>\n",
       "      <th>120</th>\n",
       "      <td>3</td>\n",
       "      <td>2774568</td>\n",
       "      <td>248</td>\n",
       "      <td>2</td>\n",
       "      <td>7.33</td>\n",
       "      <td>6.0</td>\n",
       "      <td>12.09</td>\n",
       "      <td>13</td>\n",
       "      <td>0.625</td>\n",
       "      <td>109.905904</td>\n",
       "      <td>...</td>\n",
       "      <td>45.0</td>\n",
       "      <td>20.57</td>\n",
       "      <td>135.00</td>\n",
       "      <td>0.231</td>\n",
       "      <td>0.538</td>\n",
       "      <td>0.625</td>\n",
       "      <td>0.231</td>\n",
       "      <td>0.538</td>\n",
       "      <td>0.625</td>\n",
       "      <td>0</td>\n",
       "    </tr>\n",
       "    <tr>\n",
       "      <th>121</th>\n",
       "      <td>3</td>\n",
       "      <td>2774568</td>\n",
       "      <td>1005</td>\n",
       "      <td>2</td>\n",
       "      <td>7.33</td>\n",
       "      <td>6.0</td>\n",
       "      <td>12.09</td>\n",
       "      <td>13</td>\n",
       "      <td>0.625</td>\n",
       "      <td>108.401544</td>\n",
       "      <td>...</td>\n",
       "      <td>37.0</td>\n",
       "      <td>45.00</td>\n",
       "      <td>37.00</td>\n",
       "      <td>0.077</td>\n",
       "      <td>0.231</td>\n",
       "      <td>0.625</td>\n",
       "      <td>0.077</td>\n",
       "      <td>0.231</td>\n",
       "      <td>0.625</td>\n",
       "      <td>0</td>\n",
       "    </tr>\n",
       "    <tr>\n",
       "      <th>122</th>\n",
       "      <td>3</td>\n",
       "      <td>2774568</td>\n",
       "      <td>1819</td>\n",
       "      <td>2</td>\n",
       "      <td>7.33</td>\n",
       "      <td>6.0</td>\n",
       "      <td>12.09</td>\n",
       "      <td>13</td>\n",
       "      <td>0.625</td>\n",
       "      <td>87.987620</td>\n",
       "      <td>...</td>\n",
       "      <td>23.5</td>\n",
       "      <td>23.50</td>\n",
       "      <td>31.33</td>\n",
       "      <td>0.308</td>\n",
       "      <td>0.308</td>\n",
       "      <td>0.625</td>\n",
       "      <td>0.308</td>\n",
       "      <td>0.308</td>\n",
       "      <td>0.625</td>\n",
       "      <td>0</td>\n",
       "    </tr>\n",
       "    <tr>\n",
       "      <th>123</th>\n",
       "      <td>3</td>\n",
       "      <td>2774568</td>\n",
       "      <td>7503</td>\n",
       "      <td>2</td>\n",
       "      <td>7.33</td>\n",
       "      <td>6.0</td>\n",
       "      <td>12.09</td>\n",
       "      <td>13</td>\n",
       "      <td>0.625</td>\n",
       "      <td>96.378691</td>\n",
       "      <td>...</td>\n",
       "      <td>45.0</td>\n",
       "      <td>20.57</td>\n",
       "      <td>114.00</td>\n",
       "      <td>0.231</td>\n",
       "      <td>0.538</td>\n",
       "      <td>0.625</td>\n",
       "      <td>0.231</td>\n",
       "      <td>0.538</td>\n",
       "      <td>0.625</td>\n",
       "      <td>0</td>\n",
       "    </tr>\n",
       "    <tr>\n",
       "      <th>124</th>\n",
       "      <td>3</td>\n",
       "      <td>2774568</td>\n",
       "      <td>8021</td>\n",
       "      <td>2</td>\n",
       "      <td>7.33</td>\n",
       "      <td>6.0</td>\n",
       "      <td>12.09</td>\n",
       "      <td>13</td>\n",
       "      <td>0.625</td>\n",
       "      <td>83.698469</td>\n",
       "      <td>...</td>\n",
       "      <td>135.0</td>\n",
       "      <td>135.00</td>\n",
       "      <td>135.00</td>\n",
       "      <td>0.077</td>\n",
       "      <td>0.077</td>\n",
       "      <td>0.625</td>\n",
       "      <td>0.077</td>\n",
       "      <td>0.077</td>\n",
       "      <td>0.625</td>\n",
       "      <td>0</td>\n",
       "    </tr>\n",
       "  </tbody>\n",
       "</table>\n",
       "<p>5 rows × 34 columns</p>\n",
       "</div>"
      ],
      "text/plain": [
       "     user_id  order_id  product_id  target  avg_order_size  prev_ord_size  \\\n",
       "120        3   2774568         248       2            7.33            6.0   \n",
       "121        3   2774568        1005       2            7.33            6.0   \n",
       "122        3   2774568        1819       2            7.33            6.0   \n",
       "123        3   2774568        7503       2            7.33            6.0   \n",
       "124        3   2774568        8021       2            7.33            6.0   \n",
       "\n",
       "     avg_days_between_orders  num_orders_placed  reordered_usr_avg  \\\n",
       "120                    12.09                 13              0.625   \n",
       "121                    12.09                 13              0.625   \n",
       "122                    12.09                 13              0.625   \n",
       "123                    12.09                 13              0.625   \n",
       "124                    12.09                 13              0.625   \n",
       "\n",
       "     overall_avg_prod_disp       ...        usr_avg_aisle_disp  \\\n",
       "120             109.905904       ...                      45.0   \n",
       "121             108.401544       ...                      37.0   \n",
       "122              87.987620       ...                      23.5   \n",
       "123              96.378691       ...                      45.0   \n",
       "124              83.698469       ...                     135.0   \n",
       "\n",
       "     usr_avg_dept_disp  usr_avg_prod_disp  prod_due_overall_perc  \\\n",
       "120              20.57             135.00                  0.231   \n",
       "121              45.00              37.00                  0.077   \n",
       "122              23.50              31.33                  0.308   \n",
       "123              20.57             114.00                  0.231   \n",
       "124             135.00             135.00                  0.077   \n",
       "\n",
       "     prod_due_user_perc  aisle_due_overall_perc  aisle_due_user_perc  \\\n",
       "120               0.538                   0.625                0.231   \n",
       "121               0.231                   0.625                0.077   \n",
       "122               0.308                   0.625                0.308   \n",
       "123               0.538                   0.625                0.231   \n",
       "124               0.077                   0.625                0.077   \n",
       "\n",
       "     dept_due_overall_perc  dept_due_user_perc  reorder_custom  \n",
       "120                  0.538               0.625               0  \n",
       "121                  0.231               0.625               0  \n",
       "122                  0.308               0.625               0  \n",
       "123                  0.538               0.625               0  \n",
       "124                  0.077               0.625               0  \n",
       "\n",
       "[5 rows x 34 columns]"
      ]
     },
     "execution_count": 44,
     "metadata": {},
     "output_type": "execute_result"
    }
   ],
   "source": [
    "df = pd.read_csv('x_test.csv', index_col=0)\n",
    "df.head()"
   ]
  },
  {
   "cell_type": "code",
   "execution_count": 46,
   "metadata": {
    "collapsed": true
   },
   "outputs": [],
   "source": [
    "X = df.as_matrix(columns=df.columns[4:])"
   ]
  },
  {
   "cell_type": "code",
   "execution_count": 47,
   "metadata": {},
   "outputs": [],
   "source": [
    "import pickle\n",
    "\n",
    "lin = pickle.load(open('lin.pickle', 'rb'))\n",
    "mlp = pickle.load(open('mlp.pickle', 'rb'))\n",
    "xgb = pickle.load(open('xgb.pickle', 'rb'))\n",
    "lgb = pickle.load(open('lgb.pickle', 'rb'))"
   ]
  },
  {
   "cell_type": "code",
   "execution_count": 48,
   "metadata": {},
   "outputs": [
    {
     "data": {
      "text/html": [
       "<div>\n",
       "<style>\n",
       "    .dataframe thead tr:only-child th {\n",
       "        text-align: right;\n",
       "    }\n",
       "\n",
       "    .dataframe thead th {\n",
       "        text-align: left;\n",
       "    }\n",
       "\n",
       "    .dataframe tbody tr th {\n",
       "        vertical-align: top;\n",
       "    }\n",
       "</style>\n",
       "<table border=\"1\" class=\"dataframe\">\n",
       "  <thead>\n",
       "    <tr style=\"text-align: right;\">\n",
       "      <th></th>\n",
       "      <th>order_id</th>\n",
       "      <th>product_id</th>\n",
       "      <th>avg_order_size</th>\n",
       "      <th>prev_ord_size</th>\n",
       "      <th>lin_pred</th>\n",
       "      <th>mlp_pred</th>\n",
       "      <th>xgb_pred</th>\n",
       "      <th>lgb_pred</th>\n",
       "    </tr>\n",
       "  </thead>\n",
       "  <tbody>\n",
       "    <tr>\n",
       "      <th>120</th>\n",
       "      <td>2774568</td>\n",
       "      <td>248</td>\n",
       "      <td>7.33</td>\n",
       "      <td>6.0</td>\n",
       "      <td>0.050550</td>\n",
       "      <td>0.016151</td>\n",
       "      <td>0.025804</td>\n",
       "      <td>0.021675</td>\n",
       "    </tr>\n",
       "    <tr>\n",
       "      <th>121</th>\n",
       "      <td>2774568</td>\n",
       "      <td>1005</td>\n",
       "      <td>7.33</td>\n",
       "      <td>6.0</td>\n",
       "      <td>0.047679</td>\n",
       "      <td>0.059232</td>\n",
       "      <td>0.059705</td>\n",
       "      <td>0.047683</td>\n",
       "    </tr>\n",
       "    <tr>\n",
       "      <th>122</th>\n",
       "      <td>2774568</td>\n",
       "      <td>1819</td>\n",
       "      <td>7.33</td>\n",
       "      <td>6.0</td>\n",
       "      <td>0.149938</td>\n",
       "      <td>0.091240</td>\n",
       "      <td>0.093405</td>\n",
       "      <td>0.118161</td>\n",
       "    </tr>\n",
       "    <tr>\n",
       "      <th>123</th>\n",
       "      <td>2774568</td>\n",
       "      <td>7503</td>\n",
       "      <td>7.33</td>\n",
       "      <td>6.0</td>\n",
       "      <td>0.053472</td>\n",
       "      <td>0.018645</td>\n",
       "      <td>0.032246</td>\n",
       "      <td>0.031531</td>\n",
       "    </tr>\n",
       "    <tr>\n",
       "      <th>124</th>\n",
       "      <td>2774568</td>\n",
       "      <td>8021</td>\n",
       "      <td>7.33</td>\n",
       "      <td>6.0</td>\n",
       "      <td>0.065819</td>\n",
       "      <td>0.022175</td>\n",
       "      <td>0.033633</td>\n",
       "      <td>0.028103</td>\n",
       "    </tr>\n",
       "  </tbody>\n",
       "</table>\n",
       "</div>"
      ],
      "text/plain": [
       "     order_id  product_id  avg_order_size  prev_ord_size  lin_pred  mlp_pred  \\\n",
       "120   2774568         248            7.33            6.0  0.050550  0.016151   \n",
       "121   2774568        1005            7.33            6.0  0.047679  0.059232   \n",
       "122   2774568        1819            7.33            6.0  0.149938  0.091240   \n",
       "123   2774568        7503            7.33            6.0  0.053472  0.018645   \n",
       "124   2774568        8021            7.33            6.0  0.065819  0.022175   \n",
       "\n",
       "     xgb_pred  lgb_pred  \n",
       "120  0.025804  0.021675  \n",
       "121  0.059705  0.047683  \n",
       "122  0.093405  0.118161  \n",
       "123  0.032246  0.031531  \n",
       "124  0.033633  0.028103  "
      ]
     },
     "execution_count": 48,
     "metadata": {},
     "output_type": "execute_result"
    }
   ],
   "source": [
    "df = df[['order_id', 'product_id', 'avg_order_size', 'prev_ord_size']]\n",
    "\n",
    "df['lin_pred'] = lin.predict(X)\n",
    "df['mlp_pred'] = mlp.predict(X)\n",
    "df['xgb_pred'] = xgb.predict(X)\n",
    "df['lgb_pred'] = lgb.predict(X)\n",
    "\n",
    "df.head()"
   ]
  },
  {
   "cell_type": "code",
   "execution_count": 50,
   "metadata": {
    "collapsed": true
   },
   "outputs": [],
   "source": [
    "def join_prod_ids_prev(group):\n",
    "    #selects the top n product_ids (using prev_ord_size), joins as a string\n",
    "    size = int(round(max(group['prev_ord_size']), 0))\n",
    "    subset = group.sort_values('pred', ascending=False).iloc[:size,].sort_values('product_id', ascending=True)\n",
    "    return ' '.join(subset['product_id'].astype(str))\n",
    "\n",
    "def join_prod_ids_avg(group):\n",
    "    #selects the top n product_ids (using avg_order_size, rounded), joins as a string\n",
    "    size = int(round(max(group['avg_order_size']), 0))\n",
    "    subset = group.sort_values('pred', ascending=False).iloc[:size,].sort_values('product_id', ascending=True)\n",
    "    return ' '.join(subset['product_id'].astype(str))"
   ]
  },
  {
   "cell_type": "code",
   "execution_count": 51,
   "metadata": {},
   "outputs": [
    {
     "name": "stdout",
     "output_type": "stream",
     "text": [
      "lin\n",
      "mlp\n",
      "xgb\n",
      "lgb\n"
     ]
    }
   ],
   "source": [
    "#apply prev\n",
    "for col in ['lin', 'mlp', 'xgb', 'lgb']:\n",
    "    print col\n",
    "    df.rename(columns={col+'_pred':'pred'}).groupby('order_id').apply(join_prod_ids_prev).rename('products').to_csv(col+'_prev.csv', header=True, index=True)"
   ]
  },
  {
   "cell_type": "code",
   "execution_count": 52,
   "metadata": {},
   "outputs": [
    {
     "name": "stdout",
     "output_type": "stream",
     "text": [
      "lin\n",
      "mlp\n",
      "xgb\n",
      "lgb\n"
     ]
    }
   ],
   "source": [
    "#apply avg\n",
    "for col in ['lin', 'mlp', 'xgb', 'lgb']:\n",
    "    print col\n",
    "    df.rename(columns={col+'_pred':'pred'}).groupby('order_id').apply(join_prod_ids_avg).rename('products').to_csv(col+'_avg.csv', header=True, index=True)"
   ]
  },
  {
   "cell_type": "markdown",
   "metadata": {},
   "source": [
    "# Results\n",
    "(After submitting to Kaggle)\n",
    "\n",
    "|Model|Assumption|Kaggle score|\n",
    "|:----:|:----:|:----:|\n",
    "|Linear|Previous|0.3528851|\n",
    "|Linear|Average|0.3602763|\n",
    "|MLP|Previous|0.3590081|\n",
    "|MLP|Average|0.3655024|\n",
    "|XGB|Previous|0.3680951|\n",
    "|XGB|Average|0.3752033|\n",
    "|LGB|Previous|0.3671077|\n",
    "|LGB|Average|0.3746257|"
   ]
  }
 ],
 "metadata": {
  "kernelspec": {
   "display_name": "Python 2",
   "language": "python",
   "name": "python2"
  },
  "language_info": {
   "codemirror_mode": {
    "name": "ipython",
    "version": 2
   },
   "file_extension": ".py",
   "mimetype": "text/x-python",
   "name": "python",
   "nbconvert_exporter": "python",
   "pygments_lexer": "ipython2",
   "version": "2.7.13"
  }
 },
 "nbformat": 4,
 "nbformat_minor": 2
}
